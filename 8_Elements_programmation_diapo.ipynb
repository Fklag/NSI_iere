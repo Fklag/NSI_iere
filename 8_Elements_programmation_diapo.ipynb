{
 "cells": [
  {
   "cell_type": "markdown",
   "metadata": {
    "slideshow": {
     "slide_type": "slide"
    }
   },
   "source": [
    "## <p style=\"text-align: center;\">NSI - Éléments de programmation</p>\n",
    "## <p style=\"text-align: center;\">Listes</p>\n",
    "## <p style=\"text-align: center;\">Lycée Beaussier - F. Lagrave</p>\n",
    "\n",
    "[![Binder](https://mybinder.org/badge_logo.svg)](https://mybinder.org/v2/gh/Fklag/NSI_iere/master?filepath=8_Elements_programmation_diapo.ipynb)"
   ]
  },
  {
   "cell_type": "markdown",
   "metadata": {
    "slideshow": {
     "slide_type": "slide"
    }
   },
   "source": [
    "# Supports de cours"
   ]
  },
  {
   "cell_type": "markdown",
   "metadata": {
    "slideshow": {
     "slide_type": "fragment"
    }
   },
   "source": [
    "<div id=\"top\">Nous avons introduit dans le <a href=\"http://lycee.lagrave.free.fr/nsi/programmation/7_Elements_programmation_diapo.pdf\" target=\"_blank\">cours précédent</a> deux types de séquences :  \n",
    "\n",
    "- les intervalles de type $\\texttt{range}$ qui sont des séquences d’entiers,  \n",
    "- les chaînes de caractères de type $\\texttt{str}$ qui sont des séquences de caractères.\n",
    "\n",
    "**Structures séquentielles**  \n",
    "* **Intervalles** : séquences d'**entiers consécutifs**.  \n",
    "  - pratique pour itérer sur une **suite** d'entiers.  \n",
    "  - gestion mémoire **ptimisée**.  \n",
    "* **Chaı̂nes de caractères** : séquences de **caractères** (lettres et symboles)  \n",
    "  - pratique pour représenter des **mots** ou des **phrases**.  \n",
    "  - **itération** sur les caractères d'une chaı̂ne.  \n",
    "  - **accès direct** à un caractère par son **indice**.  \n",
    "  - **construction** de chaı̂nes par concaténation.  \n",
    "* **Itérateur** général pour les séquences : $\\texttt{for}$.  \n",
    "\n",
    "$\\rightsquigarrow$ Expressivité séquentielle limitée\n",
    "- Séquence d'**entiers non-consécutifs** (Fibonacci, carrés) ?\n",
    "- Séquence de données d'un **même type arbitraire** :\n",
    "  * séquence de **mots**,\n",
    "  * séquence de **booléens**,\n",
    "  * séquence de **séquences**.\n",
    "\n",
    "Dans ce cours, nous introduisons un type de séquence plus général - **les listes** - qui peuvent\n",
    "contenir des éléments d'autres types que simplement des entiers ou des caractères.\n",
    "\n",
    "Remarque : dans ce cours, nous manipulerons uniquement des **listes homogènes** qui ne\n",
    "contiennent que des éléments d’un même type $\\alpha$ donné. Le langage $\\texttt{Python}$ ne fait pas la\n",
    "différence entre *listes homogènes* et *listes hétérogènes*, c'est-à-dire contenant des éléments de\n",
    "types indéterminés.   \n",
    "**À retenir :** c'est au programmeur (donc à vous) qu'incombe la responsabilité de garantir que les éléments contenus dans une liste de type $\\texttt{list}[\\alpha]$ soient bien tous du même type $\\alpha$.\n",
    "</div>"
   ]
  },
  {
   "cell_type": "markdown",
   "metadata": {
    "slideshow": {
     "slide_type": "subslide"
    }
   },
   "source": [
    "### Structures séquentielles  \n",
    "\n",
    "**Listes Homogènes**\n",
    "Organiser en séquence des éléments d'un même type.\n",
    "- Ensemble ordonné :  \n",
    "  * itération avec $\\texttt{for}$ .\n",
    "- **Accès** et **construction** directs,\n",
    "  * comme pour les chaı̂nes.\n",
    "- Applications :  \n",
    "  * liste des notes d'un étudiant (entiers),\n",
    "  * liste des données d'une expérience - couples $\\left(x, f(x)\\right)$,\n",
    "  * liste des éléments d'une page web (objets).\n",
    "  * liste des notes d'une classe - couples (nom , liste d'entiers).\n",
    "- Problèmes sur les listes :\n",
    "  * **réduction**,\n",
    "  * **transformation**,\n",
    "  * **filtrage**."
   ]
  },
  {
   "cell_type": "markdown",
   "metadata": {
    "slideshow": {
     "slide_type": "slide"
    }
   },
   "source": [
    "### Liste\n",
    "**Définition** Une liste de type $\\texttt{list}[\\alpha]$ est une séquence (finie) dont tous les éléments sont de type $\\alpha$ .  \n",
    "* liste des notes d'un étudiant : $\\texttt{list}[\\texttt{Number}]$ ,  \n",
    "* liste des mots d'une phrase : $\\texttt{list}[\\texttt{str}]$ ,  \n",
    "* liste des notes d'une classe (<a href=\"http://lycee.lagrave.free.fr/nsi/programmation/9_Elements_programmation_diapo.pdf\" target=\"_blank\">cours 9 Elts programmation</a>)   : $\\texttt{list}[\\texttt{tuple}[\\texttt{str},\\texttt{list}[\\texttt{int}]]]$ .\n",
    "\n",
    "**Remarque :** en remplacement des lettres grecques $\\alpha$, $\\beta$, $\\gamma$, $\\ldots$ on pourra écrire en toutes lettres : $\\texttt{alpha}$, $\\texttt{beta}$, $\\texttt{gamma}$, $\\ldots$  \n",
    "Dans ce cours, nous utiliserons les lettres grecques dans le fil du texte et l'écriture en toutes\n",
    "lettres dans les programmes : spécifications de fonctions, déclarations de variables, etc.\n",
    "\n",
    "**Construction explicite** \n",
    "Une expression atomique de type $\\texttt{list}[\\alpha]$ est une séquence $\\left[e_1, e_2, \\ldots, e_n\\right]$ où\n",
    "chaque $e_i$ est de type $\\alpha$ .  \n",
    "• Une séquence de $0$ élément $\\left[\\right]$ est appelée **liste vide**.  \n",
    "• Construction explicite avec crochet et virgule.  \n",
    "• Les $e_i$ ne sont pas forcéments des valeurs (expressions atomiques).\n",
    "\n",
    "Exemple :"
   ]
  },
  {
   "cell_type": "code",
   "execution_count": 2,
   "metadata": {
    "slideshow": {
     "slide_type": "fragment"
    }
   },
   "outputs": [],
   "source": [
    "L = [1, 2, 3]\n",
    "P = []\n",
    "Q = ['a','b']"
   ]
  },
  {
   "cell_type": "markdown",
   "metadata": {
    "slideshow": {
     "slide_type": "subslide"
    }
   },
   "source": [
    "### Longueur de liste\n",
    "Le nombre d'éléments d'une liste est fini, mais quelconque, et correspond à la longueur de la\n",
    "liste.  \n",
    "- la liste vide $\\left[\\right]$ n'a pas d'élément et est donc de longueur $0$  \n",
    "- une liste spécifique $\\left[e_0, e_1, \\ldots , e_{n-1}\\right]$ est de longueur $n$  \n",
    "\n",
    "Comme pour les chaînes de caractères (et toutes les séquences en général), on peut utiliser la fonction prédéfinie $\\texttt{len}$ de $\\texttt{Python}$ pour s'enquérir de la longueur d'une liste.\n",
    "La signature de $\\texttt{len}$ pour les listes est la suivante : $\\, \\texttt{list}[\\texttt{alpha}]$ -> $\\texttt{int}$  \n",
    "\n",
    "Par exemple :"
   ]
  },
  {
   "cell_type": "code",
   "execution_count": 3,
   "metadata": {
    "slideshow": {
     "slide_type": "fragment"
    }
   },
   "outputs": [
    {
     "data": {
      "text/plain": [
       "(5, 3, 2, 0)"
      ]
     },
     "execution_count": 3,
     "metadata": {},
     "output_type": "execute_result"
    }
   ],
   "source": [
    "len([1, 2, 3, 4, 5]),len([\"chat\", \"ours\", \"pomme\"]),len([True, False]),len([])"
   ]
  },
  {
   "cell_type": "code",
   "execution_count": 4,
   "metadata": {
    "slideshow": {
     "slide_type": "fragment"
    }
   },
   "outputs": [
    {
     "data": {
      "text/plain": [
       "(True, False)"
      ]
     },
     "execution_count": 4,
     "metadata": {},
     "output_type": "execute_result"
    }
   ],
   "source": [
    "[1, 2, 3, -4, 5] != [1, 2, 3, 4, 5],['bla', 'Bli', 'blo' ] == ['bla', 'bli', 'blo']"
   ]
  },
  {
   "cell_type": "markdown",
   "metadata": {
    "slideshow": {
     "slide_type": "fragment"
    }
   },
   "source": [
    "**Remarque 1 :** par convention, nous utiliserons des identifiants commençant par une majuscule\n",
    "pour les listes, le plus souvent $L$, $L_1$, $L_2$, etc.\n",
    "\n",
    "Soients $L_1$ et $L_2$ deux listes de même type  $\\texttt{list}[\\alpha]$,  \n",
    "$L_1 == L_2$ vaut $\\texttt{True}$ si $L_1$ et $L_2$ sont de la même taille $n$ et pour $i$ entre $0$ et $n-1$ alors : $L_1[i] == L_2[i]$\n",
    "\n",
    "**Remarque 2 :** les comparateurs d'ordre $<$, $<=$, $>$ et $>=$ décrits pour les chaînes de caractères sont\n",
    "également disponibles pour les séquences en général, donc les listes.\n",
    "\n",
    "**Important :** retenons que l'on ne compare que des listes contenant des éléments du même type.\n",
    "Comparer deux listes de types différents (par exemple une liste de type  $\\texttt{list}[\\texttt{int}]$ avec une\n",
    "autre de type $\\texttt{list}[\\texttt{bool}]$) ne veut rien dire puisque l'on sait déjà par le type que les listes sont différentes. $\\texttt{Python}$ nous autorise tout de même à écrire ce qui ne veut rien dire, restons donc\n",
    "vigilant !\n"
   ]
  },
  {
   "cell_type": "markdown",
   "metadata": {
    "slideshow": {
     "slide_type": "slide"
    }
   },
   "source": [
    "### Concaténation  \n",
    "On peut construire des listes par concaténation $+$ de deux listes existantes.  \n",
    "- la signature de $+$, pour les listes, est la suivante : $\\texttt{list}[\\texttt{alpha}] * \\texttt{list}[\\texttt{alpha}]$ -> $\\texttt{list}[\\texttt{alpha}]$  \n",
    "- $+$ est **associatif** et **non commutatif**.  \n",
    "- $\\left[\\right]$ est l'élément neutre de $+$ .  \n",
    "- même $\\texttt{alpha}$ pour les deux paramètres de $+$ :  \n",
    "  * listes **homogènes**.\n",
    "\n",
    "Ainsi, on peut concaténer les listes $[1, 2, 3, 4, 5]$ et $[6, 7, 8]$ toutes deux de type $\\texttt{list}[\\texttt{int}]$. La *terminologie* est similaire aux chaînes : les listes $[1, 2, 3, 4, 5]$ et $[6, 7, 8]$ sont dites **sous-listes** de la liste concaténée $[1, 2, 3, 4, 5, 6, 7, 8]$"
   ]
  },
  {
   "cell_type": "code",
   "execution_count": 5,
   "metadata": {
    "slideshow": {
     "slide_type": "fragment"
    }
   },
   "outputs": [
    {
     "data": {
      "text/plain": [
       "[1, 2, 3, 4, 5, 6, 7, 8]"
      ]
     },
     "execution_count": 5,
     "metadata": {},
     "output_type": "execute_result"
    }
   ],
   "source": [
    "[1, 2, 3, 4, 5] + [6, 7, 8]"
   ]
  },
  {
   "cell_type": "markdown",
   "metadata": {
    "slideshow": {
     "slide_type": "subslide"
    }
   },
   "source": [
    "### Ajout d’élément (I)\n",
    "Comme pour les $\\texttt{str}$, on peut construire des listes éléments par éléments (par exemple en parcourant une autre liste).  \n",
    "• si $L: \\texttt{list}[\\texttt{int}]$ , la signature de $+$ nous interdit d'écrire $L + 3$,  \n",
    "• on doit écrire $L + [3]$,  \n",
    " \n",
    "Exemples :"
   ]
  },
  {
   "cell_type": "code",
   "execution_count": 6,
   "metadata": {
    "slideshow": {
     "slide_type": "fragment"
    }
   },
   "outputs": [
    {
     "data": {
      "text/plain": [
       "[1, 2, 3, 4, 5]"
      ]
     },
     "execution_count": 6,
     "metadata": {},
     "output_type": "execute_result"
    }
   ],
   "source": [
    "L = [1, 2, 3]\n",
    "P = [4, 5]\n",
    "L + P"
   ]
  },
  {
   "cell_type": "markdown",
   "metadata": {},
   "source": [
    "• **efficacité mémoire** : on recopie la liste. \n",
    "\n",
    "L'ajout en fin de liste de cette façon n'est pas du tout efficace : il faut reconstruire intégralement la liste résultat. Ainsi pour ajouter l’élément 6 en fin de liste : $[1, 2, 3, 4, 5] + [6]$ \n",
    "on reconstruit une nouvelle liste de $6$ éléments.  \n",
    "En pratique, on utilise donc une autre solution qui consiste à invoquer ce que l'on appelle une\n",
    "**méthode** - dans le cas présent la méthode $\\texttt{append}$ - qui ajoute directement un élément dans\n",
    "une liste sans effectuer de reconstruction."
   ]
  },
  {
   "cell_type": "markdown",
   "metadata": {
    "slideshow": {
     "slide_type": "slide"
    }
   },
   "source": [
    "### Mutabilité  \n",
    "Jusqu'ici, les objets informatiques traités ( $\\texttt{int}$, $\\texttt{function}$, $\\texttt{bool}$, et surtout\n",
    "$\\texttt{str}$ ) sont immutables.   \n",
    "• on ne peut pas les **modifier**,  \n",
    "• on peut **remplacer** la valeur d'une variable par une autre $s = s + c$  \n",
    "• pour **supprimer** un élément d'une chaı̂ne, on reconstruit une **nouvelle** chaı̂ne **sans** cet élément.  \n",
    "\n",
    "**Mutabilité**  \n",
    "Un objet informatique **mutable** peut être **modifié** : remplacement, suppression ou ajout d'une partie seulement de l'objet.\n",
    "- les **listes** sont des objets mutables."
   ]
  },
  {
   "cell_type": "markdown",
   "metadata": {
    "slideshow": {
     "slide_type": "slide"
    }
   },
   "source": [
    "### La méthode $\\texttt{append}$  \n",
    "**Définition :** La méthode $\\texttt{append}$ , disponible sur toutes les listes, ajoute son argument à la fin de la liste depuis laquelle elle est appelée.  \n",
    "\n",
    "La syntaxe utilisée est la suivante : $\\texttt{<liste>.append(<element>)}$\n",
    "où $\\texttt{<liste>}$ est une liste de type $\\texttt{list}[\\alpha]$ et $\\texttt{<element>}$ une expression de type $\\alpha$.  \n",
    "\n",
    "- $\\texttt{append}$ est un *effet de bord* - modification explicite de l'état de l’ordinateur (de la mémoire ou de l’affichage)-  \n",
    "- différence entre $\\text{Liste}.\\texttt{append}(3)$ et $\\text{Liste} + [3]$ ?\n",
    "  * $\\text{Liste}.\\texttt{append}$ est une instruction utilisant une méthode - efficacité mémoire  \n",
    "  \n",
    "**Important :** la méthode $\\texttt{append}$ est spécifique aux listes et ne s'applique pas aux autres\n",
    "séquences - c'est le critère qui différencie **les fonctions** (comme $\\texttt{len}$ utilisable sur tous les types\n",
    "de séquences) - et **les méthodes**.\n",
    "\n",
    "**Puisque l'on peut ainsi les modifier directement sans les reconstruire, on dit des listes qu'elles\n",
    "sont mutables**.  \n",
    "En comparaison, **les chaînes de caractères sont** dites **immutables** car on ne\n",
    "peut pas les modifier sans les reconstruire.\n",
    "    \n",
    "• si $\\text{Liste}: \\texttt{list}[\\texttt{alpha}]$, alors $\\text{Liste}.\\texttt{append} : \\texttt{alpha}$ −> $\\texttt{NoneType}$\n",
    "\n",
    "Comme il s'agit d’une instruction (qui retourne $\\texttt{None}$), l'interprète $\\texttt{Python}$ ne produit aucun\n",
    "affichage ici (de façon similaire à une affectation)."
   ]
  },
  {
   "cell_type": "code",
   "execution_count": 8,
   "metadata": {
    "slideshow": {
     "slide_type": "fragment"
    }
   },
   "outputs": [],
   "source": [
    "# L : list[int]\n",
    "L = [1, 2, 3, 4, 5]\n",
    "L.append(6)"
   ]
  },
  {
   "cell_type": "markdown",
   "metadata": {
    "slideshow": {
     "slide_type": "fragment"
    }
   },
   "source": [
    "Mais si on demande maintenant la valeur de $L$ alors celle-ci a été modifiée."
   ]
  },
  {
   "cell_type": "code",
   "execution_count": 9,
   "metadata": {
    "slideshow": {
     "slide_type": "fragment"
    }
   },
   "outputs": [
    {
     "data": {
      "text/plain": [
       "[1, 2, 3, 4, 5, 6]"
      ]
     },
     "execution_count": 9,
     "metadata": {},
     "output_type": "execute_result"
    }
   ],
   "source": [
    "L"
   ]
  },
  {
   "cell_type": "markdown",
   "metadata": {
    "slideshow": {
     "slide_type": "subslide"
    }
   },
   "source": [
    "### Principe d’interprétation de $\\text{Liste}.\\texttt{append}(e)$  \n",
    "1. évaluation de $\\text{Liste}$ qui doit être un *objet liste* $L$ de type $\\texttt{list}[\\alpha]$,  \n",
    "2. évaluation de $e$ en $v$ qui doit être de type $\\alpha$,  \n",
    "3. ajout de $v$ à la fin de l'*objet liste* $L$ .   \n",
    "\n",
    "• Si l'*objet liste* est stocké dans une variable, le contenu de la variable est donc modifié."
   ]
  },
  {
   "cell_type": "markdown",
   "metadata": {
    "slideshow": {
     "slide_type": "subslide"
    }
   },
   "source": [
    "### Erreurs communes  \n",
    "Attention aux exemples suivants :  \n",
    "• Différence entre $\\texttt{append}$ et $+$ :"
   ]
  },
  {
   "cell_type": "code",
   "execution_count": 10,
   "metadata": {
    "slideshow": {
     "slide_type": "fragment"
    }
   },
   "outputs": [
    {
     "data": {
      "text/plain": [
       "[1, 2, 3, 4]"
      ]
     },
     "execution_count": 10,
     "metadata": {},
     "output_type": "execute_result"
    }
   ],
   "source": [
    "L = [1, 2, 3]\n",
    "L = L + [4]\n",
    "L"
   ]
  },
  {
   "cell_type": "code",
   "execution_count": 11,
   "metadata": {
    "slideshow": {
     "slide_type": "fragment"
    }
   },
   "outputs": [
    {
     "data": {
      "text/plain": [
       "[1, 2, 3, 4]"
      ]
     },
     "execution_count": 11,
     "metadata": {},
     "output_type": "execute_result"
    }
   ],
   "source": [
    "L = [1, 2, 3]\n",
    "L.append(4)\n",
    "L"
   ]
  },
  {
   "cell_type": "markdown",
   "metadata": {
    "slideshow": {
     "slide_type": "fragment"
    }
   },
   "source": [
    "• Différence entre mutable et immutable :"
   ]
  },
  {
   "cell_type": "code",
   "execution_count": 17,
   "metadata": {
    "slideshow": {
     "slide_type": "fragment"
    }
   },
   "outputs": [
    {
     "data": {
      "text/plain": [
       "(1, 2)"
      ]
     },
     "execution_count": 17,
     "metadata": {},
     "output_type": "execute_result"
    }
   ],
   "source": [
    "a = 1\n",
    "b = a\n",
    "a = a + 1\n",
    "b,a"
   ]
  },
  {
   "cell_type": "code",
   "execution_count": 16,
   "metadata": {
    "slideshow": {
     "slide_type": "fragment"
    }
   },
   "outputs": [
    {
     "data": {
      "text/plain": [
       "([1, 2, 3, 4], [1, 2, 3, 4])"
      ]
     },
     "execution_count": 16,
     "metadata": {},
     "output_type": "execute_result"
    }
   ],
   "source": [
    "L = [1, 2, 3]\n",
    "P = L\n",
    "L.append(4)\n",
    "P,L"
   ]
  },
  {
   "cell_type": "markdown",
   "metadata": {
    "slideshow": {
     "slide_type": "fragment"
    }
   },
   "source": [
    "• mélange de styles :"
   ]
  },
  {
   "cell_type": "code",
   "execution_count": 18,
   "metadata": {
    "slideshow": {
     "slide_type": "fragment"
    }
   },
   "outputs": [
    {
     "data": {
      "text/plain": [
       "(None, [1, 2, 3, 4])"
      ]
     },
     "execution_count": 18,
     "metadata": {},
     "output_type": "execute_result"
    }
   ],
   "source": [
    "L = [1, 2, 3]\n",
    "P = L.append(4)\n",
    "P,L"
   ]
  },
  {
   "cell_type": "markdown",
   "metadata": {
    "slideshow": {
     "slide_type": "slide"
    }
   },
   "source": [
    "### Liste des entiers pairs  \n",
    "Donner une fonction $\\texttt{liste\\_pairs}(n)$ qui construit la liste des entiers pairs de $[1~;~n]$."
   ]
  },
  {
   "cell_type": "code",
   "execution_count": 21,
   "metadata": {
    "slideshow": {
     "slide_type": "fragment"
    }
   },
   "outputs": [],
   "source": [
    "def liste_pairs(n):\n",
    "    \"\"\"int -> list[int]\n",
    "    Hypothese: 1 <= n\n",
    "    retourne la liste des entiers pairs dans l'intervalle [1,n].\"\"\"\n",
    "    # L : list[int]\n",
    "    L = [] # la liste resultat, initialement vide\n",
    "    # n : int (entier courant)\n",
    "    for i in range(1, n + 1):\n",
    "        if i % 2 == 0 :\n",
    "            L.append(i) # ajout en fin, directement dans L\n",
    "                        # L = L + [i] -> efficacite moindre.\n",
    "        # sinon : ne rien faire\n",
    "    return L\n",
    "\n",
    "# Jeu de tests\n",
    "assert liste_pairs(3) == [2]\n",
    "assert liste_pairs(5) == [2, 4]\n",
    "assert liste_pairs(10) == [2, 4, 6, 8, 10]\n",
    "assert liste_pairs(11) == [2, 4, 6, 8, 10]\n",
    "assert liste_pairs(20) == [2, 4, 6, 8, 10, 12, 14, 16, 18, 20]"
   ]
  },
  {
   "cell_type": "markdown",
   "metadata": {
    "slideshow": {
     "slide_type": "subslide"
    }
   },
   "source": [
    "### Simulation de $\\texttt{liste\\_pairs}$  \n",
    "Simulation de $\\texttt{liste\\_pairs}(7)$  \n",
    "\n",
    "| tour de boucle | variable $i$ | variable $L$ | Invariant |\n",
    "|:--------:|:---:|:---:|:---:|\n",
    "| entrée  | $-$ | $[]$ |  |\n",
    "| $1$  | $1$ | $[]$ |  |\n",
    "| $2$  | $2$ | $[2]$ |  |\n",
    "| $3$  | $3$ | $[2]$ |  |\n",
    "| $4$  | $4$ | $[2,4]$ |  |\n",
    "| $5$  | $5$ | $[2,4]$ |  |\n",
    "| $6$  | $6$ | $[2,4,6]$ |  |\n",
    "| $7$  | $7$ | $[2,4,6]$ |  |\n",
    "| sortie  | $-$ | $[2,4,6]$ |  |"
   ]
  },
  {
   "cell_type": "markdown",
   "metadata": {
    "slideshow": {
     "slide_type": "subslide"
    }
   },
   "source": [
    "### Correction  \n",
    "• Invariant \"$L$ contient la liste des entiers pairs de $[1~;~i]$\" (existence $i$ ).  \n",
    "• Si invariant vrai en fin de boucle, le dernier élément de $\\texttt{range}(1, n + 1)$ est $n$, donc \"$L$ contient la liste des entiers pairs de $[1~;~n]$\"\n",
    "\n",
    "| tour de boucle | variable $i$ | variable $L$ | Invariant |\n",
    "|:--------:|:---:|:---:|:---:|\n",
    "| entrée  | $-$ | $[]$ | Vrai |\n",
    "| $1$  | $1$ | $[]$ | Vrai |\n",
    "| $2$  | $2$ | $[2]$ | Vrai |\n",
    "| $3$  | $3$ | $[2]$ | Vrai |\n",
    "| $4$  | $4$ | $[2,4]$ | Vrai |\n",
    "| $5$  | $5$ | $[2,4]$ | Vrai |\n",
    "| $6$  | $6$ | $[2,4,6]$ | Vrai |\n",
    "| $7$  | $7$ | $[2,4,6]$ | Vrai |\n",
    "| sortie  | $-$ | $[2,4,6]$ | Vrai |"
   ]
  },
  {
   "cell_type": "markdown",
   "metadata": {
    "slideshow": {
     "slide_type": "slide"
    }
   },
   "source": [
    "### Accès direct à un élément  \n",
    "\n",
    "Comme pour les chaînes de caractères, les indices des éléments d'une liste $L$ de $\\texttt{type}$ $\\texttt{list}[\\alpha]$ sont numérotés de $0$, pour son premier élément, à $\\texttt{len}(L)-1$, pour son dernier élément.\n",
    "\n",
    "**Syntaxe** On accède au $(i + 1)$-ème élément d'une liste $L$ par $L[i]$ .  \n",
    "\n",
    "• Si $L$ est de $\\texttt{type}$ $\\texttt{list}[\\alpha]$, alors $L[i]$ est de $\\texttt{type}$ $\\alpha$  \n",
    "• Similaire aux chaı̂nes de caractères.  \n",
    "• Différence : typage.  \n",
    "• indices commençant à $0$ .\n",
    "\n",
    "Exemple, liste Fib = $[1, 1, 2, 3, 5, 8, 13, 21, 34, 65]$\n",
    "\n",
    "• Utilisation possible de l'indice inverse.  \n",
    "\n",
    "| Elément | $1$ | $1$ | $2$ | $3$ | $5$ | $8$ | $13$ | $21$ |$34$ | $65$ |\n",
    "|:--------:|:---:|:---:|:---:|:---:|:---:|:---:|:---:|:---:|:---:|:---:|\n",
    "| indice | $0$ | $1$  | $2$ | $3$ | $4$ | $5$ | $6$ | $7$ | $8$ | $9$ |\n",
    "| indice inverse | $-10$ | $-9$ | $-8$ | $-7$ | $-6$ | $-5$ | $-4$ | $-3$ | $-2$ | $-1$ |"
   ]
  },
  {
   "cell_type": "markdown",
   "metadata": {
    "slideshow": {
     "slide_type": "slide"
    }
   },
   "source": [
    "### Découpage  \n",
    "**Syntaxe** On accède à la **sous-liste** de la liste $L$ qui commence à l'indice $i$ (inclus) et finit à\n",
    "l'indice $j$ (exclus) par $L[i:j]$ .  \n",
    "\n",
    "* si $\\text{Liste}: \\texttt{list}[\\texttt{alpha}]$, alors $\\text{Liste}[i:j]: \\texttt{list}[\\texttt{alpha}]$  \n",
    "* Comparer $L[5]$ et $L[5:6]$ .  \n",
    "* Raccourcis :  \n",
    "  * $L[i:]$ s'évalue en $L[i: \\texttt{len}(L)]$ ,\n",
    "  * $L[:j]$ s'évalue en $L[0:j]$ ,  \n",
    "  * $L[:]$ s'évalue en $L[0: \\texttt{len}(L)]$ , est-ce $L$ ?  \n",
    "  \n",
    "Avec $A = [\\texttt{'}Ses\\texttt{'}, \\texttt{'}ailes\\texttt{'}, \\texttt{'}de\\texttt{'}, \\texttt{'}geant\\texttt{'}, \"l\\texttt{'}\", \\texttt{'}empeche\\texttt{'}, \\texttt{'}de\\texttt{'}, \\texttt{'}marcher\\texttt{'}] $ \n",
    "\n",
    "| $\\texttt{'}$Ses$\\texttt{'}$ | $\\texttt{'}$ailes$\\texttt{'}$ | $\\texttt{'}$de$\\texttt{'}$ | $\\texttt{'}$geant$\\texttt{'}$ | \"l$\\texttt{'}$\" | $\\texttt{'}$empeche$\\texttt{'}$ | $\\texttt{'}$de$\\texttt{'}$ | $\\texttt{'}$marcher$\\texttt{'}$ |\n",
    "|:---:|:---:|:---:|:---:|:---:|:---:|:---:|:---:|\n",
    "| $0$ | $1$  | $2$ | $3$ | $4$ | $5$ | $6$ | $7$ |\n",
    "| $-8$ | $-7$ | $-6$ | $-5$ | $-4$ | $-3$ | $-2$ | $-1$ |"
   ]
  },
  {
   "cell_type": "code",
   "execution_count": 24,
   "metadata": {
    "slideshow": {
     "slide_type": "fragment"
    }
   },
   "outputs": [
    {
     "data": {
      "text/plain": [
       "(['𝑆𝑒𝑠', '𝑎𝑖𝑙𝑒𝑠', '𝑑𝑒', '𝑔𝑒𝑎𝑛𝑡'],\n",
       " [\"𝑙'\", '𝑒𝑚𝑝𝑒𝑐ℎ𝑒', '𝑑𝑒', '𝑚𝑎𝑟𝑐ℎ𝑒𝑟'],\n",
       " [],\n",
       " [\"𝑙'\", '𝑒𝑚𝑝𝑒𝑐ℎ𝑒', '𝑑𝑒', '𝑚𝑎𝑟𝑐ℎ𝑒𝑟'],\n",
       " True,\n",
       " False)"
      ]
     },
     "execution_count": 24,
     "metadata": {},
     "output_type": "execute_result"
    }
   ],
   "source": [
    "𝐴=['𝑆𝑒𝑠','𝑎𝑖𝑙𝑒𝑠','𝑑𝑒','𝑔𝑒𝑎𝑛𝑡',\"𝑙'\",'𝑒𝑚𝑝𝑒𝑐ℎ𝑒','𝑑𝑒','𝑚𝑎𝑟𝑐ℎ𝑒𝑟']\n",
    "A[:4],A[4:],A[8:10],A[4:23],A[:]==A,A[4]==A[4:5]"
   ]
  },
  {
   "cell_type": "markdown",
   "metadata": {
    "slideshow": {
     "slide_type": "slide"
    }
   },
   "source": [
    "### Itération sur une séquence  \n",
    "Pour **interpréter**:  \n",
    "$\\texttt{for} <var> \\texttt{in} <seq> \\texttt{:}$  \n",
    "$\\phantom{.} \\quad <inst\\_1>$  \n",
    "$\\phantom{.} \\quad <inst\\_2>$  \n",
    "$\\ldots$  \n",
    "$\\phantom{.} \\quad <inst\\_n>$  \n",
    "$<inst\\_s>$  \n",
    "\n",
    "1. On **évalue** $\\texttt{seq}$  \n",
    "2. Si $\\texttt{seq}$  est vide on quitte la boucle et **interprète** $<inst\\_s>$  \n",
    "3. Sinon, on **crée** une nouvelle variable $\\texttt{<}var\\texttt{>}$ initialisée au premier élément de $\\texttt{<}seq\\texttt{>}$\n",
    "4. On **interprète** les instructions $<inst\\_i>$  du corps dans l'ordre.  \n",
    "   * elles peuvent utiliser $\\texttt{var}$ .\n",
    "5. Si il y a un **élément suivant** $\\texttt{<}var\\texttt{>}$ dans $\\texttt{seq}$ :\n",
    "   1. on met l'élément suivant dans $\\texttt{<}var\\texttt{>}$ .\n",
    "   2. on revient en 4.\n",
    "6. Sinon :\n",
    "   * on **détruit** $\\texttt{<}var\\texttt{>}$ .\n",
    "   * on **sort** de l'itération et on interprète $<inst\\_s>$  "
   ]
  },
  {
   "cell_type": "markdown",
   "metadata": {
    "slideshow": {
     "slide_type": "subslide"
    }
   },
   "source": [
    "### Itération sur une liste  \n",
    "Pour **interpréter**:  \n",
    "$\\texttt{for} \\, e \\, \\texttt{in} \\, L \\texttt{:}$  \n",
    "$\\phantom{.} \\quad <inst\\_1>$  \n",
    "$\\phantom{.} \\quad <inst\\_2>$  \n",
    "$\\ldots$  \n",
    "$\\phantom{.} \\quad <inst\\_n>$  \n",
    "$<inst\\_s>$  \n",
    "\n",
    "1. On **évalue** $L$  \n",
    "2. Si $L$  est $\\left[\\right]$ on quitte la boucle et **interprète** $<inst\\_s>$  \n",
    "3. Sinon, on **crée** une nouvelle variable $e$ initialisée à $L[0]$\n",
    "4. On **interprète** les instructions $<inst\\_i>$  du corps dans l'ordre.  \n",
    "   * elles peuvent utiliser $e$ .\n",
    "5. Si il y a un **élément suivant** $e \\,$ $(L[i])$ dans $L$ :\n",
    "   1. on met l'élément suivant $(L[i+1])$ dans $e$ .\n",
    "   2. on revient en 4.\n",
    "6. Sinon :\n",
    "   * on **détruit** $e$ .\n",
    "   * on **sort** de l'itération et on interprète $<inst\\_s>$  "
   ]
  },
  {
   "cell_type": "markdown",
   "metadata": {
    "slideshow": {
     "slide_type": "slide"
    }
   },
   "source": [
    "### Problèmes sur les listes  \n",
    "\n",
    "Nous allons utiliser la même classification de problèmes sur les listes que celle proposée pour les\n",
    "chaînes de caractères: - réductions de listes - transformations de listes - filtrages de listes - autres problèmes sur les listes (en général plus complexes) qui n'entrent pas dans les catégories précédentes.  \n",
    "\n",
    "* **Réduction** (par exemple $\\texttt{list}[\\texttt{int}] −> \\texttt{bool}$  ou  $\\texttt{list}[\\alpha]$ −> $\\texttt{int}$ )  \n",
    "  - on **compte** quelque chose dans la liste,\n",
    "  - on **vérifie** une propriété dans la liste,\n",
    "  - on **extrait** un élément de la liste, $\\ldots$  \n",
    "* **Transformation** (par exemple $\\texttt{list}[\\alpha]$ −> $\\texttt{list}[\\texttt{int}]$)  \n",
    "  - on **modifie** certains (ou tous les) éléments de la liste,\n",
    "  - on **calcule** quelque chose pour chaque élément, $\\ldots$  \n",
    "* **Filtrage** (par exemple $\\texttt{list}[\\alpha]$ −> $\\texttt{list}[\\alpha]$)  \n",
    "  - on **supprime** certains éléments d'une liste en fonction de propriétés.\n",
    "* **Autres problèmes** :\n",
    "  - **construire** une liste à partir de deux listes,\n",
    "  - **ajouter** des éléments dans une liste,\n",
    "  - $\\ldots$\n",
    "  \n",
    "**Attention**  \n",
    "Les listes sont **mutables**, mais on ne modifie jamais les paramètres d'une fonction.  \n",
    "  * on n'écrit pas de fonctions/méthodes qui **modifient une liste**,\n",
    "  * on écrit uniquement des fonctions qui **renvoient une** (autre) **liste**."
   ]
  },
  {
   "cell_type": "markdown",
   "metadata": {
    "slideshow": {
     "slide_type": "slide"
    }
   },
   "source": [
    "### Réductions de listes  \n",
    "Les problèmes de réduction consistent à analyser un par un les éléments d'une liste pour en déduire une information d'un type plus \"simple\" : $\\texttt{int}$, $\\texttt{float}$, $\\texttt{bool}$, $\\texttt{str}$, etc.\n",
    "\n",
    "#### Somme des éléments d'une liste  \n",
    "Donner une fonction $\\texttt{somme\\_liste}(L)$ qui retourne la somme des éléments de $L$ .  \n",
    "* $\\texttt{somme\\_liste}([2, 10, 0, 4])$ donne $16$ .\n",
    "* $\\texttt{somme\\_liste}(\\texttt{liste\\_pairs}(6))$ donne $12$ ."
   ]
  },
  {
   "cell_type": "code",
   "execution_count": 25,
   "metadata": {
    "slideshow": {
     "slide_type": "fragment"
    }
   },
   "outputs": [],
   "source": [
    "def somme_liste(L):\n",
    "    \"\"\"list[Number] -> Number\n",
    "    Retourne la somme des elements de la liste L.\"\"\"\n",
    "    # s : Number\n",
    "    s = 0 # la somme cumulee des elements\n",
    "    # n : Number (element courant)\n",
    "    for n in L :\n",
    "        s = s + n\n",
    "    return s\n",
    "\n",
    "# Jeu de tests\n",
    "assert somme_liste([1, 2, 3, 4, 5]) == 15\n",
    "assert somme_liste([1.1, 3.3, 5.5]) == 9.9\n",
    "assert somme_liste([]) == 0"
   ]
  },
  {
   "cell_type": "markdown",
   "metadata": {
    "slideshow": {
     "slide_type": "subslide"
    }
   },
   "source": [
    "### Simulation de $\\texttt{somme\\_liste}(L_1)$  \n",
    "\n",
    "Simulation de $\\texttt{somme\\_liste}([1,2, 3, 4, 5])$ donc pour $L_1=[1, 2, 3, 4, 5]$ : \n",
    "\n",
    "| tour de boucle | variable $n$ | variable $s$ |\n",
    "|:--------:|:---:|:---:|\n",
    "| entrée  | $-$ | $0$ |\n",
    "| 1er  | $1$ | $1$ |\n",
    "| 2e  | $2$ | $3$ |\n",
    "| 3e  | $3$ | $6$ |\n",
    "| 4e  | $4$ | $10$ |\n",
    "| 5e  | $5$ | $15$ |\n",
    "| sortie | $-$ | $15$ |\n",
    "\n",
    "* **Invariant** : $s = \\displaystyle \\sum_{k=0}^{n} e_k$  avec $e_k$ -> $k-$ème élément de $L$  \n",
    "* **Correction** : $s = \\displaystyle \\sum_{e_k \\in L}^{} e_k$"
   ]
  },
  {
   "cell_type": "markdown",
   "metadata": {
    "slideshow": {
     "slide_type": "subslide"
    }
   },
   "source": [
    "### Réductions de listes  \n",
    "#### Longueur d'une liste\n",
    "Donner une fonction $\\texttt{longueur}(L)$ qui retourne la longueur d'une liste $L$ .  \n",
    "• $\\texttt{longueur}([2,10,0,4])$ donne $4$ .  \n",
    "• $\\texttt{longueur}([\\texttt{'}granule\\texttt{'}])$ donne $1$ .  \n",
    "• $\\texttt{longueur}([])$ donne $0$ .  \n",
    "• $\\texttt{longueur}(\\texttt{liste\\_pairs}(6))$ donne $3$ ."
   ]
  },
  {
   "cell_type": "code",
   "execution_count": 26,
   "metadata": {
    "slideshow": {
     "slide_type": "fragment"
    }
   },
   "outputs": [],
   "source": [
    "def longueur(L):\n",
    "    \"\"\"list[alpha] −> int\n",
    "    Retourne la longueur de la liste L.\"\"\"\n",
    "    # lng : int\n",
    "    lng = 0 # comptage de la longueur initialement a zero\n",
    "    # e : alpha ( element courant )\n",
    "    for e in L :\n",
    "        lng = lng + 1 # longueur incrementee pour chaque element\n",
    "    return lng\n",
    "\n",
    "# Jeu de tests\n",
    "assert longueur([1, 2, 3, 4, 5]) == 5\n",
    "assert longueur(['bla', 'bla', 'bla']) == 3\n",
    "assert longueur([]) == 0"
   ]
  },
  {
   "cell_type": "markdown",
   "metadata": {
    "slideshow": {
     "slide_type": "slide"
    }
   },
   "source": [
    "### Transformation : $\\texttt{map}$  \n",
    "Le principe du schéma $\\texttt{map}$  de **transformation de liste** est de produire une liste résultat consistant\n",
    "en l'application d'une fonction unaire (à un seul argument) à chaque élément de la liste de départ.\n",
    "\n",
    "* on dispose de :  \n",
    "  1. une liste $L$ de $\\texttt{type}$ $\\texttt{list}[\\alpha]$  \n",
    "  2. une fonction $f$ de $\\texttt{type}$ $\\alpha$ −> $\\beta$  \n",
    "* on veut construire  \n",
    "  -  la liste $[f\\left(L[0]\\right), f\\left(L[1]\\right), \\ldots, f\\left(L[-1]\\right)]$  \n",
    "  -  de $\\texttt{type}$ $\\texttt{list}[\\beta]$ \n",
    "* Une transformation possède donc dans le cas général une signature de la forme : $\\texttt{list}[\\alpha]$ ->  $\\texttt{list}[\\beta]$  \n",
    "que l'on peut lire comme : Une transformation d'une liste de $\\alpha$ vers une liste de $\\beta$.  "
   ]
  },
  {
   "cell_type": "markdown",
   "metadata": {
    "slideshow": {
     "slide_type": "subslide"
    }
   },
   "source": [
    "### Transformation: Liste des carrés  \n",
    "Donner une fonction $\\texttt{liste\\_carres}(L)$ qui renvoie la liste des carrés des éléments de la liste $L$ .  \n",
    "• $\\texttt{liste\\_carres}([4, 1, 2, 2])$ donne $[16, 1, 4, 4]$ ."
   ]
  },
  {
   "cell_type": "code",
   "execution_count": 27,
   "metadata": {
    "slideshow": {
     "slide_type": "subslide"
    }
   },
   "outputs": [],
   "source": [
    "def carre(x):\n",
    "    \"\"\"Number -> Number\n",
    "    Retourne le nombre x eleve au carre.\"\"\"\n",
    "    return x * x\n",
    "\n",
    "def liste_carres(L):\n",
    "    \"\"\"list[Number] -> list[Number]\n",
    "    Retourne la liste des elements de L eleves au carre.\"\"\"\n",
    "    # LR : list[Number]\n",
    "    LR = [] # liste resultat, initialement vide\n",
    "    # x : Number (element courant)\n",
    "    for x in L :\n",
    "        LR.append(carre(x)) # ajoute le carre en fin de resultat\n",
    "    return LR\n",
    "\n",
    "# Jeu de tests\n",
    "assert liste_carres([1, 2, 3, 4, 5]) == [1, 4, 9, 16, 25]\n",
    "assert liste_carres([2, 4, 8, 16]) == [4, 16, 64, 256]\n",
    "assert liste_carres([]) == []"
   ]
  },
  {
   "cell_type": "markdown",
   "metadata": {
    "slideshow": {
     "slide_type": "subslide"
    }
   },
   "source": [
    "### Simulation de $\\texttt{liste_carres}(L_1)$  \n",
    "\n",
    "Effectuons une simulation de boucle $\\texttt{liste_carres}([4, 1, 2, 2])$  \n",
    "\n",
    "| tour de boucle | variable $x$ | variable $LR$ |\n",
    "|:--------:|:---:|:---:|\n",
    "| entrée  | $-$ | $[]$ |\n",
    "| 1er  | $4$ | $[16]$ |\n",
    "| 2e  | $1$ | $[16,1]$ |\n",
    "| 3e  | $2$ | $[16,1,4]$ |\n",
    "| 4e  | $2$ | $[16,1,4,4]$ |\n",
    "| sortie | $-$ | $[16,1,4,4]$ |\n",
    "\n",
    "Nous constatons qu'une **transformation** consiste en fait en une **reconstruction** via la méthode\n",
    "$\\texttt{append}$ d'une liste transformée (référencée par la variable $LR$ dans notre définition ci-dessus) à\n",
    "partir de la liste initiale (paramètre $L_1$ ci-dessus)."
   ]
  },
  {
   "cell_type": "markdown",
   "metadata": {
    "slideshow": {
     "slide_type": "subslide"
    }
   },
   "source": [
    "### Transformation : Longueurs de chaı̂nes  \n",
    "\n",
    "Pour notre second exemple, l'objectif est d'effectuer une transformation d'une liste de chaînes de caractères vers une liste d'entiers correspondants aux longueurs de ces mêmes chaînes. Il s'agit donc d'une transformation de signature : $\\texttt{list}[\\texttt{str}]$ -> $\\texttt{list}[\\texttt{int}]$\n",
    "\n",
    "Donner une fonction $\\texttt{liste\\_longueurs\\_chaines}(L)$ qui renvoie la liste des longueurs des chaı̂nes de caractères éléments de la liste $L$ .  \n",
    "* avec $A = [\\texttt{'}Ses\\texttt{'}, \\texttt{'}ailes\\texttt{'}, \\texttt{'}de\\texttt{'}, \\texttt{'}geant\\texttt{'}, \"l\\texttt{'}\", \\texttt{'}empeche\\texttt{'}, \\texttt{'}de\\texttt{'}, \\texttt{'}marcher\\texttt{'}]$,  \n",
    "$\\texttt{liste\\_longueurs\\_chaines}(A)$ donne $[3, 5, 2, 5, 2, 7, 2, 7]$ ."
   ]
  },
  {
   "cell_type": "code",
   "execution_count": 28,
   "metadata": {
    "slideshow": {
     "slide_type": "fragment"
    }
   },
   "outputs": [],
   "source": [
    "def liste_longueurs_chaines(L) :\n",
    "    \"\"\"list[str] -> list[int]\n",
    "    retourne la liste des longueurs des chaines elements de L.\"\"\"\n",
    "    # LR : list[int]\n",
    "    LR = [] # liste resultat, initialement vide\n",
    "    # s : str (element courant)\n",
    "    for s in L :\n",
    "        LR.append(len(s)) # ajoute la longueur en fin de resultat\n",
    "    return LR\n",
    "\n",
    "# Jeu de tests\n",
    "assert liste_longueurs_chaines(['e', 'ee', 'eee', 'eeee']) == [1, 2, 3, 4]\n",
    "assert liste_longueurs_chaines(['un', 'deux', 'trois', 'quatre']) \\\n",
    "== [2, 4, 5, 6]\n",
    "assert liste_longueurs_chaines([]) == []"
   ]
  },
  {
   "cell_type": "markdown",
   "metadata": {
    "slideshow": {
     "slide_type": "slide"
    }
   },
   "source": [
    "### Filtrage: $\\texttt{filter}$  \n",
    "\n",
    "Le principe du schéma $\\texttt{filter}$ de transformation de liste est de produire une liste résultat consistant à filtrer les éléments d'une liste initiale en fonction d'un prédicat unaire (fonction à un argument et qui retourne un booléen). On obtient donc la liste de départ avec certains éléments supprimés, ceux pour lesquels le prédicat est faux. La liste filtrée résultat est donc de longueur potentiellement plus courte que la liste de départ.\n",
    "\n",
    "Un filtrage possède donc dans le cas général une signature de la forme : $\\texttt{list}[\\alpha]$ -> $\\texttt{list}[\\alpha]$ que l'on peut lire comme : un filtrage d'une liste de $\\alpha$.  \n",
    "\n",
    "**Schéma**\n",
    "Le schéma de filtrage (schéma $\\texttt{filter}$) applique un prédicat à tous les éléments d'une liste et conserve uniquement ceux validant le prédicat:  \n",
    "* on dispose de:  \n",
    "  1. une liste $L$ de $\\texttt{type}$ $\\texttt{list}[\\alpha]$\n",
    "  2. une fonction $p$ de $\\texttt{type}$  $\\alpha$ −> $\\texttt{bool}$  \n",
    "* on veut construire  \n",
    "  - la liste $\\left[[L[i_0], L[i_1], \\ldots, L[i_k]\\right]$   \n",
    "  - telle que $i_0$ est l'indice du premier élément de $L$ pour lequel on a $p\\left(L[i_0]\\right) == \\texttt{True}$, $\\ldots$\n",
    "  - de $\\texttt{type}$ $\\texttt{list}[\\alpha]$  \n",
    "  \n",
    "Donner une fonction $\\texttt{liste\\_des\\_pairs}(L)$ qui renvoie la liste des éléments de la liste $L$ qui sont pairs.  \n",
    "• $\\texttt{liste\\_des\\_pairs}([1, 4, 5, 6, 2, 3])$ donne $[4, 6, 2]$  \n",
    "• Ici, il s’agit d'un filtrage d'une liste de $\\texttt{int}$.  \n",
    "Pour faire apparaître explicitement le prédicat $p$ du schéma général de filtrage, on définit ci-dessous un prédicat permettant de tester la parité d'un entier."
   ]
  },
  {
   "cell_type": "code",
   "execution_count": 29,
   "metadata": {
    "slideshow": {
     "slide_type": "subslide"
    }
   },
   "outputs": [],
   "source": [
    "def est_pair(n):\n",
    "    \"\"\"int -> bool\n",
    "    renvoie True si l'entier n est pair, False sinon.\"\"\"\n",
    "    return n % 2 == 0\n",
    "\n",
    "def liste_pairs(L):\n",
    "    \"\"\"list[int] -> list[int]\n",
    "    Retourne la liste des entiers pairs éléments de L.\"\"\"\n",
    "    # LR : list[int]\n",
    "    LR = [] # la liste filtree, initialement vide\n",
    "    # n : int (element courant)\n",
    "    for n in L :\n",
    "        if est_pair(n) :\n",
    "            LR.append(n)\n",
    "        # sinon on ne fait rien\n",
    "    return LR\n",
    "\n",
    "# Jeu de tests\n",
    "assert liste_pairs([4, 7, 10, 11, 14]) == [4, 10, 14]\n",
    "assert liste_pairs([232, 111, 424, 92]) == [232, 424, 92]\n",
    "assert liste_pairs([51, 37, 5]) == []\n",
    "assert liste_pairs([]) == []"
   ]
  },
  {
   "cell_type": "markdown",
   "metadata": {
    "slideshow": {
     "slide_type": "subslide"
    }
   },
   "source": [
    "### Simulation de $\\texttt{liste\\_des\\_pairs}(L_1)$  \n",
    "\n",
    "Effectuons une simulation de boucle de $\\texttt{liste\\_des\\_pairs}([1, 4, 5, 6, 2, 3])$\n",
    "\n",
    "\n",
    "| tour de boucle | variable $n$ | variable $LR$ |\n",
    "|:--------:|:---:|:---:|\n",
    "| entrée  | $-$ | $[]$ |\n",
    "| 1er  | $1$ | $[]$ |\n",
    "| 2e  | $4$ | $[4]$ |\n",
    "| 3e  | $5$ | $[4]$ |\n",
    "| 4e  | $6$ | $[4,6]$ |\n",
    "| 5e  | $2$ | $[4,6,2]$ |\n",
    "| 6e  | $3$ | $[4,6,2]$ |\n",
    "| sortie | $-$ | $[4,6,2]$ |\n",
    "\n",
    "> Exercice : définir la fonction $\\texttt{liste\\_impairs}$ retournant, à partir d'une liste $L$ d'entiers naturels\n",
    "en paramètre, la liste des éléments impairs de $L$."
   ]
  },
  {
   "cell_type": "markdown",
   "metadata": {
    "slideshow": {
     "slide_type": "slide"
    }
   },
   "source": [
    "### Filtrage: Entiers supérieurs à un nombre  \n",
    "Comme nous avons un peu de pratique maintenant, abordons un problème légèrement plus\n",
    "complexe : Filtrer dans la liste initiale $L$ les nombres qui sont supérieurs strictement au paramètre $x$ de\n",
    "$\\texttt{type Number}$.  La fonction s'appliquant tant aux listes d'entiers qu'aux listes de flottants, il s'agit donc d'un filtrage de nombres. Cependant, la signature n'est pas $\\texttt{list}[\\texttt{Number}]$ -> $\\texttt{list}[\\texttt{Number}]$ car la fonction prend en entrée un second argument.\n",
    "\n",
    "C'est donc un filtrage un peu plus complexe mais qui reste bien dans la catégorie filtrage de listes.\n",
    "\n",
    "Donner une fonction $\\texttt{liste\\_superieurs}(L, x)$ qui renvoie la liste des éléments de la liste $L$ qui sont supérieurs strictement à $x$ .  \n",
    "• $\\texttt{liste\\_superieurs}([1, 4, 5, 6, 2, 3], 3)$ donne $[4, 5, 6]$\n"
   ]
  },
  {
   "cell_type": "code",
   "execution_count": 30,
   "metadata": {
    "slideshow": {
     "slide_type": "fragment"
    }
   },
   "outputs": [],
   "source": [
    "def liste_superieurs(L, x) :\n",
    "    \"\"\"list[Number] * Number -> list[Number]\n",
    "    renvoie la liste des nombres elements de L superieurs au nombre x.\"\"\"\n",
    "    # LR : list[Number]\n",
    "    LR = [] # la liste resultat initialement vide\n",
    "    # y : Number (element nombre courant)\n",
    "    for y in L :\n",
    "        if y > x :\n",
    "            LR.append(y)\n",
    "        # sinon ne rien faire\n",
    "    return LR\n",
    "\n",
    "# Jeu de tests\n",
    "assert liste_superieurs([11, 27, 8, 44, 39, 26], 26) == [27, 44, 39]\n",
    "assert liste_superieurs([11, 26, 8, 4, 9], 26) == []\n",
    "assert liste_superieurs([11.3, 26.4, 8.9, 4.12, 9.7], 4.11) \\\n",
    "== [11.3, 26.4, 8.9, 4.12, 9.7]\n",
    "assert liste_superieurs([], 0) == []"
   ]
  },
  {
   "cell_type": "markdown",
   "metadata": {
    "slideshow": {
     "slide_type": "subslide"
    }
   },
   "source": [
    "### Quelques exercices  \n",
    "* Une fonction qui compte le nombre d'occurrences d'un éléments  \n",
    "$\\texttt{nb\\_occ}([1, 2, 3, 2, 5, 2, 1], 2 )$ -> $3$  \n",
    "$\\texttt{nb\\_occ}([1, 2, 3, 2, 5, 2, 1], 6 )$ -> $0$  \n",
    "$\\texttt{nb\\_occ}([\"a\", \"b\", \"c\", \"b\", \"a\", \"b\"], \"a\" )$ -> $2$   \n",
    "* Une fonction qui donne l'indice de la première occurrence d'un élément d'une liste, $\\texttt{None}$ si absent.  \n",
    "$\\texttt{recherche}([1 , 2, 3, 2, 5, 2, 1], 2)$ -> $1$  \n",
    "$\\texttt{recherche}([\"a\", \"b\", \"c\", \"b\", \"a\", \"b\"], \"a\" )$ -> $0$  \n",
    "$\\texttt{recherche}([1, 2, 3, 2, 5, 2, 1], 6 )$ -> $\\texttt{None}$\n",
    "* Une fonction qui donne la liste des chiffres d'un entier $n$ en base $10$.  \n",
    "$\\texttt{chiffre10}([4, 3, 0, 1])$ -> $[4, 3, 0, 1]$  \n",
    "* Une fonction qui donne la codage en base $2$ d'un entier $n$  \n",
    "$\\texttt{codage2}(13)$ -> $\\texttt{'}1101\\texttt{'}$  \n",
    "* Une fonction qui entrelace 2 listes  \n",
    "$\\texttt{entrelace}([1 ,3 ,5] , [2, 4, 6])$ -> $[1, 2, 3, 4, 5, 6]$  "
   ]
  },
  {
   "cell_type": "markdown",
   "metadata": {
    "slideshow": {
     "slide_type": "slide"
    }
   },
   "source": [
    "## Conclusion  \n",
    "Ce qu'il faut savoir faire à l'issue de cette partie :  (retenir/utiliser)\n",
    "* Notionsfondamentales d'informatique:\n",
    "    * **polymorphisme**,\n",
    "    * **mutabilité**,\n",
    "    * **méthode/fonction**,\n",
    "    * **schémas** de calcul,\n",
    "    * **fonctions internes**.\n",
    "* **Construction**, **accès**, **itération** avec des listes.\n",
    "* Types de problèmes : **réduction**, **transformation**, **filtrage**."
   ]
  }
 ],
 "metadata": {
  "celltoolbar": "Diaporama",
  "kernelspec": {
   "display_name": "Python 3",
   "language": "python",
   "name": "python3"
  },
  "language_info": {
   "codemirror_mode": {
    "name": "ipython",
    "version": 3
   },
   "file_extension": ".py",
   "mimetype": "text/x-python",
   "name": "python",
   "nbconvert_exporter": "python",
   "pygments_lexer": "ipython3",
   "version": "3.7.3"
  },
  "rise": {
   "autolaunch": true,
   "enable_chalkboard": true,
   "scroll": true
  }
 },
 "nbformat": 4,
 "nbformat_minor": 2
}
