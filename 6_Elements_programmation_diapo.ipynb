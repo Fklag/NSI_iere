{
 "cells": [
  {
   "cell_type": "markdown",
   "metadata": {
    "slideshow": {
     "slide_type": "slide"
    }
   },
   "source": [
    "## <p style=\"text-align: center;\">NSI - Éléments de programmation</p>\n",
    "## <p style=\"text-align: center;\">Correction, terminaison et efficacité</p>\n",
    "## <p style=\"text-align: center;\">Lycée Beaussier - F. Lagrave</p>\n",
    "\n",
    "[![Binder](https://mybinder.org/badge_logo.svg)](https://mybinder.org/v2/gh/Fklag/NSI_iere/master?filepath=6_Elements_programmation_diapo.ipynb)"
   ]
  },
  {
   "cell_type": "markdown",
   "metadata": {
    "slideshow": {
     "slide_type": "slide"
    }
   },
   "source": [
    "# Supports de cours"
   ]
  },
  {
   "cell_type": "markdown",
   "metadata": {
    "slideshow": {
     "slide_type": "fragment"
    }
   },
   "source": [
    "<div id=\"top\">Revoir les notions de <a href=\"http://lycee.lagrave.free.fr/nsi/numerisation/4_Elements_programmation_diapo.pdf\" target=\"_blank\">séquences, variables et alternatives</a> et de <a href=\"http://lycee.lagrave.free.fr/nsi/numerisation/5_Elements_programmation_diapo.pdf\" target=\"_blank\">Répétitions et boucles $\\texttt{while}$</a>\n",
    "    \n",
    "• La notion d'<b>expression</b> (arithmétique)  \n",
    "• La définition de <b>fonctions</b>  \n",
    "• L'<b>affectation</b> de variables  \n",
    "• Les <b>séquences</b>    \n",
    "• Les <b>alternatives</b>  \n",
    "• Les <b>boucles</b>  \n",
    "\n",
    "→ On peut (presque) tout faire.  \n",
    "• Reste les <b>structures de données</b>\n",
    "</div>"
   ]
  },
  {
   "cell_type": "markdown",
   "metadata": {
    "slideshow": {
     "slide_type": "subslide"
    }
   },
   "source": [
    "### La question du jour - Qu'est-ce qu'un bon programme(ur) ?\n",
    "\n",
    "*Les propriétés recherchées*  \n",
    "**Correction :** Est-ce que le programme renvoie les bonnes valeurs ?  \n",
    "**Terminaison :** Est-ce que le programme finit toujours pas renvoyer une valeur ?  \n",
    "**Efficacité :** Est-ce que le programme est rapide et économe en mémoire ?"
   ]
  },
  {
   "cell_type": "markdown",
   "metadata": {
    "slideshow": {
     "slide_type": "subslide"
    }
   },
   "source": [
    "### Correction  \n",
    "**Définition**  \n",
    "Un programme $f$ est correct vis à vis d'une fonction $\\mathcal{F}$, quand à chaque calcul pour $x$ satisfaisant les hypothèses, si le programme renvoie $v$ , alors $\\mathcal{F}(X) = V$ (avec $( x , v )$ représentations de $(X, V )$)."
   ]
  },
  {
   "cell_type": "code",
   "execution_count": 1,
   "metadata": {
    "slideshow": {
     "slide_type": "fragment"
    }
   },
   "outputs": [],
   "source": [
    "def somme_entiers(n):\n",
    "    \"\"\"int −> int\n",
    "    hypothese : n >= 0\n",
    "    renvoie la somme des entiers jusque n inclus \"\"\"\n",
    "    # s : int\n",
    "    s = 0\n",
    "    #i : int\n",
    "    i = 1\n",
    "    while i <= n:\n",
    "        s = s + i\n",
    "        i = i + 1\n",
    "    return i\n",
    "    \n",
    "def somme_entiers(n):\n",
    "    \"\"\"int −> int\n",
    "    hypothese : n >= 0\n",
    "    renvoie la somme des entiers jusque n inclus \"\"\"\n",
    "    # s : int\n",
    "    s = 0\n",
    "    #i : int\n",
    "    i = 1\n",
    "    while i < n:\n",
    "        s = s + i\n",
    "        i = i + 1\n",
    "    return s\n",
    "\n",
    "def somme_entiers(n):\n",
    "    \"\"\"int −> int\n",
    "    hypothese : n >= 0\n",
    "    renvoie la somme des entiers jusque n inclus \"\"\"\n",
    "    # s : int\n",
    "    s = 0\n",
    "    #i : int\n",
    "    i = 0\n",
    "    while i < n:\n",
    "        s = s + i\n",
    "        i = i + 1\n",
    "    return s"
   ]
  },
  {
   "cell_type": "markdown",
   "metadata": {
    "slideshow": {
     "slide_type": "slide"
    }
   },
   "source": [
    "### Correction de programmes  \n",
    "\n",
    "\n",
    "**Correction partielle :**\n",
    "**Lorsque l'algorithme s'arrête**, le résultat calculé est-il la solution cherchée quelles que soient les données fournies ?\n",
    "\n",
    "**Terminaison + correction partielle = correction totale**  \n",
    "*Quelles que soient les données fournies, l'algorithme s'arrête et donne une réponse correcte.*  \n",
    "\n",
    "Comment être certain que le programme est correct ?  \n",
    "• **Problème indécidable.**  \n",
    "Pour certains problèmes il n'existe que des algorithmes **partiellement corrects** !\n",
    "\n",
    "Théorème : **Indécidabilité du problème de l'arrêt** (Alan Turing, 1936)  \n",
    "*<a href=\"https://fr.wikipedia.org/wiki/Probl%C3%A8me_de_l%27arr%C3%AAt\" target=\"_blank\">Il n'existe pas d'algorithme permettant de dire si un programme termine toujours ou non.</a>*\n",
    "\n",
    "\n",
    "Deux approches  \n",
    "• **Test**: soumettre le programme à des **jeux de test**, **couverture**.  \n",
    "• **Vérification**: regarder le code du programme, **prouver** la correction.\n",
    "\n",
    "• Avantages  \n",
    "• Test: peu coûteux, pas d’accès au code.  \n",
    "• Vérification: garantie formelle.  \n",
    "• En pratique: beaucoup de **test**, de plus en plus de **vérification**.  "
   ]
  },
  {
   "cell_type": "markdown",
   "metadata": {
    "slideshow": {
     "slide_type": "subslide"
    }
   },
   "source": [
    "### Une première écriture formelle  \n",
    "Soit un problème instancié par une donnée $D$ et dont la réponse est fournie par un résultat $R$.  \n",
    "Une **spécification** peut être donnée sous la forme de :  \n",
    "* une propriété $P(D)$ de la donnée (**précondition**) ;  \n",
    "* une propriété $Q(D, R)$ de la donnée et du résultat (**postcondition**). \n",
    "\n",
    "Un programme **satisfait** cette spécification si :  \n",
    "Pour toute donnée $D$ qui vérifie la propriété $P$, l'exécution du programme donne un résultat $R$ qui vérifie $Q(D, R)$.  \n",
    "Le programme est alors dit **correct par rapport à cette spécification**."
   ]
  },
  {
   "cell_type": "markdown",
   "metadata": {
    "slideshow": {
     "slide_type": "subslide"
    }
   },
   "source": [
    "### Exemple : Division euclidienne  \n",
    "\n",
    "<div style=\"background-color:#f0f0fa;\">\n",
    "Pour tout couple d’entiers naturels $(a~;~b)$ avec $a \\in \\texttt{I}\\!\\! \\texttt{N}$ et $b \\in \\texttt{I}\\!\\! \\texttt{N}-\\{0\\}$, il existe un unique couple $(q~;~r)$ d'entiers tels que \n",
    "\n",
    "$a = b q + r$ et $\\, 0 \\leqslant r \\leqslant b - 1$.\n",
    "    \n",
    "$q$ est appelé <b>quotient de la division euclidienne</b> (on parle aussi de division entière) de $a$ par $b$ et $r$ <b>reste</b> de cette division.\n",
    "</div>\n",
    "\n"
   ]
  },
  {
   "cell_type": "code",
   "execution_count": 2,
   "metadata": {
    "slideshow": {
     "slide_type": "fragment"
    }
   },
   "outputs": [],
   "source": [
    "#Division par soustractions\n",
    "def DIV(a, b):\n",
    "    \"\"\" int * int -> int * int\n",
    "    hypothese : a et b entiers naturels et b != 0\n",
    "    renvoie le quotient q et le reste r de la division euclidienne de a par b\"\"\"\n",
    "    # r : int\n",
    "    r = a\n",
    "    # q : int\n",
    "    q = 0\n",
    "    while r >= b :\n",
    "        r = r - b\n",
    "        q = q + 1\n",
    "    return q, r\n",
    "\n",
    "# jeu de tests\n",
    "assert DIV(7,2)==(3,1)\n",
    "assert DIV(2,7)==(0,2)"
   ]
  },
  {
   "cell_type": "markdown",
   "metadata": {
    "slideshow": {
     "slide_type": "fragment"
    }
   },
   "source": [
    "**Données acceptables**\n",
    "* $b != 0$ sinon le problème n’a pas de sens (et la boucle non plus)    \n",
    "* $b > 0$   \n",
    "* $a > 0$  \n",
    "\n",
    "**Résultat attendu**\n",
    "* $a = q \\times b + r$\n",
    "* $0 \\leqslant r < b$\n",
    "* $a$ et $b$ inchangés"
   ]
  },
  {
   "cell_type": "markdown",
   "metadata": {
    "slideshow": {
     "slide_type": "slide"
    }
   },
   "source": [
    "### Terminaison  \n",
    "\n",
    "- L'exécution de l'algorithme produit-elle un résultat en temps fini quelles que soient les données fournies ?  \n",
    "**Définition**  \n",
    "Un programme $f$ **termine sur l'entrée $e$** quand l'exécution de $f(e)$ finit par s’arrêter.  \n",
    "Il **termine** quand il termine sur toutes ses entrées qui satisfont ses hypothèses."
   ]
  },
  {
   "cell_type": "code",
   "execution_count": 3,
   "metadata": {
    "slideshow": {
     "slide_type": "fragment"
    }
   },
   "outputs": [],
   "source": [
    "def somme_entiers(n):\n",
    "    \"\"\"int −> int\n",
    "    hypothese : n >= 0\n",
    "    renvoie la somme des entiers jusque n inclus \"\"\"\n",
    "    # s : int\n",
    "    s = 0\n",
    "    #i : int\n",
    "    i = 1\n",
    "    while i <= n:\n",
    "        s = s + i\n",
    "        i = i - 1\n",
    "    return s\n",
    "\n",
    "def somme_entiers(n):\n",
    "    \"\"\"int −> int\n",
    "    hypothese : n >= 0\n",
    "    renvoie la somme des entiers jusque n inclus \"\"\"\n",
    "    # s : int\n",
    "    s = 0\n",
    "    #i : int\n",
    "    i = 1\n",
    "    while i <= i:\n",
    "        s = s + i\n",
    "        i = i + 1\n",
    "    return s"
   ]
  },
  {
   "cell_type": "markdown",
   "metadata": {
    "slideshow": {
     "slide_type": "slide"
    }
   },
   "source": [
    "### Efficacité (en moyenne)  \n",
    "**Définition**  \n",
    "Un programme $f$ est **plus efficace en moyenne** qu'un programme $g$ lorsque :\n",
    "• $f$ et $g$ calculent la même fonction mathématique.  \n",
    "• sur toutes les entrées d'une même taille, en moyenne, $f$ utilise moins d'**opérations élémentaires** que $g$ .\n",
    "\n",
    "• opérations **élémentaires** ?  \n",
    "$\\phantom{.}\\qquad$ • affectations, comparaisons, multiplications, $\\ldots$  \n",
    "• complexité en **espace** (utilisation de la mémoire)"
   ]
  },
  {
   "cell_type": "code",
   "execution_count": 4,
   "metadata": {
    "slideshow": {
     "slide_type": "fragment"
    }
   },
   "outputs": [],
   "source": [
    "def somme_entiers(n):\n",
    "    \"\"\"int −> int\n",
    "    hypothese : n >= 0\n",
    "    renvoie la somme des entiers jusque n inclus \"\"\"\n",
    "    # s : int\n",
    "    s = 0\n",
    "    #i : int\n",
    "    i = 1\n",
    "    while i <= n:\n",
    "        s = s + i\n",
    "        i = i + 1\n",
    "    return s\n",
    "\n",
    "def somme_entiers(n):\n",
    "    \"\"\"int −> int\n",
    "    hypothese : n >= 0\n",
    "    renvoie la somme des entiers jusque n inclus \"\"\"\n",
    "    return n*(n+1)/2"
   ]
  },
  {
   "cell_type": "markdown",
   "metadata": {
    "slideshow": {
     "slide_type": "subslide"
    }
   },
   "source": [
    "### Efficacité (dans le pire cas)  \n",
    "**Définition**  \n",
    "Un programme $f$ est **plus efficace dans le pire des cas** qu'un programme $g$ lorsque :  \n",
    "• $f$ et $g$ calculent la même fonction mathématique.  \n",
    "• sur toutes les entrées d'une même taille, **dans le pire des cas**, $f$ utilise moins d'**opérations élémentaires** que $g$ ."
   ]
  },
  {
   "cell_type": "code",
   "execution_count": 5,
   "metadata": {
    "slideshow": {
     "slide_type": "fragment"
    }
   },
   "outputs": [],
   "source": [
    "def mention(m):\n",
    "    \"\"\"int −> str\n",
    "    hypothese : m >= 0 and m <= 20\n",
    "    renvoie la mention associee a la moyenne m\"\"\"\n",
    "    if m < 10:\n",
    "        return \"Elimine\"\n",
    "    else :\n",
    "        if m <= 12:\n",
    "            return \"Passable\"\n",
    "        else : \n",
    "            if m <= 14:\n",
    "                return \"Assez Bien\"\n",
    "            else :\n",
    "                if m <= 16:\n",
    "                    return \"Bien\"\n",
    "                else :\n",
    "                    return \"Tres bien\"\n",
    "    \n",
    "\n",
    "def mention(m):\n",
    "    \"\"\"int −> str\n",
    "    hypothese : m >= 0 and m <= 20\n",
    "    renvoie la mention associee a la moyenne m\"\"\"\n",
    "    if m <= 14:\n",
    "        if m <= 12:\n",
    "            if m < 10:\n",
    "                return \"Elimine\"\n",
    "            else :\n",
    "                return \"Passable\"\n",
    "        else :\n",
    "            return \"Assez Bien\"\n",
    "    else :\n",
    "        if m <= 16:\n",
    "            return \"Bien\"\n",
    "        else :\n",
    "            return \"Tres bien\""
   ]
  },
  {
   "cell_type": "markdown",
   "metadata": {
    "slideshow": {
     "slide_type": "slide"
    }
   },
   "source": [
    "### Notion d'invariant  \n",
    "**Idée de la démonstration d'un algorithme**  \n",
    "De proche en proche, établir que la postcondition est vraie à chaque fois que la précondition est vraie.  \n",
    "• Affectation, séquence, condition :  \n",
    "$\\phantom{.} \\qquad$ pas de vrai problème si la spécification est correctement écrite.  \n",
    "• Problème : la boucle  \n",
    "$\\phantom{.} \\qquad$ (peut recevoir ses données d’une itération précédente)  \n",
    "\n",
    "**Invariant**  \n",
    "Un **invariant** est une propriété $P$ des variables en début de boucle telle que si $P$ est vérifiée à une itération, alors elle l'est à l'itération suivante."
   ]
  },
  {
   "cell_type": "markdown",
   "metadata": {
    "slideshow": {
     "slide_type": "subslide"
    }
   },
   "source": [
    "### Méthodologie\n",
    "1. **Choisir et exprimer** un invariant judicieux  \n",
    "$\\phantom{.} \\qquad$ Pas de méthode systématique\n",
    "2. **Démontrer** qu’il est vérifié avant d'entrer dans la boucle  \n",
    "$\\phantom{.} \\qquad$ Utiliser les *préconditions*\n",
    "3. **Démontrer** que s'il est vérifié au début d'une itération quelconque, il l'est aussi au début de l'itération suivante.  \n",
    "$\\phantom{.} \\qquad$ Utiliser le corps de la boucle  \n",
    "4. **Instancier** l'invariant en sortie de boucle et en déduire une *postcondition*.  \n",
    "$\\phantom{.} \\qquad$ Utiliser (la négation de) la condition du $\\texttt{while}$  \n",
    "\n",
    "Annotation de la division euclidienne"
   ]
  },
  {
   "cell_type": "code",
   "execution_count": 6,
   "metadata": {
    "slideshow": {
     "slide_type": "fragment"
    }
   },
   "outputs": [],
   "source": [
    "#Division par soustractions\n",
    "def DIV(a, b):\n",
    "    \"\"\" int * int -> int * int\n",
    "    hypothese : a et b entiers naturels et b != 0\n",
    "    renvoie le quotient q et le reste r de la division euclidienne de a par b\"\"\"\n",
    "    \n",
    "    ##Précondition : a ≥ 0 et b > 0\n",
    "    \n",
    "    # r : int\n",
    "    r = a\n",
    "    # q : int\n",
    "    q = 0\n",
    "    while r >= b :   ## {invariant : a = b × q + r}\n",
    "        r = r - b\n",
    "        q = q + 1\n",
    "        \n",
    "        ## {b × q' + r' = b × (q + 1) + (r - b) = b × q + b - b + r = b × q + r = a}\n",
    "    return q, r\n",
    "\n",
    "    ## Postconditions : a = b × q + r\n",
    "    ##                  0 ≤ r < b\n",
    "    ##                  a et b inchangés"
   ]
  },
  {
   "cell_type": "markdown",
   "metadata": {
    "slideshow": {
     "slide_type": "slide"
    }
   },
   "source": [
    "### Fonction puissance  \n",
    "La notion de correction est intéressante à étudier dans le cadre des boucles car c'est la construction principale permettant de décrire des calculs complexes, dont l'**étude de correction** est le plus souvent non triviale.  \n",
    "Pour illustrer cet aspect nous allons considérer le problème de l'élévation d'un nombre à une puissance entière positive."
   ]
  },
  {
   "cell_type": "code",
   "execution_count": 7,
   "metadata": {
    "slideshow": {
     "slide_type": "fragment"
    }
   },
   "outputs": [],
   "source": [
    "def puissance(x,n):\n",
    "    \"\"\"Number ∗ int −> Number\n",
    "    Hypothese : n>=0\n",
    "    retourne la valeur de x eleve a la puissance n.\"\"\"\n",
    "    # res : Number\n",
    "    res = 1 # valeur de x^0\n",
    "    # i : int\n",
    "    i = 1 # compteur\n",
    "    while i <= n:\n",
    "        res = res * x\n",
    "        i = i + 1\n",
    "    return res\n",
    "\n",
    "# jeu de tests\n",
    "assert puissance(2 ,5) == 32\n",
    "assert puissance(2 ,10) == 1024\n",
    "assert puissance(2.5 ,1) == 2.5"
   ]
  },
  {
   "cell_type": "markdown",
   "metadata": {
    "slideshow": {
     "slide_type": "subslide"
    }
   },
   "source": [
    "### Simulation  \n",
    "Que nous donne une simulation de boucle pour $x=2$ et $n=5$ :  \n",
    "\n",
    "Simulation $\\texttt{puissance}(2,5)$  \n",
    "\n",
    "| tour de boucle | variable $res$ | variable $i$ |\n",
    "|:--------:|:---:|:---:|\n",
    "| entrée  | $1$ | $1$|\n",
    "| $1$  | $2$ | $2$|\n",
    "| $2$  | $4$ | $3$|\n",
    "| $3$  | $8$ | $4$|\n",
    "| $4$  | $16$ | $5$|\n",
    "| $5$ (sortie)  | $32$ | $6$|"
   ]
  },
  {
   "cell_type": "markdown",
   "metadata": {
    "slideshow": {
     "slide_type": "subslide"
    }
   },
   "source": [
    "### Simulation et correction  \n",
    "**Que nous apprend cette simulation ?**  \n",
    "• Elle nous prouve formellement que $\\texttt{puissance}$ est correcte quand elle est appelée sur les arguments $2, 5$ .  \n",
    "• Elle ne nous dit rien sur le cas général.  \n",
    "• Elle nous suggère une méthode générale:  \n",
    "$\\phantom{.}\\qquad$ • à chaque étape, on multiplie $res$ par $x$ ,  \n",
    "$\\phantom{.}\\qquad$ • on s'arrête après $n$ étapes.\n"
   ]
  },
  {
   "cell_type": "markdown",
   "metadata": {
    "slideshow": {
     "slide_type": "slide"
    }
   },
   "source": [
    "### Invariants\n",
    "**Invariant de boucle**  \n",
    "Un invariant de boucle est une expression booléenne  \n",
    "• exprimant une relation impliquant les variables modifiées dans le corps de la boucle,  \n",
    "• qui est vraie en entrée de boucle,  \n",
    "• qui est vraie après chaque tour de boucle.  \n",
    "\n",
    "→ il est donc vrai en particulier à la sortie de la boucle !\n",
    "\n",
    "*Outil pour la correction*  \n",
    "**Définition**  \n",
    "On appelle **invariant de boucle** une propriété qui, si elle est vraie avant l'entrée dans une boucle, reste vraie après chaque passage dans cette boucle, et donc est vraie aussi à la sortie de cette boucle.  \n",
    "\n",
    "Remarque, Analogie évidente avec une preuve par récurrence :  \n",
    "• Entrée de boucle → initialisation  \n",
    "• Passage dans la boucle → hérédité  \n",
    "• Sortie de boucle → conclusion  \n",
    "\n",
    "Question : Comment trouver un bon invariant ?   \n",
    "Pas de solution générale... Il faut :  \n",
    "1. Bien comprendre le problème posé  \n",
    "2. Tester avec 1 ou 2 simulations  \n",
    "3. Avoir de la pratique et de l'intuition → de l’expérience  \n",
    "\n",
    "**La mise en évidence d'un invariant de boucle adapté permet de prouver la correction d'un algorithme.**"
   ]
  },
  {
   "cell_type": "markdown",
   "metadata": {
    "slideshow": {
     "slide_type": "subslide"
    }
   },
   "source": [
    "### Invariant pour la puissance  \n",
    "Invariant de boucle pour $\\texttt{puissance}$ : $x^{i - 1} = res$  \n",
    "Nous nous limiterons ici à vérifier les candidats invariants de boucle sur des simulations (on dit alors que l'on **teste l'invariant de boucle**)  \n",
    "Simulation avec invariant de $\\texttt{puissance}(2,5)$  \n",
    "\n",
    "| tour de boucle | variable $res$ | variable $i$ | Invariant $x^{i - 1} = res$  |\n",
    "|:--------:|:---:|:---:|:---:|\n",
    "| entrée  | $1$ | $1$| $2^{1 - 1} = 1$  **(Vrai)**|\n",
    "| $1$  | $2$ | $2$| $2^{2 - 1} = 2$  **(Vrai)**|\n",
    "| $2$  | $4$ | $3$| $2^{3 - 1} = 4$  **(Vrai)**|\n",
    "| $3$  | $8$ | $4$| $2^{4 - 1} = 8$  **(Vrai)**|\n",
    "| $4$  | $16$ | $5$| $2^{5 - 1} = 16$  **(Vrai)**|\n",
    "| $5$ (sortie)  | $32$ | $6$| $2^{6 - 1} = 32$  **(Vrai)**|"
   ]
  },
  {
   "cell_type": "markdown",
   "metadata": {
    "slideshow": {
     "slide_type": "subslide"
    }
   },
   "source": [
    "### En quoi est-ce une preuve ?  \n",
    "• Problème : la simulation ne vérifie l'invariant de boucle ... que pour $x=2$ et $n=5$  \n",
    "→ On peut en fait **prouver** que c'est un invariant **quelle que soit** la valeur des paramètres  \n",
    "• Si on suppose que l'invariant est correct, on peut **prouver** la correction de la fonction :  \n",
    "\n",
    "*(Schéma) de preuve de la correction de la fonction puissance*\n",
    "1. L'invariant est toujours vrai en fin de tour (supposé)  \n",
    "2. Vrai en particulier lors du dernier tour  \n",
    "3. Sortie de boucle car condition fausse  \n",
    "$\\phantom{.}\\qquad$ → i = n +1  \n",
    "4. L'invariant en sortie de boucle est $x^{n+1-1} = res$  \n",
    "5. On renvoie $res$ qui vaut donc bien $x^n$"
   ]
  },
  {
   "cell_type": "markdown",
   "metadata": {
    "slideshow": {
     "slide_type": "slide"
    }
   },
   "source": [
    "### Idée de la preuve formelle  \n",
    "**Par récurrence !**  \n",
    "*Cas général*  \n",
    "On veut montrer que l'invariant reste vrai à chaque tour de boucle:  \n",
    "• Preuve par récurrence.  \n",
    "• On montre que l'invariant vrai en entrée.  \n",
    "• On suppose que l'invariant est vrai au début d'un tour de boucle, on montre qu'il est vrai à la fin de ce tour de boucle.  \n",
    "• Par récurrence, l'invariant est vrai en sortie de boucle."
   ]
  },
  {
   "cell_type": "markdown",
   "metadata": {
    "slideshow": {
     "slide_type": "subslide"
    }
   },
   "source": [
    "### Idée de la preuve formelle  \n",
    " \n",
    "1. On a $x^{1-1}= 1$, donc l'invariant est vrai en **entrée** de boucle.\n",
    "2. On appelle $i, r$ les valeurs de $i$ et $res$ au début du tour et $i' , r'$ leurs valeurs en fin de tour.  \n",
    "$\\phantom{.}\\qquad$ • Supposons que l'invariant est vrai **à la fin du tour précédent** (c'est à\n",
    "dire au début de ce tour).  \n",
    "$\\phantom{.}\\qquad \\quad$ On a $x^{i-1} = r$ .  \n",
    "$\\phantom{.}\\qquad$ • en regardant le **corps de la boucle**, on sait que:  \n",
    "$\\phantom{.}\\qquad \\qquad$ • $i' = i + 1$,  \n",
    "$\\phantom{.}\\qquad \\qquad$ • $r' = r \\times x$,  \n",
    "$\\phantom{.}\\qquad$ • on calcule $r' = r \\times x = x^{i-1} \\times x = x^i = x^{i'-1}$  \n",
    "$\\phantom{.}\\qquad$ • donc l'invariant est vrai à la **fin du tour**.\n",
    "3. par **récurrence**, l'invariant est toujours vrai en fin de tour."
   ]
  },
  {
   "cell_type": "markdown",
   "metadata": {
    "slideshow": {
     "slide_type": "slide"
    }
   },
   "source": [
    "### Correction et spécification  \n",
    "**Correction et spécification**  \n",
    "La correction d'une fonction est toujours relative à sa spécification  \n",
    "\n",
    "*Essayons par exemple d'effectuer un appel qui sort du domaine de la spécification avec une valeur flottante pour le paramètre $n$ et non un entier naturel*"
   ]
  },
  {
   "cell_type": "code",
   "execution_count": 8,
   "metadata": {
    "slideshow": {
     "slide_type": "fragment"
    }
   },
   "outputs": [
    {
     "data": {
      "text/plain": [
       "(1, 1.4142135623730951)"
      ]
     },
     "execution_count": 8,
     "metadata": {},
     "output_type": "execute_result"
    }
   ],
   "source": [
    "puissance(2,1/2), 2**(1/2)"
   ]
  },
  {
   "cell_type": "markdown",
   "metadata": {
    "slideshow": {
     "slide_type": "subslide"
    }
   },
   "source": [
    "### Exercice  \n",
    "Quel invariant de boucle proposer ?  "
   ]
  },
  {
   "cell_type": "code",
   "execution_count": 9,
   "metadata": {
    "slideshow": {
     "slide_type": "fragment"
    }
   },
   "outputs": [],
   "source": [
    "def somme_entiers(n):\n",
    "    \"\"\"int −> int\n",
    "    hypothese : n >= 0\n",
    "    renvoie la somme des entiers jusque n inclus \"\"\"\n",
    "    # s : int\n",
    "    s = 0\n",
    "    #i : int\n",
    "    i = 1\n",
    "    while i <= n:\n",
    "        s = s + i\n",
    "        i = i + 1\n",
    "    return s\n",
    "\n",
    "#jeu de tests\n",
    "assert somme_entiers(1) == 1\n",
    "assert somme_entiers(5) == 15\n",
    "assert somme_entiers(20) == 20*21//2"
   ]
  },
  {
   "cell_type": "markdown",
   "metadata": {
    "slideshow": {
     "slide_type": "fragment"
    }
   },
   "source": [
    "L'**invariant de boucle** doit être utile à la preuve de programme !  \n",
    "*Par exemple :  \n",
    "$s \\geqslant 0$ **et** $i \\geqslant 0$ est un invariant de boucle mais il ne permet pas de montrer que l’algorithme retourne bien la somme des $n$ premiers entiers.*  \n",
    "\n",
    "Il n'y a pas unicité de l'invariant et en général, il n'existe pas d'algorithme pour déterminer l'invariant adéquat ou le meilleur invariant.  \n",
    "Le choix du bon invariant est guidé par la pré-condition, la boucle, la post-condition.  \n",
    "*Il existe cependant des algorithmes pour calculer automatiquement des invariants de boucle.*\n",
    "\n",
    "$s = \\displaystyle \\sum_{k=0}^{i-1} k$ **et** $i \\leqslant n + 1$ est ici un invariant de boucle adéquat $\\ldots$  "
   ]
  },
  {
   "cell_type": "markdown",
   "metadata": {
    "slideshow": {
     "slide_type": "slide"
    }
   },
   "source": [
    "### Correction et terminaison  \n",
    "Plusieurs raisons pour une fonction d’être erronée :  \n",
    "• elle ne renvoie pas une réponse correcte (→ correction)  \n",
    "• elle ne renvoie pas de réponse du tout (→ terminaison)  \n",
    "\n",
    "Question : est-ce qu'on atteint toujours $\\texttt{return}$ ?  \n",
    "\n",
    "Regardons sur les éléments de langage que nous avons :  \n",
    "• Les expressions : ok  \n",
    "• L'affectation : ok  \n",
    "• Les séquences : ok  \n",
    "• Les alternatives : ok  \n",
    "• Les boucles : ??  \n",
    "\n",
    "La notion de correction discutée précédemment n'a de sens que si le calcul se termine, d'après-vous que se passe-t-il pour $\\texttt{puissance}(2, -5)$ ?  \n",
    "\n",
    "Pour offrir des garanties concernant la terminaison d'une boucle, on utilise une mesure que l'on nomme un **variant de boucle**."
   ]
  },
  {
   "cell_type": "markdown",
   "metadata": {
    "slideshow": {
     "slide_type": "subslide"
    }
   },
   "source": [
    "### Variants  \n",
    "Comme pour la correction, on dispose de méthodes pour prouver la terminaison d'un programme.  \n",
    "De manière générale, il faut trouver une expression qui lie les variables impliquées dans la boucle et telle que :  \n",
    "• sa valeur appartient à un ensemble muni d'un ordre bien fondé  \n",
    "• sa valeur décroı̂t strictement à chaque tour de boucle  \n",
    "• si sa valeur vaut le minimum de l'ensemble, alors on sort de la boucle  \n",
    "$\\phantom{.} \\qquad$ → application au cas $\\texttt{I}\\!\\! \\texttt{N}$ :\n",
    "\n",
    "Remarque : Un ensemble **bien fondé** est un ensemble totalement ordonné dans lequel il n'existe pas de suite infinie strictement décroissante.  \n",
    "En particulier, $\\texttt{I}\\!\\! \\texttt{N}$ est un ensemble bien fondé.  \n",
    "\n",
    "**Variant de boucle**  \n",
    "Un **variant de boucle** est une expression arithmétique :  \n",
    "• Qui est un **entier naturel positif** en entrée de boucle.  \n",
    "• Qui **décroı̂t strictement** à chaque tour de boucle.  \n",
    "• Quand elle vaut $0$, on sort de la boucle  \n",
    "\n",
    "*Outil pour la terminaison*  \n",
    "**Définition**  \n",
    "On appelle **convergent** une quantité qui prend ses valeurs dans un ensemble bien fondé et qui diminue strictement à chaque passage dans une boucle.\n",
    "\n",
    "**L'existence d'un convergent pour une boucle garantit que l'algorithme finit par en sortir.**"
   ]
  },
  {
   "cell_type": "markdown",
   "metadata": {
    "slideshow": {
     "slide_type": "subslide"
    }
   },
   "source": [
    "### Comme pour la correction, on s’appuie sur les simulations :  \n",
    "Simulation $\\texttt{puissance}(2,5)$  \n",
    "\n",
    "| tour de boucle | variable $res$ | variable $i$ |\n",
    "|:--------:|:---:|:---:|\n",
    "| entrée  | $1$ | $1$|\n",
    "| $1$  | $2$ | $2$|\n",
    "| $2$  | $4$ | $3$|\n",
    "| $3$  | $8$ | $4$|\n",
    "| $4$  | $16$ | $5$|\n",
    "| $5$ (sortie)  | $32$ | $6$|  \n",
    "\n",
    "Variant pour $\\texttt{puissance}$ : $\\, n-i+1$"
   ]
  },
  {
   "cell_type": "markdown",
   "metadata": {
    "slideshow": {
     "slide_type": "fragment"
    }
   },
   "source": [
    "Simulation avec variant de $\\texttt{puissance}(2,5)$  \n",
    "\n",
    "| tour de boucle | variable $res$ | variable $i$ | variant $n-i+1$  |\n",
    "|:--------:|:---:|:---:|:-----:|\n",
    "| entrée  | $1$ | $1$| $5-1+1 = 5$ |\n",
    "| $1$  | $2$ | $2$| $5-2+1 = 4$ |\n",
    "| $2$  | $4$ | $3$| $5-3+1 = 3$ |\n",
    "| $3$  | $8$ | $4$| $5-4+1 = 2$ |\n",
    "| $4$  | $16$ | $5$| $5-5+1 = 1$ |\n",
    "| $5$ (sortie)  | $32$ | $6$| $5-6+1 = 0$ |"
   ]
  },
  {
   "cell_type": "markdown",
   "metadata": {
    "slideshow": {
     "slide_type": "subslide"
    }
   },
   "source": [
    "### En quoi est-ce une preuve ?  \n",
    "• Problème : on n'a vérifié le variant de boucle que pour $x=2$ et $n=5$  \n",
    "→ On peut en fait **prouver** que c'est un variant **quelle que soit** la valeur des paramètres  \n",
    "• Si on suppose que le variant est correct, on peut **prouver** la terminaison de la fonction :  \n",
    "\n",
    "*(Schéma) de preuve de la terminaison de la fonction $\\texttt{puissance}$*  \n",
    "1. La valeur du variant est un entier positif en entrée de boucle.  \n",
    "2. Sa valeur décroı̂t strictement **entre le début et la fin** d'un tour de boucle.  \n",
    "3. Quand il vaut $0$, on **sort de la boucle**.  \n",
    "4. Comme le variant est une valeur dans un ensemble muni d'un ordre bien fondé, il n'y a pas de suite infinie de valeurs strictement décroissantes.  \n",
    "   Donc le variant finit par valoir $0$. Donc **la fonction termine**.\n",
    "   \n",
    "On retiendra la règle suivante :  \n",
    "**Le variant de boucle vaut $0$ lorsque la condition du $\\texttt{while}$ devient fausse.**   \n",
    "\n",
    "On peut lire cette propriété dans les deux sens.\n",
    "* lorsque le variant vaut $0$, on a $n + 1 - i = 0$ donc $i = n + 1$. De ce fait, la condition de boucle est fausse et donc on sort bien de la boucle.  \n",
    "* de façon complémentaire, lorsque la condition de boucle $i <= n$ est fausse (et en ajoutant l'argument que $i \\leqslant n + 1$) on peut en déduire que $i$ vaut $n + 1$ en sortie de boucle. Donc le variant devient $n + 1 - i = n + 1 - n - 1 = 0$ (CQFD)."
   ]
  },
  {
   "cell_type": "markdown",
   "metadata": {
    "slideshow": {
     "slide_type": "subslide"
    }
   },
   "source": [
    "### Idée de la preuve formelle  \n",
    "Montrons que n $-$ i $+ 1$ est bien un variant de boucle.  \n",
    "Appelons $n$ la valeur de n et $i_0$ la valeur de i en entrée de boucle.  \n",
    "1. En entrée l'expression $n - i_0 + 1 = n - 1 + 1$ vaut $n$ : **c'est un entier positif.** \n",
    "2. Appelons $\\,i\\,$ la valeur de $\\,$ i $\\,$ au début d'un tour et $i'$ la valeur de $\\,$ i $\\,$ à la fin d'un tour.  \n",
    "$\\phantom{.} \\qquad$ • on sait que $i' = i + 1$,  \n",
    "$\\phantom{.} \\qquad$ • donc $n - i' + 1 = n - (i + 1) + 1 = n - i < n - i + 1$  \n",
    "$\\phantom{.} \\qquad$ • donc **le variant décroı̂t scrictement à chaque tour de boucle.**  \n",
    "3. quand le variant vaut $0$, on a $n - i + 1 = 0$ soit $i = n + 1$ ce qui **correspond à la condition de sortie de boucle.**  \n",
    "\n",
    "Comme la fonction admet un variant de boucle, elle **termine**."
   ]
  },
  {
   "cell_type": "markdown",
   "metadata": {
    "slideshow": {
     "slide_type": "slide"
    }
   },
   "source": [
    "### Efficacité d'un programme  \n",
    "Questions types à se poser :  \n",
    "1. Fait-on des calculs redondants ?  \n",
    "2. Connait-on la réponse avant la fin de la fonction ?  \n",
    "3. Existe-t-il un algorithme plus efficace ?  \n",
    "\n",
    "**Attention :**  \n",
    "• 1 et 2 améliorent l'efficacité d'une fonction existante  \n",
    "• 3 change la fonction."
   ]
  },
  {
   "cell_type": "markdown",
   "metadata": {
    "slideshow": {
     "slide_type": "subslide"
    }
   },
   "source": [
    "### Factorisation  \n",
    "Nous avons vu dans un cours précédent la fonction de calcul de l'aire d’un triangle, une bonne solution est de réaliser une **factorisation des calculs** grâce à une variable permettant de stocker le demi-périmètre. La factorisation est un outil simple mais important pour rendre efficace les calculs.  \n",
    "Cela conduit souvent à des définitions plus lisibles et mieux décomposées."
   ]
  },
  {
   "cell_type": "code",
   "execution_count": 10,
   "metadata": {
    "slideshow": {
     "slide_type": "fragment"
    }
   },
   "outputs": [],
   "source": [
    "def aire_triangle (a,b,c):\n",
    "    \"\"\"Number ∗ Number ∗ Number −> float\n",
    "    hypothese : (a>0) and (b>0) and (c>0)\n",
    "    hypothese : les cotes a, b, et c definissent un triangle .\n",
    "    retourne l'aire du triangle dont les cotes sont de longueur a, b, et c.\"\"\"\n",
    "    return math.sqrt(((a + b + c)/2)\n",
    "                      * (((a + b + c)/2) - a)\n",
    "                      * (((a + b + c)/2) - b)\n",
    "                      * (((a + b + c)/2) - c))\n",
    "\n",
    "def aire_triangle (a,b,c):\n",
    "    \"\"\"Number ∗ Number ∗ Number −> float\n",
    "    hypothese : (a>0) and (b>0) and (c>0)\n",
    "    hypothese : les cotes a, b, et c definissent un triangle .\n",
    "    retourne l'aire du triangle dont les cotes sont de longueur a, b, et c.\"\"\"\n",
    "    # p : float\n",
    "    p = (a + b + c) / 2 # demi−perimetre\n",
    "    return math.sqrt(p * (p - a) * (p - b) * (p - c))"
   ]
  },
  {
   "cell_type": "markdown",
   "metadata": {
    "slideshow": {
     "slide_type": "fragment"
    }
   },
   "source": [
    "• Calcul $(a + b + c)/2$ répété $4$ fois.  \n",
    "• **Factorisation** du calcul grâce à une variable.  \n",
    "• Gain en **lisibilité**.  \n",
    "• Complexité en **espace / Coût** d'une affectation.  "
   ]
  },
  {
   "cell_type": "markdown",
   "metadata": {
    "slideshow": {
     "slide_type": "slide"
    }
   },
   "source": [
    "### Nombre premier  \n",
    "Question : est-ce qu'un entier naturel strictement positif (différent de $1$) est un nombre premier ?"
   ]
  },
  {
   "cell_type": "code",
   "execution_count": 11,
   "metadata": {
    "slideshow": {
     "slide_type": "fragment"
    }
   },
   "outputs": [],
   "source": [
    "def est_premier(n):\n",
    "    \"\"\"int −> bool\n",
    "    hyp: n > 1\n",
    "    retourne True si n est premier \"\"\"\n",
    "    # premier : bool\n",
    "    premier = True # indique si le nombre est premier ou non\n",
    "    # i : int ( compteur )\n",
    "    i = 2          # on commence par tester avec 2 (1 divise tout)\n",
    "    while i < n:\n",
    "        if n % i == 0:\n",
    "            premier = False\n",
    "        i = i + 1\n",
    "    return premier"
   ]
  },
  {
   "cell_type": "markdown",
   "metadata": {
    "slideshow": {
     "slide_type": "fragment"
    }
   },
   "source": [
    "On fait $n - 2$ tours de boucle quelle que soit la réponse. $9\\, 998$ tours pour :"
   ]
  },
  {
   "cell_type": "code",
   "execution_count": 12,
   "metadata": {
    "slideshow": {
     "slide_type": "fragment"
    }
   },
   "outputs": [
    {
     "data": {
      "text/plain": [
       "False"
      ]
     },
     "execution_count": 12,
     "metadata": {},
     "output_type": "execute_result"
    }
   ],
   "source": [
    "est_premier(10000)"
   ]
  },
  {
   "cell_type": "markdown",
   "metadata": {
    "slideshow": {
     "slide_type": "subslide"
    }
   },
   "source": [
    "### Sorties anticipées  \n",
    "Dans ce genre de cas, deux solutions :  \n",
    "1. Sortie anticipée de la boucle  \n",
    "2. Sortie anticipée de la fonction \n",
    "\n",
    "Sortie anticipée **de boucle** :  \n",
    "• nécessite de modifier la condition de sortie de boucle  \n",
    "• besoin d'un critère supplémentaire  \n",
    "• mais la fonction termine toujours au même endroit : le (seul) $\\texttt{return}$  \n",
    "\n",
    "Sortie anticipés **de fonction** :\n",
    "• on ne modifie pas la condition de sortie de boucle  \n",
    "• on duplique les endroits où la fonction termine : rajoute des $\\texttt{return}$ "
   ]
  },
  {
   "cell_type": "markdown",
   "metadata": {
    "slideshow": {
     "slide_type": "subslide"
    }
   },
   "source": [
    "### Sortie anticipée de boucle  \n",
    "Idée :  \n",
    "• il suffit de trouver un diviseur pour répondre $\\texttt{False}$  \n",
    "• une fois qu'il est trouvé, on peut arrêter la boucle"
   ]
  },
  {
   "cell_type": "code",
   "execution_count": 13,
   "metadata": {
    "slideshow": {
     "slide_type": "fragment"
    }
   },
   "outputs": [],
   "source": [
    "def est_premier(n):\n",
    "    \"\"\"int −> bool\n",
    "    hyp: n > 1\n",
    "    retourne True si n est premier \"\"\"\n",
    "    # premier : bool\n",
    "    premier = True # indique si le nombre est premier ou non\n",
    "    # i : int ( compteur )\n",
    "    i = 2          # on commence par tester avec 2 (1 divise tout)\n",
    "    while (i < n) and premier :\n",
    "        if n % i == 0:\n",
    "            premier = False\n",
    "        i = i + 1\n",
    "    return premier"
   ]
  },
  {
   "cell_type": "markdown",
   "metadata": {
    "slideshow": {
     "slide_type": "fragment"
    }
   },
   "source": [
    "Combien de tours de boucle si $n$ vaut $1024$ ? $n$ vaut $17$ ?"
   ]
  },
  {
   "cell_type": "markdown",
   "metadata": {
    "slideshow": {
     "slide_type": "subslide"
    }
   },
   "source": [
    "### Sortie anticipée de fonction  \n",
    "Autre solution : on sort directement de la fonction !"
   ]
  },
  {
   "cell_type": "code",
   "execution_count": 14,
   "metadata": {
    "slideshow": {
     "slide_type": "fragment"
    }
   },
   "outputs": [],
   "source": [
    "def est_premier(n):\n",
    "    \"\"\"int −> bool\n",
    "    hyp: n > 1\n",
    "    retourne True si n est premier \"\"\"\n",
    "    # premier : bool\n",
    "    premier = True # indique si le nombre est premier ou non\n",
    "    # i : int ( compteur )\n",
    "    i = 2          # on commence par tester avec 2 (1 divise tout)\n",
    "    while (i < n) :\n",
    "        if n % i == 0:\n",
    "            return False\n",
    "        i = i + 1\n",
    "    return True"
   ]
  },
  {
   "cell_type": "markdown",
   "metadata": {
    "slideshow": {
     "slide_type": "fragment"
    }
   },
   "source": [
    "Au passage, on s'est débarassé de la variable $\\texttt{premier}$ !"
   ]
  },
  {
   "cell_type": "markdown",
   "metadata": {
    "slideshow": {
     "slide_type": "subslide"
    }
   },
   "source": [
    "### Sortie anticipée  \n",
    "Quel type de sortie préférer ?  \n",
    "• les sorties de boucles sont plus faciles à analyser (correction, terminaison)  \n",
    "• les sorties de fonctions sont en général (un peu) plus efficaces"
   ]
  },
  {
   "cell_type": "markdown",
   "metadata": {
    "slideshow": {
     "slide_type": "slide"
    }
   },
   "source": [
    "### Plus petit diviseur  \n",
    "Autre exemple : quel est le plus petit diviseur d'un nombre ?"
   ]
  },
  {
   "cell_type": "code",
   "execution_count": 15,
   "metadata": {
    "slideshow": {
     "slide_type": "fragment"
    }
   },
   "outputs": [
    {
     "name": "stdout",
     "output_type": "stream",
     "text": [
      "Tours de boucles = 8\n",
      "Tours de boucles = 120\n",
      "Tours de boucles = 16\n",
      "Tours de boucles = 1023\n"
     ]
    }
   ],
   "source": [
    "def plus_petit_diviseur(n):\n",
    "    \"\"\"int −> int\n",
    "    hyp: n > 1\n",
    "    retourne le plus petit diviseur de n ( autre que 1). \"\"\"\n",
    "    # trouve : bool\n",
    "    trouve = False # indique si on a trouve un diviseur\n",
    "    # d : int\n",
    "    d = 0 # diviseur trouve , 0 pour demarrer (donc pas de diviseur )\n",
    "    # m : int ( candidat diviseur )\n",
    "    m = 2 # on commence par 2 (car 1 divise tout, et 0 rien)\n",
    "    \n",
    "    # nb_tours : int\n",
    "    nb_tours = 0 # compte le nombre de tours de boucle\n",
    "\n",
    "    while m <= n:\n",
    "        nb_tours = nb_tours + 1\n",
    "        if (not trouve) and (n % m == 0):\n",
    "            d = m\n",
    "            trouve = True\n",
    "        m = m + 1\n",
    "    print(\"Tours de boucles =\",nb_tours)\n",
    "    return d\n",
    "\n",
    "# Jeu de tests\n",
    "assert plus_petit_diviseur(9) == 3\n",
    "assert plus_petit_diviseur(121) == 11\n",
    "assert plus_petit_diviseur(17) == 17\n",
    "assert plus_petit_diviseur(1024) == 2"
   ]
  },
  {
   "cell_type": "markdown",
   "metadata": {
    "slideshow": {
     "slide_type": "fragment"
    }
   },
   "source": [
    "Adéquation entre la valeur de $\\texttt{trouve}$ et le fait que $d$ soit égal à $0$ ou non.  \n",
    "\n",
    "Pour trouver le plus petit diviseur de $n$, on effectue $n - 1$ tours de boucle.  \n",
    "Pourtant, si ce diviseur est beaucoup plus petit que $n$ alors on effectue de nombreux tours de boucles inutiles.  \n",
    "\n",
    "Réponse plus concise (sans $\\texttt{trouve}$)"
   ]
  },
  {
   "cell_type": "code",
   "execution_count": 16,
   "metadata": {
    "slideshow": {
     "slide_type": "fragment"
    }
   },
   "outputs": [
    {
     "name": "stdout",
     "output_type": "stream",
     "text": [
      "Tours de boucles = 8\n",
      "Tours de boucles = 120\n",
      "Tours de boucles = 16\n",
      "Tours de boucles = 1023\n"
     ]
    }
   ],
   "source": [
    "def plus_petit_diviseur(n):\n",
    "    \"\"\"int −> int\n",
    "    hyp: n > 1\n",
    "    retourne le plus petit diviseur de n ( autre que 1). \"\"\"\n",
    "    # d : int\n",
    "    d = 0 # diviseur trouve , 0 pour demarrer (donc pas de diviseur )\n",
    "    # m : int ( candidat diviseur )\n",
    "    m = 2 # on commence par 2 (car 1 divise tout, et 0 rien)\n",
    "    # nb_tours : int\n",
    "    nb_tours = 0 # compte le nombre de tours de boucle  \n",
    "    while m <= n:\n",
    "        nb_tours = nb_tours + 1\n",
    "        if (d == 0) and (n % m == 0):\n",
    "            d = m\n",
    "        m = m + 1\n",
    "    print(\"Tours de boucles =\",nb_tours)\n",
    "    return d\n",
    "\n",
    "# Jeu de tests\n",
    "assert plus_petit_diviseur(9) == 3\n",
    "assert plus_petit_diviseur(121) == 11\n",
    "assert plus_petit_diviseur(17) == 17\n",
    "assert plus_petit_diviseur(1024) == 2"
   ]
  },
  {
   "cell_type": "markdown",
   "metadata": {
    "slideshow": {
     "slide_type": "fragment"
    }
   },
   "source": [
    "On effectue toujours $n - 1$ tours de boucle quelle que soit la réponse !  \n",
    "\n",
    "Une première façon de résoudre ce problème est de travailler sur la condition de boucle."
   ]
  },
  {
   "cell_type": "markdown",
   "metadata": {
    "slideshow": {
     "slide_type": "subslide"
    }
   },
   "source": [
    "### Sortie anticipée de boucle  \n",
    "Idée :  \n",
    "• il n’y a qu'un seul plus petit diviseur  \n",
    "• une fois qu'il est trouvé ($d != 0$), on peut arrêter la boucle"
   ]
  },
  {
   "cell_type": "code",
   "execution_count": 17,
   "metadata": {
    "scrolled": true,
    "slideshow": {
     "slide_type": "fragment"
    }
   },
   "outputs": [
    {
     "name": "stdout",
     "output_type": "stream",
     "text": [
      "Tours de boucles = 2\n",
      "Tours de boucles = 10\n",
      "Tours de boucles = 16\n",
      "Tours de boucles = 1\n"
     ]
    }
   ],
   "source": [
    "def plus_petit_diviseur(n):\n",
    "    \"\"\"int −> int\n",
    "    hyp: n > 1\n",
    "    retourne le plus petit diviseur de n ( autre que 1). \"\"\"\n",
    "    # d : int\n",
    "    d = 0 # diviseur trouve , 0 pour demarrer (donc pas de diviseur )\n",
    "    # m : int ( candidat diviseur )\n",
    "    m = 2 # on commence par 2 (car 1 divise tout, et 0 rien)\n",
    "    # nb_tours : int\n",
    "    nb_tours = 0 # compte le nombre de tours de boucle  \n",
    "    while (d == 0) and (m <= n) :\n",
    "        nb_tours = nb_tours + 1\n",
    "        if (n % m == 0):\n",
    "            d = m\n",
    "        m = m + 1\n",
    "    print(\"Tours de boucles =\",nb_tours)\n",
    "    return d\n",
    "\n",
    "# Jeu de tests\n",
    "assert plus_petit_diviseur(9) == 3\n",
    "assert plus_petit_diviseur(121) == 11\n",
    "assert plus_petit_diviseur(17) == 17\n",
    "assert plus_petit_diviseur(1024) == 2"
   ]
  },
  {
   "cell_type": "markdown",
   "metadata": {
    "slideshow": {
     "slide_type": "subslide"
    }
   },
   "source": [
    "### Sortie anticipée de fonction  \n",
    "Autre solution : on sort directement de la fonction !"
   ]
  },
  {
   "cell_type": "code",
   "execution_count": 18,
   "metadata": {
    "slideshow": {
     "slide_type": "fragment"
    }
   },
   "outputs": [
    {
     "name": "stdout",
     "output_type": "stream",
     "text": [
      "Tours de boucles = 2\n",
      "Tours de boucles = 10\n",
      "Tours de boucles = 16\n",
      "Tours de boucles = 1\n"
     ]
    }
   ],
   "source": [
    "def plus_petit_diviseur(n):\n",
    "    \"\"\"int −> int\n",
    "    hyp: n > 1\n",
    "    retourne le plus petit diviseur de n ( autre que 1). \"\"\"\n",
    "    # m : int ( candidat diviseur )\n",
    "    m = 2 # on commence par 2 (car 1 divise tout, et 0 rien)\n",
    "    # nb_tours : int\n",
    "    nb_tours = 0 # compte le nombre de tours de boucle  \n",
    "    while (m <= n) :\n",
    "        nb_tours = nb_tours + 1\n",
    "        if (n % m == 0):\n",
    "            print(\"Tours de boucles =\",nb_tours)\n",
    "            return m # sortie directe de la fonction\n",
    "        m = m + 1   \n",
    "    print(\"Tours de boucles =\",nb_tours)\n",
    "    return n\n",
    "\n",
    "# Jeu de tests\n",
    "assert plus_petit_diviseur(9) == 3\n",
    "assert plus_petit_diviseur(121) == 11\n",
    "assert plus_petit_diviseur(17) == 17\n",
    "assert plus_petit_diviseur(1024) == 2"
   ]
  },
  {
   "cell_type": "markdown",
   "metadata": {
    "slideshow": {
     "slide_type": "slide"
    }
   },
   "source": [
    "### Efficacité algorithmique  \n",
    "Existe-t-il une autre façon (plus rapide) de répondre au problème ?"
   ]
  },
  {
   "cell_type": "code",
   "execution_count": 19,
   "metadata": {
    "slideshow": {
     "slide_type": "fragment"
    }
   },
   "outputs": [
    {
     "name": "stdout",
     "output_type": "stream",
     "text": [
      "Nombre de multiplications = 0\n",
      "Nombre de multiplications = 3\n",
      "Nombre de multiplications = 10\n"
     ]
    }
   ],
   "source": [
    "def puissance(x,n):\n",
    "    \"\"\"Number ∗ int −> Number\n",
    "    Hypothese : n>=0\n",
    "    retourne la valeur de x eleve a la puissance n.\"\"\"\n",
    "    # res : Number\n",
    "    res = 1 # valeur de x^0\n",
    "    # i : int\n",
    "    i = 1 # compteur\n",
    "    # nb_mults : int\n",
    "    nb_mults = 0    # nombre de multiplication(s), initialement 0\n",
    "    while i <= n:\n",
    "        res = res * x\n",
    "        nb_mults = nb_mults + 1\n",
    "        \n",
    "        i = i + 1\n",
    "    print(\"Nombre de multiplications =\", nb_mults)\n",
    "    return res\n",
    "\n",
    "# jeu de tests\n",
    "assert puissance(2 ,0) == 1\n",
    "assert puissance(2 ,3) == 8\n",
    "assert puissance(2 ,10) == 1024"
   ]
  },
  {
   "cell_type": "markdown",
   "metadata": {
    "slideshow": {
     "slide_type": "subslide"
    }
   },
   "source": [
    "### Exemple avec puissance\n",
    "Pour parler d’efficacité, il nous faut une **unité de mesure** du coût du calcul.  \n",
    "Prenons le nombre de multiplications ici :  \n",
    "• $\\texttt{puissance}(2,0)$      → $0$ multiplications  \n",
    "• $\\texttt{puissance}(10,3)$     → $3$ multiplications  \n",
    "• $\\texttt{puissance}(2.5,1024)$ → $1024$ multiplications  \n",
    "\n",
    "$\\ldots \\texttt{puissance}(x,n)$          → $n$ multiplications  \n",
    "\n",
    "Peut-on faire mieux ?  \n",
    "Oui en exploitant la relation : $x^a \\times x^b = x^{a+b}$"
   ]
  },
  {
   "cell_type": "markdown",
   "metadata": {
    "slideshow": {
     "slide_type": "subslide"
    }
   },
   "source": [
    "### Exemple avec puissance\n",
    "Autre définition de la puissance d'un nombre :  $x^n = \\left\\{\\begin{array}{ll}\n",
    "x^{\\lfloor n/2 \\rfloor}\\times x^{\\lfloor n/2 \\rfloor} & \\text{ si } n \\text{ est pair } \\\\\n",
    "x^{\\lfloor n/2 \\rfloor}\\times x^{\\lfloor n/2 \\rfloor} \\times x & \\text{ sinon } \\\\\n",
    "\\end{array}\\right.$\n",
    "\n",
    "Exemple :  \n",
    "$x^{10} = x^5 \\times x^5 = \\left(x^2 \\times x^2 \\times x\\right) \\times \\left(x^2 \\times x^2 \\times x\\right) = \\underbrace{\\left((x \\times x )\\times (x \\times x)\\times x \\right)}_{} \\times \\underbrace{\\left((x \\times x )\\times (x \\times x)\\times x \\right)}_{}$  \n",
    "On peut effectuer $4$ multiplications au lieu de $10$.  \n",
    "$x^{10} = x^5 \\times x^5$  \n",
    "$x^5 = x^2 \\times x^2 \\times x$  \n",
    "$x^2 = x \\times x$"
   ]
  },
  {
   "cell_type": "code",
   "execution_count": 20,
   "metadata": {
    "slideshow": {
     "slide_type": "fragment"
    }
   },
   "outputs": [
    {
     "name": "stdout",
     "output_type": "stream",
     "text": [
      "Nb multiplications = 0\n",
      "Nombre de multiplications = 0\n",
      "Nb multiplications = 4\n",
      "Nombre de multiplications = 3\n",
      "Nb multiplications = 6\n",
      "Nombre de multiplications = 10\n"
     ]
    }
   ],
   "source": [
    "def puissance_rapide(x, n):\n",
    "    \"\"\"Number ∗ int −> Number\n",
    "    Hypothese : n>=0\n",
    "    retourne x eleve a la puissance n.\"\"\"\n",
    "    # res : Number\n",
    "    res = 1      # resultat\n",
    "    # acc : Number\n",
    "    acc = x     # accumulateur pour les puissances impaires\n",
    "    # i : int\n",
    "    i = n       # variant de boucle (voir plus loin)\n",
    "    # nb_mults : int\n",
    "    nb_mults = 0    # nombre de multiplication(s), initialement 0\n",
    "    while i > 0:\n",
    "        if i % 2 == 1:\n",
    "            res = res * acc\n",
    "            nb_mults = nb_mults + 1\n",
    "            \n",
    "        acc = acc * acc\n",
    "        nb_mults = nb_mults + 1\n",
    "        i = i // 2\n",
    "    print(\"Nb multiplications =\", nb_mults)\n",
    "    return res\n",
    "\n",
    "#jeu de tests\n",
    "assert puissance_rapide(2 ,0) == puissance(2 ,0)\n",
    "assert puissance_rapide(2 ,3) == puissance(2 ,3)\n",
    "assert puissance_rapide(2 ,10) == puissance(2 ,10)"
   ]
  },
  {
   "cell_type": "markdown",
   "metadata": {
    "slideshow": {
     "slide_type": "subslide"
    }
   },
   "source": [
    "### Simulation de $\\texttt{puissance_rapide}$  \n",
    "Simulation $\\texttt{puissance_rapide}(2,10)$  \n",
    "\n",
    "| tour de boucle | variable $res$ | variable $acc$ | variable $i$  |\n",
    "|:--------:|:---:|:---:|:-----:|\n",
    "| entrée  | $1$ | $2$| $10$ |\n",
    "| $1$  | $1$ | $4$| $5$ |\n",
    "| $2$  | $4$ | $16$| $2$ |\n",
    "| $3$  | $4$ | $256$| $1$ |\n",
    "| $4$ (sortie)  | $1024$ | $65536$| $0$ |\n",
    "\n",
    "Reste à prouver :  \n",
    "• la correction  \n",
    "• la terminaison  \n",
    "\n",
    "**La terminaison est triviale. Le variant de boucle est $i$ .**"
   ]
  },
  {
   "cell_type": "markdown",
   "metadata": {
    "slideshow": {
     "slide_type": "fragment"
    }
   },
   "source": [
    "### Terminaison  \n",
    "\n",
    "*(Schéma) de preuve de terminaison*  \n",
    "• En entrée de boucle, $i$ vaut $n$.  \n",
    "• Soit $i$ la valeur du variant en début de boucle et $i'$ sa valeur en fin de boucle:  \n",
    "$\\phantom{.} \\qquad$ • $i' = \\lfloor i/2 \\rfloor < i$   \n",
    "• Quand $i = 0$ on sort de la boucle (condition fausse)  \n",
    "\n",
    "Ainsi, $\\texttt{puissance_rapide}$ termine."
   ]
  },
  {
   "cell_type": "markdown",
   "metadata": {
    "slideshow": {
     "slide_type": "subslide"
    }
   },
   "source": [
    "### Correction de $\\texttt{puissance_rapide}$   \n",
    "\n",
    "Invariant  $res = \\dfrac{x^n}{acc^i}$\n",
    "\n",
    "Simulation $\\texttt{puissance_rapide}(2,10)$ avec invariant de boucle  \n",
    "\n",
    "\n",
    "| tour de boucle | variable $res$ | variable $acc$ | variable $i$  | Invariant $res = \\dfrac{x^n}{acc^i}$  |\n",
    "|:--------:|:---:|:---:|:-----:|:-----:|\n",
    "| entrée  | $1$ | $2$| $10$ | $1 = \\frac{1024}{2^{10}}$ **(Vrai)** |\n",
    "| $1$  | $1$ | $4$| $5$ | $1 = \\frac{1024}{4^{5}}$ **(Vrai)** |\n",
    "| $2$  | $4$ | $16$| $2$ | $4 = \\frac{1024}{16^{2}}$ **(Vrai)** |\n",
    "| $3$  | $4$ | $256$| $1$ | $4 = \\frac{1024}{256^{1}}$ **(Vrai)** |\n",
    "| $4$ (sortie)  | $1024$ | $65536$| $0$ | $1024 = \\frac{1024}{65536^{0}}$ **(Vrai)** |\n",
    "\n",
    "La preuve en exercice !"
   ]
  },
  {
   "cell_type": "markdown",
   "metadata": {
    "slideshow": {
     "slide_type": "slide"
    }
   },
   "source": [
    "## Conclusion  \n",
    "Ce qu'il faut savoir faire à l'issue de cette partie :  \n",
    "* Vérifier qu'un invariant de boucle est correct par simulation  \n",
    "* Vérifier qu'un variant de boucle est correct par simulation  \n",
    "* Donner une ébauche de preuve de correction  \n",
    "* Donner une ébauche de preuve de terminaison  \n",
    "* Repérer les opérations coûteuses dans une fonction.  \n",
    "  Améliorer son efficacité :  \n",
    "    * en factorisant les calculs redondants\n",
    "    * en sortant d'une boucle/fonction de façon anticipée\n",
    "* Savoir comparer l'efficacité de deux fonctions"
   ]
  }
 ],
 "metadata": {
  "celltoolbar": "Diaporama",
  "kernelspec": {
   "display_name": "Python 3",
   "language": "python",
   "name": "python3"
  },
  "language_info": {
   "codemirror_mode": {
    "name": "ipython",
    "version": 3
   },
   "file_extension": ".py",
   "mimetype": "text/x-python",
   "name": "python",
   "nbconvert_exporter": "python",
   "pygments_lexer": "ipython3",
   "version": "3.7.3"
  },
  "rise": {
   "autolaunch": true,
   "enable_chalkboard": true,
   "scroll": true
  }
 },
 "nbformat": 4,
 "nbformat_minor": 2
}
