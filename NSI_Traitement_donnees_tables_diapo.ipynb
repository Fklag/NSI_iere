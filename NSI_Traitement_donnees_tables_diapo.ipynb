{
 "cells": [
  {
   "cell_type": "markdown",
   "metadata": {
    "slideshow": {
     "slide_type": "slide"
    }
   },
   "source": [
    "## <p style=\"text-align: center;\">NSI</p>\n",
    "## <p style=\"text-align: center;\">Traitement de données en tables</p>\n",
    "## <p style=\"text-align: center;\">Lycée Beaussier - F. Lagrave</p>\n",
    "\n",
    "[![Binder](https://mybinder.org/badge_logo.svg)](https://mybinder.org/v2/gh/Fklag/NSI_iere/master?filepath=NSI_Traitement_donnees_tables_diapo.ipynb)"
   ]
  },
  {
   "cell_type": "markdown",
   "metadata": {
    "slideshow": {
     "slide_type": "slide"
    }
   },
   "source": [
    "# Supports de cours"
   ]
  },
  {
   "cell_type": "markdown",
   "metadata": {
    "slideshow": {
     "slide_type": "fragment"
    }
   },
   "source": [
    "<div id=\"top\">\n",
    "    \n",
    "### Les <a href=\"http://lycee.lagrave.free.fr/snt/data/SNTdata23mai.pdf\" target=\"_blank\">données organisées en table</a>\n",
    "\n",
    "De telles <a href=\"http://lycee.lagrave.free.fr/SNTdata/co/module_Data_1.html\" target=\"_blank\">données</a> correspondent à <a href=\"http://lycee.lagrave.free.fr/nsi/programmation/8_Elements_programmation_diapo.pdf\" target=\"_blank\">une liste</a> de <a href=\"http://lycee.lagrave.free.fr/nsi/programmation/11_Elements_programmation_diapo.pdf\" target=\"_blank\">$p-$uplets nommés</a> qui partagent les mêmes <a href=\"http://lycee.lagrave.free.fr/SNTdata/co/Data_02.html\" target=\"_blank\">descripteurs</a>.\n",
    "\n",
    "</div>"
   ]
  },
  {
   "cell_type": "markdown",
   "metadata": {
    "slideshow": {
     "slide_type": "subslide"
    }
   },
   "source": [
    "###   Indexation de table\n",
    "\n",
    "Au départ il nous faut un fichier texte $\\texttt{csv}$ qui contient des données, supposons que cela soit le fichier <a href=\"./data/election.csv\" target=\"_blank\">$\\texttt{election.csv}$</a> ci-dessous :\n",
    "\n",
    "\n",
    "\n",
    "nom,prenom,nb_voix  \n",
    "dupond,emile,514  \n",
    "dupont,chloe,632  \n",
    "dupons,camille,421\n",
    "\n"
   ]
  },
  {
   "cell_type": "code",
   "execution_count": 1,
   "metadata": {
    "slideshow": {
     "slide_type": "fragment"
    }
   },
   "outputs": [
    {
     "name": "stdout",
     "output_type": "stream",
     "text": [
      "nom,prenom,nb_voix\n",
      "\n"
     ]
    },
    {
     "data": {
      "text/plain": [
       "['dupond,emile,514\\n', 'dupont,chloe,632\\n', 'dupons,camille,421\\n']"
      ]
     },
     "execution_count": 1,
     "metadata": {},
     "output_type": "execute_result"
    }
   ],
   "source": [
    "f = open(\"./data/election.csv\",'r')\n",
    "champs = f.readline() # lecture de la 1ere ligne\n",
    "lignes = f.readlines()\n",
    "f.close()\n",
    "\n",
    "print(champs)\n",
    "lignes"
   ]
  },
  {
   "cell_type": "code",
   "execution_count": 2,
   "metadata": {
    "slideshow": {
     "slide_type": "subslide"
    }
   },
   "outputs": [
    {
     "data": {
      "text/plain": [
       "[{'nom': 'dupond', 'prenom': 'emile', 'nb_voix': '514'},\n",
       " {'nom': 'dupont', 'prenom': 'chloe', 'nb_voix': '632'},\n",
       " {'nom': 'dupons', 'prenom': 'camille', 'nb_voix': '421'}]"
      ]
     },
     "execution_count": 2,
     "metadata": {},
     "output_type": "execute_result"
    }
   ],
   "source": [
    "import csv\n",
    "\n",
    "def csv2dict(csv_file):\n",
    "    \"\"\"Converti un fichier csv en une liste de dictionnaires\n",
    "        [{'key' : value, 'key' : value, 'key' : value, ...},...]\"\"\"\n",
    "    with open(csv_file,'r') as data :\n",
    "        reader = csv.DictReader(data)\n",
    "        return [dict(row.items()) for row in reader]\n",
    "\n",
    "table = csv2dict(\"./data/election.csv\")\n",
    "table"
   ]
  },
  {
   "cell_type": "markdown",
   "metadata": {
    "slideshow": {
     "slide_type": "fragment"
    }
   },
   "source": [
    "Pour chaque enregistrement (ligne), il ne faut pas oublier de convertir les valeurs de la colonne nb_voix en des entiers de $\\texttt{type} : \\texttt{int}$"
   ]
  },
  {
   "cell_type": "code",
   "execution_count": 3,
   "metadata": {
    "slideshow": {
     "slide_type": "fragment"
    }
   },
   "outputs": [
    {
     "data": {
      "text/plain": [
       "[{'nom': 'dupond', 'prenom': 'emile', 'nb_voix': 514},\n",
       " {'nom': 'dupont', 'prenom': 'chloe', 'nb_voix': 632},\n",
       " {'nom': 'dupons', 'prenom': 'camille', 'nb_voix': 421}]"
      ]
     },
     "execution_count": 3,
     "metadata": {},
     "output_type": "execute_result"
    }
   ],
   "source": [
    "for rec in table :\n",
    "    rec['nb_voix'] = int(rec['nb_voix'])\n",
    "\n",
    "table"
   ]
  },
  {
   "cell_type": "markdown",
   "metadata": {
    "slideshow": {
     "slide_type": "slide"
    }
   },
   "source": [
    "### Recherche dans une table\n",
    "\n",
    "Supposons qu'on cherche la liste des lignes dans lesquelles le prénom commence par un \"c\" et le nombre de voix est supérieur à $300$. On écrira :\n"
   ]
  },
  {
   "cell_type": "code",
   "execution_count": 4,
   "metadata": {
    "slideshow": {
     "slide_type": "fragment"
    }
   },
   "outputs": [
    {
     "data": {
      "text/plain": [
       "[{'nom': 'dupont', 'prenom': 'chloe', 'nb_voix': 632},\n",
       " {'nom': 'dupons', 'prenom': 'camille', 'nb_voix': 421}]"
      ]
     },
     "execution_count": 4,
     "metadata": {},
     "output_type": "execute_result"
    }
   ],
   "source": [
    "def test(rec) :\n",
    "    return rec['prenom'][0] == 'c' and rec['nb_voix'] > 300\n",
    "\n",
    "\n",
    "recherche = [rec for rec in table if test(rec)]\n",
    "\n",
    "assert list(filter(test, table)) == recherche\n",
    "list(filter(test, table))"
   ]
  },
  {
   "cell_type": "markdown",
   "metadata": {
    "slideshow": {
     "slide_type": "fragment"
    }
   },
   "source": [
    "On peut éviter de créer la fonction $\\texttt{test}$ et utiliser à la place une fonction anonyme (un \"$\\texttt{lambda}$\")"
   ]
  },
  {
   "cell_type": "code",
   "execution_count": 5,
   "metadata": {
    "slideshow": {
     "slide_type": "fragment"
    }
   },
   "outputs": [
    {
     "data": {
      "text/plain": [
       "[{'nom': 'dupond', 'prenom': 'emile', 'nb_voix': 514},\n",
       " {'nom': 'dupons', 'prenom': 'camille', 'nb_voix': 421}]"
      ]
     },
     "execution_count": 5,
     "metadata": {},
     "output_type": "execute_result"
    }
   ],
   "source": [
    "list(filter(lambda rec: rec['nom'][-1] =='d' or rec['nb_voix'] < 500, table))"
   ]
  },
  {
   "cell_type": "code",
   "execution_count": 6,
   "metadata": {
    "slideshow": {
     "slide_type": "fragment"
    }
   },
   "outputs": [
    {
     "data": {
      "text/plain": [
       "[{'nom': 'dupond', 'prenom': 'emile', 'nb_voix': 514},\n",
       " {'nom': 'dupons', 'prenom': 'camille', 'nb_voix': 421}]"
      ]
     },
     "execution_count": 6,
     "metadata": {},
     "output_type": "execute_result"
    }
   ],
   "source": [
    "[rec for rec in table if rec['nom'][-1] =='d' or rec['nb_voix'] < 500]"
   ]
  },
  {
   "cell_type": "markdown",
   "metadata": {
    "slideshow": {
     "slide_type": "slide"
    }
   },
   "source": [
    "### Trier une table suivant une colonne  \n",
    "On peut utiliser la méthode $\\texttt{sort}$ ou la fonction $\\texttt{sorted}$ qui permettent de trier une liste, en ajoutant un calcul de la clé utilisée pour comparer ($\\texttt{sorted}$ permet de ne pas modifier la table de départ et d'en construire une nouvelle).\n",
    "\n",
    "Par exemple, pour trier par nombre de voix croissant :\n"
   ]
  },
  {
   "cell_type": "code",
   "execution_count": 7,
   "metadata": {
    "slideshow": {
     "slide_type": "fragment"
    }
   },
   "outputs": [
    {
     "data": {
      "text/plain": [
       "[{'nom': 'dupons', 'prenom': 'camille', 'nb_voix': 421},\n",
       " {'nom': 'dupond', 'prenom': 'emile', 'nb_voix': 514},\n",
       " {'nom': 'dupont', 'prenom': 'chloe', 'nb_voix': 632}]"
      ]
     },
     "execution_count": 7,
     "metadata": {},
     "output_type": "execute_result"
    }
   ],
   "source": [
    "def nombre_voix(rec) :\n",
    "    return rec['nb_voix']\n",
    "\n",
    "sorted(table, key=nombre_voix)"
   ]
  },
  {
   "cell_type": "markdown",
   "metadata": {
    "slideshow": {
     "slide_type": "subslide"
    }
   },
   "source": [
    "De nouveau, on a parfois intérêt à utiliser une fonction anonyme pour ne pas créer une fonction de tri à chaque fois :"
   ]
  },
  {
   "cell_type": "code",
   "execution_count": 8,
   "metadata": {
    "slideshow": {
     "slide_type": "fragment"
    }
   },
   "outputs": [
    {
     "data": {
      "text/plain": [
       "[{'nom': 'dupont', 'prenom': 'chloe', 'nb_voix': 632},\n",
       " {'nom': 'dupons', 'prenom': 'camille', 'nb_voix': 421},\n",
       " {'nom': 'dupond', 'prenom': 'emile', 'nb_voix': 514}]"
      ]
     },
     "execution_count": 8,
     "metadata": {},
     "output_type": "execute_result"
    }
   ],
   "source": [
    "sorted(table, key=lambda rec:rec['nom'], reverse=True)"
   ]
  },
  {
   "cell_type": "markdown",
   "metadata": {
    "slideshow": {
     "slide_type": "slide"
    }
   },
   "source": [
    "### Fusion de deux tables\n",
    "\n",
    "* Un premier exemple de fusion est la **concaténation verticale** de deux tables ayant les même colonnes.  \n",
    "  Cela correspond à concaténer les deux listes"
   ]
  },
  {
   "cell_type": "code",
   "execution_count": 9,
   "metadata": {
    "slideshow": {
     "slide_type": "fragment"
    }
   },
   "outputs": [
    {
     "data": {
      "text/plain": [
       "[{'nom': 'dupont', 'prenom': 'chloe'},\n",
       " {'nom': 'dupons', 'prenom': 'camille'},\n",
       " {'nom': 'dupond', 'prenom': 'emile'}]"
      ]
     },
     "execution_count": 9,
     "metadata": {},
     "output_type": "execute_result"
    }
   ],
   "source": [
    "table1 = [{'nom':'dupont','prenom':'chloe'}]\n",
    "table2 = [{'nom': 'dupons', 'prenom': 'camille'},{'nom': 'dupond', 'prenom': 'emile'}]\n",
    "table_fusion = table1 + table2\n",
    "\n",
    "table_fusion"
   ]
  },
  {
   "cell_type": "markdown",
   "metadata": {
    "slideshow": {
     "slide_type": "fragment"
    }
   },
   "source": [
    "L'objectif d'une recherche peut-être de vérifier que certaines données ne sont pas répétées,   \n",
    "afin de supprimer éventuellement les doublons.  \n",
    "> Écrire une fonction $\\texttt{ajout}$ permettant ici, la concaténation verticale de deux tables ayant des descripteurs identiques, en évitant les doublons. Attention aussi à la **cohérence** l'ajout  n'est  possible  seulement  si  cela ne  cause pas une contradiction avec les enregistrements précédents."
   ]
  },
  {
   "cell_type": "markdown",
   "metadata": {
    "slideshow": {
     "slide_type": "subslide"
    }
   },
   "source": [
    "* Un deuxième exemple de fusion est la \"**concaténation horizontale**\" de deux tables n'ayant pas les mêmes colonnes."
   ]
  },
  {
   "cell_type": "markdown",
   "metadata": {
    "slideshow": {
     "slide_type": "fragment"
    }
   },
   "source": [
    "**Rappel :** un <a href=\"http://lycee.lagrave.free.fr/nsi/programmation/11_Elements_programmation_diapo.pdf\" target=\"_blank\">dictionnaire est un ensemble</a> d'associations entre une clé et une valeur et $\\texttt{Python}$ garantit qu'il ne retient que les éléments distincts.  \n",
    "\n",
    "On peut utiliser $\\texttt{**}$ pour forcer l'<a href=\"http://sametmax.com/operateur-splat-ou-etoile-en-python/\" target=\"_blank\">unpacking</a> des dictionnaires.  \n",
    "Les valeurs du dictionnaire deviennent les valeurs des paramètres, mais cette association se fait par nom :  \n",
    "chaque clé du dictionnaire doit correspondre à un nom de paramètre. Ainsi :"
   ]
  },
  {
   "cell_type": "code",
   "execution_count": 10,
   "metadata": {
    "slideshow": {
     "slide_type": "fragment"
    }
   },
   "outputs": [
    {
     "data": {
      "text/plain": [
       "{'elem1': 'eau', 'elem2': 'feu', 'elem3': 'air', 'elem4': 'terre'}"
      ]
     },
     "execution_count": 10,
     "metadata": {},
     "output_type": "execute_result"
    }
   ],
   "source": [
    "elements = {\"elem1\": \"eau\", \"elem2\": \"feu\", \"elem3\": \"air\"}\n",
    "{**elements,\"elem1\": \"eau\",\"elem4\": \"terre\"}"
   ]
  },
  {
   "cell_type": "markdown",
   "metadata": {
    "slideshow": {
     "slide_type": "subslide"
    }
   },
   "source": [
    "* On peut supposer qu'au moins une colonne est commune aux deux, et qu'on a trié par rapport à cette colonne dans chacune des deux tables, de sorte que la $i-$ème ligne de la première table doit bien être associée à la $i-$ème ligne de la deuxième table.\n",
    "\n"
   ]
  },
  {
   "cell_type": "code",
   "execution_count": 13,
   "metadata": {
    "slideshow": {
     "slide_type": "fragment"
    }
   },
   "outputs": [
    {
     "name": "stdout",
     "output_type": "stream",
     "text": [
      "{'nom': 'dupont', 'prenom': 'chloe'}  Union  {'nom': 'dupont', 'nb_voix': 632}\n",
      "{'nom': 'dupont', 'prenom': 'chloe', 'nb_voix': 632}\n"
     ]
    },
    {
     "data": {
      "text/plain": [
       "[{'nom': 'dupont', 'prenom': 'chloe', 'nb_voix': 632},\n",
       " {'nom': 'dupons', 'prenom': 'camille', 'nb_voix': 514},\n",
       " {'nom': 'dupond', 'prenom': 'emile', 'nb_voix': 421}]"
      ]
     },
     "execution_count": 13,
     "metadata": {},
     "output_type": "execute_result"
    }
   ],
   "source": [
    "table1 = [{'nom':'dupont','prenom':'chloe'},{'nom': 'dupons', 'prenom': 'camille'},{'nom':'dupond','prenom':'emile'}]\n",
    "table2 = [{'nom':'dupont','nb_voix':632},{'nom': 'dupons', 'nb_voix': 514},{'nom':'dupond','nb_voix':421}]\n",
    "\n",
    "print(table1[0],\" Union \",table2[0])\n",
    "print({**table1[0],**table2[0]})\n",
    "\n",
    "table_fusion = [{**table1[i], **table2[i]} for i in range(len(table1))]\n",
    "table_fusion"
   ]
  },
  {
   "cell_type": "markdown",
   "metadata": {
    "slideshow": {
     "slide_type": "slide"
    }
   },
   "source": [
    "### Conclusion  \n",
    "Ce qu'il faut savoir faire à l'issue de cette partie :  (retenir/utiliser)\n",
    "* Importer une table depuis un fichier texte tabulé ou un fichier CSV. \n",
    "   * En utilisant un tableau doublement indexé ou un tableau de $p-$uplets qui partagent les mêmes descripteurs.\n",
    "* Les <a href=\"http://lycee.lagrave.free.fr/nsi/programmation/11_Elements_programmation_diapo.pdf\" target=\"_blank\">$p-$uplets nommés</a> permettent les **enregistrements de valeurs de types différents** dans des champs nommés.  \n",
    "  En $\\texttt{Python}$, ils  sont implémentés par des **dictionnaires**.\n",
    "* Recherche dans une table\n",
    "  * Rechercher les lignes d'une table vérifiant des critères exprimés en logique propositionnelle.\n",
    "  * Recherche de doublons - tests de cohérence.\n",
    "\n",
    "* Tri d'une table\n",
    "  * Trier une table suivant une colonne.\n",
    "  * Une fonction de tri intégrée au système ou à une bibliothèque peut être utilisée.\n",
    "\n",
    "* Fusion de tables\n",
    "  * Construire une nouvelle table en combinant les données de deux tables."
   ]
  }
 ],
 "metadata": {
  "celltoolbar": "Diaporama",
  "kernelspec": {
   "display_name": "Python 3",
   "language": "python",
   "name": "python3"
  },
  "language_info": {
   "codemirror_mode": {
    "name": "ipython",
    "version": 3
   },
   "file_extension": ".py",
   "mimetype": "text/x-python",
   "name": "python",
   "nbconvert_exporter": "python",
   "pygments_lexer": "ipython3",
   "version": "3.7.3"
  },
  "rise": {
   "autolaunch": true,
   "enable_chalkboard": true,
   "scroll": true
  }
 },
 "nbformat": 4,
 "nbformat_minor": 2
}
