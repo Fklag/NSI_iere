{
 "cells": [
  {
   "cell_type": "markdown",
   "metadata": {
    "slideshow": {
     "slide_type": "slide"
    }
   },
   "source": [
    "## <p style=\"text-align: center;\">NSI - Éléments de programmation</p>\n",
    "## <p style=\"text-align: center;\">Intervalles, chaı̂nes de caractères et itérations</p>\n",
    "## <p style=\"text-align: center;\">Lycée Beaussier - F. Lagrave</p>\n",
    "\n",
    "[![Binder](https://mybinder.org/badge_logo.svg)](https://mybinder.org/v2/gh/Fklag/NSI_iere/master?filepath=7_Elements_programmation_diapo.ipynb)"
   ]
  },
  {
   "cell_type": "markdown",
   "metadata": {
    "slideshow": {
     "slide_type": "slide"
    }
   },
   "source": [
    "# Supports de cours"
   ]
  },
  {
   "cell_type": "markdown",
   "metadata": {
    "slideshow": {
     "slide_type": "fragment"
    }
   },
   "source": [
    "<div id=\"top\">Revoir les notions de <a href=\"http://lycee.lagrave.free.fr/nsi/programmation/4_Elements_programmation_diapo.pdf\" target=\"_blank\">séquences, variables et alternatives</a> et de <a href=\"http://lycee.lagrave.free.fr/nsi/programmation/5_Elements_programmation_diapo.pdf\" target=\"_blank\">Répétitions et boucles $\\texttt{while}$</a>\n",
    "    \n",
    "• La notion d'<b>expression</b> (arithmétique)  \n",
    "• La définition de <b>fonctions</b>  \n",
    "• L'<b>affectation</b> de variables  \n",
    "• Les <b>séquences</b>    \n",
    "• Les <b>alternatives</b>  \n",
    "• Les <b>boucles</b>  \n",
    "\n",
    "→ On peut (presque) tout faire.  \n",
    "• Reste les <b>structures de données</b>  \n",
    "\n",
    "- les <b>séquences</b>  \n",
    "  • les <b>intervalles</b> : séquences d'entiers  \n",
    "  • les <b>chaı̂nes de caractères</b> : séquences de caractères  \n",
    "  • les <b>listes</b> : séquences génériques\n",
    "\n",
    "- les <b>ensembles</b>  \n",
    "- les <b>dictionnaires</b>  \n",
    "</div>"
   ]
  },
  {
   "cell_type": "markdown",
   "metadata": {
    "slideshow": {
     "slide_type": "subslide"
    }
   },
   "source": [
    "### Intervalles et Chaı̂nes\n",
    "\n",
    "\n",
    "\n",
    "Les éléments contenus dans la donnée sont arrangées de façon séquentielle, l'intérêt principal de cette classification est que certaines opérations, en particulier le **principe d'itération**, s'appliquent de la même façon aux différents types de séquence.  \n",
    "\n",
    "• Données organisées en **séquences**.\n",
    "  - **implémentation**: facilité d’accès à l’élément suivant dans la mémoire.  \n",
    "\n",
    "• Séquences de nombres (entiers): **intervalles** de type $\\texttt{range}$  \n",
    "• Séquences de caractères (lettres): **chaı̂nes** de type $\\texttt{str}$  \n",
    "• Séquences d'éléments (de tous types): **listes** (<a href=\"http://lycee.lagrave.free.fr/nsi/numerisation/8_Elements_programmation_diapo.pdf\" target=\"_blank\">cours 8 Elts programmation</a>)  \n",
    "\n",
    "• **Itération** : s'applique sur les séquences:  \n",
    "  - répéter une **même** tâche pour **chaque** élément d'une séquence (**fixée**), dans l'**ordre**."
   ]
  },
  {
   "cell_type": "markdown",
   "metadata": {
    "slideshow": {
     "slide_type": "slide"
    }
   },
   "source": [
    "### Intervalles d’entiers  \n",
    "\n",
    "- Le type de séquence le plus simple est l'**intervalle d'entiers**, qui possède le $\\texttt{type range}$ (c'est un $\\texttt{type atomique}$) en $\\texttt{Python}$.  \n",
    "- En $\\texttt{Python}$, un intervalle d'entiers est une **séquence** d'entiers consécutifs, les manipulations sur les intervalles concernent principalement :\n",
    "  - la construction d'intervalle ;\n",
    "  - l'itération sur un intervalle.\n",
    "\n",
    "En $\\texttt{Python}$, la syntaxe : $\\texttt{range(m,n)}$ construit l'intervalle des entiers allant de $m$ (inclus) à $n$ (exclu). La notation mathématique usuelle pour cet intervalle est : $\\left[m~;~n\\right[$\n",
    "\n",
    "Remarques :\n",
    "- le nombre d'éléments dans l'intervalle est égal à $n - m$.  \n",
    "- une notation équivalente est $\\left[m~;~n-1\\right]$.\n",
    "\n",
    "\n",
    "Donc $\\texttt{range(0,3)}$ construit l'intervalle d'entiers $\\left[0~;~3\\right[$, c'est à dire l'intervalle\n",
    "contenant $0$, $1$ et $2$."
   ]
  },
  {
   "cell_type": "code",
   "execution_count": 1,
   "metadata": {
    "slideshow": {
     "slide_type": "fragment"
    }
   },
   "outputs": [
    {
     "data": {
      "text/plain": [
       "(range(7, 10), range, range(-4, 3))"
      ]
     },
     "execution_count": 1,
     "metadata": {},
     "output_type": "execute_result"
    }
   ],
   "source": [
    "range(7,10),type(range(7,10)),range(-4,3)"
   ]
  },
  {
   "cell_type": "markdown",
   "metadata": {
    "slideshow": {
     "slide_type": "subslide"
    }
   },
   "source": [
    "### Itération  \n",
    "**Questions :**  \n",
    "\n",
    "• On pouvait déjà manipuler les intervalles avec un $\\texttt{while} non ?  \n",
    "\n",
    "• Qu'a-t-on gagné avec cette syntaxe ?  \n",
    "\n",
    "Réponse : la possibilité d'exprimer l'itération avec une boucle $\\texttt{for}$ !  \n",
    "\n",
    "La syntaxe de cette opération est la suivante :  \n",
    "$\\texttt{for} <var> \\texttt{in} <sequence> \\texttt{:}$  \n",
    "$\\phantom{.} \\quad <corps>$\n",
    "\n",
    "### Syntaxe du $\\texttt{for}$  \n",
    "\n",
    "$\\texttt{for} <var> \\texttt{in} <seq> \\texttt{:}$  \n",
    "$\\phantom{.} \\quad <instruction\\, 1>$  \n",
    "$\\phantom{.} \\quad <instruction\\, 2>$  \n",
    "$\\phantom{.} \\quad \\ldots$  \n",
    "$\\phantom{.} \\quad <instruction\\, n>$\n",
    "\n",
    "où  \n",
    "• $< instruction\\, 1 >, \\ldots, < instruction\\, n >$ : sont les instructions qui sont répétées à chaque étape, appelées **corps de la boucle** .  \n",
    "C'est l'**indentation** qui délimite le corps de la boucle !!\n",
    "\n",
    "$\\texttt{for}$ répète le $\\texttt{corps}$ de la boucle pour chaque élément dans la séquence $\\texttt{seq}$. \n",
    "L'élément $\\text{var}$ de $\\texttt{seq}$ peut être utilisé dans $\\texttt{corps}$ avec le nom $\\text{var}$.\n"
   ]
  },
  {
   "cell_type": "markdown",
   "metadata": {
    "slideshow": {
     "slide_type": "subslide"
    }
   },
   "source": [
    "### Principe d'interpretation du $\\texttt{for}$   \n",
    "Le principe d'interprétation de la boucle $\\texttt{for}$ est le suivant :  \n",
    "- le $\\texttt{<corps>}$ de la boucle est une suite d\"instructions qui est exécutée une fois pour chaque élément de la $\\texttt{<sequence>}$, selon l'ordre séquentiel de ses éléments.  \n",
    "    \n",
    "- dans le $\\texttt{<corps>}$, la variable $\\texttt{<var>}$ est liée à l'élément courant : premier élément au premier tour, deuxième élément au deuxième tour $\\ldots$ jusqu'au dernier tour de boucle avec le dernier élément de la séquence.  \n",
    "    \n",
    "- la variable $\\texttt{<var>}$ n'est plus utilisable après le dernier tour de boucle.  \n",
    "    \n",
    "Traduit pour un intervalle $\\texttt{for}$ , ce principe devient :  \n",
    "- le $\\texttt{<corps>}$ de la boucle est une suite d'instructions qui est exécutée une fois pour chaque entier $m$, $m+1$,$\\ldots$ , jusqu'à $n-1$ .  \n",
    "    \n",
    "- dans le $\\texttt{<corps>}$, la variable $\\texttt{<var>}$ est liée à l'entier courant : $m$ au premier tour, $m+1$ au deuxième tour $\\ldots$ jusqu'au dernier tour de boucle avec $n-1$.  \n",
    "    \n",
    "- la variable $\\texttt{<var>}$ n'est plus utilisable après le dernier tour de boucle."
   ]
  },
  {
   "cell_type": "markdown",
   "metadata": {
    "slideshow": {
     "slide_type": "subslide"
    }
   },
   "source": [
    "### Somme des premiers entiers  \n",
    "On peut dès lors reformuler la solution au problème du calcul des $n$ premiers entiers. Pour rappel, on avait donné :"
   ]
  },
  {
   "cell_type": "code",
   "execution_count": 2,
   "metadata": {
    "slideshow": {
     "slide_type": "fragment"
    }
   },
   "outputs": [],
   "source": [
    "def somme_entiers(n):\n",
    "    \"\"\"int −> int\n",
    "    hypothese : n >= 1\n",
    "    retourne la somme des n premiers entiers naturels .\"\"\"\n",
    "    # s : int\n",
    "    s = 0 # la somme cumulee\n",
    "    # i : int\n",
    "    i = 1 # prochain entier a ajouter\n",
    "    while i <= n:\n",
    "        s = s + i\n",
    "        i = i + 1\n",
    "    return s"
   ]
  },
  {
   "cell_type": "markdown",
   "metadata": {
    "slideshow": {
     "slide_type": "fragment"
    }
   },
   "source": [
    "Avec un $\\texttt{for}$ :"
   ]
  },
  {
   "cell_type": "code",
   "execution_count": 4,
   "metadata": {
    "slideshow": {
     "slide_type": "fragment"
    }
   },
   "outputs": [
    {
     "data": {
      "text/plain": [
       "55"
      ]
     },
     "execution_count": 4,
     "metadata": {},
     "output_type": "execute_result"
    }
   ],
   "source": [
    "def somme_entiers(n):\n",
    "    \"\"\"int −> int\n",
    "    hypothese : n >= 1\n",
    "    retourne la somme des n premiers entiers naturels .\"\"\"\n",
    "    # s : int\n",
    "    s = 0 # la somme cumulee\n",
    "    # i : int ( variable de boucle )\n",
    "    for i in range(1,n+1) :\n",
    "        s = s + i\n",
    "    return s\n",
    "\n",
    "somme_entiers(10)"
   ]
  },
  {
   "cell_type": "markdown",
   "metadata": {},
   "source": [
    "N'oublions pas le jeu de tests."
   ]
  },
  {
   "cell_type": "code",
   "execution_count": 5,
   "metadata": {},
   "outputs": [],
   "source": [
    "# jeu de tests\n",
    "assert somme_entiers(0) == 0\n",
    "assert somme_entiers(3) == 6\n",
    "assert somme_entiers(4) == 10\n",
    "assert somme_entiers(5) == 15\n",
    "assert somme_entiers(10) == 55"
   ]
  },
  {
   "cell_type": "markdown",
   "metadata": {
    "slideshow": {
     "slide_type": "fragment"
    }
   },
   "source": [
    "### Remarques\n",
    "• Importance des $\\texttt{:}$  \n",
    "• Indentation avant les instructions du $\\texttt{corps}$ de boucle  \n",
    "• Déclaration de la variable de boucle juste avant le $\\texttt{for}$  \n",
    "• ! Attention au $n+1$"
   ]
  },
  {
   "cell_type": "markdown",
   "metadata": {
    "slideshow": {
     "slide_type": "subslide"
    }
   },
   "source": [
    "### Simulation de boucle $\\texttt{for}$  \n",
    "Comme avec un $\\texttt{while}$, on peut faire une simulation de boucle :\n",
    "\n",
    "Simulation de boucle pour $\\texttt{somme\\_entiers(5)}$ \n",
    "\n",
    "| tour de boucle | variable $i$ | variable $s$ |\n",
    "|:--------:|:---:|:---:|\n",
    "| entrée  | $-$ | $0$|\n",
    "| $1$  | $1$ | $1$|\n",
    "| $2$  | $2$ | $3$|\n",
    "| $3$  | $3$ | $6$|\n",
    "| $4$  | $4$ | $10$|\n",
    "| $5$  | $5$ | $15$|\n",
    "| sortie  | $-$ | $15$|"
   ]
  },
  {
   "cell_type": "markdown",
   "metadata": {
    "slideshow": {
     "slide_type": "subslide"
    }
   },
   "source": [
    "### Quelques différences avec le $\\texttt{while}$   \n",
    "• on connait la taille du tableau à l'avance : **plus de problème de terminaison !**  \n",
    "• la variable de boucle n’a pas de valeur avant le 1er tour ni après le\n",
    "dernier (car elle n’existe pas)\n"
   ]
  },
  {
   "cell_type": "markdown",
   "metadata": {
    "slideshow": {
     "slide_type": "slide"
    }
   },
   "source": [
    "### Chaı̂nes de caractères  \n",
    "Les chaînes de caractères sont très courantes en informatique puisqu'on les utilise pour représenter\n",
    "des données textuelles de nature très variée : noms, adresses, titres de livres, définitions de \n",
    "dictionnaire, séquences d'$\\texttt{ADN}$, etc.  \n",
    "\n",
    "\n",
    "**Chaı̂nes de caractères**  \n",
    "En $\\texttt{Python}$, une chaı̂ne de caractères (*string* en anglais) est une **séquence** de caractères, un caractère étant :    \n",
    "• une lettre minuscule $a$, $b$ $\\ldots$ $z$ ou majuscule $A$, $B$, $\\ldots$ $Z$  \n",
    "• des lettres d'alphabets autres que latins : $\\alpha$, $\\beta$, etc.\n",
    "• des chiffres $0$, $\\ldots$, $9$  \n",
    "• des symboles affichables $\\$$, $\\%$, $\\&$, etc.  \n",
    "\n",
    "La norme <a href=\"http://lycee.lagrave.free.fr/nsi/numerisation/3_Representation_caracteres_diapo.pdf\" target=\"_blank\">$\\texttt{Unicode}$</a> prévoit des milliers de caractères différents couvrant à peu près tous les\n",
    "besoins des langues vivantes sur la planète, et même de certaines langues mortes (sumérien, hiéroglyphes, etc.). Les **manipulations courantes** sur les chaînes de caractères peuvent être catégorisées de la façon suivante :\n",
    "\n",
    "-  les opérations de base : construction, déconstruction et comparaisons  \n",
    "-  les problèmes de réduction  \n",
    "-  les problèmes de transformation et de filtrage  \n",
    "-  les autres problèmes, en général plus complexes, qui ne rentrent pas dans les catégories précédentes."
   ]
  },
  {
   "cell_type": "markdown",
   "metadata": {
    "slideshow": {
     "slide_type": "subslide"
    }
   },
   "source": [
    "### Comment créer une chaîne de caractères ?  \n",
    "On peut distinguer  \n",
    "- les *constructions simples* par des expressions atomiques de chaînes, correspondant à une suite de caractères encadrée par des guillemets simples $\\text{'}\\ldots\\text{'}$ ou doubles $\"\\ldots\"$  \n",
    "- les *constructions complexes* par des expressions de **concaténation**. $\\texttt{+}$\n",
    "\n",
    "Remarquons au passage que le $\\texttt{type}$ d'une chaîne est bien $\\texttt{str}$."
   ]
  },
  {
   "cell_type": "code",
   "execution_count": 8,
   "metadata": {
    "slideshow": {
     "slide_type": "fragment"
    }
   },
   "outputs": [
    {
     "data": {
      "text/plain": [
       "('Ceci est une chaine',\n",
       " 'Ceci est une chaine',\n",
       " str,\n",
       " \"l'apostrophe m'interpelle\",\n",
       " \"l'apostrophe m'interpelle\",\n",
       " 'a',\n",
       " str,\n",
       " '123',\n",
       " str)"
      ]
     },
     "execution_count": 8,
     "metadata": {},
     "output_type": "execute_result"
    }
   ],
   "source": [
    "'Ceci est une chaine',\"Ceci est une chaine\",type('Ceci est une chaine'),\"l'apostrophe m'interpelle\",'l\\'apostrophe m\\'interpelle','a',type('a'),'123',type('123')"
   ]
  },
  {
   "cell_type": "markdown",
   "metadata": {
    "slideshow": {
     "slide_type": "fragment"
    }
   },
   "source": [
    "Il existe aussi la chaîne vide qui n'est composée d'aucun caractère :"
   ]
  },
  {
   "cell_type": "code",
   "execution_count": 9,
   "metadata": {
    "slideshow": {
     "slide_type": "fragment"
    }
   },
   "outputs": [
    {
     "data": {
      "text/plain": [
       "''"
      ]
     },
     "execution_count": 9,
     "metadata": {},
     "output_type": "execute_result"
    }
   ],
   "source": [
    "''"
   ]
  },
  {
   "cell_type": "markdown",
   "metadata": {
    "slideshow": {
     "slide_type": "fragment"
    }
   },
   "source": [
    "Nous allons voir notamment que l'opérateur + possède une signification bien différente dans le cas des chaînes que celle des  autres types comme $\\texttt{int}$ ou $\\texttt{float}$"
   ]
  },
  {
   "cell_type": "code",
   "execution_count": 10,
   "metadata": {
    "slideshow": {
     "slide_type": "fragment"
    }
   },
   "outputs": [
    {
     "data": {
      "text/plain": [
       "(5, '23')"
      ]
     },
     "execution_count": 10,
     "metadata": {},
     "output_type": "execute_result"
    }
   ],
   "source": [
    "2 + 3,'2' + '3'"
   ]
  },
  {
   "cell_type": "markdown",
   "metadata": {
    "slideshow": {
     "slide_type": "subslide"
    }
   },
   "source": [
    "### Construction par concaténation  \n",
    "Pour construire des chaînes «complexes» à partir de chaînes «plus simples», on utilise le plus souvent l'opérateur $+$ qui réalise la concaténation de deux ou plusieurs chaînes de caractères.  \n",
    "\n",
    "**Problème** : donner une fonction $\\texttt{pluriel}$ qui ajoute un $\\texttt{'s'}$ à une chaı̂ne de caractères donnée en argument."
   ]
  },
  {
   "cell_type": "code",
   "execution_count": 13,
   "metadata": {
    "slideshow": {
     "slide_type": "fragment"
    }
   },
   "outputs": [],
   "source": [
    "def pluriel(c) :\n",
    "    \"\"\"str −> str\n",
    "    renvoie la chaine c a laquelle on a ajoute le caractere 's' a la fin\"\"\""
   ]
  },
  {
   "cell_type": "markdown",
   "metadata": {
    "slideshow": {
     "slide_type": "subslide"
    }
   },
   "source": [
    "### Opérateur de concaténation  \n",
    "L'opérateur $+$ permet de concaténer deux chaı̂nes de caractères  \n",
    "La **signature** de cette opérateur est la suivante :  $\\texttt{str*str -> str}$  \n",
    "\n",
    "\n",
    "Comparaison avec l'opérateur d'addition $+$ entre entiers :  \n",
    "• la concaténation est associative : $\\left(c_1 + c_2\\right) + c_3 = c_1 + \\left(c_2 + c_3\\right)$  \n",
    "• la concaténation **n'est pas commutative !** : $c_1 + c_2 \\neq c_2 + c_1$  \n",
    "• l'élément neutre de la concaténation est la **chaı̂ne vide** : $c + \"\" = c$  \n",
    "  Autrement dit, pour toute chaîne $\\, c \\,$ on a les égalités suivantes : $c == (c +\"\") == (\"\"+ c)$\n",
    "\n",
    "Exemples :"
   ]
  },
  {
   "cell_type": "code",
   "execution_count": 12,
   "metadata": {
    "slideshow": {
     "slide_type": "fragment"
    }
   },
   "outputs": [
    {
     "data": {
      "text/plain": [
       "('aluminium',\n",
       " '12',\n",
       " 'ainsi parlait Zarathoustra',\n",
       " 'bonjour',\n",
       " 'jourbon',\n",
       " 'droite',\n",
       " 'gauche')"
      ]
     },
     "execution_count": 12,
     "metadata": {},
     "output_type": "execute_result"
    }
   ],
   "source": [
    "'alu' + 'minium','1' + '2','ainsi parlait ' + 'Zara' + 'thoustra','bon' + 'jour','jour' + 'bon','' + 'droite','gauche' + ''"
   ]
  },
  {
   "cell_type": "markdown",
   "metadata": {
    "slideshow": {
     "slide_type": "subslide"
    }
   },
   "source": [
    "### Fonction $\\texttt{pluriel}$  \n",
    "On peut résoudre le problème précédent :"
   ]
  },
  {
   "cell_type": "code",
   "execution_count": 16,
   "metadata": {
    "slideshow": {
     "slide_type": "fragment"
    }
   },
   "outputs": [
    {
     "data": {
      "text/plain": [
       "('chats', 'animals')"
      ]
     },
     "execution_count": 16,
     "metadata": {},
     "output_type": "execute_result"
    }
   ],
   "source": [
    "def pluriel(c) :\n",
    "    \"\"\"str −> str\n",
    "    renvoie la chaine c a laquelle on a ajoute le caractere 's' a la fin\"\"\"\n",
    "    return c + 's'\n",
    "\n",
    "pluriel('chat'),pluriel('animal')"
   ]
  },
  {
   "cell_type": "markdown",
   "metadata": {
    "slideshow": {
     "slide_type": "slide"
    }
   },
   "source": [
    "### Répétition  \n",
    "**Problème** : donner la définition d'une fonction $\\texttt{repetition}$ qui, étant donnés une chaı̂ne de caractères $c$ et un entier $n$, renvoie la chaı̂ne composée de $n$ répétitions de $c$. Par exemple :"
   ]
  },
  {
   "cell_type": "code",
   "execution_count": 18,
   "metadata": {
    "slideshow": {
     "slide_type": "fragment"
    }
   },
   "outputs": [
    {
     "data": {
      "text/plain": [
       "('blablabla', 'zut ! zut ! zut ! zut ! zut ! ')"
      ]
     },
     "execution_count": 18,
     "metadata": {},
     "output_type": "execute_result"
    }
   ],
   "source": [
    "def repetition(c,n) :\n",
    "    \"\"\"str ∗ int −> str\n",
    "    Hypothese : n >= 1\n",
    "    renvoie la chaine composee de n repetitions de c\"\"\"\n",
    "    # r : str\n",
    "    r = '' # on initialise avec la chaine vide - element neutre\n",
    "    # i : int\n",
    "    i = 1 # compte le nombre de repetitions\n",
    "    while i <= n :\n",
    "        r = r + c\n",
    "        i = i + 1\n",
    "    return r\n",
    "\n",
    "repetition('bla',3),repetition('zut ! ',5)"
   ]
  },
  {
   "cell_type": "markdown",
   "metadata": {
    "slideshow": {
     "slide_type": "fragment"
    }
   },
   "source": [
    "Ou, avec ce qu'on a vu aujourd'hui :"
   ]
  },
  {
   "cell_type": "code",
   "execution_count": 20,
   "metadata": {
    "slideshow": {
     "slide_type": "fragment"
    }
   },
   "outputs": [],
   "source": [
    "def repetition(c,n) :\n",
    "    \"\"\"str ∗ int −> str\n",
    "    Hypothese : n >= 1\n",
    "    renvoie la chaine composee de n repetitions de c\"\"\"\n",
    "    # r : str\n",
    "    r = '' # on initialise avec la chaine vide - element neutre\n",
    "    # i : int (pour compter le nombre de repetitions)\n",
    "    for i in range(1, n + 1):\n",
    "        r = r + c\n",
    "    return r\n",
    "\n",
    "#jeu de tests\n",
    "assert repetition('bla',3) == 'blablabla'\n",
    "assert repetition('zut ! ',5) == 'zut ! zut ! zut ! zut ! zut ! '"
   ]
  },
  {
   "cell_type": "markdown",
   "metadata": {
    "slideshow": {
     "slide_type": "subslide"
    }
   },
   "source": [
    "### Simulation de $\\texttt{repetition}$  \n",
    "\n",
    "Simulation $\\texttt{repetition}(\\text{'bla'},3)$  \n",
    "\n",
    "| tour de boucle | variable $i$ | variable $r$ |\n",
    "|:--------:|:---:|:---:|\n",
    "| entrée  | $-$ | '' |\n",
    "| $1$  | $1$ | 'bla' |\n",
    "| $2$  | $2$ | 'blabla'|\n",
    "| $3$  | $3$ | 'blablabla'|\n",
    "| sortie  | $-$ | 'blablabla'|  "
   ]
  },
  {
   "cell_type": "markdown",
   "metadata": {
    "slideshow": {
     "slide_type": "slide"
    }
   },
   "source": [
    "### Déconstruction  \n",
    "Maintenant que nous savons comment construire des chaînes, de façon directe ou grâce à une fonction comme $\\texttt{repetition}$, découvrons le procédé inverse qui consiste à déconstruire (ou décomposer) une chaîne en sous-chaînes ou en caractères (sous-chaînes de $1$ caractère).\n",
    "\n",
    "Les structures de données : **aggrègent** (regroupent) de l'information.  \n",
    "→ nécéssité de pouvoir faire l'opération inverse.  \n",
    "Pour les chaı̂nes de caractères, il existe plusieurs manières :  \n",
    "1. l'**accès direct** à un caractère\n",
    "2. l'accès à une **sous-chaı̂ne** de caractères (*slicing*)"
   ]
  },
  {
   "cell_type": "markdown",
   "metadata": {
    "slideshow": {
     "slide_type": "subslide"
    }
   },
   "source": [
    "### Accès direct  \n",
    "**Accès direct à un caractère** Soit $c$ une chaı̂ne de caractère.  \n",
    "L'opération $c[i]$ renvoie le ième caractère de $c$ .\n",
    "\n",
    "\n",
    "Remarque : comme c'est souvent le cas en informatique, les indices sont comptés à partir de zéro, ainsi :  \n",
    "• le 1er caractère correspond à l'indice $0$  \n",
    "• erreur si indice plus grand ou égal au nombre de caractères de la chaı̂ne\n",
    "\n",
    "Exemple avec la chaı̂ne $c = \\text{'Salut toi !'}$ : \n",
    "\n",
    "| Caractère | 'S' | 'a' | 'l' | 'u' | 't' | '' | 't' | 'o' |'i' | '' | '!' |\n",
    "|:--------:|:---:|:---:|:---:|:---:|:---:|:---:|:---:|:---:|:---:|:---:|:---:|\n",
    "| indice | $0$ | $1$  | $2$ | $3$ | $4$ | $5$ | $6$ | $7$ | $8$ | $9$ | $10$ |\n",
    "\n",
    "\n"
   ]
  },
  {
   "cell_type": "code",
   "execution_count": 22,
   "metadata": {
    "slideshow": {
     "slide_type": "fragment"
    }
   },
   "outputs": [
    {
     "data": {
      "text/plain": [
       "('S', 'a', 'l', ' ', '!')"
      ]
     },
     "execution_count": 22,
     "metadata": {},
     "output_type": "execute_result"
    }
   ],
   "source": [
    "c = 'Salut toi !'\n",
    "c[0],c[1],c[2],c[5],c[10]"
   ]
  },
  {
   "cell_type": "code",
   "execution_count": 24,
   "metadata": {
    "slideshow": {
     "slide_type": "fragment"
    }
   },
   "outputs": [
    {
     "ename": "IndexError",
     "evalue": "string index out of range",
     "output_type": "error",
     "traceback": [
      "\u001b[0;31m---------------------------------------------------------------------------\u001b[0m",
      "\u001b[0;31mIndexError\u001b[0m                                Traceback (most recent call last)",
      "\u001b[0;32m<ipython-input-24-256e311fb260>\u001b[0m in \u001b[0;36m<module>\u001b[0;34m\u001b[0m\n\u001b[0;32m----> 1\u001b[0;31m \u001b[0mc\u001b[0m\u001b[0;34m[\u001b[0m\u001b[0;36m11\u001b[0m\u001b[0;34m]\u001b[0m\u001b[0;34m\u001b[0m\u001b[0;34m\u001b[0m\u001b[0m\n\u001b[0m",
      "\u001b[0;31mIndexError\u001b[0m: string index out of range"
     ]
    }
   ],
   "source": [
    "c[11]"
   ]
  },
  {
   "cell_type": "markdown",
   "metadata": {
    "slideshow": {
     "slide_type": "subslide"
    }
   },
   "source": [
    "### Complément  \n",
    "Les indices négatifs sont autorisés !\n",
    "\n",
    "| Caractère | 'S' | 'a' | 'l' | 'u' | 't' | '' | 't' | 'o' |'i' | '' | '!' |\n",
    "|:--------:|:---:|:---:|:---:|:---:|:---:|:---:|:---:|:---:|:---:|:---:|:---:|\n",
    "| indice | $0$ | $1$  | $2$ | $3$ | $4$ | $5$ | $6$ | $7$ | $8$ | $9$ | $10$ |\n",
    "| indice (inverse) | $-11$ | $-10$ | $-9$ | $-8$ | $-7$ | $-6$ | $-5$ | $-4$ | $-3$ | $-2$ | $-1$ |"
   ]
  },
  {
   "cell_type": "code",
   "execution_count": 25,
   "metadata": {
    "slideshow": {
     "slide_type": "fragment"
    }
   },
   "outputs": [
    {
     "data": {
      "text/plain": [
       "('!', 't', 'S')"
      ]
     },
     "execution_count": 25,
     "metadata": {},
     "output_type": "execute_result"
    }
   ],
   "source": [
    "c[-1],c[-7],c[-11]"
   ]
  },
  {
   "cell_type": "code",
   "execution_count": 26,
   "metadata": {
    "slideshow": {
     "slide_type": "fragment"
    }
   },
   "outputs": [
    {
     "ename": "IndexError",
     "evalue": "string index out of range",
     "output_type": "error",
     "traceback": [
      "\u001b[0;31m---------------------------------------------------------------------------\u001b[0m",
      "\u001b[0;31mIndexError\u001b[0m                                Traceback (most recent call last)",
      "\u001b[0;32m<ipython-input-26-04b1f210aac4>\u001b[0m in \u001b[0;36m<module>\u001b[0;34m\u001b[0m\n\u001b[0;32m----> 1\u001b[0;31m \u001b[0mc\u001b[0m\u001b[0;34m[\u001b[0m\u001b[0;34m-\u001b[0m\u001b[0;36m12\u001b[0m\u001b[0;34m]\u001b[0m\u001b[0;34m\u001b[0m\u001b[0;34m\u001b[0m\u001b[0m\n\u001b[0m",
      "\u001b[0;31mIndexError\u001b[0m: string index out of range"
     ]
    }
   ],
   "source": [
    "c[-12]"
   ]
  },
  {
   "cell_type": "markdown",
   "metadata": {
    "slideshow": {
     "slide_type": "slide"
    }
   },
   "source": [
    "### Découpages  \n",
    "**Découpage en sous-chaı̂ne de caractères** Soit $c$ une chaı̂ne de caractère.  \n",
    "L'opération $c[i:j]$ renvoie la sous-chaı̂ne de $c$ située entre les indices $i$ inclus et $j$ exclus.\n",
    "\n",
    "Remarques :\n",
    "• le 1er caractère correspond à l'indice $0$   \n",
    "• indice $j$ exclus : comme le $\\texttt{range}$ .  \n",
    "• **pas d'erreur** si indice trop grand $\\ldots$ (<a href=\"http://lycee.lagrave.free.fr/nsi/numerisation/8_Elements_programmation_diapo.pdf\" target=\"_blank\">cours 8 Elts programmation</a>)  \n",
    "• **pas d'erreur** si $i$ supérieur à $j$ $\\ldots$ "
   ]
  },
  {
   "cell_type": "code",
   "execution_count": 27,
   "metadata": {
    "slideshow": {
     "slide_type": "fragment"
    }
   },
   "outputs": [
    {
     "data": {
      "text/plain": [
       "('Sal', 't to', 't toi !')"
      ]
     },
     "execution_count": 27,
     "metadata": {},
     "output_type": "execute_result"
    }
   ],
   "source": [
    "c[0:3],c[4:8],c[4:11]"
   ]
  },
  {
   "cell_type": "markdown",
   "metadata": {
    "slideshow": {
     "slide_type": "subslide"
    }
   },
   "source": [
    "### Opérateurs de comparaison  \n",
    "Les séquences comme les chaînes de caractères (ou même les intervalles même si cela représente peu d'intérêt en pratique) peuvent être comparées entre elles, en particulier pour l'égalité et l'inégalité.  \n",
    "Les opérateurs sont **les mêmes que pour les autres types de données** :  \n",
    "**égalité** : $==$  \n",
    "**inégalité** : $!=$  \n",
    "**supériorité** : $<$ et les dérivés : $>$, $<=$, $\\ldots$"
   ]
  },
  {
   "cell_type": "code",
   "execution_count": 28,
   "metadata": {
    "slideshow": {
     "slide_type": "fragment"
    }
   },
   "outputs": [
    {
     "data": {
      "text/plain": [
       "(False, True)"
      ]
     },
     "execution_count": 28,
     "metadata": {},
     "output_type": "execute_result"
    }
   ],
   "source": [
    "'Ceci est une chaine' == 'Ceci est une autre chaine','Ceci est une chaine' != 'Ceci est une autre chaine'"
   ]
  },
  {
   "cell_type": "markdown",
   "metadata": {
    "slideshow": {
     "slide_type": "fragment"
    }
   },
   "source": [
    "Remarques :  \n",
    "• minuscules != majuscules  \n",
    "• l'ordre $<$ est un ordre lexicographique (celui du dictionnaire)"
   ]
  },
  {
   "cell_type": "code",
   "execution_count": 29,
   "metadata": {
    "slideshow": {
     "slide_type": "fragment"
    }
   },
   "outputs": [
    {
     "data": {
      "text/plain": [
       "(False, True, True)"
      ]
     },
     "execution_count": 29,
     "metadata": {},
     "output_type": "execute_result"
    }
   ],
   "source": [
    "'Ceci' == 'ceci','a' < 'b','ab' < 'b'"
   ]
  },
  {
   "cell_type": "markdown",
   "metadata": {
    "slideshow": {
     "slide_type": "slide"
    }
   },
   "source": [
    "### Classification des problèmes  \n",
    "Nous allons commencer à voir des problèmes plus complexes.\n",
    "\n",
    "Recherche de ressemblance entre différents problèmes  \n",
    "→ idée de la bonne solution  \n",
    "Sur les chaı̂nes de caractères (plus généralement les séquences) on retrouve :  \n",
    "• les problèmes de **réduction**  \n",
    "• les problèmes de **transformation**  \n",
    "• les problèmes de **filtrage**  \n",
    "Bien entendu tous les problèmes n’appartiennent pas à ces trois classes,$\\ldots$"
   ]
  },
  {
   "cell_type": "markdown",
   "metadata": {
    "slideshow": {
     "slide_type": "slide"
    }
   },
   "source": [
    "### Réductions  \n",
    "Le principe de **réduction d'une structure de données**, comme une séquence, consiste à synthétiser une information «plus simple» en parcourant les éléments contenus dans la structure.  \n",
    "Pour les chaînes de caractères, les problèmes de réduction consistent donc à produire une information «simple» - le plus fréquemment de $\\texttt{type bool}$ ou $\\texttt{int}$ - synthétisée à partir du parcours (complet ou non)  des éléments de la chaîne.  \n",
    "\n",
    "$\\texttt{Séquence → valeur simple}$  \n",
    "\n",
    "Par exemple pour les chaı̂nes :  \n",
    "• $\\texttt{str −> int}$  : compte quelque chose dans la chaı̂ne  \n",
    "• $\\texttt{str −> bool}$  : décide la valeur de vérité d'une propriété sur la chaı̂ne  \n",
    "et plus généralement :  \n",
    "• $\\texttt{str} * \\ldots -> \\texttt{T}$ : réduction d'une chaîne vers le $\\texttt{type T}$ (avec éventuellement des paramètres supplémentaires).\n",
    "\n",
    "Pour répondre à ces problèmes, deux techniques :  \n",
    "• parcours des **indices** de la chaı̂ne (boucle $\\texttt{while}$)  $\\quad \\quad \\quad \\, \\,  \\,$ **- réduction par parcours des indices de la chaîne -**  \n",
    "• parcours des **éléments** (caractères) de la chaı̂ne (boucle $\\texttt{for}$) **- réduction par itération des éléments de la chaîne -**\n",
    "\n",
    "Exemple : la **longueur d'une chaîne** est le nombre de caractères qui la composent, la **réduction longueur de chaîne** est tellement primordiale qu'elle est en fait prédéfinie en $\\texttt{Python}$. Il s'agit de la fonction $\\texttt{len}$ qui est utilisable sur n'importe quelle séquence."
   ]
  },
  {
   "cell_type": "code",
   "execution_count": 30,
   "metadata": {
    "slideshow": {
     "slide_type": "fragment"
    }
   },
   "outputs": [
    {
     "data": {
      "text/plain": [
       "(19, 12, 0, 1)"
      ]
     },
     "execution_count": 30,
     "metadata": {},
     "output_type": "execute_result"
    }
   ],
   "source": [
    "len('Ceci est une chaîne'),len('vingt-quatre'),len(''),len('a')"
   ]
  },
  {
   "cell_type": "markdown",
   "metadata": {
    "slideshow": {
     "slide_type": "subslide"
    }
   },
   "source": [
    "### Réduction par itération  \n",
    "Comme les intervalles et tous les autres types de séquences, on peut parcourir les caractères d'une chaîne par itération avec la boucle $\\texttt{for}$.  \n",
    "La syntaxe pour les chaînes se déduit du principe plus général sur les séquences décrit précédemment :  \n",
    "$\\texttt{for} <var> \\texttt{in} <chaîne> \\texttt{:}$  \n",
    "$\\phantom{.} \\quad <corps>$\n",
    "\n",
    "Avec le principe d'interprétation correspondant :\n",
    "- le $<corps>$ de la boucle est une suite d'instructions qui est exécutée une fois pour chaque caractère de la $<chaîne>$, selon leur ordre d'indice.  \n",
    "- dans le $<corps>$, la variable $<var>$ est liée au caractère courant : premier caractère (indice $0$) au premier tour, deuxième caractère (indice $1$) au deuxième tour $\\ldots$ jusqu'au dernier tour de boucle avec le dernier caractère de la séquence (indice *longueur* $-1$).  \n",
    "- la variable $<var>$ n'est plus disponible après le dernier tour de boucle."
   ]
  },
  {
   "cell_type": "markdown",
   "metadata": {
    "slideshow": {
     "slide_type": "fragment"
    }
   },
   "source": [
    "### Exemple : nombre d'occurrences  \n",
    "**Problème** : donner la définition de $\\texttt{occurrences}$ qui, étant donné un caractère $c$ et une chaı̂ne $s$, renvoie le nombre d'occurrences de $c$ dans $s$.  \n",
    "\n",
    "Par exemple, la fonction $\\texttt{occurrences}$ peut être définie de la façon suivante :"
   ]
  },
  {
   "cell_type": "code",
   "execution_count": 38,
   "metadata": {
    "slideshow": {
     "slide_type": "fragment"
    }
   },
   "outputs": [],
   "source": [
    "def occurrences(c,s):\n",
    "    \"\"\"str * str -> int\n",
    "    Hypothèse : len(c) == 1\n",
    "    retourne le nombre d'occurrences du caractère c dans la chaine s\"\"\"\n",
    "    # nb : int\n",
    "    nb = 0 # nombre occurrences du caractere\n",
    "    # cc : str (caractere courant)\n",
    "    for cc in s :\n",
    "        if cc == c :\n",
    "            nb = nb + 1\n",
    "    return nb\n",
    "\n",
    "# jeu de tests\n",
    "assert occurrences('e','les revenantes') == 4\n",
    "assert occurrences('t','les revenantes') == 1\n",
    "assert occurrences('e','la disparition') == 0\n",
    "assert occurrences('z','') == 0"
   ]
  },
  {
   "cell_type": "markdown",
   "metadata": {
    "slideshow": {
     "slide_type": "subslide"
    }
   },
   "source": [
    "### Exemple : $\\texttt{presence}$  \n",
    "Un sous-problème très classique du comptage d'occurrences est le test de la **présence d'un caractère dans une chaîne**.  \n",
    "Il s'agit d'une **réduction vers le $\\texttt{type bool}$**.  \n",
    "\n",
    "**Problème** : donner la définition de $\\texttt{presence}$ qui, étant donné un caractère $c$ et une chaı̂ne $s$, renvoie $\\texttt{True}$ si $c$ appartient à $s$ et $\\texttt{False}$ sinon. \n",
    "\n",
    "Par exemple, on peut déduire une solution simple en considérant la propriété suivante :  \n",
    "\"Un caractère est présent dans une chaîne si son nombre d'occurrence est strictement positif. :\""
   ]
  },
  {
   "cell_type": "code",
   "execution_count": 34,
   "metadata": {
    "slideshow": {
     "slide_type": "fragment"
    }
   },
   "outputs": [],
   "source": [
    "def presence(c,s):\n",
    "    \"\"\"str * str -> bool\n",
    "    Hypothèse : len(c) == 1\n",
    "    retourne True si le caractere c est present dans la chaine s, ou False sinon\"\"\"\n",
    "    return occurrences(c,s) > 0\n",
    "\n",
    "# Jeu de tests\n",
    "assert presence('e', 'les revenantes') == True\n",
    "assert presence('e', 'la disparition') == False"
   ]
  },
  {
   "cell_type": "markdown",
   "metadata": {
    "slideshow": {
     "slide_type": "subslide"
    }
   },
   "source": [
    "### Que pensez-vous de cette implémentation ?  \n",
    "Cette solution fonctionne mais ne peut satisfaire l'informaticien toujours féru d'**efficacité**.  \n",
    "Considérons en effet l'exemple ci-dessous :"
   ]
  },
  {
   "cell_type": "code",
   "execution_count": 36,
   "metadata": {
    "slideshow": {
     "slide_type": "fragment"
    }
   },
   "outputs": [
    {
     "data": {
      "text/plain": [
       "True"
      ]
     },
     "execution_count": 36,
     "metadata": {},
     "output_type": "execute_result"
    }
   ],
   "source": [
    "presence('a','abcdefghijklmnopqrstuvwxyz')"
   ]
  },
  {
   "cell_type": "markdown",
   "metadata": {
    "slideshow": {
     "slide_type": "fragment"
    }
   },
   "source": [
    "La réponse est bien sûr $\\texttt{True}$ mais pour l'obtenir, la fonction $\\texttt{occurrences}$ (appelée par $\\texttt{presence}$) a parcouru l'ensemble de la chaîne $\\text{'}abcdefghijklmnopqrstuvwxyz\\text{'}$ pour compter les occurrences de $\\text{'}a\\text{'}$, soit $26$ comparaisons.  \n",
    "\n",
    "On aimerait ici une solution «directe» au problème de présence qui s'arrête dès que le caractère cherché est rencontré. Dans le pire des cas, si le caractère recherché n’est pas présent, alors on effectuera autant de comparaisons que dans la version qui compte les occurrences, mais dans les autres cas on peut gagner de précieuses nanosecondes de temps de calcul !  \n",
    "Pour arrêter le test de présence dès que l'on a trouvé notre caractère, nous allons effectuer une **sortie anticipée** de la fonction avec $\\texttt{return}$."
   ]
  },
  {
   "cell_type": "code",
   "execution_count": 40,
   "metadata": {
    "slideshow": {
     "slide_type": "subslide"
    }
   },
   "outputs": [],
   "source": [
    "def presence(c,s):\n",
    "    \"\"\"str * str -> bool\n",
    "    Hypothèse : len(c) == 1\n",
    "    Retourne True si le caractère c est présent dans la chaine s, ou False sinon\"\"\"\n",
    "    # cc : str (caractere courant)\n",
    "    for cc in s :\n",
    "        if cc == c :\n",
    "            return True # on sort de la fonction (et donc de la boucle).\n",
    "    return False # ici on a parcouru toute la chaine s, on sait que c est absent.\n",
    "\n",
    "# jeu de tests\n",
    "assert presence('e','les revenantes') == True\n",
    "assert presence('e','la disparition') == False\n",
    "assert presence ('z','') == False"
   ]
  },
  {
   "cell_type": "markdown",
   "metadata": {
    "slideshow": {
     "slide_type": "subslide"
    }
   },
   "source": [
    "### Simulation de $\\texttt{presence}$  \n",
    "\n",
    "Effectuons une simulation de boucle $\\texttt{presence}(\\text{'e'},\\text{'les revenantes'})$  \n",
    "\n",
    "| tour de boucle | variable $cc$ |\n",
    "|:--------:|:---:|\n",
    "| entrée  | $-$ |\n",
    "| $1$  | $l$ |\n",
    "| $2$  | $e$ |\n",
    "| sortie anticipée | $-$ |\n"
   ]
  },
  {
   "cell_type": "markdown",
   "metadata": {
    "slideshow": {
     "slide_type": "subslide"
    }
   },
   "source": [
    "### Fonctions partielles  \n",
    "\n",
    "Dans certains cas, le parcours des chaînes par itération sur les caractères qui la composent ne permet pas de résoudre simplement le problème posé. On peut alors utiliser un parcours basé sur les indices des caractères dans les chaînes.  \n",
    "Le problème sans doute le plus simple dans cette catégorie est une variante du test de présence.\n",
    "\n",
    "**Définition** : une **fonction partielle** est une fonction qui ne renvoie pas toujours de résultat.\n",
    "\n",
    "**Problème** : donner la définition de $\\texttt{recherche}$ qui, étant donné un caractère $c$ et une chaı̂ne $s$ , renvoie le premier indice d'occurrences de $c$ dans $s$.   \n",
    "Si le caractère est absent, alors la fonction retourne la valeur $\\texttt{None}$. Cette caractéristique particulière fait de la fonction $\\texttt{recherche}$ une **fonction partielle**.\n",
    "\n",
    "La fonction $\\texttt{recherche}$ :  \n",
    "• renvoie un entier (l'indice) si le caractère est présent  \n",
    "• ne renvoie rien ( $\\texttt{None}$ ) sinon  \n",
    "• signature : $\\texttt{str ∗ str −> int + NoneType}$  \n",
    "\n",
    "Exemple : $\\texttt{recherche}$  (avec $\\texttt{for}$ ou avec $\\texttt{while}$)"
   ]
  },
  {
   "cell_type": "code",
   "execution_count": 42,
   "metadata": {
    "slideshow": {
     "slide_type": "subslide"
    }
   },
   "outputs": [],
   "source": [
    "def recherche(c,s):\n",
    "    \"\"\"str * str -> int + NoneType\n",
    "    Hypothèse: len(c) == 1\n",
    "    retourne l'indice de la première occurrence du caractère c dans s, ou None si le caractère est absent\"\"\"\n",
    "    # i : int\n",
    "    i = 0 # indice courant, en commençant par le premier caractère\n",
    "    while i < len(s) : # on \"regarde\" les indices de 0 a len(s)-1 (dernier caractère)\n",
    "        if s[i] == c :\n",
    "            return i # c est présent, on retourne directement indice courant\n",
    "        else :\n",
    "            i = i + 1 # sinon on passe indice suivant\n",
    "    return None # ici on a parcouru tous les indices, c est absent, on retourne \"pas de resultat\".\n",
    "\n",
    "# Jeu de tests\n",
    "assert recherche('e', 'les revenantes') == 1\n",
    "assert recherche('n', 'les revenantes') == 8\n",
    "assert recherche('e', 'la disparition') == None\n",
    "\n",
    "def recherche(c,s):\n",
    "    \"\"\"str * str -> int + NoneType\n",
    "    Hypothèse: len(c) == 1\n",
    "    retourne l'indice de la première occurrence du caractère c dans s, ou None si le caractère est absent\"\"\"\n",
    "    # i : int\n",
    "    for i in range(0,len(s)) :\n",
    "        if s[i] == c :\n",
    "            return i\n",
    "    return None\n",
    "\n",
    "# Jeu de tests\n",
    "assert recherche('e', 'les revenantes') == 1\n",
    "assert recherche('n', 'les revenantes') == 8\n",
    "assert recherche('e', 'la disparition') == None"
   ]
  },
  {
   "cell_type": "markdown",
   "metadata": {
    "slideshow": {
     "slide_type": "slide"
    }
   },
   "source": [
    "### Transformation  \n",
    "De nombreux problèmes sur les chaînes de caractères consistent à analyser une chaîne en entrée\n",
    "pour produire une autre chaîne en sortie.  \n",
    "Les grands classiques de ce type d'analyse sont :  \n",
    "- les **transformations** qui consistent à «modifier» les caractères d'une chaîne individuellement  \n",
    "- les **filtrages** qui synthétisent une sous-chaîne à partir d'une chaîne, selon un prédicat donné  \n",
    "- des combinaisons plus ou moins complexes des deux précédents.\n",
    "\n",
    "$\\texttt{Séquence → Séquence de même longueur}$  \n",
    "\n",
    "Par exemple pour les chaı̂nes :  \n",
    "• $\\texttt{str −> str}$  : modifie les caractères de la chaı̂ne  \n",
    "• On applique la même transformation à tous les caractères\n",
    "\n",
    "Une **transformation** de chaîne consiste à appliquer une même opération à chacun des éléments d'une chaîne de caractères. Le résultat produit est donc une chaîne de même longueur que la chaîne initiale.  \n",
    "Prenons l'exemple de la substitution de caractère, permettant notamment la création de codages simples.\n",
    "\n",
    "**Problème** : donner la définition de $\\texttt{substitution}$ qui, étant donné deux caractères $c\\_1$ et $c\\_2$ et une chaı̂ne $s$, renvoie une chaı̂ne corresondant à $s$ dans laquelle toutes les occurrences de $c\\_1$ ont été remplacées par $c\\_2$."
   ]
  },
  {
   "cell_type": "code",
   "execution_count": 43,
   "metadata": {
    "slideshow": {
     "slide_type": "subslide"
    }
   },
   "outputs": [],
   "source": [
    "def substitution(c1,c2,s) :\n",
    "    \"\"\"str * str * str -> str\n",
    "    Hypothèse: (len(c) == 1) and (len(d) == 1)\n",
    "    retourne la chaine résultant de la substitution de c1 par c2 dans la chaine s.\"\"\"\n",
    "    # r : str\n",
    "    r = '' # chaine resultat\n",
    "    # cc : str (caractere courant)\n",
    "    for cc in s :\n",
    "        if cc == c1 :\n",
    "            r = r + c2 # on substitue le caractere cc par c2\n",
    "        else :\n",
    "            r = r + cc # on garde le caractere cc\n",
    "    return r\n",
    "\n",
    "# jeu de tests\n",
    "assert substitution('e', 'z', 'ceci est un code tres secret') \\\n",
    "== 'czci zst un codz trzs szcrzt'\n",
    "assert substitution('z', 'e', \"ceci n'est pas un tres bon code secret\") \\\n",
    "== \"ceci n'est pas un tres bon code secret\"\n",
    "\n",
    "# Remarque : anti-slash \\ permet de continuer sur la ligne suivante."
   ]
  },
  {
   "cell_type": "markdown",
   "metadata": {
    "slideshow": {
     "slide_type": "slide"
    }
   },
   "source": [
    "### Filtrage  \n",
    "Le **filtrage** d'une chaîne consiste à reproduire une chaîne en supprimant certains de ses caractères.  \n",
    "La **condition de filtrage** qui décide si un caractère doit être retenu - on dit que le caractère\n",
    "passe le filtre - ou au contraire supprimé - on dit que le caractère ne passe pas le filtre - peut\n",
    "être arbitrairement complexe.  \n",
    "\n",
    "$\\texttt{Séquence → sous-séquence}$  \n",
    "\n",
    "Par exemple pour les chaı̂nes :  \n",
    "• $\\texttt{str −> str}$  : renvoie une chaı̂ne plus petite contenant seulement certains des éléments mais dans le même ordre\n",
    "• C'est le même critère qui est utilisé pour tous les caractères de la chaı̂ne\n",
    "\n",
    "La condition de filtrage la plus simple est sans doute l'égalité avec un caractère donné, ce qui entraîne la suppression de toutes les occurrences de ce caractère dans la chaîne initiale pour produire la **chaîne filtrée**.  \n",
    "\n",
    "**Problème** : donner la définition de $\\texttt{suppression}$ qui, étant donné un caractère $c$ et une chaı̂ne $s$, renvoie une chaı̂ne correspondant à $s$ dans laquelle toutes les occurrences de $c$ ont été supprimées."
   ]
  },
  {
   "cell_type": "code",
   "execution_count": 45,
   "metadata": {
    "slideshow": {
     "slide_type": "subslide"
    }
   },
   "outputs": [],
   "source": [
    "def suppression(c,s) :\n",
    "    \"\"\"str * str -> str\n",
    "    Hypothèse: len(c) == 1\n",
    "    retourne la sous-chaîne de s dans laquelle toutes les occurrences du caractère c sont supprimees.\"\"\"\n",
    "    # r : str\n",
    "    r = '' # chaine resultat\n",
    "    # cc : str (caractere courant)\n",
    "    for cc in s :\n",
    "        if cc != c :\n",
    "            r = r + cc # ne pas supprimer, donc ajouter \n",
    "                      # sinon ne rien faire (supprimer) car occurrence de c\n",
    "    return r\n",
    "\n",
    "# Jeu de tests\n",
    "assert suppression('e', 'les revenantes') == 'ls rvnants'\n",
    "assert suppression('e', 'la disparition') == 'la disparition'\n",
    "assert suppression('z', '') == ''"
   ]
  },
  {
   "cell_type": "markdown",
   "metadata": {
    "slideshow": {
     "slide_type": "slide"
    }
   },
   "source": [
    "### Boucle vs. Itération  \n",
    "• Toute itération peut-être représentée par une boucle $\\texttt{while}$ :"
   ]
  },
  {
   "cell_type": "code",
   "execution_count": 47,
   "metadata": {
    "slideshow": {
     "slide_type": "fragment"
    }
   },
   "outputs": [],
   "source": [
    "## Itération sur les éléments.\n",
    "def suppression (c,s) :\n",
    "    \"\"\"str ∗ str −> str\n",
    "    Hypothese : len(c) == 1\"\"\"\n",
    "    # r : str\n",
    "    r = '' # chaine resultat\n",
    "    # cc : str (caractere courant)\n",
    "    for cc in s :\n",
    "        if cc != c :\n",
    "            r = r + cc # ne pas supprimer, donc ajouter \n",
    "                      # sinon ne rien faire (supprimer) car occurrence de c\n",
    "    return r\n",
    "\n",
    "## Itération sur les indices.\n",
    "def suppression (c,s) :\n",
    "    \"\"\"str * str -> int + NoneType\n",
    "    Hypothèse: len(c) == 1\"\"\"\n",
    "    # i : int\n",
    "    for i in range(0,len(s)) :\n",
    "        if s[i] != c :\n",
    "            r = r + s[i]\n",
    "    return r\n",
    "\n",
    "## Boucle while.\n",
    "def suppression (c,s) :\n",
    "    \"\"\"str * str -> int + NoneType\n",
    "    Hypothèse: len(c) == 1\"\"\"\n",
    "    # i : int\n",
    "    i = 0\n",
    "    while i < len(s) :\n",
    "        if s[i] != c :\n",
    "            r = r + s[i]\n",
    "            i = i + 1\n",
    "    return r"
   ]
  },
  {
   "cell_type": "markdown",
   "metadata": {
    "slideshow": {
     "slide_type": "subslide"
    }
   },
   "source": [
    "### Boucle vs. Itération (II)\n",
    "• L'inverse n’est pas vraie.  "
   ]
  },
  {
   "cell_type": "code",
   "execution_count": 48,
   "metadata": {
    "slideshow": {
     "slide_type": "fragment"
    }
   },
   "outputs": [],
   "source": [
    "def pgcd(a,b) :\n",
    "    \"\"\" ... \"\"\"\n",
    "    q = a\n",
    "    r = b\n",
    "    temp = 0\n",
    "    while r != 0 :\n",
    "        temp = q % r\n",
    "        q = r\n",
    "        r = temp\n",
    "    return q"
   ]
  },
  {
   "cell_type": "markdown",
   "metadata": {
    "slideshow": {
     "slide_type": "subslide"
    }
   },
   "source": [
    "• Comment trouver une itération correspondante ?  \n",
    "• Différence: **borne fixe** (itération), **condition d'arrêt** (boucle).\n",
    "\n",
    "### Itération vs. Boucle (III)  \n",
    "• On préfère une **itération** quand c'est possible (**élégance**)."
   ]
  },
  {
   "cell_type": "code",
   "execution_count": 49,
   "metadata": {
    "slideshow": {
     "slide_type": "fragment"
    }
   },
   "outputs": [],
   "source": [
    "def factorielle(n) :\n",
    "    \"\"\"int −> int\n",
    "    hypothese : n > 0\"\"\"\n",
    "    # k : int\n",
    "    k = 1   # on demarre au rang 1\n",
    "    # f : int\n",
    "    f = 1   # factorielle au rang 1\n",
    "    while k <= n :\n",
    "        f = f * k\n",
    "        k = k + 1\n",
    "    return f\n",
    "\n",
    "def factorielle(n) :\n",
    "    \"\"\"int −> int\n",
    "    hypothese : n > 0\"\"\"\n",
    "    # k : int\n",
    "    # f : int\n",
    "    f = 1   # factorielle au rang 1\n",
    "    for k in range(1,n+1) :\n",
    "        f = f * k\n",
    "    return f\n",
    "    "
   ]
  },
  {
   "cell_type": "markdown",
   "metadata": {
    "slideshow": {
     "slide_type": "slide"
    }
   },
   "source": [
    "### Inclassable : inversion  \n",
    "Pour terminer, intéressons-nous aux problèmes qui sortent du cadre de notre classification. Cette dernière est utile car de nombreux problèmes correspondent soit à des constructions, des réductions, des transformations ou des filtrages. Mais il existe bien sûr d'autres problèmes qui «résistent» à cette classification. Ces problèmes sont en général de nature plus complexe.  \n",
    "\n",
    "**Problème** : donner une définition de $\\texttt{inversion}$ qui, étant donné une chaı̂ne $s$, renvoie la chaı̂ne $s$ inversée.\n",
    "\n",
    "les indices des caractères de la chaîne inversée sont simplement inversés :\n",
    "- le premier caractère de la chaîne initiale devient le dernier caractère de la chaîne inversée  \n",
    "- le deuxième caractère $\\ldots$ devient l'avant-dernier $\\ldots$  \n",
    "- $\\ldots$ etc $\\ldots$  \n",
    "- l'avant-dernier caractère $\\ldots$ devient le deuxième caractère $\\ldots$  \n",
    "- le dernier caractère de la chaîne initiale devient le premier caractère de la chaîne inversée  \n",
    "\n",
    "Remarquons que même si la fonction inversion possède une **signature $\\texttt{str -> str}$** elle ne\n",
    "réalise pas directement une transformation ou un filtrage.\n"
   ]
  },
  {
   "cell_type": "code",
   "execution_count": 50,
   "metadata": {
    "slideshow": {
     "slide_type": "subslide"
    }
   },
   "outputs": [],
   "source": [
    "def inversion(s) :\n",
    "    \"\"\"str -> str\n",
    "    retourne la chaîne s inversee.\"\"\"\n",
    "    # r : str\n",
    "    r = '' # la chaine resultat\n",
    "    # c : str (caractere courant)\n",
    "    for cc in s :\n",
    "        r = cc + r # cc au debut de la nouvelle chaine en construction\n",
    "    return r\n",
    "\n",
    "# Jeu de tests\n",
    "assert inversion('abcd') == 'dcba'\n",
    "assert inversion('A man, a plan, a canal : Panama') \\\n",
    "== 'amanaP : lanac a ,nalp a ,nam A'\n",
    "assert inversion('') == ''"
   ]
  },
  {
   "cell_type": "markdown",
   "metadata": {
    "slideshow": {
     "slide_type": "fragment"
    }
   },
   "source": [
    "### Simulation  \n",
    "\n",
    "Pour comprendre le principe d'inversion, effectuons la simulation de l'exemple $\\texttt{inversion}(\\text{'}abcd\\text{'})$  donc pour $s=\\text{'}abcd\\text{'}$ : \n",
    "\n",
    "| tour de boucle | variable $cc$ | variable $r$ |\n",
    "|:--------:|:---:|:---:|\n",
    "| entrée  | $-$ | $\\text{''}$ |\n",
    "| 1er  | $a$ | $a$ |\n",
    "| 2e  | $b$ | $ba$ |\n",
    "| 3e  | $c$ | $cba$ |\n",
    "| 4e  | $d$ | $dcba$ |\n",
    "| sortie | $-$ | $dcba$ |\n",
    "\n",
    "\n"
   ]
  },
  {
   "cell_type": "markdown",
   "metadata": {
    "slideshow": {
     "slide_type": "slide"
    }
   },
   "source": [
    "### Exemple : entrelacement  \n",
    "Le deuxième problème qui nous intéresse concerne l'entrelacement de deux chaînes de caractères.  \n",
    "**Problème** : donner une définition de $\\texttt{entrelacement}$ qui, étant donné deux chaı̂nes de caractères $s\\_1$ et $s\\_2$, renvoie une chaı̂ne correspondant à l'entrelacement de $s\\_1$ et $s\\_2$.  \n",
    "\n",
    "Le résultat est une nouvelle chaîne composée de la façon suivante :  \n",
    "- son premier caractère est le premier caractère de la première chaîne de départ,  \n",
    "- son second caractère est le premier caractère de la seconde chaîne,  \n",
    "- son troisième caractère est le second caractère de la première chaîne,  \n",
    "- son quatrième caractère est le second caractère de la seconde chaîne,  \n",
    "etc.\n",
    "\n",
    "Lorsque tous les caractères d'une des deux chaînes ont été reconstruits, on recopie directement les caractères restant dans l'autre chaîne.  \n",
    "La **signature** de cette fonction est donc la suivante : $\\texttt{str * str -> str}$, elle ne\n",
    "réalise pas directement une transformation ou un filtrage car pour construire la chaîne résultat, nous devons analyser deux chaînes fournies en paramètres et non une seule.  \n",
    "\n",
    "De ce fait, la boucle $\\texttt{for}$ n'est pas très adaptée puisqu'elle ne permet d'itérer qu'une seule chaîne\n",
    "et non deux simultanément. Nous allons donc utiliser un **parcours des chaînes par les indices** de caractères, avec un compteur et une boucle $\\texttt{while}$.\n"
   ]
  },
  {
   "cell_type": "code",
   "execution_count": 51,
   "metadata": {
    "slideshow": {
     "slide_type": "subslide"
    }
   },
   "outputs": [],
   "source": [
    "def entrelacement(s1,s2) :\n",
    "    \"\"\"str * str -> str\n",
    "    renvoie la chaîne constituée par entrelacement des caracteres des chaines s1 et s2.\"\"\"\n",
    "    # i : int\n",
    "    i = 0 # indice pour parcourir les deux chaines\n",
    "    # r : str\n",
    "    r = '' # chaine resultat    \n",
    "    while (i < len(s1)) and (i < len(s2)):\n",
    "        r = r + s1[i] + s2[i]\n",
    "        i = i + 1\n",
    "    if i < len(s1) :\n",
    "        r = r + s1[i:len(s1)]\n",
    "    elif i < len(s2) :\n",
    "        r = r + s2[i:len(s2)]\n",
    "    return r\n",
    "\n",
    "# Jeu de tests\n",
    "assert entrelacement('ace', 'bdf') == 'abcdef'\n",
    "assert entrelacement('aceghi', 'bdf') == 'abcdefghi'\n",
    "assert entrelacement('ace', 'bdfghi') == 'abcdefghi'\n",
    "assert entrelacement('abc', '') == 'abc'\n",
    "assert entrelacement('', 'abc') == 'abc'\n",
    "assert entrelacement('', '') == ''"
   ]
  },
  {
   "cell_type": "markdown",
   "metadata": {
    "slideshow": {
     "slide_type": "subslide"
    }
   },
   "source": [
    "### Simulation  \n",
    "Pour bien comprendre le fonctionnement de cette fonction non-triviale, regardons la simulation\n",
    "de $\\texttt{entrelacement}(\\text{'}ace\\text{'},\\text{'}bdfghi\\text{'})$ donc pour $s\\_1=\\text{'}ace\\text{'}$ et $s\\_2=\\text{'}bdfghi\\text{'}$.  \n",
    "Pour la boucle, la simulation est la suivante :\n",
    "\n",
    "\n",
    "\n",
    "| tour de boucle | variable $r$ | variable $i$ |\n",
    "|:--------:|:---:|:---:|\n",
    "| entrée  | $\\text{''}$ | $0$ |\n",
    "| 1er  | $ab$ | $1$ |\n",
    "| 2e  | $abcd$ | $2$ |\n",
    "| 3e  | $abcdef$ | $3$ |\n",
    "| sortie | $abcdef$ | $3$ |\n",
    "\n",
    "Après le 3ème tour de boucle la variable $i$ vaut $3$ donc la condition $i < \\texttt{len}(s\\_1)$ est fausse\n",
    "puisque $\\texttt{len}(s\\_1) == 3$ donc la condition de boucle est fausse et on sort de la boucle. En revanche, puisque $\\texttt{len}(s\\_2) == 6$ on exécute la branche $\\texttt{elif}$. Comme $s2[3:6] == \\text{'}ghi\\text{'}$ la valeur de la variable $r$ après cette étape est la suivante : $r == \\text{'}abcdefghi\\text{'}$. C'est finalement la valeur retournée par la fonction."
   ]
  },
  {
   "cell_type": "markdown",
   "metadata": {
    "slideshow": {
     "slide_type": "slide"
    }
   },
   "source": [
    "## Conclusion  \n",
    "Ce qu'il faut savoir faire à l'issue de cette partie :  \n",
    "* Notion d'intervalle comme séquence d'entiers   \n",
    "    * construction : $\\texttt{range}$\n",
    "    * itération sur les intervalles :  $\\texttt{for}$\n",
    "* Notion de chaı̂ne de caractères comme séquence de caractères \n",
    "    * construction atomique : \" \" ou $\\text{''}$\n",
    "    * construction par concaténation : $+$\n",
    "    * déconstruction par accès direct : $c[i]$\n",
    "    * déconstruction par découpage : $c[i:j]$\n",
    "    * comparaison : $==$, $<$, $!=$, $\\ldots$\n",
    "* Savoir reconnaı̂tre la catégorie d'un problème sur les chaı̂nes : \n",
    "    * réduction\n",
    "    * transformation\n",
    "    * filtrage"
   ]
  }
 ],
 "metadata": {
  "celltoolbar": "Diaporama",
  "kernelspec": {
   "display_name": "Python 3",
   "language": "python",
   "name": "python3"
  },
  "language_info": {
   "codemirror_mode": {
    "name": "ipython",
    "version": 3
   },
   "file_extension": ".py",
   "mimetype": "text/x-python",
   "name": "python",
   "nbconvert_exporter": "python",
   "pygments_lexer": "ipython3",
   "version": "3.7.3"
  },
  "rise": {
   "autolaunch": true,
   "enable_chalkboard": true,
   "scroll": true
  }
 },
 "nbformat": 4,
 "nbformat_minor": 2
}
