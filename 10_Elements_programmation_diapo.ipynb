{
 "cells": [
  {
   "cell_type": "markdown",
   "metadata": {
    "slideshow": {
     "slide_type": "slide"
    }
   },
   "source": [
    "## <p style=\"text-align: center;\">NSI - Éléments de programmation</p>\n",
    "## <p style=\"text-align: center;\">Compréhensions de listes</p>\n",
    "## <p style=\"text-align: center;\">Lycée Beaussier - F. Lagrave</p>\n",
    "\n",
    "[![Binder](https://mybinder.org/badge_logo.svg)](https://mybinder.org/v2/gh/Fklag/NSI_iere/master?filepath=10_Elements_programmation_diapo.ipynb)"
   ]
  },
  {
   "cell_type": "markdown",
   "metadata": {
    "slideshow": {
     "slide_type": "slide"
    }
   },
   "source": [
    "# Supports de cours"
   ]
  },
  {
   "cell_type": "markdown",
   "metadata": {
    "slideshow": {
     "slide_type": "fragment"
    }
   },
   "source": [
    "<div id=\"top\">\n",
    "    \n",
    "### Un point sur le cours  \n",
    "    \n",
    "Nous avons vu :   \n",
    "1. Les <a href=\"http://lycee.lagrave.free.fr/nsi/programmation/0_Elements_programmation_diapo.pdf\" target=\"_blank\">éléments de bases</a> d'un langage\n",
    "   * Les <a href=\"http://lycee.lagrave.free.fr/nsi/programmation/0_Elements_programmation_diapo.pdf\" target=\"_blank\">expressions (arithmétiques)</a>  \n",
    "   * La <a href=\"http://lycee.lagrave.free.fr/nsi/programmation/0_Elements_programmation_diapo.pdf\" target=\"_blank\">définition de fonctions</a>  \n",
    "   * L'<a href=\"http://lycee.lagrave.free.fr/nsi/programmation/4_Elements_programmation_diapo.pdf\" target=\"_blank\">affectation de variables</a>  \n",
    "   * Les <a href=\"http://lycee.lagrave.free.fr/nsi/programmation/4_Elements_programmation_diapo.pdf\" target=\"_blank\">séquences d'instructions </a> \n",
    "   * Les <a href=\"http://lycee.lagrave.free.fr/nsi/programmation/4_Elements_programmation_diapo.pdf\" target=\"_blank\">alternatives</a>  \n",
    "   * Les <a href=\"http://lycee.lagrave.free.fr/nsi/programmation/5_Elements_programmation_diapo.pdf\" target=\"_blank\">boucles</a>  \n",
    "   \n",
    "2. Un type de structure de données : les **séquences**  \n",
    "   * les intervalles : <a href=\"http://lycee.lagrave.free.fr/nsi/programmation/7_Elements_programmation_diapo.pdf\" target=\"_blank\">séquences d'entiers</a>  \n",
    "   * les chaı̂nes de caractères : <a href=\"http://lycee.lagrave.free.fr/nsi/programmation/7_Elements_programmation_diapo.pdf\" target=\"_blank\">séquences de caractères</a> \n",
    "   * les **listes** : <a href=\"http://lycee.lagrave.free.fr/nsi/programmation/8_Elements_programmation_diapo.pdf\" target=\"_blank\">séquences génériques</a>  \n",
    "\n",
    "**Schémas de manipulation des listes**  \n",
    "Les listes de Python sont plutôt versatiles, on les utilise pour résoudre différents types de\n",
    "problème dont le **point commun** est de nécessiter le **stockage d'éléments en séquence, c'est-à-dire\n",
    "dans un ordre donné**.  \n",
    "Dans ce cours, nous souhaitons prendre un peu de recul sur les manipulations de listes. Cela\n",
    "nous permettra d'aborder des constructions très expressives du langage $\\texttt{Python}$ pour manipuler\n",
    "les listes : **les compréhensions**. <!-- En guise de complément, et pour comprendre comment les\n",
    "compréhensions sont élaborées, nous enrichissant nos connaissances sur les **fonctionnelles** (ou\n",
    "fonctions d'ordre supérieur) pour systématiser les schémas de traitements sur les listes.  -->\n",
    "    \n",
    "\n",
    "</div>"
   ]
  },
  {
   "cell_type": "markdown",
   "metadata": {
    "slideshow": {
     "slide_type": "subslide"
    }
   },
   "source": [
    "###   Nouvel élément de langage : les compréhensions de listes   \n",
    "Nous avons vu que les **<a href=\"http://lycee.lagrave.free.fr/nsi/programmation/8_Elements_programmation_diapo.pdf\" target=\"_blank\">schémas de manipulation de listes</a>** que l'on rencontre le plus fréquemment sont les suivants :  \n",
    "- le **schéma de construction** : lorsque l'on construit une liste de façon algorithmique à partir d'une séquence autre qu'une liste,  \n",
    "- le **schéma de transformation** : lorsque l'on transforme une liste en appliquant à chaque élément une fonction unaire donnée,\n",
    "- le **schéma de filtrage** : lorsque l'on filtre les éléments d'une liste pour un prédicat donné,  \n",
    "- le **schéma de réduction** : lorsque l'on réduit une liste en une information synthétisée à partir de ses éléments.\n",
    "\n",
    "Les **expressions de compréhension** de $\\texttt{Python}$ permettent de généraliser les **trois premiers\n",
    "schémas**.  \n",
    "Intérêt de cet élément :  \n",
    "• Concision  \n",
    "• Élégance  \n",
    "\n",
    "<!-- Le schéma de **réduction** peut également être généralisé à l'aide des **fonctionnelles**. -->\n",
    "    \n",
    "**Plan du cours**  \n",
    "    \n",
    "1.  Schémas simples  \n",
    "    Schéma de construction  \n",
    "    Schéma de transformation  \n",
    "    Schéma de filtrage  \n",
    "2.  Schémas combinés  \n",
    "    Construction + transformation + filtrage  \n",
    "    Compréhensions sur les <a href=\"http://lycee.lagrave.free.fr/nsi/programmation/9_Elements_programmation_diapo.pdf\" target=\"_blank\">$n-$uplets</a>  \n",
    "    Compréhension multiple  "
   ]
  },
  {
   "cell_type": "markdown",
   "metadata": {
    "slideshow": {
     "slide_type": "slide"
    }
   },
   "source": [
    "### Retour sur un problème simple  \n",
    "De nombreux problèmes pratiques nécessitent de construire une liste de façon algorithmique (élément par élément) à partir d'une donnée qui n'est pas une liste.  \n",
    "\n",
    "**Principes de base** Pour illustrer les principes de base du schéma de construction, considérons la fonction $\\texttt{naturels}$ qui à partir d'un entier naturel $n$ non-nul retourne la liste des éléments successifs dans l'intervalle $[1~;~n]$.  \n",
    "\n",
    "**Problème** Donner une définition de la fonction qui calcule la liste des $n$ premiers entiers.  \n",
    "La définition ci-dessous exploite la boucle $\\texttt{while}$."
   ]
  },
  {
   "cell_type": "code",
   "execution_count": 1,
   "metadata": {
    "slideshow": {
     "slide_type": "fragment"
    }
   },
   "outputs": [],
   "source": [
    "def naturels_while(n) :\n",
    "    \"\"\"int -> list[int]\n",
    "    Hypothese: n > 0\n",
    "    Retourne la liste des n premiers entiers naturels non-nuls.\"\"\"\n",
    "    # k :int\n",
    "    k = 1 # élément courant\n",
    "    # LR : list[int]\n",
    "    LR = [] # liste resultat\n",
    "    while k <= n :\n",
    "        LR.append(k)\n",
    "        k = k + 1\n",
    "    return LR\n",
    "\n",
    "# Jeu de tests\n",
    "assert naturels_while(5) == [1, 2, 3, 4, 5]\n",
    "assert naturels_while(1) == [1]\n",
    "assert naturels_while(0) == []"
   ]
  },
  {
   "cell_type": "markdown",
   "metadata": {
    "slideshow": {
     "slide_type": "subslide"
    }
   },
   "source": [
    "### Retour sur un problème simple  \n",
    "Ce problème peut être vu de façon alternative comme la construction d'une liste à partir d'un intervalle  d'entiers. La définition ci-dessous adopte ce point de vue."
   ]
  },
  {
   "cell_type": "code",
   "execution_count": 2,
   "metadata": {
    "slideshow": {
     "slide_type": "fragment"
    }
   },
   "outputs": [],
   "source": [
    "def naturels_for(n) :\n",
    "    \"\"\"int -> list[int]\n",
    "    Hypothese: n > 0\n",
    "    Retourne la liste des n premiers entiers naturels non-nuls.\"\"\"\n",
    "    # LR : list[int]\n",
    "    LR = [] # liste resultat\n",
    "    # k : int\n",
    "    for k in range(1, n + 1) :\n",
    "        LR.append(k)\n",
    "    return LR\n",
    "\n",
    "# Jeu de tests\n",
    "assert naturels_for(5) == [1, 2, 3, 4, 5]\n",
    "assert naturels_for(1) == [1]\n",
    "assert naturels_for(0) == []"
   ]
  },
  {
   "cell_type": "markdown",
   "metadata": {
    "slideshow": {
     "slide_type": "slide"
    }
   },
   "source": [
    "### Retour sur un problème simple  \n",
    "Les deux solutions sont frustrantes :  \n",
    "• Description explicite du contenu de la liste  \n",
    "• Besoin de trouver l'algorithme (simple) qui construit la liste  \n",
    "→ On aimerait avoir une description plus littérale de la solution  \n",
    "\n",
    "Similaire à la définition des ensembles en mathématique. Différence entre  \n",
    "• $E = \\left\\{1, 2, 3, 4, 5\\right\\}$  \n",
    "• $E = \\left\\{n \\in \\texttt{I}\\!\\! \\texttt{N}^{*} \\mid n \\leqslant 5\\right\\}$  \n",
    "La première est une **définition explicite**. La seconde est une **définition par $\\ldots$ compréhension**."
   ]
  },
  {
   "cell_type": "markdown",
   "metadata": {
    "slideshow": {
     "slide_type": "subslide"
    }
   },
   "source": [
    "### Construction par compréhension  \n",
    "On aimerait donc pouvoir exprimer littéralement en $\\texttt{Python}$ :  Construire la liste des $k$ pour $k$ dans l'intervalle $[1~;~5]$  \n",
    "\n",
    "**Construire la liste** des $k$ pour $k$ dans l'intervalle $[1~;~5]$  \n",
    "Construire la liste **des $k$** pour $k$ dans l'intervalle $[1~;~5]$  \n",
    "Construire la liste des $k$ **pour $k$ dans** l'intervalle $[1~;~5]$  \n",
    "Construire la liste des $k$ pour $k$ dans **l'intervalle $[1~;~5]$**   \n",
    " \n",
    "\n",
    "Ce qu'on peut faire avec :  $\\texttt{[ ] - [ k ] - [ k for k in ] - [ k for k in range(1,6)]}$\n"
   ]
  },
  {
   "cell_type": "markdown",
   "metadata": {
    "slideshow": {
     "slide_type": "subslide"
    }
   },
   "source": [
    "### Schéma de construction\n",
    "De façon plus générale :  \n",
    "**Construction par compréhension** \n",
    "La syntaxe d'une construction par compréhension est : $[\\texttt{<expr>} \\, \\,  \\texttt{for} \\, \\, \\texttt{<var>} \\, \\, \\texttt{in} \\, \\, \\texttt{<seq>}]$  \n",
    "Avec :  \n",
    "• $\\texttt{<var>}$ : une variable de compréhension  \n",
    "• $\\texttt{<expr>}$ : une expression pouvant contenir < var >  \n",
    "• $\\texttt{<seq>}$ : une séquence ( $\\texttt{range}$, $\\texttt{str}$ ou $\\texttt{list}$ )"
   ]
  },
  {
   "cell_type": "markdown",
   "metadata": {
    "slideshow": {
     "slide_type": "subslide"
    }
   },
   "source": [
    "### Schéma de construction  \n",
    "**Principe d'interprétation de la construction par compréhension**  \n",
    "L'expression : $[\\texttt{<expr>} \\, \\,  \\texttt{for} \\, \\, \\texttt{<var>} \\, \\, \\texttt{in} \\, \\, \\texttt{<seq>}]$      \n",
    "construit la liste composée des éléments suivants :  \n",
    "• le premier élément est la valeur de l'expression $\\texttt{<expr>}$ dans laquelle la variable $\\texttt{<var>}$ a pour valeur le premier élément de $\\texttt{<seq>}$  \n",
    "• le deuxième élément est la valeur de l'expression  $\\texttt{<expr>}$ dans laquelle la variable $\\texttt{<var>}$ a pour valeur le deuxième élément de $\\texttt{<seq>}$  \n",
    "• $\\ldots$  \n",
    "• le dernier élément est la valeur de l’expression $\\texttt{<expr>}$ dans laquelle la variable $\\texttt{<var>}$ a pour valeur le dernier élément de $\\texttt{<seq>}$  "
   ]
  },
  {
   "cell_type": "markdown",
   "metadata": {
    "slideshow": {
     "slide_type": "fragment"
    }
   },
   "source": [
    "**Remarque :** pour ne pas compromettre la concision des compréhensions, le $\\texttt{type}$ de la variable\n",
    "de compréhension $\\texttt{<var>}$ n'est pas déclaré. Ce $\\texttt{type}$  peut cependant être déduit du $\\texttt{type}$  de la séquence $\\texttt{<seq>}$.  \n",
    "\n",
    "Dans l'exemple :   \n",
    "$\\texttt{[k for k in range(3, 10)]}$  \n",
    "le $\\texttt{type}$ de $k$ déduit est $\\texttt{int}$ puisque la séquence est de $\\texttt{type}$  $\\texttt{range}$ (intervalle d'entiers)."
   ]
  },
  {
   "cell_type": "markdown",
   "metadata": {
    "slideshow": {
     "slide_type": "slide"
    }
   },
   "source": [
    "### Entiers naturels par compréhension  \n",
    "Nous pouvons maintenant proposer une troisième définition pour la fonction $\\texttt{naturels}$, cette fois-ci de façon particulièrement concise."
   ]
  },
  {
   "cell_type": "code",
   "execution_count": 3,
   "metadata": {
    "slideshow": {
     "slide_type": "fragment"
    }
   },
   "outputs": [],
   "source": [
    "def naturels(n) :\n",
    "    \"\"\"int -> list[int]\n",
    "    Hypothese: n > 0\n",
    "    Retourne la liste des n premiers entiers naturels non-nuls.\"\"\"\n",
    "    return [k for k in range(1, n + 1)]\n",
    "\n",
    "# Jeu de tests\n",
    "assert naturels_for(5) == [1, 2, 3, 4, 5]\n",
    "assert naturels_for(1) == [1]\n",
    "assert naturels_for(0) == []"
   ]
  },
  {
   "cell_type": "markdown",
   "metadata": {
    "slideshow": {
     "slide_type": "subslide"
    }
   },
   "source": [
    "La traduction presque littérale du code $\\texttt{Python}$ est la suivante :  \n",
    "$\\texttt{naturels}(n)$ retourne la liste des $k$ pour $k$ dans l’intervalle $\\left[1~;~n+1\\right[$.  \n",
    "\n",
    "On voit ici un **intérêt majeur** des compréhensions : la description de la solution en $\\texttt{Python}$ est très proche de la spécification du problème. On dit que les compréhensions ont un caractère **déclaratif**.  \n",
    "• plus concis  \n",
    "• plus lisible  \n",
    "• plus proche de la solution envisagée  \n",
    "\n",
    "**Remarques :** pas besoin de typer la variable de compréhension.  \n",
    "Dans la syntaxe des compréhensions, l'expression $\\texttt{<expr>}$ peut être aussi complexe que l'on veut.  \n",
    "On doit juste faire attention à bien utiliser la variable de compréhension (dans le cas contraire, tous les éléments construits ont la même valeur).  \n",
    "Illustrons ceci sur la construction d'une liste de multiples."
   ]
  },
  {
   "cell_type": "code",
   "execution_count": 4,
   "metadata": {
    "slideshow": {
     "slide_type": "fragment"
    }
   },
   "outputs": [],
   "source": [
    "def multiples(k,n) :\n",
    "    \"\"\"int * int -> list[int]\n",
    "    Hypothese : n >= 1\n",
    "    Retourne la liste des n premiers entiers naturels non-nuls multiples de k.\"\"\"\n",
    "    return [k*j for j in range(1, n + 1)]\n",
    "\n",
    "# Jeu de tests\n",
    "assert multiples(2,5) == [2, 4, 6, 8, 10]\n",
    "assert multiples(3,10) == [3, 6, 9, 12, 15, 18, 21, 24, 27, 30]\n",
    "assert multiples(0,5) == [0, 0, 0, 0, 0]\n",
    "assert multiples(5,0) == []"
   ]
  },
  {
   "cell_type": "markdown",
   "metadata": {
    "slideshow": {
     "slide_type": "subslide"
    }
   },
   "source": [
    "### Constructions à partir de chaînes de caractères  \n",
    "En plus des intervalles d'entiers, nous avons également vu les chaînes de caractères qui sont également des séquences. Il est donc possible de construire des listes par compréhension à partir des chaînes.  \n",
    "Par exemple :"
   ]
  },
  {
   "cell_type": "code",
   "execution_count": 5,
   "metadata": {
    "slideshow": {
     "slide_type": "fragment"
    }
   },
   "outputs": [
    {
     "data": {
      "text/plain": [
       "['B', 'o', 'n', 'j', 'o', 'u', 'r', ' ', 'M', 'a', 'd', 'a', 'm', 'e']"
      ]
     },
     "execution_count": 5,
     "metadata": {},
     "output_type": "execute_result"
    }
   ],
   "source": [
    "[c for c in 'Bonjour Madame']"
   ]
  },
  {
   "cell_type": "markdown",
   "metadata": {
    "slideshow": {
     "slide_type": "fragment"
    }
   },
   "source": [
    "De façon littérale, l'expression de compréhension ci-dessus :  \n",
    "construit la liste des $c$ pour $c$ un caractère dans la chaîne $\\texttt{'}$Bonjour Madame$\\texttt{'}$\n",
    "\n",
    "> Exercice : définir avec une compréhension la fonction $\\texttt{liste\\_caracteres}$ qui à partir d'une chaîne de caractères $s$ retourne la liste des caractères de $s$."
   ]
  },
  {
   "cell_type": "markdown",
   "metadata": {
    "slideshow": {
     "slide_type": "subslide"
    }
   },
   "source": [
    "### Exemples  \n",
    "Que donnent les expressions suivantes ?  \n",
    "• $\\texttt{[2*k for k in range(-2,3)]}$  \n",
    "• $\\texttt{[k*(k+1)/2 for k in range(2,5)]}$  \n",
    "• $\\texttt{[c for c in 'abc']}$  \n",
    "• $\\texttt{[c+c for c in 'abc']}$  \n",
    "• $\\texttt{[(1,2,k) for k in range(1,3)]}$  \n",
    "\n",
    "> Exercice : Donner une expression permettant de construire :  \n",
    "• la liste des $5$ premiers entiers pairs  \n",
    "• la liste de tous les couples $(i, i + 1)$ pour $i$ compris entre $1$ et $10$."
   ]
  },
  {
   "cell_type": "code",
   "execution_count": 6,
   "metadata": {
    "slideshow": {
     "slide_type": "fragment"
    }
   },
   "outputs": [
    {
     "data": {
      "text/plain": [
       "([-4, -2, 0, 2, 4],\n",
       " [3.0, 6.0, 10.0],\n",
       " ['a', 'b', 'c'],\n",
       " ['aa', 'bb', 'cc'],\n",
       " [(1, 2, 1), (1, 2, 2)])"
      ]
     },
     "execution_count": 6,
     "metadata": {},
     "output_type": "execute_result"
    }
   ],
   "source": [
    "[2*k for 𝚔 in range(-2,3)],[k*(k+1)/2 for k in range(2,5)],[c for c in 'abc'],[c+c for c in 'abc'],[(1,2,k) for 𝚔 in range(1,3)]"
   ]
  },
  {
   "cell_type": "markdown",
   "metadata": {
    "slideshow": {
     "slide_type": "slide"
    }
   },
   "source": [
    "### Retour sur deux exemples\n",
    "**Problèmes**  \n",
    "• Donner une définition de la fonction qui, étant donnée une liste $L$, renvoie la liste des éléments de $L$ élevés au carré.  \n",
    "• Donner une définition de la fonction qui, étant donnée une liste $L$ de chaı̂nes de caractères, renvoie la liste des longueurs des chaı̂nes de $L$.\n",
    "\n",
    "Nous l'avons déjà vu dans de nombreux exemples, les listes résultats des transformations sont systématiquement reconstruites. On peut donc **interpréter une transformation de façon alternative comme la construction d'une liste transformée à partir d'une liste**. Puisque les listes $\\texttt{Python}$ sont des séquences, ce point de vue alternatif permet d'exploiter les expressions de compréhensions.  \n"
   ]
  },
  {
   "cell_type": "code",
   "execution_count": 7,
   "metadata": {
    "slideshow": {
     "slide_type": "fragment"
    }
   },
   "outputs": [],
   "source": [
    "def liste_carres_for(L) :\n",
    "    \"\"\"list[int] -> list[int]\n",
    "    retourne la liste des carres des elements de la liste L.\"\"\"\n",
    "    # LR : list[int]\n",
    "    LR = [] # liste resultat\n",
    "    # e : int\n",
    "    for e in L: # element courant\n",
    "        LR.append(e*e)\n",
    "    return LR\n",
    "\n",
    "# Jeu de tests\n",
    "assert liste_carres_for([1, 2, 3, 4, 5]) == [1, 4, 9, 16, 25]\n",
    "assert liste_carres_for([10, 100, 1000]) == [100, 10000, 1000000]\n",
    "assert liste_carres_for([]) == []"
   ]
  },
  {
   "cell_type": "code",
   "execution_count": 8,
   "metadata": {
    "slideshow": {
     "slide_type": "fragment"
    }
   },
   "outputs": [],
   "source": [
    "def liste_longueurs_chaines(L) :\n",
    "    \"\"\"list[str] -> list[int]\n",
    "    retourne la liste des longueurs des chaines de la liste L.\"\"\"\n",
    "    # LR : list[int]\n",
    "    LR = [] # liste resultat\n",
    "    # s : str (element courant)\n",
    "    for s in L :\n",
    "        LR.append(len(s))\n",
    "    return LR\n",
    "\n",
    "# Jeu de tests\n",
    "assert liste_longueurs_chaines(['un', 'deux', 'trois', 'quatre', 'cinq']) \\\n",
    "== [2, 4, 5, 6, 4]\n",
    "assert liste_longueurs_chaines(['', '.', '..', '...']) == [0, 1, 2, 3]\n",
    "assert liste_longueurs_chaines([]) == []"
   ]
  },
  {
   "cell_type": "markdown",
   "metadata": {
    "slideshow": {
     "slide_type": "subslide"
    }
   },
   "source": [
    "### Retour sur deux exemples\n",
    "Les compréhensions permettent une autre solution :"
   ]
  },
  {
   "cell_type": "code",
   "execution_count": 9,
   "metadata": {
    "slideshow": {
     "slide_type": "fragment"
    }
   },
   "outputs": [],
   "source": [
    "def liste_carres_comprehension(L) :\n",
    "    \"\"\"list[int] -> list[int]\n",
    "    retourne la liste des carres des elements de la liste L.\"\"\"\n",
    "    return [k*k for k in L]\n",
    "\n",
    "def liste_longueurs_chaines_comprehension(L) :\n",
    "    \"\"\"list[str] -> list[int]\n",
    "    retourne la liste des longueurs des chaines de la liste L.\"\"\"\n",
    "    return [len(s) for s in L]"
   ]
  },
  {
   "cell_type": "markdown",
   "metadata": {
    "slideshow": {
     "slide_type": "fragment"
    }
   },
   "source": [
    "> Exercice : à l'aide d'une compréhension, donner une définition de la fonction qui, étant donnée une liste  d'entiers $L$ , calcule la liste des chiffres unités des éléments de $L$ ."
   ]
  },
  {
   "cell_type": "markdown",
   "metadata": {
    "slideshow": {
     "slide_type": "slide"
    }
   },
   "source": [
    "### Schéma de filtrage  \n",
    "Le schéma de filtrage des listes peut également profiter des expressions de compréhension. Rappelons qu'il s'agit,  à partir d'une liste $L$, de construire la sous-liste des éléments de $L$ qui vérifient un prédicat donné. Encore une fois, on peut voir le **filtrage** comme une construction de liste à partir d'une autre liste. Cependant,  la différence est que cette **construction** est **conditionnée** : on ne retient pas forcément tous les éléments de la liste de départ. Autrement dit :  \n",
    "\n",
    "Un **filtrage** renvoie une **sous-liste de la liste de départ, selon un prédicat donné**.  "
   ]
  },
  {
   "cell_type": "markdown",
   "metadata": {
    "slideshow": {
     "slide_type": "subslide"
    }
   },
   "source": [
    "### Encore deux exemples  \n",
    "**Problème**  \n",
    "* Donner une définition de la fonction qui, étant donnée une liste $L$ d'entiers, renvoie la liste des éléments de $L$  qui sont pairs.  \n",
    "\n",
    "* Donner une définition de la fonction qui, étant donnée une liste $L$ de chaı̂nes de caractères, renvoie la liste des éléments de $L$ d'au moins 3 caractères."
   ]
  },
  {
   "cell_type": "code",
   "execution_count": 10,
   "metadata": {
    "slideshow": {
     "slide_type": "fragment"
    }
   },
   "outputs": [],
   "source": [
    "def liste_pairs_for(L) :\n",
    "    \"\"\" list[int] −> list[int]\n",
    "    Retourne la sous-liste des entiers pairs de L.\"\"\"\n",
    "    # LR : list[int]\n",
    "    LR = [] # la liste filtree \n",
    "    # n : int (element courant)\n",
    "    for n in L :\n",
    "        if n%2 == 0 :\n",
    "            LR.append(n)\n",
    "    return LR\n",
    "\n",
    "# Jeu de tests\n",
    "assert liste_pairs_for([1, 2, 3, 4, 5, 6, 7]) == [2, 4, 6]\n",
    "assert liste_pairs_for([2, 4, 6]) == [2, 4, 6]\n",
    "assert liste_pairs_for([1, 3, 5, 7]) == []"
   ]
  },
  {
   "cell_type": "code",
   "execution_count": 11,
   "metadata": {
    "slideshow": {
     "slide_type": "fragment"
    }
   },
   "outputs": [],
   "source": [
    "def liste_longueur_min_for(L) :\n",
    "    \"\"\"list[str] −> list[str]\n",
    "    Retourne la sous−liste des elements de L contenant au moins 3 caracteres.\"\"\"\n",
    "    # LR : list[str]\n",
    "    LR = [] # liste resultat\n",
    "    # s : str\n",
    "    for s in L :\n",
    "        if len(s) >= 3 :\n",
    "            LR.append(s)\n",
    "    return LR\n",
    "\n",
    "# Jeu de tests\n",
    "assert liste_longueur_min_for(['un', 'deux', 'trois', 'quatre', 'cinq']) \\\n",
    "== ['deux', 'trois', 'quatre', 'cinq']\n",
    "assert liste_longueur_min_for(['', '.', '..', '...']) == ['...']\n",
    "assert liste_longueur_min_for([]) == []"
   ]
  },
  {
   "cell_type": "markdown",
   "metadata": {
    "slideshow": {
     "slide_type": "slide"
    }
   },
   "source": [
    "### Construction par compréhension  \n",
    "Comme pour la construction/transformation, on aimerait pouvoir exprimer littéralement en $\\texttt{Python}$ :\n",
    "Construire la liste des entiers $n$ pairs pour $n$ dans $L$  \n",
    "**Construire la liste des entiers $n$** pairs **pour $n$ dans $L$**  \n",
    "Construire la liste des entiers $n$ **pairs** pour $n$ dans $L$  \n",
    "\n",
    "Ce que l'on peut faire avec : $\\texttt{[ n for n in L ] - [ n for n in L if n%2 == 0 ]}$"
   ]
  },
  {
   "cell_type": "markdown",
   "metadata": {
    "slideshow": {
     "slide_type": "subslide"
    }
   },
   "source": [
    "### Schéma de construction\n",
    "De façon plus générale :  \n",
    "**Compréhension conditionnée** \n",
    "La syntaxe d'une compréhension est : $[\\texttt{<expr>} \\, \\,  \\texttt{for} \\, \\, \\texttt{<var>} \\, \\, \\texttt{in} \\, \\, \\texttt{<seq>} \\,\\, \\texttt{if}  \\,\\, \\texttt{<condition>} ]$  \n",
    "Avec :  \n",
    "• $\\texttt{<var>}$ : une **variable** de compréhension  \n",
    "• $\\texttt{<expr>}$ : une **expression** pouvant contenir $\\texttt{<var>}$  \n",
    "• $\\texttt{<seq>}$ : une **séquence** ( $\\texttt{range}$, $\\texttt{str}$ ou $\\texttt{list}$ )  \n",
    "• $\\texttt{<condition>}$ : une **expression booléenne** portant sur $\\texttt{<var>}$  \n",
    "\n",
    "Le **principe d'interprétation** dérive de celui du schéma de construction mais ne retient que les éléments pour lesquels $\\texttt{<condition>}$ vaut $\\texttt{True}$ ."
   ]
  },
  {
   "cell_type": "markdown",
   "metadata": {
    "slideshow": {
     "slide_type": "slide"
    }
   },
   "source": [
    "### Retour les exemples\n",
    "Les compréhensions conditionnées permettent une autre solution :"
   ]
  },
  {
   "cell_type": "code",
   "execution_count": 12,
   "metadata": {
    "slideshow": {
     "slide_type": "subslide"
    }
   },
   "outputs": [],
   "source": [
    "def liste_pairs_for(L) :\n",
    "    \"\"\" list[int] −> list[int]\n",
    "    Retourne la sous-liste des entiers pairs de L.\"\"\"\n",
    "    return [n for n in L if n%2 == 0]\n",
    "\n",
    "\n",
    "def liste_longueur_min_for(L) :\n",
    "    \"\"\"list[str] −> list[str]\n",
    "    Retourne la sous−liste des elements de L contenant au moins 3 caracteres.\"\"\"\n",
    "    return [s for s in L if len(s) >= 3]\n",
    "\n",
    "# Jeu de tests\n",
    "assert liste_pairs_for([1, 2, 3, 4, 5, 6, 7]) == [2, 4, 6]\n",
    "assert liste_pairs_for([2, 4, 6]) == [2, 4, 6]\n",
    "assert liste_pairs_for([1, 3, 5, 7]) == []\n",
    "\n",
    "# Jeu de tests\n",
    "assert liste_longueur_min_for(['un', 'deux', 'trois', 'quatre', 'cinq']) \\\n",
    "== ['deux', 'trois', 'quatre', 'cinq']\n",
    "assert liste_longueur_min_for(['', '.', '..', '...']) == ['...']\n",
    "assert liste_longueur_min_for([]) == []"
   ]
  },
  {
   "cell_type": "markdown",
   "metadata": {
    "slideshow": {
     "slide_type": "subslide"
    }
   },
   "source": [
    "### Exercice : à l'aide d’une compréhension :   \n",
    "• donner une définition de la fonction qui, étant donnée une chaîne de caractères $s$, renvoie la liste des voyelles contenues dans $s$ .  \n",
    "• donner une définition de la fonction qui, étant donnée une liste $L$, renvoie la liste les nombres premiers contenus dans $L$ ."
   ]
  },
  {
   "cell_type": "markdown",
   "metadata": {
    "slideshow": {
     "slide_type": "slide"
    }
   },
   "source": [
    "### Combinaison des schémas\n",
    "On peut bien sûr combiner les schémas précédents :  \n",
    "\n",
    "$\\texttt{>>>} L = [1, 2, 3, 4, 5, 6, 7, 8, 9, 10]$  \n",
    "$\\texttt{>>>} [k//2 \\,\\, \\,\\texttt{for} \\,\\, k \\,\\, \\texttt{in} \\,\\,L \\,\\, \\texttt{if} \\,\\, k\\%2 == 0]$  ?  \n",
    "$\\texttt{>>>} [k*k \\,\\, \\texttt{for} \\,\\, k \\,\\, \\texttt{in} \\,\\, \\texttt{range}(1,6) \\,\\, \\texttt{if}\\,\\, k\\%2 == 1]$   ?  "
   ]
  },
  {
   "cell_type": "code",
   "execution_count": 13,
   "metadata": {
    "slideshow": {
     "slide_type": "fragment"
    }
   },
   "outputs": [
    {
     "data": {
      "text/plain": [
       "([1, 2, 3, 4, 5], [1, 9, 25])"
      ]
     },
     "execution_count": 13,
     "metadata": {},
     "output_type": "execute_result"
    }
   ],
   "source": [
    "L = [1, 2, 3, 4, 5, 6, 7, 8, 9, 10]\n",
    "[k//2 for k in L if k%2 == 0],[k*k for k in range(1,6) if k%2 == 1] "
   ]
  },
  {
   "cell_type": "markdown",
   "metadata": {
    "slideshow": {
     "slide_type": "subslide"
    }
   },
   "source": [
    "### Exercice : Comparer les expressions permettant de construire :  \n",
    "• la liste des $5$ premiers entiers pairs  \n",
    "• la liste des entiers pairs inférieurs à $5$   "
   ]
  },
  {
   "cell_type": "markdown",
   "metadata": {
    "slideshow": {
     "slide_type": "slide"
    }
   },
   "source": [
    "## Compréhensions et $n-$uplets  \n",
    "Les compréhensions fonctionnent avec n'importe quelle séquence $\\ldots$ donc en particulier avec les listes de $n-$uplets.  \n",
    "Reprenons l'exemple du cours précédent :"
   ]
  },
  {
   "cell_type": "code",
   "execution_count": 14,
   "metadata": {
    "slideshow": {
     "slide_type": "fragment"
    }
   },
   "outputs": [],
   "source": [
    "# BD : list[Personne] (base de donnee)\n",
    "BD = [('Paul', 'Itik', 17, False),\n",
    "('Marcelle', 'Unfor', 79, True),\n",
    "('Gaston', 'Laveur', 38, False),\n",
    "('Henriette', 'Potteuse', 24, True),\n",
    "('Gibra', 'Ltar', 13, False),\n",
    "('Amar', 'Diaprem', 22, True)]"
   ]
  },
  {
   "cell_type": "markdown",
   "metadata": {
    "slideshow": {
     "slide_type": "fragment"
    }
   },
   "source": [
    "### Comment écrire une expression qui renvoie la liste des noms ?  \n",
    "Avec la syntaxe de la boucle $\\texttt{for}$ sur les listes de $n-$uplets :  \n",
    "$\\texttt{for} \\,\\, (\\texttt{pre}, \\texttt{nom}, \\texttt{age}, \\texttt{info}) \\,\\, \\texttt{in} \\,\\, \\texttt{BD}$  "
   ]
  },
  {
   "cell_type": "code",
   "execution_count": 15,
   "metadata": {
    "slideshow": {
     "slide_type": "fragment"
    }
   },
   "outputs": [
    {
     "data": {
      "text/plain": [
       "['Itik', 'Unfor', 'Laveur', 'Potteuse', 'Ltar', 'Diaprem']"
      ]
     },
     "execution_count": 15,
     "metadata": {},
     "output_type": "execute_result"
    }
   ],
   "source": [
    "[nom for (pre, nom, age, mar) in BD]"
   ]
  },
  {
   "cell_type": "markdown",
   "metadata": {
    "slideshow": {
     "slide_type": "subslide"
    }
   },
   "source": [
    "### Exercice  \n",
    "On rappelle la fonction :"
   ]
  },
  {
   "cell_type": "code",
   "execution_count": 16,
   "metadata": {
    "slideshow": {
     "slide_type": "fragment"
    }
   },
   "outputs": [],
   "source": [
    "def est_majeure(p) :\n",
    "    \"\"\"Personne −> bool\n",
    "    renvoie True si la personne p est majeure, False sinon.\"\"\"\n",
    "    # age: int\n",
    "    pre, nom, age, mar = p\n",
    "    return age >= 18"
   ]
  },
  {
   "cell_type": "markdown",
   "metadata": {
    "slideshow": {
     "slide_type": "fragment"
    }
   },
   "source": [
    "### Donner une expression de compréhension qui calcule :  \n",
    "• la liste des personnes majeures  \n",
    "• la liste des noms des marié(e)s  \n",
    "• la liste des prénoms et noms des non mariés majeurs"
   ]
  },
  {
   "cell_type": "markdown",
   "metadata": {
    "slideshow": {
     "slide_type": "slide"
    }
   },
   "source": [
    "### Compréhension multiple  \n",
    "On peut donc maintenant écrire des compréhensions pour :  \n",
    "• les schémas de constructions  \n",
    "• les schémas de transformations  \n",
    "• les schémas de filtrage  \n",
    "• les schémas combinant les précédents  \n",
    "• les schémas combinant les précédents sur des listes de $n-$uplets  \n",
    "\n",
    "$\\ldots$ mais pour les boucles simples !"
   ]
  },
  {
   "cell_type": "markdown",
   "metadata": {
    "slideshow": {
     "slide_type": "subslide"
    }
   },
   "source": [
    "### Compréhension multiple  \n",
    "**Problème** Donner une définition de la fonction qui, étant donné un entier $n$, renvoie la liste des couples $(i, j)$ dans l'intervalle $[1~;~n$] avec $i \\leqslant j$."
   ]
  },
  {
   "cell_type": "code",
   "execution_count": 17,
   "metadata": {
    "slideshow": {
     "slide_type": "fragment"
    }
   },
   "outputs": [],
   "source": [
    "def liste_couples_for(n) :\n",
    "    \"\"\"int −> list[tuple[int , int ]]\n",
    "    Hypothese : n >= 0\n",
    "    retourne la liste des couples (i,j) sur intervalle [1;n] avec i<=j.\"\"\"\n",
    "    # LR : list[tuple[int , int ]]\n",
    "    LR = [] # liste resultat\n",
    "    # i : int\n",
    "    for i in range(1, n + 1) :\n",
    "        #j : int\n",
    "        for j in range(i, n + 1) :\n",
    "            LR.append((i, j))\n",
    "    return LR\n",
    "\n",
    "assert liste_couples_for(3) == [(1 , 1), (1, 2), (1, 3), (2, 2), (2, 3), (3, 3)]"
   ]
  },
  {
   "cell_type": "markdown",
   "metadata": {
    "slideshow": {
     "slide_type": "subslide"
    }
   },
   "source": [
    "### Compréhension multiple  \n",
    "Impossible à exprimer avec les schémas vus jusqu'à présent. Pourtant, on aimerait pouvoir exprimer littéralement en $\\texttt{Python}$ :  \n",
    "Construire la liste des couples $(i,j)$ pour $i$ dans l'intervalle $[1~;~n]$ et $j$ dans l'intervalle $[1~;~n]$  \n",
    "**Construire la liste des couples $(i,j)$** pour $i$ dans l'intervalle $[1~;~n]$ et $j$ dans l'intervalle $[1~;~n]$  \n",
    "Construire la liste des couples $(i,j)$ **pour $i$ dans l'intervalle $[1~;~n]$** et $j$ dans l'intervalle $[1~;~n]$  \n",
    "Construire la liste des couples $(i,j)$ pour $i$ dans l'intervalle $[1~;~n]$ et **$j$ dans l'intervalle $[1~;~n]$**   \n",
    "\n",
    "Ce que l'on peut faire avec : $[ (i, j) ] - [ (i, j) \\,\\, \\texttt{for} \\,\\,i \\,\\, \\texttt{in} \\,\\, \\texttt{range}(1, n+1) ] - [ (i, j) \\,\\, \\texttt{for} \\,\\,i \\,\\, \\texttt{in} \\,\\, \\texttt{range}(1, n+1) \\,\\, \\texttt{for} \\,\\,j \\,\\, \\texttt{in} \\,\\, \\texttt{range}(i, n+1) ]$"
   ]
  },
  {
   "cell_type": "markdown",
   "metadata": {
    "slideshow": {
     "slide_type": "slide"
    }
   },
   "source": [
    "### Compréhension multiple\n",
    "De façon plus générale :  \n",
    "**Compréhension multiple**  \n",
    "La syntaxe d'une compréhension multiple est : $[\\texttt{<expr>} \\, \\,  \\texttt{for} \\, \\, \\texttt{<var1>} \\, \\, \\texttt{in} \\, \\, \\texttt{<seq1>} \\, \\,  \\texttt{for} \\, \\, \\texttt{<var2>} \\, \\, \\texttt{in} \\, \\, \\texttt{<seq2>} \\ldots ]$  \n",
    "Avec :  \n",
    "• $\\texttt{<var1>}$ : la première **variable** de compréhension   \n",
    "• $\\texttt{<seq1>}$ : la première **séquence** ( $\\texttt{range}$, $\\texttt{str}$ ou $\\texttt{list}$ )  \n",
    "• $\\texttt{<var2>}$ : la seconde **variable** de compréhension   \n",
    "• $\\texttt{<seq2>}$ : la seconde **séquence** ( $\\texttt{range}$, $\\texttt{str}$ ou $\\texttt{list}$ )  \n",
    "• $\\ldots$  \n",
    "• $\\texttt{<expr>}$ : une **expression** pouvant contenir $\\texttt{<var1>}$,  $\\texttt{<var2>}$,  $\\ldots$  \n",
    "\n",
    "Le **principe d'interprétation** dérive de celui des boucles imbriquées."
   ]
  },
  {
   "cell_type": "markdown",
   "metadata": {
    "slideshow": {
     "slide_type": "slide"
    }
   },
   "source": [
    "### Compréhension complète\n",
    "On peut enfin donner la syntaxe la plus générale des compréhensions :  \n",
    "**Compréhension multiple et conditionnée**  \n",
    "La syntaxe d'une compréhension multiple et conditionnée est : : $[\\texttt{<expr>} \\, \\,  \\texttt{for} \\, \\, \\texttt{<var1>} \\, \\, \\texttt{in} \\, \\, \\texttt{<seq1>} \\,\\, \\texttt{if}  \\,\\, \\texttt{<cond1>} \\, \\,  \\texttt{for} \\, \\, \\texttt{<var2>} \\, \\, \\texttt{in} \\, \\, \\texttt{<seq2>} \\,\\, \\texttt{if}  \\,\\, \\texttt{<cond2>} \\ldots ]$  \n",
    "Avec :  \n",
    "• $\\texttt{<var1>}$ : la première **variable** de compréhension   \n",
    "• $\\texttt{<seq1>}$ : la première **séquence** ( $\\texttt{range}$, $\\texttt{str}$ ou $\\texttt{list}$ )\n",
    "• $\\texttt{<cond1>}$ : une **expression booléenne** portant sur $\\texttt{<var1>}$  \n",
    "• $\\texttt{<var2>}$ : la seconde **variable** de compréhension   \n",
    "• $\\texttt{<seq2>}$ : la seconde **séquence** ( $\\texttt{range}$, $\\texttt{str}$ ou $\\texttt{list}$ )  \n",
    "• $\\texttt{<cond2>}$ : une **expression booléenne** portant sur $\\texttt{<var1>}$ et $\\texttt{<var2>}$   \n",
    "• $\\ldots$  \n",
    "• $\\texttt{<expr>}$ : une **expression** pouvant contenir $\\texttt{<var1>}$,  $\\texttt{<var2>}$,  $\\ldots$  "
   ]
  },
  {
   "cell_type": "markdown",
   "metadata": {
    "slideshow": {
     "slide_type": "slide"
    }
   },
   "source": [
    "### Exercices  \n",
    "> Donner une expression de compréhension qui calcule :  \n",
    "• la liste des couples $(i, j)$ pour $(i, j)$ avec $i \\neq j$ dans l'intervalle $[2~;~10]$ tels que $i$ divise $j$.  <!-- [(2 , 4), (2, 6), (2, 8), (2, 10), (3, 6), (3, 9), (4, 8), (5, 10)]-->  \n",
    "• la liste des noms des couples composés d'un marié(e) et d'un non marié(e) issus de la base de données des personnes   \n",
    "• la liste des couples $(i, L)$ pour $i \\in [1~;~10]$ tel que $L$ contient la liste des diviseurs de $i$.  \n",
    "<!-- [(1 , [1]) , (2, [1, 2]), (3, [1, 3]), (4, [1, 2, 4]), (5, [1, 5]),\n",
    "(6, [1, 2, 3, 6]), (7, [1, 7]), (8, [1, 2, 4, 8]), (9, [1, 3, 9]), (10, [1, 2, 5, 10])] -->"
   ]
  },
  {
   "cell_type": "markdown",
   "metadata": {
    "slideshow": {
     "slide_type": "slide"
    }
   },
   "source": [
    "## Conclusion  \n",
    "Ce qu'il faut savoir faire à l'issue de cette partie :  (retenir/utiliser)\n",
    "* Notion de listes en compréhension :  \n",
    "  * utiliser une liste donnée en compréhension.\n",
    "  * construire une liste par compréhension.\n",
    "* Simplifier l'implémentation de fonctions  \n",
    "  * à l'aide de compréhensions élaborées pour systématiser les schémas de traitements sur les listes.\n",
    "* $\\texttt{Python}$ identifie listes et tableaux.\n",
    "\n",
    "**Rappel :**  \n",
    "Pour présenter des éléments du même $\\texttt{type}$, il n'existe pas en $\\texttt{Python}$ de $\\texttt{type}$ $\\texttt{tableau}$ *stricto sensu* ; par contre, on peut utiliser un type générique de <a href=\"http://lycee.lagrave.free.fr/nsi/programmation/8_Elements_programmation_diapo.pdf\" target=\"_blank\">liste homogène</a> (une séquence d'objets homogènes séparés par des virgules, le tout encadré par des crochets)."
   ]
  }
 ],
 "metadata": {
  "celltoolbar": "Diaporama",
  "kernelspec": {
   "display_name": "Python 3",
   "language": "python",
   "name": "python3"
  },
  "language_info": {
   "codemirror_mode": {
    "name": "ipython",
    "version": 3
   },
   "file_extension": ".py",
   "mimetype": "text/x-python",
   "name": "python",
   "nbconvert_exporter": "python",
   "pygments_lexer": "ipython3",
   "version": "3.7.3"
  },
  "rise": {
   "autolaunch": true,
   "enable_chalkboard": true,
   "scroll": true
  }
 },
 "nbformat": 4,
 "nbformat_minor": 2
}
