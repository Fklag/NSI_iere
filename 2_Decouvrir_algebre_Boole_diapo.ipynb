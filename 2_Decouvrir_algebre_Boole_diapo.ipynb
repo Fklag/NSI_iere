{
 "cells": [
  {
   "cell_type": "markdown",
   "metadata": {
    "slideshow": {
     "slide_type": "slide"
    }
   },
   "source": [
    "## <p style=\"text-align: center;\">NSI - Découvrir l'algèbre de Boole avec Python</p>\n",
    "## <p style=\"text-align: center;\">Lycée Beaussier - F. Lagrave</p>\n",
    "\n",
    "[![Binder](https://mybinder.org/badge_logo.svg)](https://mybinder.org/v2/gh/Fklag/NSI_iere/master?filepath=2_Decouvrir_algebre_Boole_diapo.ipynb)"
   ]
  },
  {
   "cell_type": "markdown",
   "metadata": {
    "slideshow": {
     "slide_type": "slide"
    }
   },
   "source": [
    "# Découvrir l'algèbre de Boole avec Python"
   ]
  },
  {
   "cell_type": "markdown",
   "metadata": {
    "slideshow": {
     "slide_type": "fragment"
    }
   },
   "source": [
    "### Qu'est-ce qu'un booléen ?\n",
    "\n",
    "En informatique, un **booléen** est un type de variable à deux états (généralement notés vrai et faux), destiné à représenter les valeurs de vérité de la logique et l'<a href=\"http://subaru.univ-lemans.fr/AccesLibre/UM/Pedago/physique/02/electro/boole.html\" target=\"_blank\">algèbre booléenne</a>. Il est nommé ainsi d'après George Boole, fondateur dans le milieu du XIXe siècle de l'algèbre portant son nom. Le type de données booléen est principalement associé à des états conditionnels.\n",
    "\n",
    "En $\\texttt{Python}$, le type d'une telle variable est $\\texttt{bool}$, les deux valeurs possibles sont $\\texttt{True}$ ou $\\texttt{False}$."
   ]
  },
  {
   "cell_type": "markdown",
   "metadata": {
    "slideshow": {
     "slide_type": "fragment"
    }
   },
   "source": [
    "### Expressions booléennes\n",
    "\n",
    "Une expression booléenne a deux valeurs possibles : $\\texttt{True}$ ou $\\texttt{False}$.\n",
    "$\\texttt{Python}$ attribue à une expression booléenne la valeur $\\texttt{False}$ si c'est :\n",
    "- la constante $\\texttt{False}$\n",
    "- la constante $\\texttt{None}$\n",
    "- une séquence ou une collection vide\n",
    "- une donnée numérique de valeur $0$. Tout le reste vaut $\\texttt{True}$."
   ]
  },
  {
   "cell_type": "code",
   "execution_count": 1,
   "metadata": {
    "slideshow": {
     "slide_type": "fragment"
    }
   },
   "outputs": [
    {
     "data": {
      "text/plain": [
       "(bool, bool, False, False, True, False, False, True)"
      ]
     },
     "execution_count": 1,
     "metadata": {},
     "output_type": "execute_result"
    }
   ],
   "source": [
    "type(False),type(True),False,bool(None),bool(' '),bool(''),bool(0),bool(156.87)"
   ]
  },
  {
   "cell_type": "markdown",
   "metadata": {
    "slideshow": {
     "slide_type": "slide"
    }
   },
   "source": [
    "### Opérateurs relationnels ou de comparaison\n",
    "\n",
    "Ce sont les opérateurs $==$, $!=$ , $>$ , $>=$ , $<$ et $<=$.\n",
    "\n",
    "Illustration pour $x=7$ et $y=17$\n",
    "\n",
    "| Opérateur | Expression | Signification | Valeur |\n",
    "|:---------:|:----------:|:-------------:|:------:|\n",
    "| $==$      | $x==y$     |\tÉgal \t     | $0$ (faux) |\n",
    "| $!=$      | $x!=y$     |\tNon égal     | $1$ (vrai) |\n",
    "| $>$       | $x>y$      |\tPlus grand que | $0$ |\n",
    "| $<$       | $x<y$      |\tPlus petit que | $1$ |\n",
    "| $>=$      | $x>=y$     |\tPlus grand ou égal à | $0$ |\n",
    "| $<=$      | $x<=y$     |\tPlus petit ou égal à | $1$ |\n",
    "| $\\texttt{is}$ | $x \\, \\texttt{is} \\, y$     | est le même objet | $0$ |\n",
    "| $\\texttt{is not}$ | $x \\, \\texttt{is not}\\,  y$     | n'est pas le même objet | $1$ |"
   ]
  },
  {
   "cell_type": "code",
   "execution_count": 2,
   "metadata": {
    "slideshow": {
     "slide_type": "fragment"
    }
   },
   "outputs": [
    {
     "data": {
      "text/plain": [
       "(False, True, False, False, True, True, False, True)"
      ]
     },
     "execution_count": 2,
     "metadata": {},
     "output_type": "execute_result"
    }
   ],
   "source": [
    "x,y=7,17\n",
    "x==y, x!=y, x>y, x>=y, x<y, x<=y, x is y, x is not y"
   ]
  },
  {
   "cell_type": "markdown",
   "metadata": {
    "slideshow": {
     "slide_type": "fragment"
    }
   },
   "source": [
    "Illustration avec deux chaînes de caractères"
   ]
  },
  {
   "cell_type": "code",
   "execution_count": 3,
   "metadata": {
    "slideshow": {
     "slide_type": "fragment"
    }
   },
   "outputs": [
    {
     "data": {
      "text/plain": [
       "(False, 13, True)"
      ]
     },
     "execution_count": 3,
     "metadata": {},
     "output_type": "execute_result"
    }
   ],
   "source": [
    "a='encyclopédie1'\n",
    "b='encyclopédie2'\n",
    "a==b,len(a),a[:12]==b[:12]"
   ]
  },
  {
   "cell_type": "markdown",
   "metadata": {
    "slideshow": {
     "slide_type": "subslide"
    }
   },
   "source": [
    "1/ Écrire un script dont la sortie dans le shell de Python est la suivante :\n",
    "\n",
    ">>>Entrez un entier naturel : 45\n",
    ">>>\n",
    ">>>Entrez un second entier naturel : 215\n",
    ">>>\n",
    ">>>    x==y a pour type <class 'bool'>\n",
    ">>>\n",
    ">>>    x==y est un booléen : il est soit vrai, soit faux\n",
    ">>>\n",
    ">>>x est différent de y donc la valeur du booléen est : False\n",
    "\n",
    "2/ Écrire un script qui dira si\n",
    "\n",
    "- un nombre $x$ appartient à l'intervalle $[a,b]$\n",
    "\n",
    "- un nombre $x$ appartient à l'intervalle $]a,b[\\cup[c,d]$\n",
    "\n",
    "- un nombre $x$ appartient à l’intervalle $[a,b[\\cap]c,d]$\n",
    "\n",
    "3/ Écrire un script qui affiche \"Bon anniversaire !\" si nous sommes à la date de votre anniversaire, \"Bonne journée\" sinon."
   ]
  },
  {
   "cell_type": "markdown",
   "metadata": {
    "slideshow": {
     "slide_type": "slide"
    }
   },
   "source": [
    "### Les $3$ opérateurs logiques\n",
    "\n",
    "Voir sur <a href=\"http://fr.wikibooks.org/wiki/Programmation_Python/Op%C3%A9rateur\" target=\"_blank\">Wikibooks</a>\n",
    "\n",
    "Les expressions avec un opérateur logique sont évaluées à $\\texttt{True}$ ou $\\texttt{False}$.\n",
    "\n",
    "#### <a href=\"https://fr.wikipedia.org/wiki/Fonction_NON\" target=\"_blank\">Le NON</a> (négation, contraire)\n",
    "\n",
    "$p$ étant un booléen,  $\\texttt{NON} p=1-p$\n",
    "\n",
    "En Python, on appelle l’instruction $\\texttt{not}$. ( $\\texttt{NON} p$ est noté en logique $\\neg p$)"
   ]
  },
  {
   "cell_type": "code",
   "execution_count": 4,
   "metadata": {
    "slideshow": {
     "slide_type": "fragment"
    }
   },
   "outputs": [
    {
     "data": {
      "text/plain": [
       "(False, True)"
      ]
     },
     "execution_count": 4,
     "metadata": {},
     "output_type": "execute_result"
    }
   ],
   "source": [
    "2<1, not 2<1"
   ]
  },
  {
   "cell_type": "markdown",
   "metadata": {
    "slideshow": {
     "slide_type": "subslide"
    }
   },
   "source": [
    "<a href=\"http://fr.wikipedia.org/wiki/Table_de_v%C3%A9rit%C3%A9\" target=\"_blank\">Table de vérité</a> : retrouver celle de  $\\texttt{NON} p$ à l'aide de $\\texttt{Python}$.\n",
    "\n",
    "| $p$ | $\\texttt{NON} p$ |\n",
    "|:---:|:----------------:|\n",
    "| VRAI | FAUX |\n",
    "| FAUX | VRAI |"
   ]
  },
  {
   "cell_type": "code",
   "execution_count": 5,
   "metadata": {
    "slideshow": {
     "slide_type": "fragment"
    }
   },
   "outputs": [
    {
     "name": "stdout",
     "output_type": "stream",
     "text": [
      "True False\n",
      "False True\n"
     ]
    }
   ],
   "source": [
    "P=[True,False]\n",
    "for p in P:\n",
    "    print(p,not p)"
   ]
  },
  {
   "cell_type": "markdown",
   "metadata": {
    "slideshow": {
     "slide_type": "subslide"
    }
   },
   "source": [
    "#### <a href=\"http://fr.wikipedia.org/wiki/Disjonction_logique\" target=\"_blank\">Le OU logique</a> (disjonction)\n",
    "\n",
    "$p$ et $q$ étant deux booléens,\n",
    "\n",
    "$p \\texttt{ or } q$  vaut $\\texttt{True}$ si $p$ vaut $\\texttt{True}$.  \n",
    "Si $p$ est $\\texttt{False}$, l’expression est évaluée à la valeur booléenne de $q$ (si $p$ est faux, retourne $q$, sinon retourne $p$).\n",
    "($p \\texttt{ OU } q$ est noté en logique $p \\vee q$)"
   ]
  },
  {
   "cell_type": "code",
   "execution_count": 6,
   "metadata": {
    "slideshow": {
     "slide_type": "fragment"
    }
   },
   "outputs": [
    {
     "data": {
      "text/plain": [
       "(True, False, True)"
      ]
     },
     "execution_count": 6,
     "metadata": {},
     "output_type": "execute_result"
    }
   ],
   "source": [
    "8<9,2<1,(8 < 9) or (2 < 1)"
   ]
  },
  {
   "cell_type": "markdown",
   "metadata": {
    "slideshow": {
     "slide_type": "fragment"
    }
   },
   "source": [
    "Retrouver à l’aide de Python la table de vérité d’une disjonction :\n",
    "\n",
    "| $p$ | $q$ | $p \\texttt{ OU } q$|\n",
    "|:---:|:---:|:------------------:|\n",
    "|VRAI | VRAI | VRAI |\n",
    "|VRAI | FAUX | VRAI |\n",
    "|FAUX | VRAI | VRAI |\n",
    "|FAUX | FAUX |\tFAUX  |"
   ]
  },
  {
   "cell_type": "code",
   "execution_count": 7,
   "metadata": {
    "slideshow": {
     "slide_type": "fragment"
    }
   },
   "outputs": [
    {
     "name": "stdout",
     "output_type": "stream",
     "text": [
      "True True True\n",
      "True False True\n",
      "False True True\n",
      "False False False\n"
     ]
    }
   ],
   "source": [
    "P,Q=[True,False],[True,False]\n",
    "for p in P:\n",
    "    for q in Q:\n",
    "        print(p,q, p or q)"
   ]
  },
  {
   "cell_type": "markdown",
   "metadata": {
    "slideshow": {
     "slide_type": "subslide"
    }
   },
   "source": [
    "####  <a href=\"http://fr.wikipedia.org/wiki/Disjonction_logique\" target=\"_blank\">Le ET logique</a> (conjonction)\n",
    "\n",
    "$p \\texttt{ and } q$  vaut $\\texttt{False}$ si $p$ est $\\texttt{False}$.  \n",
    "Si $p$ est $\\texttt{True}$, l'expression est évaluée à la valeur booléenne de $q$ (si $p$ est faux, retourne $p$, sinon retourne $q$).  ($p \\texttt{ ET } q$ est noté en logique $p  \\wedge q$)"
   ]
  },
  {
   "cell_type": "code",
   "execution_count": 8,
   "metadata": {
    "slideshow": {
     "slide_type": "fragment"
    }
   },
   "outputs": [
    {
     "data": {
      "text/plain": [
       "(True, False, False)"
      ]
     },
     "execution_count": 8,
     "metadata": {},
     "output_type": "execute_result"
    }
   ],
   "source": [
    "8<9,2<1, (8 < 9) and (2 < 1) "
   ]
  },
  {
   "cell_type": "code",
   "execution_count": 9,
   "metadata": {
    "slideshow": {
     "slide_type": "fragment"
    }
   },
   "outputs": [
    {
     "data": {
      "text/plain": [
       "False"
      ]
     },
     "execution_count": 9,
     "metadata": {},
     "output_type": "execute_result"
    }
   ],
   "source": [
    "x=36\n",
    "(x > 13) and (x < 27)"
   ]
  },
  {
   "cell_type": "code",
   "execution_count": 10,
   "metadata": {
    "slideshow": {
     "slide_type": "fragment"
    }
   },
   "outputs": [
    {
     "data": {
      "text/plain": [
       "True"
      ]
     },
     "execution_count": 10,
     "metadata": {},
     "output_type": "execute_result"
    }
   ],
   "source": [
    "x=20\n",
    "(x > 13) and (x < 27)"
   ]
  },
  {
   "cell_type": "markdown",
   "metadata": {
    "slideshow": {
     "slide_type": "fragment"
    }
   },
   "source": [
    "Retrouver à l’aide de $\\texttt{Python}$ la table de vérité d'une conjonction :\n",
    "\n",
    "| $p$ | $q$ | $p \\texttt{ ET } q$ |\n",
    "|:---:|:---:|:-------------------:|\n",
    "| VRAI | VRAI | VRAI |\n",
    "| VRAI | FAUX |\tFAUX |\n",
    "| FAUX | VRAI |\tFAUX |\n",
    "| FAUX | FAUX | FAUX |"
   ]
  },
  {
   "cell_type": "code",
   "execution_count": 11,
   "metadata": {
    "slideshow": {
     "slide_type": "fragment"
    }
   },
   "outputs": [
    {
     "name": "stdout",
     "output_type": "stream",
     "text": [
      "True True True\n",
      "True False False\n",
      "False True False\n",
      "False False False\n"
     ]
    }
   ],
   "source": [
    "P,Q=[True,False],[True,False]\n",
    "for p in P:\n",
    "    for q in Q:\n",
    "        print(p,q, p and q)"
   ]
  },
  {
   "cell_type": "markdown",
   "metadata": {
    "slideshow": {
     "slide_type": "slide"
    }
   },
   "source": [
    "### Important : les opérateurs $\\texttt{ ET }$ et $\\texttt{ OU }$  sont séquentiels  \n",
    "Si l'évaluation de la première opérande suffit à donner le résultat, la deuxième n'est pas évaluée.   \n",
    "Ainsi si $p$ est faux, $p \\texttt{ ET } q\\,$ sera faux sans que $q$ n'est été évalué."
   ]
  },
  {
   "cell_type": "code",
   "execution_count": 12,
   "metadata": {
    "slideshow": {
     "slide_type": "fragment"
    }
   },
   "outputs": [
    {
     "data": {
      "text/plain": [
       "False"
      ]
     },
     "execution_count": 12,
     "metadata": {},
     "output_type": "execute_result"
    }
   ],
   "source": [
    "a=0\n",
    "a!=0 and (0<1/a)"
   ]
  },
  {
   "cell_type": "code",
   "execution_count": 13,
   "metadata": {
    "slideshow": {
     "slide_type": "fragment"
    }
   },
   "outputs": [
    {
     "ename": "ZeroDivisionError",
     "evalue": "division by zero",
     "output_type": "error",
     "traceback": [
      "\u001b[0;31m---------------------------------------------------------------------------\u001b[0m",
      "\u001b[0;31mZeroDivisionError\u001b[0m                         Traceback (most recent call last)",
      "\u001b[0;32m<ipython-input-13-f027b529c332>\u001b[0m in \u001b[0;36m<module>\u001b[0;34m\u001b[0m\n\u001b[0;32m----> 1\u001b[0;31m \u001b[0;34m(\u001b[0m\u001b[0;36m0\u001b[0m\u001b[0;34m<\u001b[0m\u001b[0;36m1\u001b[0m\u001b[0;34m/\u001b[0m\u001b[0ma\u001b[0m\u001b[0;34m)\u001b[0m \u001b[0;32mand\u001b[0m \u001b[0;34m(\u001b[0m\u001b[0ma\u001b[0m\u001b[0;34m!=\u001b[0m\u001b[0;36m0\u001b[0m\u001b[0;34m)\u001b[0m\u001b[0;34m\u001b[0m\u001b[0;34m\u001b[0m\u001b[0m\n\u001b[0m",
      "\u001b[0;31mZeroDivisionError\u001b[0m: division by zero"
     ]
    }
   ],
   "source": [
    "(0<1/a) and (a!=0)"
   ]
  },
  {
   "cell_type": "code",
   "execution_count": 14,
   "metadata": {
    "slideshow": {
     "slide_type": "fragment"
    }
   },
   "outputs": [
    {
     "data": {
      "text/plain": [
       "(True, False, 3, 2)"
      ]
     },
     "execution_count": 14,
     "metadata": {},
     "output_type": "execute_result"
    }
   ],
   "source": [
    "def est_compris_dans( a, b, c ):\n",
    "    return ( b >= a and a >= c ) or ( c >= a and a >= b )\n",
    "\n",
    " \n",
    "\n",
    "def max_(i,j):\n",
    "    return ( (i<=j) and j ) or ( (j<=i) and i ) or ( i and j )\n",
    "\n",
    "est_compris_dans(4,1,5),est_compris_dans(1,4,5),max_(2,3),max_(2,-3)"
   ]
  },
  {
   "cell_type": "markdown",
   "metadata": {
    "slideshow": {
     "slide_type": "slide"
    }
   },
   "source": [
    "### Aller plus loin en logique : implication, équivalence et ou exclusif\n",
    "\n",
    ">  <a href=\"http://fr.wikipedia.org/wiki/Implication_%28logique%29\" target=\"_blank\">Implication logique</a>  \n",
    "  L'implication logique $p \\implies q$ est le booléen : $\\texttt{ NON } p \\texttt{ OU } q$   \n",
    "  - Dresser à l’aide de Python la table de vérité de l'implication logique.  \n",
    "  - Écrire une fonction $\\texttt{implique}(p,q)$ en $\\texttt{Python}$ qui retourne  $\\texttt{ NON } p \\texttt{ OU } q$, $p$ et $q$ étant deux booléens.  \n",
    "\n",
    "\n",
    "> <a href=\"http://fr.wikipedia.org/wiki/%C3%89quivalence_logique\" target=\"_blank\">Équivalence logique</a>  \n",
    "  L'équivalence logique $p \\iff q$ est le booléen : $(p \\implies q) \\texttt{ ET } (q \\implies p)$  \n",
    "  - Dresser à l'aide de Python la table de vérité de l'équivalence logique.  \n",
    "  - Écrire une fonction $\\texttt{equivalence}(p,q)$ en Python qui retourne $(p \\implies q) \\texttt{ ET } (q \\implies p)$, $p$ et $q$ étant deux booléens.\n",
    "\n",
    "> <a href=\"http://fr.wikipedia.org/wiki/Ou_exclusif\" target=\"_blank\">Le OU exclusif</a> $\\texttt{(XOR)}$ : soit $p$, soit $q$, mais pas les deux à la fois.  \n",
    "Le $\\texttt{ OU } $ exclusif (noté XOR ou $\\oplus$) $p \\texttt{ XOR } q $ est le booléen : $(p \\texttt{ OU } q) \\text{ ET } \\texttt{ NON } (p \\texttt{ ET } q)$.  \n",
    "Retrouver à l'aide de Python la table de vérité du $\\texttt{ OU } $ exclusif :  \n",
    "\n",
    "  | $p$ | $q$ | $p \\texttt{ XOR } q$ |\n",
    "  |:---:|:---:|:--------------------:|\n",
    "| 0 | 0 | 0 |\n",
    "| 0 | 1 | 1 |\n",
    "| 1 | 0 | 1 |\n",
    "| 1 | 1 | 0 |\n",
    "\n",
    "<a href=\"http://fr.wikipedia.org/wiki/Ou_exclusif#Exemple_d.27utilisation_en_cryptographie\" target=\"_blank\">Voir une application en cryptographie</a>"
   ]
  },
  {
   "cell_type": "markdown",
   "metadata": {
    "slideshow": {
     "slide_type": "subslide"
    }
   },
   "source": [
    "> Questions :  \n",
    "  - Quel serait le message en français envoyé du futur dans le film « Le code Andromède » s'il était codé à l'aide de la clé de 7 bits $K=1001110$ et du $\\texttt{OU}$ exclusif ? (Voir l'<a href=\"http://irem.univ-reunion.fr/spip.php?article588\" target=\"_blank\">article Des puissances de 2 au code Andromède</a>).  \n",
    "  - Écrire une fonction $\\texttt{xor(p,q)}$ en $\\texttt{Python}$ qui retourne soit $p$ (sous-entendu $p$ Vrai), soit $q$ (sous-entendu $q$ Vrai) mais pas les deux, $p$ et $q$ étant deux booléens.\n",
    "\n",
    "Récapitulatif :  <a href=\"http://fr.wikipedia.org/wiki/Fonction_logique\" target=\"_blank\">Voir sur Wikipédia l'article Fonction logique</a>\n"
   ]
  },
  {
   "cell_type": "markdown",
   "metadata": {
    "slideshow": {
     "slide_type": "slide"
    }
   },
   "source": [
    "#### Mini-projet - À rendre par groupe.\n",
    "\n",
    "- Écrire un programme Python qui dresse les tables de vérité de $\\texttt{NON} p$, $p \\texttt{ OU } q$, $p \\texttt{ ET } q$ telles qu'elles sont affichées dans ce tableau : \n",
    "\n",
    "| $\\texttt{NON} p$ | $p \\texttt{ OU } q$ | $p \\texttt{ ET } q$|\n",
    "|:---:|:---:|:--------------------:|\n",
    "| <img src=\"./images/nonp.png\" alt=\"unites\"/> | <img src=\"./images/pouq.png\" alt=\"unites\" /> | <img src=\"./images/petq.png\" alt=\"unites\" /> |\n",
    "\n",
    "**Annexe** : formatage d'une chaîne de caractères : lire <a href=\"http://inforef.be/swi/download/apprendre_python3_5.pdf\" target=\"_blank\">Apprendre à programmer avec Python3</a> de Gérard Swinnen page 158 : Formatage des chaînes de caractères.\n",
    "\n",
    ">Découverte des propriétés de l'Algèbre de Boole  <a href=\"http://subaru.univ-lemans.fr/AccesLibre/UM/Pedago/physique/02/electro/portes.html\" target=\"_blank\">portes logiques</a> et <a href=\"http://lycee.lagrave.free.fr/nsi/architecture/circuits_logiques_papier.pdf\" target=\"_blank\">circuits logiques</a>\n",
    "\n",
    "    p et q sont deux booléens.\n",
    "    Démontrer à l'aide d'un programme Python que :  \n",
    "  -  **Règles d'addition** (le OU est noté $+$)  \n",
    "        p + 0 = p  \n",
    "        p + 1 = 1  \n",
    "        p + p = p  \n",
    "        p + NON p = 1  \n",
    "  -  **Règles de multiplication** (le ET est noté $.$ )  \n",
    "        p . 0 = 0  \n",
    "        p . 1 = p  \n",
    "        p . p = p  \n",
    "        p . NON p = 0  \n",
    "  -  **Commutativité**\n",
    "        p . q = q . p  \n",
    "  -  **Associativité**\n",
    "        p . ( q + r ) = p . q + p . r  \n",
    "  -  **Les lois de MORGAN**  \n",
    "    NON (p OU q) = NON p ET NON q  \n",
    "    NON (p ET q) = NON p OU NON q  \n",
    "    Vérifier que (p ⇒ q) et (NON q ⇒ NON p) ont même table de vérité.  \n",
    "  -  **Tautologie**  \n",
    "        p, q, r sont trois booléens.\n",
    "        Vérifier que [(p ⇒ q) ET (q ⇒ r)] ⇒ [p ⇒ r] est toujours vrai.  \n",
    "        C'est la base des raisonnements en chaîne en mathématiques."
   ]
  },
  {
   "cell_type": "code",
   "execution_count": 15,
   "metadata": {
    "slideshow": {
     "slide_type": "slide"
    }
   },
   "outputs": [],
   "source": [
    "from IPython.display import display, HTML"
   ]
  },
  {
   "cell_type": "code",
   "execution_count": 16,
   "metadata": {
    "slideshow": {
     "slide_type": "fragment"
    }
   },
   "outputs": [
    {
     "data": {
      "text/html": [
       "\n",
       "<iframe \n",
       "\tname=\"iframe\"\n",
       "\tsrc=\"http://www.courstechinfo.be/Techno/PortesLogiques.html\"\n",
       "\twidth=\"100%\"\n",
       "\theight=\"500\"\n",
       "\tscrolling=\"auto\"\n",
       "\talign=\"top\"\n",
       "\tframeborder=\"0\"\n",
       "\tclass=\"wrapper\">\n",
       "\tCette option ne fonctionnera pas correctement car votre navigateur ne supporte par les IFrames</iframe>\n"
      ],
      "text/plain": [
       "<IPython.core.display.HTML object>"
      ]
     },
     "metadata": {},
     "output_type": "display_data"
    }
   ],
   "source": [
    "%%html\n",
    "\n",
    "<iframe \n",
    "\tname=\"iframe\"\n",
    "\tsrc=\"http://www.courstechinfo.be/Techno/PortesLogiques.html\"\n",
    "\twidth=\"100%\"\n",
    "\theight=\"500\"\n",
    "\tscrolling=\"auto\"\n",
    "\talign=\"top\"\n",
    "\tframeborder=\"0\"\n",
    "\tclass=\"wrapper\">\n",
    "\tCette option ne fonctionnera pas correctement car votre navigateur ne supporte par les IFrames</iframe>"
   ]
  },
  {
   "cell_type": "markdown",
   "metadata": {
    "slideshow": {
     "slide_type": "slide"
    }
   },
   "source": [
    "## Conclusion  \n",
    "Ce qu'il faut savoir faire à l'issue de cette partie :  \n",
    "* Dresser la table d'une expression booléenne.\n",
    "* Décrire le caractère séquentiel de certains opérateurs booléens."
   ]
  }
 ],
 "metadata": {
  "celltoolbar": "Diaporama",
  "kernelspec": {
   "display_name": "Python 3",
   "language": "python",
   "name": "python3"
  },
  "language_info": {
   "codemirror_mode": {
    "name": "ipython",
    "version": 3
   },
   "file_extension": ".py",
   "mimetype": "text/x-python",
   "name": "python",
   "nbconvert_exporter": "python",
   "pygments_lexer": "ipython3",
   "version": "3.7.3"
  },
  "rise": {
   "autolaunch": true,
   "enable_chalkboard": true,
   "scroll": true
  }
 },
 "nbformat": 4,
 "nbformat_minor": 2
}
