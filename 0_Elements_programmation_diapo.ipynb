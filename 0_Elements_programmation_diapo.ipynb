{
 "cells": [
  {
   "cell_type": "markdown",
   "metadata": {
    "slideshow": {
     "slide_type": "slide"
    }
   },
   "source": [
    "## <p style=\"text-align: center;\">NSI - Éléments de programmation</p>\n",
    "## <p style=\"text-align: center;\">Lycée Beaussier - F. Lagrave</p>\n",
    "[![Binder](https://mybinder.org/badge_logo.svg)](https://mybinder.org/v2/gh/Fklag/NSI_iere/master)"
   ]
  },
  {
   "cell_type": "markdown",
   "metadata": {
    "slideshow": {
     "slide_type": "slide"
    }
   },
   "source": [
    "# Supports de cours"
   ]
  },
  {
   "cell_type": "markdown",
   "metadata": {
    "slideshow": {
     "slide_type": "fragment"
    }
   },
   "source": [
    "<div id=\"top\"><b>NSI</b> : Numérique et Sciences Informatiques - $4$ h hebdomadaires en première et $6$ h en terminale.\n",
    "    \n",
    "Tous les documents sont disponibles sur la plateforme <a href=\"https://lgt-beaussier-83512-moodle.atrium-paca.fr/\" target=\"_blank\">Moodle</a>. L'enseignement s'appuie sur l'universalité de quatre concepts fondamentaux, à ces concepts s'ajoute un élément transversal : <b>les interfaces</b>.</div>"
   ]
  },
  {
   "cell_type": "markdown",
   "metadata": {
    "slideshow": {
     "slide_type": "fragment"
    }
   },
   "source": [
    "1. les **données**, qui représentent sous une forme numérique unifiée des **informations** ;\n",
    "2. les **algorithmes** ;\n",
    "3. les **langages**, qui permettent de traduire les algorithmes abstraits en **programmes** ;\n",
    "4. les **machines**, et leurs systèmes d’exploitation. On y inclut les **objets connectés** et les **réseaux**."
   ]
  },
  {
   "cell_type": "markdown",
   "metadata": {
    "slideshow": {
     "slide_type": "slide"
    }
   },
   "source": [
    "## Un programme en huit rubriques"
   ]
  },
  {
   "cell_type": "markdown",
   "metadata": {
    "slideshow": {
     "slide_type": "fragment"
    }
   },
   "source": [
    "1. **<a href=\"#S1\">$\\texttt{Histoire de l'informatique}$</a>**\n",
    "2. **<a href=\"#S2\">$\\texttt{Representation des donnees : types et valeurs de base}$</a>**\n",
    "3. **<a href=\"#S3\">$\\texttt{Representation des donnees : types construits}$</a>**\n",
    "4. **<a href=\"#S4\">$\\texttt{Traitement de donnees en tables}$</a>**\n",
    "5. **<a href=\"#S5\">$\\texttt{Interactions homme-machine sur le Web}$</a>**\n",
    "6. **<a href=\"#S6\">$\\texttt{Architectures materielles et systemes d'exploitation}$</a>**\n",
    "7. **<a href=\"#S7\">$\\texttt{Langages et programmation}$</a>**\n",
    "8. **<a href=\"#S8\">$\\texttt{Algorithmique}$</a>**\n",
    "\n",
    "**Démarche de projet :** Au moins un quart du total de l’horaire de la spécialité en classe de première est réservée à la conception et à l'élaboration de projets conduits par des groupes de deux à quatre élèves."
   ]
  },
  {
   "cell_type": "markdown",
   "metadata": {
    "slideshow": {
     "slide_type": "slide"
    }
   },
   "source": [
    "# <div id=\"S1\">$\\texttt{𝙷𝚒𝚜𝚝𝚘𝚒𝚛𝚎 𝚍𝚎 𝚕'𝚒𝚗𝚏𝚘𝚛𝚖𝚊𝚝𝚒𝚚𝚞𝚎}$</div> \n",
    "\n",
    "<div style=\"text-align : right\"><a href=\"#top\">Retour</a></div>"
   ]
  },
  {
   "cell_type": "markdown",
   "metadata": {
    "slideshow": {
     "slide_type": "fragment"
    }
   },
   "source": [
    "Cette rubrique transversale se décline dans chacune des sept autres.\n",
    "Comme toute connaissance scientifique et technique, les concepts de l'informatique ont une histoire et ont été forgés par des personnes. Les algorithmes sont présents dès l'Antiquité, les machines à calculer apparaissent progressivement au $XVII$e siècle, les sciences de l’information sont fondées au $XIX$e siècle, mais c'est en $1936$ qu'apparaît le concept de machine universelle, capable d'exécuter tous les algorithmes, et que les notions de machine, algorithme, langage et information sont pensées comme un tout cohérent.  \n",
    "Les premiers ordinateurs ont été construits en $1948$ et leur puissance a ensuite évolué exponentiellement. Parallèlement, les ordinateurs se sont diversifiés dans leur taille, leur forme et leur emploi : téléphones, tablettes, montres connectées, ordinateurs personnels, serveurs, fermes de calcul, méga-ordinateurs. Le réseau internet, développé depuis $1969$, relie aujourd'hui ordinateurs et objets connectés."
   ]
  },
  {
   "cell_type": "markdown",
   "metadata": {
    "slideshow": {
     "slide_type": "slide"
    }
   },
   "source": [
    "### Qu'est-ce que l'informatique ? \n",
    "*L'informatique n'est pas plus la science des ordinateurs que l'astronomie n'est celle des télescopes (Edsger W. Dijkstra)*"
   ]
  },
  {
   "cell_type": "markdown",
   "metadata": {
    "slideshow": {
     "slide_type": "fragment"
    }
   },
   "source": [
    "<div style=\"background-color:#f0f0fa;\">\n",
    "\n",
    "**Science du traitement automatisé de l'information**  \n",
    "    \n",
    "**Science** : donc un aspect théorique (domaine des mathématiques)  - **Traitement automatisé** : c'est l’ordinateur (domaine des technologies)  \n",
    "**Information** (au sens de <a href=\"https://centenaire-shannon.cnrs.fr/\" target=\"_blank\">Shannon</a>) : tout ce qui est **numérisable** (texte,musique, voix, image, films, ADN, $\\ldots$ ).  \n",
    "</div>    \n",
    "\n",
    "*L'informatique regroupe un grand nombre de domaines : langage et programmation, architecture et système, théorie des graphes, réseau, sécurité, base de données, intelligence artificielle, etc.*"
   ]
  },
  {
   "cell_type": "markdown",
   "metadata": {
    "slideshow": {
     "slide_type": "slide"
    }
   },
   "source": [
    "### Programmation"
   ]
  },
  {
   "cell_type": "markdown",
   "metadata": {
    "slideshow": {
     "slide_type": "fragment"
    }
   },
   "source": [
    "<div style=\"background-color:#f0f0fa;\">\n",
    "    \n",
    "Un programme informatique est une séquence d'**instructions** qui spécifie étape par étape les opérations à effectuer pour obtenir un résultat.  \n",
    "Il est exprimé sous une forme qui permet de l’utiliser avec une machine comme un ordinateur pour exécuter les instructions. Un programme est la forme électronique et numérique d'un algorithme exprimé dans un langage de programmation - un vocabulaire et des règles de ponctuation destinées à exprimer des programmes.\n",
    "</div>    \n",
    "\n",
    "• **Programmer** (écrire des programmes), c’est donner des **instructions** à une machine en vue de lui faire réaliser un **résultat**."
   ]
  },
  {
   "cell_type": "markdown",
   "metadata": {
    "slideshow": {
     "slide_type": "slide"
    }
   },
   "source": [
    "### Exemple de problème\n",
    "\n",
    "Quels sont tous les nombres premiers inférieurs à $30$ ?"
   ]
  },
  {
   "cell_type": "code",
   "execution_count": 1,
   "metadata": {
    "slideshow": {
     "slide_type": "subslide"
    }
   },
   "outputs": [],
   "source": [
    "def liste_premiers(n: int) -> list :\n",
    "    \"\"\" int − > list[int]\n",
    "    Hypothese : n >= 0\n",
    "    Retourne la liste des nombres premiers inferieurs a n.\"\"\"\n",
    "    \n",
    "    # i est premier : bool\n",
    "    i_est_premier = False # indicateur de primalite\n",
    "    # L : list[int]\n",
    "    L = []     # liste des nombres premiers en resultat\n",
    "    # i : int ( entier courant )\n",
    "    for i in range(2,n):\n",
    "        i_est_premier = True\n",
    "        # j : int ( candidat diviseur )\n",
    "        for j in range(2,i-1):\n",
    "            if i % j == 0:\n",
    "                # i divisible par j, donc i n'est pas premier\n",
    "                i_est_premier = False\n",
    "        if i_est_premier :\n",
    "            L.append(i)\n",
    "            \n",
    "    return L"
   ]
  },
  {
   "cell_type": "code",
   "execution_count": 14,
   "metadata": {
    "slideshow": {
     "slide_type": "subslide"
    }
   },
   "outputs": [
    {
     "name": "stdout",
     "output_type": "stream",
     "text": [
      "Help on function liste_premiers in module __main__:\n",
      "\n",
      "liste_premiers(n:int) -> list\n",
      "    int − > list[int]\n",
      "    Hypothese : n >= 0\n",
      "    Retourne la liste des nombres premiers inferieurs a n.\n",
      "\n"
     ]
    }
   ],
   "source": [
    "help(liste_premiers)"
   ]
  },
  {
   "cell_type": "markdown",
   "metadata": {
    "slideshow": {
     "slide_type": "subslide"
    }
   },
   "source": [
    "**Ce programme permet de définir la fonction $\\texttt{liste}\\_\\texttt{premiers}$ qui peut ensuite être invoquée pour répondre au problème :**"
   ]
  },
  {
   "cell_type": "code",
   "execution_count": 4,
   "metadata": {
    "slideshow": {
     "slide_type": "fragment"
    }
   },
   "outputs": [
    {
     "data": {
      "text/plain": [
       "[2, 3, 5, 7, 11, 13, 17, 19, 23, 29]"
      ]
     },
     "execution_count": 4,
     "metadata": {},
     "output_type": "execute_result"
    }
   ],
   "source": [
    "liste_premiers(30)"
   ]
  },
  {
   "cell_type": "markdown",
   "metadata": {
    "slideshow": {
     "slide_type": "fragment"
    }
   },
   "source": [
    "**Définition** : $\\texttt{def liste}\\_\\texttt{premiers}(n)$  \n",
    "**Variables** : $\\texttt{i}\\_\\texttt{est}\\_\\texttt{premier}$ , $\\texttt{L}$  \n",
    "**Expressions** : $2$ , $i-1$ , $i \\% j == 0$ ,  \n",
    "**Instructions** : $\\texttt{if} \\,\\, \\texttt{i}\\_\\texttt{est}\\_\\texttt{premier}: \\ldots, \\, \\texttt{for} \\,\\, i \\,\\, \\texttt{in range}(1,n): \\ldots, \\texttt{i}\\_\\texttt{est}\\_\\texttt{premier}= \\texttt{False}$ ,"
   ]
  },
  {
   "cell_type": "markdown",
   "metadata": {
    "slideshow": {
     "slide_type": "fragment"
    }
   },
   "source": [
    "Dans ce cours, on s'intéresse aux **expressions** et **définitions de fonctions** (simples), ainsi qu’à leur processus d'**évaluation**."
   ]
  },
  {
   "cell_type": "markdown",
   "metadata": {
    "slideshow": {
     "slide_type": "slide"
    }
   },
   "source": [
    "## Notion d'expressions"
   ]
  },
  {
   "cell_type": "markdown",
   "metadata": {
    "slideshow": {
     "slide_type": "fragment"
    }
   },
   "source": [
    "En mathématique comme en informatique, une **expression** est un **texte formel** exprimant le calcul d'une **valeur**.  \n",
    "Syntaxe/Sémantique :\n",
    "* Syntaxe ou comment écrire l'expression : règles de grammaire / contrainte du langage;\n",
    "* Sémantique ou que signifie l'expression : règles sémantiques ou d'évaluation\n",
    "\n",
    "Pour obtenir la valeur, il faut **évaluer** l'expression. Un premier exemple :"
   ]
  },
  {
   "cell_type": "code",
   "execution_count": 9,
   "metadata": {
    "slideshow": {
     "slide_type": "fragment"
    }
   },
   "outputs": [
    {
     "data": {
      "text/plain": [
       "42"
      ]
     },
     "execution_count": 9,
     "metadata": {},
     "output_type": "execute_result"
    }
   ],
   "source": [
    "42"
   ]
  },
  {
   "cell_type": "markdown",
   "metadata": {
    "slideshow": {
     "slide_type": "subslide"
    }
   },
   "source": [
    "On a donné l'expression $42$, l'interprète $\\texttt{Python}$ nous a renvoyé la valeur $42$. Évaluation plus complexe qu'il n'y paraı̂t :  \n",
    "1. **Lecture de l'expression**\n",
    "2. **Représentation en mémoire de l'expression (codage)**\n",
    "3. **Évaluation de l'objet représenté en machine**\n",
    "4. **Affichage de la valeur à l'écran**"
   ]
  },
  {
   "cell_type": "markdown",
   "metadata": {
    "slideshow": {
     "slide_type": "fragment"
    }
   },
   "source": [
    "Chaque expression possède un type :"
   ]
  },
  {
   "cell_type": "code",
   "execution_count": 10,
   "metadata": {
    "slideshow": {
     "slide_type": "fragment"
    }
   },
   "outputs": [
    {
     "data": {
      "text/plain": [
       "int"
      ]
     },
     "execution_count": 10,
     "metadata": {},
     "output_type": "execute_result"
    }
   ],
   "source": [
    "type(42)"
   ]
  },
  {
   "cell_type": "code",
   "execution_count": 16,
   "metadata": {
    "slideshow": {
     "slide_type": "slide"
    }
   },
   "outputs": [
    {
     "name": "stdout",
     "output_type": "stream",
     "text": [
      "<class 'bool'>\n",
      "<class 'int'>\n",
      "<class 'float'>\n"
     ]
    },
    {
     "data": {
      "text/plain": [
       "str"
      ]
     },
     "execution_count": 16,
     "metadata": {},
     "output_type": "execute_result"
    }
   ],
   "source": [
    "print(type(True))\n",
    "print(type(3))\n",
    "print(type(1.3e2))\n",
    "type(\"demain\")"
   ]
  },
  {
   "cell_type": "markdown",
   "metadata": {
    "slideshow": {
     "slide_type": "slide"
    }
   },
   "source": [
    "La représentation interne d'un type est une classe d'objets.  \n",
    "**Ensemble des types** (pour le moment)\n",
    "* $\\texttt{bool} \\quad \\, \\,\\,$          #Type des expressions logiques, indispensable pour calculer (alternatives, boucles)\n",
    "* $\\texttt{int} \\qquad \\, \\! $         #Notation mathématique usuelle, taille arbitraire en $\\texttt{Python}$\n",
    "* $\\texttt{float}\\quad $        #Sous-ensemble des réels : les constantes à virgule flottante\n",
    "* $\\texttt{str}\\qquad \\!$          #Chaı̂nes"
   ]
  },
  {
   "cell_type": "markdown",
   "metadata": {
    "slideshow": {
     "slide_type": "slide"
    }
   },
   "source": [
    "# <div id=\"S2\">𝚁𝚎𝚙𝚛é𝚜𝚎𝚗𝚝𝚊𝚝𝚒𝚘𝚗 𝚍𝚎𝚜 𝚍𝚘𝚗𝚗é𝚎𝚜 : 𝚝𝚢𝚙𝚎𝚜 𝚎𝚝 𝚟𝚊𝚕𝚎𝚞𝚛𝚜 𝚍𝚎 𝚋𝚊𝚜𝚎</div> \n",
    "\n",
    "<div style=\"text-align : right\"><a href=\"#top\">Retour</a></div>"
   ]
  },
  {
   "cell_type": "markdown",
   "metadata": {
    "slideshow": {
     "slide_type": "fragment"
    }
   },
   "source": [
    "Toute machine informatique manipule une représentation des données dont l'unité minimale est le **bit $0/1$**, ce qui permet d'unifier logique et calcul.  \n",
    "Les données de base sont représentées selon un codage dépendant de leur nature : entiers, flottants, caractères et chaînes de caractères. Le codage conditionne la taille des différentes valeurs en mémoire."
   ]
  },
  {
   "cell_type": "markdown",
   "metadata": {
    "slideshow": {
     "slide_type": "slide"
    }
   },
   "source": [
    "# <div id=\"S3\">𝚁𝚎𝚙𝚛𝚎𝚜𝚎𝚗𝚝𝚊𝚝𝚒𝚘𝚗 𝚍𝚎𝚜 𝚍𝚘𝚗𝚗𝚎𝚎𝚜 : 𝚝𝚢𝚙𝚎𝚜 𝚌𝚘𝚗𝚜𝚝𝚛𝚞𝚒𝚝𝚜</div> \n",
    "\n",
    "<div style=\"text-align : right\"><a href=\"#top\">Retour</a></div>"
   ]
  },
  {
   "cell_type": "markdown",
   "metadata": {
    "slideshow": {
     "slide_type": "fragment"
    }
   },
   "source": []
  },
  {
   "cell_type": "markdown",
   "metadata": {
    "slideshow": {
     "slide_type": "slide"
    }
   },
   "source": [
    "# <div id=\"S4\">𝚃𝚛𝚊𝚒𝚝𝚎𝚖𝚎𝚗𝚝 𝚍𝚎 𝚍𝚘𝚗𝚗𝚎𝚎𝚜 𝚎𝚗 𝚝𝚊𝚋𝚕𝚎𝚜</div> \n",
    "\n",
    "<div style=\"text-align : right\"><a href=\"#top\">Retour</a></div>"
   ]
  },
  {
   "cell_type": "markdown",
   "metadata": {
    "slideshow": {
     "slide_type": "fragment"
    }
   },
   "source": []
  },
  {
   "cell_type": "markdown",
   "metadata": {
    "slideshow": {
     "slide_type": "slide"
    }
   },
   "source": [
    "# <div id=\"S5\">𝙸𝚗𝚝𝚎𝚛𝚊𝚌𝚝𝚒𝚘𝚗𝚜 𝚑𝚘𝚖𝚖𝚎⎯𝚖𝚊𝚌𝚑𝚒𝚗𝚎 𝚜𝚞𝚛 𝚕𝚎 𝚆𝚎𝚋</div> \n",
    "\n",
    "<div style=\"text-align : right\"><a href=\"#top\">Retour</a></div>"
   ]
  },
  {
   "cell_type": "markdown",
   "metadata": {
    "slideshow": {
     "slide_type": "fragment"
    }
   },
   "source": []
  },
  {
   "cell_type": "markdown",
   "metadata": {
    "slideshow": {
     "slide_type": "slide"
    }
   },
   "source": [
    "# <div id=\"S6\">𝙰𝚛𝚌𝚑𝚒𝚝𝚎𝚌𝚝𝚞𝚛𝚎𝚜 𝚖𝚊𝚝𝚎𝚛𝚒𝚎𝚕𝚕𝚎𝚜 𝚎𝚝 𝚜𝚢𝚜𝚝𝚎𝚖𝚎𝚜 𝚍'𝚎𝚡𝚙𝚕𝚘𝚒𝚝𝚊𝚝𝚒𝚘𝚗</div> \n",
    "\n",
    "<div style=\"text-align : right\"><a href=\"#top\">Retour</a></div>"
   ]
  },
  {
   "cell_type": "markdown",
   "metadata": {
    "slideshow": {
     "slide_type": "fragment"
    }
   },
   "source": [
    "<div style=\"background-color:#f0f0fa;\">\n",
    "\n",
    "</div>"
   ]
  },
  {
   "cell_type": "markdown",
   "metadata": {
    "slideshow": {
     "slide_type": "slide"
    }
   },
   "source": [
    "# <div id=\"S7\">𝙻𝚊𝚗𝚐𝚊𝚐𝚎𝚜 𝚎𝚝 𝚙𝚛𝚘𝚐𝚛𝚊𝚖𝚖𝚊𝚝𝚒𝚘𝚗</div> \n",
    "\n",
    "<div style=\"text-align : right\"><a href=\"#top\">Retour</a></div>"
   ]
  },
  {
   "cell_type": "markdown",
   "metadata": {
    "slideshow": {
     "slide_type": "fragment"
    }
   },
   "source": []
  },
  {
   "cell_type": "markdown",
   "metadata": {
    "slideshow": {
     "slide_type": "slide"
    }
   },
   "source": [
    "# <div id=\"S8\">𝙰𝚕𝚐𝚘𝚛𝚒𝚝𝚑𝚖𝚒𝚚𝚞𝚎</div> \n",
    "\n",
    "<div style=\"text-align : right\"><a href=\"#top\">Retour</a></div>"
   ]
  },
  {
   "cell_type": "code",
   "execution_count": 1,
   "metadata": {
    "slideshow": {
     "slide_type": "fragment"
    }
   },
   "outputs": [
    {
     "data": {
      "text/html": [
       "<iframe src=http://www.nymphomath.ch/pj/juniper/quiz5.php width=1050 height=700></iframe>"
      ],
      "text/plain": [
       "<IPython.core.display.HTML object>"
      ]
     },
     "execution_count": 1,
     "metadata": {},
     "output_type": "execute_result"
    }
   ],
   "source": [
    "from IPython.display import HTML\n",
    "\n",
    "HTML('<iframe src=http://www.nymphomath.ch/pj/juniper/quiz5.php width=1050 height=700></iframe>')"
   ]
  }
 ],
 "metadata": {
  "celltoolbar": "Diaporama",
  "kernelspec": {
   "display_name": "Python 3",
   "language": "python",
   "name": "python3"
  },
  "language_info": {
   "codemirror_mode": {
    "name": "ipython",
    "version": 3
   },
   "file_extension": ".py",
   "mimetype": "text/x-python",
   "name": "python",
   "nbconvert_exporter": "python",
   "pygments_lexer": "ipython3",
   "version": "3.6.7"
  }
 },
 "nbformat": 4,
 "nbformat_minor": 2
}
