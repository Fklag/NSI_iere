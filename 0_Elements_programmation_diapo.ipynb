{
 "cells": [
  {
   "cell_type": "markdown",
   "metadata": {
    "slideshow": {
     "slide_type": "slide"
    }
   },
   "source": [
    "## <p style=\"text-align: center;\">NSI - Éléments de programmation</p>\n",
    "## <p style=\"text-align: center;\">Lycée Beaussier - F. Lagrave</p>\n",
    "\n",
    "[![Binder](https://mybinder.org/badge_logo.svg)](https://mybinder.org/v2/gh/Fklag/NSI_iere/master?filepath=0_Elements_programmation_diapo.ipynb)"
   ]
  },
  {
   "cell_type": "markdown",
   "metadata": {
    "slideshow": {
     "slide_type": "slide"
    }
   },
   "source": [
    "# Supports de cours"
   ]
  },
  {
   "cell_type": "markdown",
   "metadata": {
    "slideshow": {
     "slide_type": "fragment"
    }
   },
   "source": [
    "<div id=\"top\"><b>NSI</b> : Numérique et Sciences Informatiques - $4$h hebdomadaires en première et $6$h en terminale.\n",
    "    \n",
    "Tous les documents sont disponibles sur la plateforme <a href=\"https://lgt-beaussier-83512-moodle.atrium-paca.fr/\" target=\"_blank\">Moodle</a>. L'enseignement s'appuie sur l'universalité de quatre concepts fondamentaux, à ces concepts s'ajoute un élément transversal : <b>les interfaces</b>.</div>"
   ]
  },
  {
   "cell_type": "markdown",
   "metadata": {
    "slideshow": {
     "slide_type": "fragment"
    }
   },
   "source": [
    "1. les **données**, qui représentent sous une forme numérique unifiée des **informations** ;\n",
    "2. les **algorithmes** ;\n",
    "3. les **langages**, qui permettent de traduire les algorithmes abstraits en **programmes** ;\n",
    "4. les **machines**, et leurs systèmes d’exploitation. On y inclut les **objets connectés** et les **réseaux**."
   ]
  },
  {
   "cell_type": "markdown",
   "metadata": {
    "slideshow": {
     "slide_type": "slide"
    }
   },
   "source": [
    "## Un programme en huit rubriques"
   ]
  },
  {
   "cell_type": "markdown",
   "metadata": {
    "slideshow": {
     "slide_type": "fragment"
    }
   },
   "source": [
    "1. **$\\texttt{Histoire de l'informatique}$**\n",
    "2. **$\\texttt{Representation des donnees : types et valeurs de base}$**\n",
    "3. **$\\texttt{Representation des donnees : types construits}$**\n",
    "4. **$\\texttt{Traitement de donnees en tables}$**\n",
    "5. **$\\texttt{Interactions homme-machine sur le Web}$**\n",
    "6. **$\\texttt{Architectures materielles et systemes d'exploitation}$**\n",
    "7. **$\\texttt{Langages et programmation}$**\n",
    "8. **$\\texttt{Algorithmique}$**\n",
    "\n",
    "**Démarche de projet :** Au moins un quart du total de l'horaire de la spécialité en classe de première est réservée à la conception et à l'élaboration de projets conduits par des groupes de deux à quatre élèves."
   ]
  },
  {
   "cell_type": "markdown",
   "metadata": {
    "slideshow": {
     "slide_type": "slide"
    }
   },
   "source": [
    "# <div id=\"S1\">$\\texttt{𝙷𝚒𝚜𝚝𝚘𝚒𝚛𝚎 𝚍𝚎 𝚕'𝚒𝚗𝚏𝚘𝚛𝚖𝚊𝚝𝚒𝚚𝚞𝚎}$</div> \n",
    "\n",
    "<div style=\"text-align : right\"><a href=\"#top\">Retour</a></div>"
   ]
  },
  {
   "cell_type": "markdown",
   "metadata": {
    "slideshow": {
     "slide_type": "fragment"
    }
   },
   "source": [
    "Cette rubrique transversale se décline dans chacune des sept autres.\n",
    "Comme toute connaissance scientifique et technique, les concepts de l'informatique ont une histoire et ont été forgés par des personnes. Les algorithmes sont présents dès l'Antiquité, les machines à calculer apparaissent progressivement au $XVII$e siècle, les sciences de l’information sont fondées au $XIX$e siècle, mais c'est en $1936$ qu'apparaît le concept de machine universelle, capable d'exécuter tous les algorithmes, et que les notions de machine, algorithme, langage et information sont pensées comme un tout cohérent.  "
   ]
  },
  {
   "cell_type": "markdown",
   "metadata": {
    "slideshow": {
     "slide_type": "fragment"
    }
   },
   "source": [
    "Les premiers ordinateurs ont été construits en $1948$ et leur puissance a ensuite évolué exponentiellement. Parallèlement, les ordinateurs se sont diversifiés dans leur taille, leur forme et leur emploi : téléphones, tablettes, montres connectées, ordinateurs personnels, serveurs, fermes de calcul, méga-ordinateurs. Le réseau internet, développé depuis $1969$, relie aujourd'hui ordinateurs et objets connectés."
   ]
  },
  {
   "cell_type": "markdown",
   "metadata": {
    "slideshow": {
     "slide_type": "notes"
    }
   },
   "source": [
    "If you pressed \"t\", you will now see the presenter view."
   ]
  },
  {
   "cell_type": "markdown",
   "metadata": {
    "slideshow": {
     "slide_type": "slide"
    }
   },
   "source": [
    "### Qu'est-ce que l'informatique ? \n",
    "*L'informatique n'est pas plus la science des ordinateurs que l'astronomie n'est celle des télescopes (Edsger W. Dijkstra)*"
   ]
  },
  {
   "cell_type": "markdown",
   "metadata": {
    "slideshow": {
     "slide_type": "skip"
    }
   },
   "source": [
    "This cell will NOT appear in the slide show because it is designed to be skipped."
   ]
  },
  {
   "cell_type": "markdown",
   "metadata": {
    "slideshow": {
     "slide_type": "fragment"
    }
   },
   "source": [
    "<div style=\"background-color:#f0f0fa;\">\n",
    "\n",
    "**Science du traitement automatisé de l'information**  \n",
    "    \n",
    "**Science** : donc un aspect théorique (domaine des mathématiques)  - **Traitement automatisé** : c'est l’ordinateur (domaine des technologies)  \n",
    "**Information** (au sens de <a href=\"https://centenaire-shannon.cnrs.fr/\" target=\"_blank\">Shannon</a>) : tout ce qui est **numérisable** (texte,musique, voix, image, films, ADN,$\\ldots$).  \n",
    "</div>    \n",
    "\n",
    "*L'informatique regroupe un grand nombre de domaines : langage et programmation, architecture et système, théorie des graphes, réseau, sécurité, base de données, intelligence artificielle, etc.*"
   ]
  },
  {
   "cell_type": "markdown",
   "metadata": {
    "slideshow": {
     "slide_type": "slide"
    }
   },
   "source": [
    "### Programmation"
   ]
  },
  {
   "cell_type": "markdown",
   "metadata": {
    "slideshow": {
     "slide_type": "fragment"
    }
   },
   "source": [
    "<div style=\"background-color:#f0f0fa;\">\n",
    "    \n",
    "Un programme informatique est une séquence d'**instructions** qui spécifie étape par étape les opérations à effectuer pour obtenir un résultat.  \n",
    "Il est exprimé sous une forme qui permet de l’utiliser avec une machine comme un ordinateur pour exécuter les instructions. Un programme est la forme électronique et numérique d'un algorithme exprimé dans un langage de programmation - un vocabulaire et des règles de ponctuation destinées à exprimer des programmes.\n",
    "</div>    \n",
    "\n",
    "• **Programmer** (écrire des programmes), c’est donner des **instructions** à une machine en vue de lui faire réaliser un **résultat**."
   ]
  },
  {
   "cell_type": "markdown",
   "metadata": {
    "slideshow": {
     "slide_type": "slide"
    }
   },
   "source": [
    "### Exemple de problème\n",
    "\n",
    "Quels sont tous les nombres premiers inférieurs à $30$ ?"
   ]
  },
  {
   "cell_type": "code",
   "execution_count": 1,
   "metadata": {
    "slideshow": {
     "slide_type": "subslide"
    }
   },
   "outputs": [],
   "source": [
    "def liste_premiers(n: int) -> list :\n",
    "    \"\"\" int − > list[int]\n",
    "    Hypothese : n >= 0\n",
    "    Retourne la liste des nombres premiers inferieurs a n.\"\"\"\n",
    "    \n",
    "    # i est premier : bool\n",
    "    i_est_premier = False # indicateur de primalite\n",
    "    # L : list[int]\n",
    "    L = []     # liste des nombres premiers en resultat\n",
    "    # i : int ( entier courant )\n",
    "    for i in range(2,n):\n",
    "        i_est_premier = True\n",
    "        # j : int ( candidat diviseur )\n",
    "        for j in range(2,i-1):\n",
    "            if i % j == 0:\n",
    "                # i divisible par j, donc i n'est pas premier\n",
    "                i_est_premier = False\n",
    "        if i_est_premier :\n",
    "            L.append(i)\n",
    "            \n",
    "    return L"
   ]
  },
  {
   "cell_type": "code",
   "execution_count": 2,
   "metadata": {
    "slideshow": {
     "slide_type": "subslide"
    }
   },
   "outputs": [
    {
     "name": "stdout",
     "output_type": "stream",
     "text": [
      "Help on function liste_premiers in module __main__:\n",
      "\n",
      "liste_premiers(n:int) -> list\n",
      "    int − > list[int]\n",
      "    Hypothese : n >= 0\n",
      "    Retourne la liste des nombres premiers inferieurs a n.\n",
      "\n"
     ]
    }
   ],
   "source": [
    "help(liste_premiers)"
   ]
  },
  {
   "cell_type": "markdown",
   "metadata": {
    "slideshow": {
     "slide_type": "subslide"
    }
   },
   "source": [
    "**Ce programme permet de définir la fonction $\\texttt{liste}\\_\\texttt{premiers}$ qui peut ensuite être invoquée pour répondre au problème :**"
   ]
  },
  {
   "cell_type": "code",
   "execution_count": 3,
   "metadata": {
    "slideshow": {
     "slide_type": "fragment"
    }
   },
   "outputs": [
    {
     "data": {
      "text/plain": [
       "[2, 3, 5, 7, 11, 13, 17, 19, 23, 29]"
      ]
     },
     "execution_count": 3,
     "metadata": {},
     "output_type": "execute_result"
    }
   ],
   "source": [
    "liste_premiers(30)"
   ]
  },
  {
   "cell_type": "markdown",
   "metadata": {
    "slideshow": {
     "slide_type": "fragment"
    }
   },
   "source": [
    "**Définition** : $\\texttt{def liste}\\_\\texttt{premiers}(n)$  \n",
    "**Variables** : $\\texttt{i}\\_\\texttt{est}\\_\\texttt{premier}$ , $\\texttt{L}$  \n",
    "**Expressions** : $2$ , $i-1$ , $i \\% j == 0$ ,  \n",
    "**Instructions** : $\\texttt{if} \\,\\, \\texttt{i}\\_\\texttt{est}\\_\\texttt{premier}: \\ldots, \\, \\texttt{for} \\,\\, i \\,\\, \\texttt{in range}(1,n): \\ldots, \\texttt{i}\\_\\texttt{est}\\_\\texttt{premier}= \\texttt{False}$ ,"
   ]
  },
  {
   "cell_type": "markdown",
   "metadata": {
    "slideshow": {
     "slide_type": "fragment"
    }
   },
   "source": [
    "Dans ce cours, on s'intéresse aux **expressions** et **définitions de fonctions** (simples), ainsi qu'à leur processus d'**évaluation**."
   ]
  },
  {
   "cell_type": "markdown",
   "metadata": {
    "slideshow": {
     "slide_type": "slide"
    }
   },
   "source": [
    "## Notion d'expressions"
   ]
  },
  {
   "cell_type": "markdown",
   "metadata": {
    "slideshow": {
     "slide_type": "fragment"
    }
   },
   "source": [
    "En mathématique comme en informatique, une **expression** est un **texte formel** exprimant le calcul d'une **valeur**.  \n",
    "-> Syntaxe/Sémantique d'une expression:\n",
    "* Syntaxe ou comment écrire l'expression : règles de grammaire / contrainte du langage;\n",
    "* Sémantique ou que signifie l'expression : règles sémantiques ou d'évaluation\n",
    "\n",
    "Pour obtenir la valeur, il faut **évaluer** l'expression. Un premier exemple :"
   ]
  },
  {
   "cell_type": "code",
   "execution_count": 4,
   "metadata": {
    "slideshow": {
     "slide_type": "fragment"
    }
   },
   "outputs": [
    {
     "data": {
      "text/plain": [
       "42"
      ]
     },
     "execution_count": 4,
     "metadata": {},
     "output_type": "execute_result"
    }
   ],
   "source": [
    "42"
   ]
  },
  {
   "cell_type": "markdown",
   "metadata": {
    "slideshow": {
     "slide_type": "subslide"
    }
   },
   "source": [
    "On a donné l'expression $42$, l'interprète $\\texttt{Python}$ nous a renvoyé la valeur $42$.  \n",
    "Évaluation plus complexe qu'il n'y paraı̂t :  \n",
    "1. **Lecture de l'expression**\n",
    "2. **Représentation en mémoire de l'expression (codage)**\n",
    "3. **Évaluation de l'objet représenté en machine**\n",
    "4. **Affichage de la valeur à l'écran**"
   ]
  },
  {
   "cell_type": "markdown",
   "metadata": {
    "slideshow": {
     "slide_type": "fragment"
    }
   },
   "source": [
    "Chaque expression possède un type :"
   ]
  },
  {
   "cell_type": "code",
   "execution_count": 5,
   "metadata": {
    "slideshow": {
     "slide_type": "fragment"
    }
   },
   "outputs": [
    {
     "data": {
      "text/plain": [
       "int"
      ]
     },
     "execution_count": 5,
     "metadata": {},
     "output_type": "execute_result"
    }
   ],
   "source": [
    "type(42)"
   ]
  },
  {
   "cell_type": "code",
   "execution_count": 6,
   "metadata": {
    "slideshow": {
     "slide_type": "slide"
    }
   },
   "outputs": [
    {
     "name": "stdout",
     "output_type": "stream",
     "text": [
      "<class 'bool'>\n",
      "<class 'int'>\n",
      "<class 'float'>\n"
     ]
    },
    {
     "data": {
      "text/plain": [
       "str"
      ]
     },
     "execution_count": 6,
     "metadata": {},
     "output_type": "execute_result"
    }
   ],
   "source": [
    "print(type(True))\n",
    "print(type(3))\n",
    "print(type(1.3e2))\n",
    "type(\"demain\")"
   ]
  },
  {
   "cell_type": "markdown",
   "metadata": {
    "slideshow": {
     "slide_type": "slide"
    }
   },
   "source": [
    "La représentation interne d'un type est une classe d'objets.  \n",
    "**Ensemble des types** (pour le moment)\n",
    "* $\\texttt{bool} \\quad \\, \\,\\,$          #Type des expressions logiques, indispensable pour calculer (alternatives, boucles)\n",
    "* $\\texttt{int} \\qquad \\, \\! $         #Notation mathématique usuelle, taille arbitraire en $\\texttt{Python}$\n",
    "* $\\texttt{float}\\quad $        #Sous-ensemble des réels : les constantes à virgule flottante\n",
    "* $\\texttt{str}\\qquad \\!$          #Chaı̂nes"
   ]
  },
  {
   "cell_type": "markdown",
   "metadata": {
    "slideshow": {
     "slide_type": "slide"
    }
   },
   "source": [
    "## Expressions composées"
   ]
  },
  {
   "cell_type": "markdown",
   "metadata": {
    "slideshow": {
     "slide_type": "fragment"
    }
   },
   "source": [
    "**Composées** à partir de :\n",
    "* Expressions simples\n",
    "* Opérateurs\n",
    "* Applications de fonctions prédéfinies ou définies par le programmeur"
   ]
  },
  {
   "cell_type": "code",
   "execution_count": 7,
   "metadata": {
    "slideshow": {
     "slide_type": "fragment"
    }
   },
   "outputs": [
    {
     "data": {
      "text/plain": [
       "5"
      ]
     },
     "execution_count": 7,
     "metadata": {},
     "output_type": "execute_result"
    }
   ],
   "source": [
    "2 + 3"
   ]
  },
  {
   "cell_type": "code",
   "execution_count": 8,
   "metadata": {
    "slideshow": {
     "slide_type": "fragment"
    }
   },
   "outputs": [
    {
     "data": {
      "text/plain": [
       "6.0"
      ]
     },
     "execution_count": 8,
     "metadata": {},
     "output_type": "execute_result"
    }
   ],
   "source": [
    "2 * 2.5 + 1"
   ]
  },
  {
   "cell_type": "code",
   "execution_count": 9,
   "metadata": {
    "slideshow": {
     "slide_type": "fragment"
    }
   },
   "outputs": [
    {
     "data": {
      "text/plain": [
       "12"
      ]
     },
     "execution_count": 9,
     "metadata": {},
     "output_type": "execute_result"
    }
   ],
   "source": [
    "max(2,3) * 4"
   ]
  },
  {
   "cell_type": "code",
   "execution_count": 10,
   "metadata": {
    "slideshow": {
     "slide_type": "fragment"
    }
   },
   "outputs": [
    {
     "data": {
      "text/plain": [
       "int"
      ]
     },
     "execution_count": 10,
     "metadata": {},
     "output_type": "execute_result"
    }
   ],
   "source": [
    "type(2+3)"
   ]
  },
  {
   "cell_type": "markdown",
   "metadata": {
    "slideshow": {
     "slide_type": "fragment"
    }
   },
   "source": [
    "*On se concentre sur les expressions arithmétiques pour le moment*"
   ]
  },
  {
   "cell_type": "markdown",
   "metadata": {
    "slideshow": {
     "slide_type": "slide"
    }
   },
   "source": [
    "## Opérateurs arithmétiques"
   ]
  },
  {
   "cell_type": "markdown",
   "metadata": {
    "slideshow": {
     "slide_type": "fragment"
    }
   },
   "source": [
    "Opérateurs sur les nombres :\n",
    "* $+, −, ∗$ : opérateurs usuels\n",
    "* $/$ : la division flottante\n",
    "* $//$ : la division euclidienne\n",
    "* $\\%$ : le modulo (i.e. le reste dans la division euclidienne)\n",
    "* $(\\,\\, )$ : le parenthésage"
   ]
  },
  {
   "cell_type": "code",
   "execution_count": 11,
   "metadata": {
    "slideshow": {
     "slide_type": "fragment"
    }
   },
   "outputs": [
    {
     "data": {
      "text/plain": [
       "20"
      ]
     },
     "execution_count": 11,
     "metadata": {},
     "output_type": "execute_result"
    }
   ],
   "source": [
    "(2 + 3) * 4"
   ]
  },
  {
   "cell_type": "markdown",
   "metadata": {
    "slideshow": {
     "slide_type": "subslide"
    }
   },
   "source": [
    "• **Division euclidienne :**  \n",
    "$3$ est le quotient de la division euclidienne de $7$ par $2$.  \n",
    "$1$ est le reste de la division euclidienne de $7$ par $2$.  \n",
    "Ce que l’on vérifie avec : $7 = 3 \\times 2 + 1$"
   ]
  },
  {
   "cell_type": "code",
   "execution_count": 12,
   "metadata": {
    "slideshow": {
     "slide_type": "fragment"
    }
   },
   "outputs": [
    {
     "data": {
      "text/plain": [
       "(3, 1)"
      ]
     },
     "execution_count": 12,
     "metadata": {},
     "output_type": "execute_result"
    }
   ],
   "source": [
    "7//2, 7%2"
   ]
  },
  {
   "cell_type": "markdown",
   "metadata": {
    "slideshow": {
     "slide_type": "fragment"
    }
   },
   "source": [
    "• **Conversion automatique entre entiers et flottants.**"
   ]
  },
  {
   "cell_type": "code",
   "execution_count": 13,
   "metadata": {
    "slideshow": {
     "slide_type": "fragment"
    }
   },
   "outputs": [
    {
     "data": {
      "text/plain": [
       "(10, 10.0, 5, 5.0)"
      ]
     },
     "execution_count": 13,
     "metadata": {},
     "output_type": "execute_result"
    }
   ],
   "source": [
    "2*5 , 2*5.0 , 10//2 , 10/2"
   ]
  },
  {
   "cell_type": "markdown",
   "metadata": {
    "slideshow": {
     "slide_type": "slide"
    }
   },
   "source": [
    "## Priorité des opérateurs"
   ]
  },
  {
   "cell_type": "markdown",
   "metadata": {
    "slideshow": {
     "slide_type": "fragment"
    }
   },
   "source": [
    "**Règles habituelles de priorités**  \n",
    "• priorité de $∗, /, //$ et $\\%$ sur $+$ et $-$ (moins binaire)  \n",
    "• le moins unaire $-$ est prioritaire sur les autres opérateurs  \n",
    "• les sous-expressions parenthésées sont prioritaires  \n",
    "\n",
    "Exemples :  \n",
    "$2 + 3 * 9$  \n",
    "$=> 2 + 27$  \n",
    "$=> 29$  \n",
    "\n",
    "$(2 + 3) * 9$  \n",
    "$=> 5 * 9$  \n",
    "$=> 45$"
   ]
  },
  {
   "cell_type": "code",
   "execution_count": 14,
   "metadata": {
    "slideshow": {
     "slide_type": "fragment"
    }
   },
   "outputs": [
    {
     "data": {
      "text/plain": [
       "(7, 5, -56, 6.0)"
      ]
     },
     "execution_count": 14,
     "metadata": {},
     "output_type": "execute_result"
    }
   ],
   "source": [
    "4 + 7*3 - 9*2,  4 + 3//2 ,  4 + (7 * -3 - 9) * 2 , 4 + 6/3"
   ]
  },
  {
   "cell_type": "markdown",
   "metadata": {
    "slideshow": {
     "slide_type": "slide"
    }
   },
   "source": [
    "## Fonctions prédéfinies"
   ]
  },
  {
   "cell_type": "markdown",
   "metadata": {
    "slideshow": {
     "slide_type": "fragment"
    }
   },
   "source": [
    "En plus des opérateurs, un certain nombre de fonctions sont pré-définies en $\\texttt{python}$. On parle alors de **primitives**.  \n",
    "\n",
    "Par exemple :  \n",
    "• Fonctions natives : $\\texttt{max} \\, $ , $\\texttt{min} \\, $ , $\\texttt{abs} \\, ,  \\ldots$  \n",
    "• Fonctions du module $\\texttt{math} \\, $ : $\\texttt{sqrt} \\, $ , $\\texttt{cos} \\, $ , $\\texttt{sin} \\,  ,  \\ldots$  \n",
    "\n",
    "Pour utiliser une fonction, il faut connaître sa **spécification**."
   ]
  },
  {
   "cell_type": "markdown",
   "metadata": {
    "slideshow": {
     "slide_type": "slide"
    }
   },
   "source": [
    "## Spécification de fonction  \n",
    "Par exemple :"
   ]
  },
  {
   "cell_type": "code",
   "execution_count": 15,
   "metadata": {
    "slideshow": {
     "slide_type": "fragment"
    }
   },
   "outputs": [],
   "source": [
    "def val_abs(x):\n",
    "    \"\"\" Number −> Number\n",
    "    retourne la valeur absolue de x\"\"\""
   ]
  },
  {
   "cell_type": "markdown",
   "metadata": {
    "slideshow": {
     "slide_type": "fragment"
    }
   },
   "source": [
    "Contient $3$ informations :  \n",
    "\n",
    "1. $\\texttt{def val}\\_\\texttt{abs}(x):$ : la fonction se nomme $\\texttt{val}\\_\\texttt{abs}\\,$ et prend un paramètre $(x)$  \n",
    "2. $\"\"\"$**Number −> Number** : $x$ est un nombre, ainsi que la valeur de retour.  \n",
    "3. **retourne la valeur absolue de x.**$\"\"\"$ : la fonction calcule la valeur absolue"
   ]
  },
  {
   "cell_type": "markdown",
   "metadata": {
    "slideshow": {
     "slide_type": "subslide"
    }
   },
   "source": [
    "## Spécification de fonction  \n",
    "Autre exemple :"
   ]
  },
  {
   "cell_type": "code",
   "execution_count": 16,
   "metadata": {
    "slideshow": {
     "slide_type": "fragment"
    }
   },
   "outputs": [],
   "source": [
    "def val_max(a,b, ):\n",
    "    \"\"\" Number , Number , ... −> Number\n",
    "    retourne la plus grande valeur des parametres .\"\"\""
   ]
  },
  {
   "cell_type": "markdown",
   "metadata": {
    "slideshow": {
     "slide_type": "fragment"
    }
   },
   "source": [
    "1. $\\texttt{def val}\\_\\texttt{max}(a, b, \\ldots)$ : la fonction se nomme $\\texttt{val}\\_\\texttt{max}\\,$ et prend un nombre quelconque de paramètres (au moins $2$)  \n",
    "2. $\"\"\"$**Number** ∗ **Number** ∗ **... −> Number** : les valeurs des paramètres sont des nombres ainsi que la valeur de retour.\n",
    "3. **retourne la plus grande valeur des parametres.**$\"\"\"$ : la fonction calcule la plus grande des valeurs"
   ]
  },
  {
   "cell_type": "markdown",
   "metadata": {
    "slideshow": {
     "slide_type": "subslide"
    }
   },
   "source": [
    "## Spécification de fonction  \n",
    "Un dernier exemple. Une fonction du module $\\texttt{math}$ ."
   ]
  },
  {
   "cell_type": "code",
   "execution_count": 17,
   "metadata": {
    "slideshow": {
     "slide_type": "fragment"
    }
   },
   "outputs": [],
   "source": [
    "def sqrt(x):\n",
    "    \"\"\" Number − > float\n",
    "    hypothese : x >= 0\n",
    "    retourne la racine carree de x.\"\"\""
   ]
  },
  {
   "cell_type": "markdown",
   "metadata": {
    "slideshow": {
     "slide_type": "fragment"
    }
   },
   "source": [
    "1. $\\texttt{def sqrt}(x)$: la fonction se nomme $\\texttt{sqrt}\\,$ et prend un paramètre $(x)$  \n",
    "2. $\"\"\"$**Number −> float** : $x$ est un nombre et la valeur de retour un réel  \n",
    "3. **hypothese : x >= 0** : la valeur du paramètre $x$ doit être positive ou nulle  \n",
    "4. **retourne la racine carree de x**$\"\"\"$ : calcule $\\sqrt{x}$  \n",
    "\n",
    "***Remarque : pour utiliser une fonction d’un module, il faut déclarer le module :***"
   ]
  },
  {
   "cell_type": "code",
   "execution_count": 18,
   "metadata": {
    "slideshow": {
     "slide_type": "fragment"
    }
   },
   "outputs": [
    {
     "data": {
      "text/plain": [
       "2.0"
      ]
     },
     "execution_count": 18,
     "metadata": {},
     "output_type": "execute_result"
    }
   ],
   "source": [
    "import math\n",
    "math.sqrt(4)"
   ]
  },
  {
   "cell_type": "markdown",
   "metadata": {
    "slideshow": {
     "slide_type": "slide"
    }
   },
   "source": [
    "## Spécification de fonction  \n",
    "\n",
    "Plus généralement, la **spécification d'une fonction** contient  \n",
    "\n",
    "<br/>\n",
    "\n",
    "<div style=\"background-color:#f0f0fa;\"> \n",
    "    \n",
    "<b>son en-tête</b> : précise son <b>nom</b> et le nom de ses <b>paramètres</b>  \n",
    "<b>sa signature</b> : donne le type de la valeur des <b>paramètres</b> et de la <b>valeur de retour</b>  \n",
    "<b>sa description</b> : <b>décrit</b> le problème résolu par la fonction\n",
    "</div>\n",
    "\n"
   ]
  },
  {
   "cell_type": "markdown",
   "metadata": {
    "slideshow": {
     "slide_type": "slide"
    }
   },
   "source": [
    "## Application de fonction  \n",
    "À partir d'une définition $\\, \\texttt{def fun}$(param$1$, param$2$, $\\ldots$, param$n):$  \n",
    "on peut appliquer $\\texttt{fun}$(expr$1$, expr$2$, .$\\ldots$, expr$n)$"
   ]
  },
  {
   "cell_type": "code",
   "execution_count": 19,
   "metadata": {
    "slideshow": {
     "slide_type": "fragment"
    }
   },
   "outputs": [
    {
     "data": {
      "text/plain": [
       "(3, 3, 3.5)"
      ]
     },
     "execution_count": 19,
     "metadata": {},
     "output_type": "execute_result"
    }
   ],
   "source": [
    "abs(3)  , abs(-3) , abs(-3.5)"
   ]
  },
  {
   "cell_type": "code",
   "execution_count": 20,
   "metadata": {
    "slideshow": {
     "slide_type": "fragment"
    }
   },
   "outputs": [
    {
     "data": {
      "text/plain": [
       "(3, -1, 4.5, 6)"
      ]
     },
     "execution_count": 20,
     "metadata": {},
     "output_type": "execute_result"
    }
   ],
   "source": [
    "max(1,3) , max(-1,-5) , max(1,2,4.5) , max(1,2,4.5,6)"
   ]
  },
  {
   "cell_type": "markdown",
   "metadata": {
    "slideshow": {
     "slide_type": "slide"
    }
   },
   "source": [
    "## Évaluation des fonctions  \n"
   ]
  },
  {
   "cell_type": "markdown",
   "metadata": {
    "slideshow": {
     "slide_type": "fragment"
    }
   },
   "source": [
    "**Principe d'évaluation des fonctions**  \n",
    "Soit une application de fonction $\\, \\texttt{fun}$(expr$1$, expr$2$, $\\ldots$, expr$n):$  \n",
    "\n",
    "1. on évalue d'abord les expressions expr$1$ , expr$2$ , $\\ldots$, expr$n$  \n",
    "2. on remplace l'appel de la fonction par la valeur calculée par la fonction"
   ]
  },
  {
   "cell_type": "markdown",
   "metadata": {
    "slideshow": {
     "slide_type": "fragment"
    }
   },
   "source": [
    "Exemple :  \n",
    "$max(2+3, 4*12)$  \n",
    "$=> max(5,4*12)$  \n",
    "$=> max(5,48)$  \n",
    "$=> 48$  \n",
    "\n",
    "**Attention** : l'appel de fonction est prioritaire sur les opérateurs  \n",
    "$max(2+3, 4*12) * 2$  \n",
    "$=> max(5,48) * 2$  \n",
    "$=> 48 * 2 => 96$  "
   ]
  },
  {
   "cell_type": "markdown",
   "metadata": {
    "slideshow": {
     "slide_type": "slide"
    }
   },
   "source": [
    "## Définition de fonction  \n",
    "**Question** : Quel est le périmètre d'un rectangle de largeur $2$ unités et longueur $5$ unités ?  \n",
    "**Réponse** : $14$. Il suffit d'évaluer l'expression arithmétique $2 + 2 + 5 + 5$"
   ]
  },
  {
   "cell_type": "markdown",
   "metadata": {
    "slideshow": {
     "slide_type": "fragment"
    }
   },
   "source": [
    "Pas satisfaisant car on voudrait :  \n",
    "• Résoudre un problème plus général (abstraction du problème)  \n",
    "• Éviter de faire appel plusieurs fois à une expression complexe (factorisation du code)  \n",
    "\n",
    "-> On aimerait en fait une fonction $\\texttt{perimetre}$ qui, étant donné la largeur et la longueur d'un rectangle, calcule son périmètre."
   ]
  },
  {
   "cell_type": "markdown",
   "metadata": {
    "slideshow": {
     "slide_type": "subslide"
    }
   },
   "source": [
    "## Définition de fonction  \n",
    "• Avec seulement des *primitives*: **calculatrice** améliorée  \n",
    "• **Programmation** : définition de fonctions par le programmeur  \n",
    "• Les *fonction* ont une place centrale en informatique  \n",
    "• Elles permettent de **paramétrer**, d'**automatiser** et de **généraliser** des calculs  "
   ]
  },
  {
   "cell_type": "markdown",
   "metadata": {
    "slideshow": {
     "slide_type": "subslide"
    }
   },
   "source": [
    "## Étapes de réflexion  \n",
    "Pour **définir une fonction**, il faut  \n",
    "1. Établir la **spécification** de la fonction  \n",
    "2. **Inventer** les opérations à effectuer pour répondre au problème  \n",
    "3. **Traduire** la solution dans le langage choisi  \n",
    "4. **Tester** la correction de la fonction  "
   ]
  },
  {
   "cell_type": "markdown",
   "metadata": {
    "slideshow": {
     "slide_type": "subslide"
    }
   },
   "source": [
    "## Périmètre : spécification  \n",
    "1. La spécification : fonction qui prend deux nombres et renvoie un nombre"
   ]
  },
  {
   "cell_type": "code",
   "execution_count": 21,
   "metadata": {
    "slideshow": {
     "slide_type": "fragment"
    }
   },
   "outputs": [],
   "source": [
    "def perimetre (largeur , longueur ):\n",
    "    \"\"\" Number , Number − > Number\n",
    "    hypothese : ( largeur >= 0) and ( longueur >=0)\n",
    "    hypothese : largeur <= longueur\n",
    "    retourne le perimetre du rectangle defini par sa largeur et sa longueur \"\"\""
   ]
  },
  {
   "cell_type": "markdown",
   "metadata": {
    "slideshow": {
     "slide_type": "fragment"
    }
   },
   "source": [
    "**Remarques sur la spécification**  \n",
    "• c’est le mot-clef $\\texttt{def}\\,$ qui permet de commencer la définition de fonction  \n",
    "• on définit une fonction pour les utilisateurs et autres programmeurs  \n",
    "-> la spécification sert de référence  \n",
    "• la spécification est encadrée par $3$ guillemets ( $\"\"\"$ )  \n",
    "• l'indentation est obligatoire : $4$ espaces ou $1$ tabulation  \n",
    "• les hypothèses sont des expressions booléennes  \n",
    "• les hypothèses restreignent le domaine de valeurs possibles  "
   ]
  },
  {
   "cell_type": "markdown",
   "metadata": {
    "slideshow": {
     "slide_type": "subslide"
    }
   },
   "source": [
    "## Périmètre : implémentation  \n",
    "2. Inventer : il suffit d'additionner $\\texttt{largeur}$ et $\\texttt{longueur}$ deux fois  \n",
    "3. Traduire : ce qui correspond à l'expression $2 ∗ (\\texttt{largeur} + \\texttt{longueur})$"
   ]
  },
  {
   "cell_type": "code",
   "execution_count": 22,
   "metadata": {
    "slideshow": {
     "slide_type": "fragment"
    }
   },
   "outputs": [],
   "source": [
    "def perimetre (largeur , longueur ):\n",
    "    \"\"\" Number , Number − > Number\n",
    "    hypothese : ( largeur >= 0) and ( longueur >=0)\n",
    "    hypothese : largeur <= longueur\n",
    "    retourne le perimetre du rectangle defini par sa largeur et sa longueur \"\"\"\n",
    "    return 2*(largeur+longueur)"
   ]
  },
  {
   "cell_type": "markdown",
   "metadata": {
    "slideshow": {
     "slide_type": "fragment"
    }
   },
   "source": [
    "**Remarques sur l'implémentation**  \n",
    "• l'**indentation** est obligatoire : $4$ espaces ou $1$ tabulation  \n",
    "• c'est l'instruction $\\texttt{return}\\,expr\\,$  qui permet de clore la définition :  \n",
    "$\\quad$ i) Évaluation de l'expression $expr$  \n",
    "$\\quad$ ii) Retour de la fonction à l'appelant avec la **valeur de retour**  \n",
    "• Plusieurs implémentations possibles pour une spécification :  $\\texttt{return (largeur + longueur) + (largeur + longueur)}$"
   ]
  },
  {
   "cell_type": "markdown",
   "metadata": {
    "slideshow": {
     "slide_type": "subslide"
    }
   },
   "source": [
    "## Périmètre : jeu de tests  \n",
    "4. Tester : grâce à la fonction $\\texttt{assert}$"
   ]
  },
  {
   "cell_type": "code",
   "execution_count": 23,
   "metadata": {
    "slideshow": {
     "slide_type": "fragment"
    }
   },
   "outputs": [],
   "source": [
    "assert perimetre (2,5)==14"
   ]
  },
  {
   "cell_type": "code",
   "execution_count": 24,
   "metadata": {
    "slideshow": {
     "slide_type": "fragment"
    }
   },
   "outputs": [],
   "source": [
    "assert perimetre (0,0)==0\n",
    "assert perimetre (0,2)==4\n",
    "assert perimetre (2,3)==10"
   ]
  },
  {
   "cell_type": "markdown",
   "metadata": {
    "slideshow": {
     "slide_type": "fragment"
    }
   },
   "source": [
    "**Remarques sur les jeux de tests**  \n",
    "• Ils servent au programmeur pour valider la définition  \n",
    "• Ils doivent couvrir tous les cas possibles  \n",
    "• les cas de base  \n",
    "• les cas extrêmes  \n",
    "• Ils n’affichent rien, sauf si un test ne passe pas  "
   ]
  },
  {
   "cell_type": "code",
   "execution_count": 25,
   "metadata": {
    "slideshow": {
     "slide_type": "fragment"
    }
   },
   "outputs": [
    {
     "ename": "AssertionError",
     "evalue": "",
     "output_type": "error",
     "traceback": [
      "\u001b[0;31m---------------------------------------------------------------------------\u001b[0m",
      "\u001b[0;31mAssertionError\u001b[0m                            Traceback (most recent call last)",
      "\u001b[0;32m<ipython-input-25-cc3920bdfdcb>\u001b[0m in \u001b[0;36m<module>\u001b[0;34m\u001b[0m\n\u001b[0;32m----> 1\u001b[0;31m \u001b[0;32massert\u001b[0m \u001b[0mperimetre\u001b[0m\u001b[0;34m(\u001b[0m\u001b[0;36m2\u001b[0m\u001b[0;34m,\u001b[0m\u001b[0;36m3\u001b[0m\u001b[0;34m)\u001b[0m \u001b[0;34m==\u001b[0m \u001b[0;36m12\u001b[0m\u001b[0;34m\u001b[0m\u001b[0;34m\u001b[0m\u001b[0m\n\u001b[0m",
      "\u001b[0;31mAssertionError\u001b[0m: "
     ]
    }
   ],
   "source": [
    "assert perimetre(2,3) == 12"
   ]
  },
  {
   "cell_type": "markdown",
   "metadata": {
    "slideshow": {
     "slide_type": "slide"
    }
   },
   "source": [
    "## Conclusion  \n",
    "Ce qu'il faut savoir faire à l'issue de cette partie :  \n",
    "* Appliquer les **principes d'évaluation** pour les expressions arithmétiques  \n",
    "* Définir des fonctions simples consistant à paramétrer des expressions arithmétiques, avec :  \n",
    "  * une **spécification** précise du problème résolu (en-tête, signature,hypothèses et description)  \n",
    "  * une **implémentation** du corps de la fonction  \n",
    "  * un **jeu de tests** complet permettant de valider la fonction  "
   ]
  }
 ],
 "metadata": {
  "celltoolbar": "Diaporama",
  "kernelspec": {
   "display_name": "Python 3",
   "language": "python",
   "name": "python3"
  },
  "language_info": {
   "codemirror_mode": {
    "name": "ipython",
    "version": 3
   },
   "file_extension": ".py",
   "mimetype": "text/x-python",
   "name": "python",
   "nbconvert_exporter": "python",
   "pygments_lexer": "ipython3",
   "version": "3.6.8"
  },
  "rise": {
   "autolaunch": true,
   "enable_chalkboard": true,
   "scroll": true
  }
 },
 "nbformat": 4,
 "nbformat_minor": 2
}
