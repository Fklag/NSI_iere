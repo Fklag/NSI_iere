{
 "cells": [
  {
   "cell_type": "markdown",
   "metadata": {
    "slideshow": {
     "slide_type": "slide"
    }
   },
   "source": [
    "<table>   <tr>\n",
    "    <td>Sciences Numériques et Technologie </td>\n",
    "    <td><img src=\"images/logo.jpg\"      alt=\"St Joseph-La Salle LORIENT\" width=\"50\"      height=\"48\"></td>\n",
    "  </tr>   </table>\n",
    "  \n",
    "# Apprentissage de jupyter Notebook - Exercice de prise en main\n",
    "\n",
    "Cet exercice a pour objectif de vous faire rapidement explorer les **fonctionnalités de base** de l'interpréteur interactif **jupyter** en mode **Notebook** et de vous familiariser avec le langages **Python**\n",
    "\n",
    "\n",
    "-----"
   ]
  },
  {
   "cell_type": "markdown",
   "metadata": {
    "slideshow": {
     "slide_type": "slide"
    }
   },
   "source": [
    "## A/ Édition et exécution d'une cellule de code"
   ]
  },
  {
   "cell_type": "markdown",
   "metadata": {
    "slideshow": {
     "slide_type": "subslide"
    }
   },
   "source": [
    "Un notebook jupyter consiste en **cellules** individuelles permettant de tester du **code** Python.\n",
    "\n",
    "**A.1)** Une cellule notée **Entrée[ ]:** correspond à une suite d'instruction Python que l'on peut tester directement\n",
    "\n",
    "\n",
    "Pour **exécuter le code** Python d'une cellule, il faut cliquer sur le bouton <button class='fa fa-step-forward icon-step-forward'></button>. Tester sur les deux cellules suivantes"
   ]
  },
  {
   "cell_type": "code",
   "execution_count": null,
   "metadata": {
    "slideshow": {
     "slide_type": "subslide"
    }
   },
   "outputs": [],
   "source": [
    "print ('Bonjour à tous')"
   ]
  },
  {
   "cell_type": "code",
   "execution_count": null,
   "metadata": {
    "slideshow": {
     "slide_type": "fragment"
    }
   },
   "outputs": [],
   "source": [
    "print (52+2)"
   ]
  },
  {
   "cell_type": "markdown",
   "metadata": {
    "slideshow": {
     "slide_type": "fragment"
    }
   },
   "source": [
    "**Noter** le retour d'exécution de ces deux cellules"
   ]
  },
  {
   "cell_type": "markdown",
   "metadata": {
    "slideshow": {
     "slide_type": "subslide"
    }
   },
   "source": [
    "**A.2)** Exécutez maintenant le code de la cellule ci-dessous."
   ]
  },
  {
   "cell_type": "code",
   "execution_count": 1,
   "metadata": {
    "slideshow": {
     "slide_type": "-"
    }
   },
   "outputs": [
    {
     "name": "stdout",
     "output_type": "stream",
     "text": [
      "La somme de ces 2 nombres vaut : 16\n"
     ]
    }
   ],
   "source": [
    "a = 6   #affectation de la variables a, a contient  un entier\n",
    "b = 10  # affectation de la avriables b , b contient aussi un entier\n",
    "print('La somme de ces 2 nombres vaut :', a + b)"
   ]
  },
  {
   "cell_type": "code",
   "execution_count": 2,
   "metadata": {},
   "outputs": [
    {
     "name": "stdout",
     "output_type": "stream",
     "text": [
      "Collecting metakernel\n",
      "  Downloading https://files.pythonhosted.org/packages/ad/a9/0cd74cfbc9c4aeb117bdb7fd9ff12c3890be34ef5c77932e00ef4afaca98/metakernel-0.24.3-py2.py3-none-any.whl (208kB)\n",
      "\u001b[K    100% |████████████████████████████████| 215kB 1.4MB/s ta 0:00:01\n",
      "\u001b[?25hCollecting ipyparallel (from metakernel)\n",
      "  Downloading https://files.pythonhosted.org/packages/3f/82/aaa7a357845a98d4028f27c799f0d3bb2fe55fc1247c73dc712b4ae2344c/ipyparallel-6.2.4-py2.py3-none-any.whl (198kB)\n",
      "\u001b[K    100% |████████████████████████████████| 204kB 1.5MB/s ta 0:00:01\n",
      "\u001b[?25hCollecting pexpect>=4.2 (from metakernel)\n",
      "  Using cached https://files.pythonhosted.org/packages/39/7b/88dbb785881c28a102619d46423cb853b46dbccc70d3ac362d99773a78ce/pexpect-4.8.0-py2.py3-none-any.whl\n",
      "Collecting portalocker (from metakernel)\n",
      "  Downloading https://files.pythonhosted.org/packages/91/db/7bc703c0760df726839e0699b7f78a4d8217fdc9c7fcb1b51b39c5a22a4e/portalocker-1.5.2-py2.py3-none-any.whl\n",
      "Collecting ipykernel (from metakernel)\n",
      "  Using cached https://files.pythonhosted.org/packages/59/9e/e16335ee2d645ee48f082e4207d4fad9bdce09cc1537e76320c341d8d75c/ipykernel-4.10.1-py2-none-any.whl\n",
      "Collecting futures; python_version == \"2.7\" (from ipyparallel->metakernel)\n",
      "  Using cached https://files.pythonhosted.org/packages/d8/a6/f46ae3f1da0cd4361c344888f59ec2f5785e69c872e175a748ef6071cdb5/futures-3.3.0-py2-none-any.whl\n",
      "Collecting jupyter-client (from ipyparallel->metakernel)\n",
      "  Using cached https://files.pythonhosted.org/packages/13/81/fe0eee1bcf949851a120254b1f530ae1e01bdde2d3ab9710c6ff81525061/jupyter_client-5.3.4-py2.py3-none-any.whl\n",
      "Collecting tornado>=4 (from ipyparallel->metakernel)\n",
      "Collecting traitlets>=4.3 (from ipyparallel->metakernel)\n",
      "  Using cached https://files.pythonhosted.org/packages/ca/ab/872a23e29cec3cf2594af7e857f18b687ad21039c1f9b922fac5b9b142d5/traitlets-4.3.3-py2.py3-none-any.whl\n",
      "Collecting ipython-genutils (from ipyparallel->metakernel)\n",
      "  Using cached https://files.pythonhosted.org/packages/fa/bc/9bd3b5c2b4774d5f33b2d544f1460be9df7df2fe42f352135381c347c69a/ipython_genutils-0.2.0-py2.py3-none-any.whl\n",
      "Collecting pyzmq>=13 (from ipyparallel->metakernel)\n",
      "  Using cached https://files.pythonhosted.org/packages/c8/f8/73c259238e6ec5afbede83a3f4e75f57228171109aafa4aa1b8c33e09778/pyzmq-18.1.1-cp27-cp27mu-manylinux1_x86_64.whl\n",
      "Collecting python-dateutil>=2.1 (from ipyparallel->metakernel)\n",
      "  Using cached https://files.pythonhosted.org/packages/d4/70/d60450c3dd48ef87586924207ae8907090de0b306af2bce5d134d78615cb/python_dateutil-2.8.1-py2.py3-none-any.whl\n",
      "Collecting ipython>=4 (from ipyparallel->metakernel)\n",
      "  Using cached https://files.pythonhosted.org/packages/b0/88/d996ab8be22cea1eaa18baee3678a11265e18cf09974728d683c51102148/ipython-5.8.0-py2-none-any.whl\n",
      "Collecting decorator (from ipyparallel->metakernel)\n",
      "  Using cached https://files.pythonhosted.org/packages/8f/b7/f329cfdc75f3d28d12c65980e4469e2fa373f1953f5df6e370e84ea2e875/decorator-4.4.1-py2.py3-none-any.whl\n",
      "Collecting ptyprocess>=0.5 (from pexpect>=4.2->metakernel)\n",
      "  Using cached https://files.pythonhosted.org/packages/d1/29/605c2cc68a9992d18dada28206eeada56ea4bd07a239669da41674648b6f/ptyprocess-0.6.0-py2.py3-none-any.whl\n",
      "Collecting jupyter-core>=4.6.0 (from jupyter-client->ipyparallel->metakernel)\n",
      "  Using cached https://files.pythonhosted.org/packages/fb/82/86437f661875e30682e99d04c13ba6c216f86f5f6ca6ef212d3ee8b6ca11/jupyter_core-4.6.1-py2.py3-none-any.whl\n",
      "Collecting singledispatch (from tornado>=4->ipyparallel->metakernel)\n",
      "  Using cached https://files.pythonhosted.org/packages/c5/10/369f50bcd4621b263927b0a1519987a04383d4a98fb10438042ad410cf88/singledispatch-3.4.0.3-py2.py3-none-any.whl\n",
      "Collecting backports-abc>=0.4 (from tornado>=4->ipyparallel->metakernel)\n",
      "  Using cached https://files.pythonhosted.org/packages/7d/56/6f3ac1b816d0cd8994e83d0c4e55bc64567532f7dc543378bd87f81cebc7/backports_abc-0.5-py2.py3-none-any.whl\n",
      "Collecting six (from traitlets>=4.3->ipyparallel->metakernel)\n",
      "  Using cached https://files.pythonhosted.org/packages/65/eb/1f97cb97bfc2390a276969c6fae16075da282f5058082d4cb10c6c5c1dba/six-1.14.0-py2.py3-none-any.whl\n",
      "Collecting enum34; python_version == \"2.7\" (from traitlets>=4.3->ipyparallel->metakernel)\n",
      "  Using cached https://files.pythonhosted.org/packages/c5/db/e56e6b4bbac7c4a06de1c50de6fe1ef3810018ae11732a50f15f62c7d050/enum34-1.1.6-py2-none-any.whl\n",
      "Collecting simplegeneric>0.8 (from ipython>=4->ipyparallel->metakernel)\n",
      "Collecting pickleshare (from ipython>=4->ipyparallel->metakernel)\n",
      "  Using cached https://files.pythonhosted.org/packages/9a/41/220f49aaea88bc6fa6cba8d05ecf24676326156c23b991e80b3f2fc24c77/pickleshare-0.7.5-py2.py3-none-any.whl\n",
      "Collecting backports.shutil-get-terminal-size; python_version == \"2.7\" (from ipython>=4->ipyparallel->metakernel)\n",
      "  Using cached https://files.pythonhosted.org/packages/7d/cd/1750d6c35fe86d35f8562091737907f234b78fdffab42b29c72b1dd861f4/backports.shutil_get_terminal_size-1.0.0-py2.py3-none-any.whl\n",
      "Collecting pathlib2; python_version == \"2.7\" or python_version == \"3.3\" (from ipython>=4->ipyparallel->metakernel)\n",
      "  Using cached https://files.pythonhosted.org/packages/e9/45/9c82d3666af4ef9f221cbb954e1d77ddbb513faf552aea6df5f37f1a4859/pathlib2-2.3.5-py2.py3-none-any.whl\n",
      "Collecting pygments (from ipython>=4->ipyparallel->metakernel)\n",
      "  Using cached https://files.pythonhosted.org/packages/be/39/32da3184734730c0e4d3fa3b2b5872104668ad6dc1b5a73d8e477e5fe967/Pygments-2.5.2-py2.py3-none-any.whl\n",
      "Collecting prompt-toolkit<2.0.0,>=1.0.4 (from ipython>=4->ipyparallel->metakernel)\n",
      "  Using cached https://files.pythonhosted.org/packages/9d/d2/2f099b5cd62dab819ce7a9f1431c09a9032fbfbb6474f442722e88935376/prompt_toolkit-1.0.18-py2-none-any.whl\n",
      "Collecting setuptools>=18.5 (from ipython>=4->ipyparallel->metakernel)\n",
      "  Using cached https://files.pythonhosted.org/packages/f9/d3/955738b20d3832dfa3cd3d9b07e29a8162edb480bf988332f5e6e48ca444/setuptools-44.0.0-py2.py3-none-any.whl\n",
      "Collecting scandir; python_version < \"3.5\" (from pathlib2; python_version == \"2.7\" or python_version == \"3.3\"->ipython>=4->ipyparallel->metakernel)\n",
      "Collecting wcwidth (from prompt-toolkit<2.0.0,>=1.0.4->ipython>=4->ipyparallel->metakernel)\n",
      "  Using cached https://files.pythonhosted.org/packages/58/b4/4850a0ccc6f567cc0ebe7060d20ffd4258b8210efadc259da62dc6ed9c65/wcwidth-0.1.8-py2.py3-none-any.whl\n",
      "Installing collected packages: six, enum34, ipython-genutils, decorator, traitlets, simplegeneric, scandir, pathlib2, pickleshare, backports.shutil-get-terminal-size, ptyprocess, pexpect, pygments, wcwidth, prompt-toolkit, setuptools, ipython, pyzmq, jupyter-core, python-dateutil, futures, singledispatch, backports-abc, tornado, jupyter-client, ipykernel, ipyparallel, portalocker, metakernel\n",
      "Successfully installed backports-abc-0.5 backports.shutil-get-terminal-size-1.0.0 decorator-4.4.1 enum34-1.1.6 futures-3.3.0 ipykernel-4.10.1 ipyparallel-6.2.4 ipython-5.8.0 ipython-genutils-0.2.0 jupyter-client-5.3.4 jupyter-core-4.6.1 metakernel-0.24.3 pathlib2-2.3.5 pexpect-4.8.0 pickleshare-0.7.5 portalocker-1.5.2 prompt-toolkit-1.0.18 ptyprocess-0.6.0 pygments-2.5.2 python-dateutil-2.8.1 pyzmq-18.1.1 scandir-1.10.0 setuptools-44.0.0 simplegeneric-0.8.1 singledispatch-3.4.0.3 six-1.14.0 tornado-5.1.1 traitlets-4.3.3 wcwidth-0.1.8\n"
     ]
    }
   ],
   "source": [
    "!pip install metakernel"
   ]
  },
  {
   "cell_type": "code",
   "execution_count": 3,
   "metadata": {},
   "outputs": [
    {
     "ename": "ModuleNotFoundError",
     "evalue": "No module named 'metakernel'",
     "output_type": "error",
     "traceback": [
      "\u001b[0;31m---------------------------------------------------------------------------\u001b[0m",
      "\u001b[0;31mModuleNotFoundError\u001b[0m                       Traceback (most recent call last)",
      "\u001b[0;32m<ipython-input-3-c630490c68e9>\u001b[0m in \u001b[0;36m<module>\u001b[0;34m\u001b[0m\n\u001b[1;32m      1\u001b[0m \u001b[0;31m#pour visualiser le déroulement en pas à pas\u001b[0m\u001b[0;34m\u001b[0m\u001b[0;34m\u001b[0m\u001b[0;34m\u001b[0m\u001b[0m\n\u001b[0;32m----> 2\u001b[0;31m \u001b[0;32mfrom\u001b[0m \u001b[0mmetakernel\u001b[0m \u001b[0;32mimport\u001b[0m \u001b[0mregister_ipython_magics\u001b[0m\u001b[0;34m\u001b[0m\u001b[0;34m\u001b[0m\u001b[0m\n\u001b[0m\u001b[1;32m      3\u001b[0m \u001b[0mregister_ipython_magics\u001b[0m\u001b[0;34m(\u001b[0m\u001b[0;34m)\u001b[0m\u001b[0;34m\u001b[0m\u001b[0;34m\u001b[0m\u001b[0m\n",
      "\u001b[0;31mModuleNotFoundError\u001b[0m: No module named 'metakernel'"
     ]
    }
   ],
   "source": [
    "#pour visualiser le déroulement en pas à pas\n",
    "from metakernel import register_ipython_magics\n",
    "register_ipython_magics()\n"
   ]
  },
  {
   "cell_type": "code",
   "execution_count": 4,
   "metadata": {},
   "outputs": [
    {
     "data": {
      "text/html": [
       "\n",
       "        <iframe\n",
       "            width=\"100%\"\n",
       "            height=\"500\"\n",
       "            src=\"https://pythontutor.com/iframe-embed.html#code=%0Aa%20%3D%206%20%20%20%23affectation%20de%20la%20variables%20a%2C%20a%20contient%20%20un%20entier%0Ab%20%3D%2010%20%20%23%20affectation%20de%20la%20avriables%20b%20%2C%20b%20contient%20aussi%20un%20entier%0Aprint%28%27La%20somme%20de%20ces%202%20nombres%20vaut%20%3A%27%2C%20a%20%2B%20b%29%0A&origin=opt-frontend.js&cumulative=false&heapPrimitives=false&textReferences=false&py=3&rawInputLstJSON=%5B%5D&curInstr=0&codeDivWidth=350&codeDivHeight=400\"\n",
       "            frameborder=\"0\"\n",
       "            allowfullscreen\n",
       "        ></iframe>\n",
       "        "
      ],
      "text/plain": [
       "<IPython.lib.display.IFrame at 0x2098a2bcb70>"
      ]
     },
     "metadata": {},
     "output_type": "display_data"
    }
   ],
   "source": [
    "%%tutor\n",
    "a = 6   #affectation de la variables a, a contient  un entier\n",
    "b = 10  # affectation de la avriables b , b contient aussi un entier\n",
    "print('La somme de ces 2 nombres vaut :', a + b)"
   ]
  },
  {
   "cell_type": "code",
   "execution_count": 5,
   "metadata": {},
   "outputs": [
    {
     "data": {
      "text/html": [
       "\n",
       "        <iframe\n",
       "            width=\"100%\"\n",
       "            height=\"500\"\n",
       "            src=\"https://pythontutor.com/iframe-embed.html#code=%0Aa%20%3D%206%20%20%20%23affectation%20de%20la%20variables%20a%2C%20a%20contient%20%20un%20entier%0Ab%20%3D%2010%20%20%23%20affectation%20de%20la%20avriables%20b%20%2C%20b%20contient%20aussi%20un%20entier%0Asomme%20%3D%20a%2Bb%0Aprint%28%27La%20somme%20de%20ces%202%20nombres%20vaut%20%3A%27%2Csomme%29%0A&origin=opt-frontend.js&cumulative=false&heapPrimitives=false&textReferences=false&py=3&rawInputLstJSON=%5B%5D&curInstr=0&codeDivWidth=350&codeDivHeight=400\"\n",
       "            frameborder=\"0\"\n",
       "            allowfullscreen\n",
       "        ></iframe>\n",
       "        "
      ],
      "text/plain": [
       "<IPython.lib.display.IFrame at 0x2098a2e85f8>"
      ]
     },
     "metadata": {},
     "output_type": "display_data"
    }
   ],
   "source": [
    "%%tutor\n",
    "a = 6   #affectation de la variables a, a contient  un entier\n",
    "b = 10  # affectation de la avriables b , b contient aussi un entier\n",
    "somme = a+b\n",
    "print('La somme de ces 2 nombres vaut :',somme)"
   ]
  },
  {
   "cell_type": "markdown",
   "metadata": {
    "slideshow": {
     "slide_type": "fragment"
    }
   },
   "source": [
    "**Question** : Quelle est la différence entre les deux programmes précédents"
   ]
  },
  {
   "cell_type": "markdown",
   "metadata": {
    "slideshow": {
     "slide_type": "slide"
    }
   },
   "source": [
    "## B/ Gestion des entrées / sorties"
   ]
  },
  {
   "cell_type": "markdown",
   "metadata": {
    "slideshow": {
     "slide_type": "subslide"
    }
   },
   "source": [
    "**B.1)** Affectation d'une valeur entrée au clavier."
   ]
  },
  {
   "cell_type": "markdown",
   "metadata": {
    "slideshow": {
     "slide_type": "subslide"
    }
   },
   "source": [
    "Saisie d'une chaîne de caractères "
   ]
  },
  {
   "cell_type": "code",
   "execution_count": null,
   "metadata": {
    "slideshow": {
     "slide_type": "fragment"
    }
   },
   "outputs": [],
   "source": [
    "nom = input (\"Quel est votre nom ?\")"
   ]
  },
  {
   "cell_type": "markdown",
   "metadata": {
    "slideshow": {
     "slide_type": "fragment"
    }
   },
   "source": [
    "La variable *nom* prend la valeur de votre nom de famille"
   ]
  },
  {
   "cell_type": "markdown",
   "metadata": {
    "slideshow": {
     "slide_type": "slide"
    }
   },
   "source": [
    "L'autre type de variable sont les nombres réels"
   ]
  },
  {
   "cell_type": "code",
   "execution_count": null,
   "metadata": {
    "slideshow": {
     "slide_type": "-"
    }
   },
   "outputs": [],
   "source": [
    "Nombre=input(\"Entrez un nombre\")\n",
    "n=float(Nombre)\n",
    "print(\"Le carré de\",n, \"est,\",n*n)"
   ]
  },
  {
   "cell_type": "markdown",
   "metadata": {
    "slideshow": {
     "slide_type": "fragment"
    }
   },
   "source": [
    "**Question** : Expliquer la dernière ligne de cette cellule <br>\n",
    "\n",
    "**réponse** : "
   ]
  },
  {
   "cell_type": "markdown",
   "metadata": {
    "slideshow": {
     "slide_type": "subslide"
    }
   },
   "source": [
    "**B.2)** Les opérations mathémariques de base sont :\n",
    "        + addition\n",
    "        - soustraction\n",
    "        * multiplication\n",
    "        / division\n",
    "        ** puissance\n",
    "        // division entière\n",
    "        % reste de la division\n"
   ]
  },
  {
   "cell_type": "markdown",
   "metadata": {
    "slideshow": {
     "slide_type": "slide"
    }
   },
   "source": [
    "**Synthèse** : Ecrire un programme qui permet de calculer l'équation **a +2xc**  \n",
    "La saisie des valeurs de a et c se fait au clavier et résultat apparaît sous la forme :\n",
    "* Le résultat de a + 2xc vaut\n",
    "\n",
    "Compléter la cellule suivante : "
   ]
  },
  {
   "cell_type": "code",
   "execution_count": null,
   "metadata": {},
   "outputs": [],
   "source": [
    "# compléter  ici le code qui permet de calculer l'équation : "
   ]
  },
  {
   "cell_type": "markdown",
   "metadata": {
    "slideshow": {
     "slide_type": "-"
    }
   },
   "source": [
    "## C/ Les tests et boucles"
   ]
  },
  {
   "cell_type": "markdown",
   "metadata": {
    "slideshow": {
     "slide_type": "-"
    }
   },
   "source": [
    "<u><b>C.1/</b>La boucle <b>for ... in</b></u>"
   ]
  },
  {
   "cell_type": "markdown",
   "metadata": {
    "slideshow": {
     "slide_type": "subslide"
    }
   },
   "source": [
    "Cette boucle permet de répéter une ou des instructions identiques plusieurs fois afin d'alléger le nombre de lignes d'un programme\n",
    "\n",
    "\n",
    "Exécutez ces deux cellules : "
   ]
  },
  {
   "cell_type": "code",
   "execution_count": null,
   "metadata": {},
   "outputs": [],
   "source": [
    "for i in range(4):\n",
    "    print(i)"
   ]
  },
  {
   "cell_type": "code",
   "execution_count": null,
   "metadata": {},
   "outputs": [],
   "source": [
    "for i in range(4):\n",
    "    print(i, end =\"\")"
   ]
  },
  {
   "cell_type": "markdown",
   "metadata": {
    "slideshow": {
     "slide_type": "fragment"
    }
   },
   "source": [
    "**Question** : Quelle est la différence des résultats obtenus ? \n",
    "\n",
    "**Réponse** : "
   ]
  },
  {
   "cell_type": "markdown",
   "metadata": {
    "slideshow": {
     "slide_type": "slide"
    }
   },
   "source": [
    "<u><b>C.1/</b>Le test conditionnel  <b>if .....else</b></u>"
   ]
  },
  {
   "cell_type": "markdown",
   "metadata": {
    "slideshow": {
     "slide_type": "subslide"
    }
   },
   "source": [
    "Le test **if   else** permet d'exécuter une instruction selon une condition.\n",
    "\n",
    "Exécutez la cellule suivante plusieurs fois afin de visualiser le résultat."
   ]
  },
  {
   "cell_type": "code",
   "execution_count": null,
   "metadata": {
    "slideshow": {
     "slide_type": "subslide"
    }
   },
   "outputs": [],
   "source": [
    "Nombre=input(\"Entrez un nombre\")\n",
    "n=float(Nombre)\n",
    "if (n>=3):\n",
    "    print(\"ce nombre est supérieur à 3\")\n",
    "else:\n",
    "    print(\"ce nombre est inférieur à 3\")\n",
    "print(\"fin du test\")"
   ]
  },
  {
   "cell_type": "markdown",
   "metadata": {
    "slideshow": {
     "slide_type": "subslide"
    }
   },
   "source": [
    "**les principaux opérateurs de test** sont : \n",
    "\n",
    "   si N est égal à zéro      --> if (N==0): <br>\n",
    "   si N est positif   --> if (N>0):<br>\n",
    "   si N est supérieur ou égal à 3   --> if (N>=3):<br>\n",
    "   si N est différent de 3   --> if (N!=3):<br>\n",
    "   si N est est compris strictement entre 2 et 12 --> if (N>2) and (N<12):"
   ]
  },
  {
   "cell_type": "markdown",
   "metadata": {
    "slideshow": {
     "slide_type": "subslide"
    }
   },
   "source": [
    "**Synthèse** : Modifier la cellule précédente afin de résoudre le problème qui apparaît si on entre la valeur 3.\n",
    "\n",
    "Pour cela, on utilise l'instruction **elif** qui correspond à **Sinon si**"
   ]
  },
  {
   "cell_type": "code",
   "execution_count": null,
   "metadata": {},
   "outputs": [],
   "source": [
    "# compléter  ici le code qui permet le test complet : "
   ]
  },
  {
   "cell_type": "markdown",
   "metadata": {
    "slideshow": {
     "slide_type": "slide"
    }
   },
   "source": [
    "<u><b>C.1/</b>La boucle <b>while</b></u>"
   ]
  },
  {
   "cell_type": "markdown",
   "metadata": {
    "slideshow": {
     "slide_type": "subslide"
    }
   },
   "source": [
    "Cette boucle permet de répéter un groupe d'instruction **tant que** la condition testée reste vraie.\n",
    "\n",
    "Exécutez la cellule suivante"
   ]
  },
  {
   "cell_type": "code",
   "execution_count": null,
   "metadata": {
    "slideshow": {
     "slide_type": "fragment"
    }
   },
   "outputs": [],
   "source": [
    "k = 0\n",
    "while k<12:\n",
    "    print(\"voici ma série de nombres :\" ,k)\n",
    "    k=k+1\n",
    "print(\"fin de ma série\")"
   ]
  },
  {
   "cell_type": "markdown",
   "metadata": {
    "slideshow": {
     "slide_type": "slide"
    }
   },
   "source": [
    "## D/ Les listes et chaînes de caractères"
   ]
  },
  {
   "cell_type": "markdown",
   "metadata": {},
   "source": [
    "Une **liste** est un ensemble de valeurs (nombres ou caractères) regroupées dans une seule variable qui s'apparente un tableau dont les cases sont numérotées de 0 à n.\n"
   ]
  },
  {
   "cell_type": "markdown",
   "metadata": {
    "slideshow": {
     "slide_type": "subslide"
    }
   },
   "source": [
    "Exécutez la cellule suivante :"
   ]
  },
  {
   "cell_type": "code",
   "execution_count": 10,
   "metadata": {
    "slideshow": {
     "slide_type": "-"
    }
   },
   "outputs": [
    {
     "data": {
      "text/html": [
       "\n",
       "        <iframe\n",
       "            width=\"100%\"\n",
       "            height=\"500\"\n",
       "            src=\"https://pythontutor.com/iframe-embed.html#code=liste%20%3D%20%5B%22Albert%22%2C2004%2C%22est%20n%C3%A9%20le%20%22%2C%20%22%C3%A0%20Lorient%22%20%2C%22/%22%2C3%2C9%5D%0A&origin=opt-frontend.js&cumulative=false&heapPrimitives=false&textReferences=false&py=3&rawInputLstJSON=%5B%5D&curInstr=0&codeDivWidth=350&codeDivHeight=400\"\n",
       "            frameborder=\"0\"\n",
       "            allowfullscreen\n",
       "        ></iframe>\n",
       "        "
      ],
      "text/plain": [
       "<IPython.lib.display.IFrame at 0x2098a3064e0>"
      ]
     },
     "metadata": {},
     "output_type": "display_data"
    }
   ],
   "source": [
    "%%tutor\n",
    "liste = [\"Albert\",2004,\"est né le \", \"à Lorient\" ,\"/\",3,9]\n"
   ]
  },
  {
   "cell_type": "code",
   "execution_count": 11,
   "metadata": {},
   "outputs": [
    {
     "name": "stdout",
     "output_type": "stream",
     "text": [
      "Albert\n",
      "Albert à Lorient 2004\n"
     ]
    }
   ],
   "source": [
    "print(liste[0])\n",
    "print(liste[0], liste[3], liste[1])"
   ]
  },
  {
   "cell_type": "code",
   "execution_count": 12,
   "metadata": {},
   "outputs": [
    {
     "name": "stdout",
     "output_type": "stream",
     "text": [
      "Albert\n",
      "Albert \n",
      " à Lorient \n",
      " 2004\n"
     ]
    }
   ],
   "source": [
    "\n",
    "print(liste[0])\n",
    "print(liste[0],\"\\n\",liste[3],\"\\n\", liste[1])"
   ]
  },
  {
   "cell_type": "markdown",
   "metadata": {},
   "source": [
    "**Question** : Quelle différence observez-vous dans le résultat d'exécution de ces deux cellules ?"
   ]
  },
  {
   "cell_type": "markdown",
   "metadata": {},
   "source": [
    "**Réponse** : "
   ]
  },
  {
   "cell_type": "code",
   "execution_count": 13,
   "metadata": {},
   "outputs": [
    {
     "data": {
      "text/html": [
       "\n",
       "        <iframe\n",
       "            width=\"100%\"\n",
       "            height=\"500\"\n",
       "            src=\"https://pythontutor.com/iframe-embed.html#code=liste%20%3D%20%5B%22Albert%22%2C2004%2C%22est%20n%C3%A9%20le%20%22%2C%20%22%C3%A0%20Lorient%22%20%2C%22/%22%2C3%2C9%5D%0Aliste%5B0%5D%20%3D%20%22Albertine%22%0Aprint%28liste%5B0%5D%2C%20liste%5B3%5D%2C%20liste%5B1%5D%29%0A&origin=opt-frontend.js&cumulative=false&heapPrimitives=false&textReferences=false&py=3&rawInputLstJSON=%5B%5D&curInstr=0&codeDivWidth=350&codeDivHeight=400\"\n",
       "            frameborder=\"0\"\n",
       "            allowfullscreen\n",
       "        ></iframe>\n",
       "        "
      ],
      "text/plain": [
       "<IPython.lib.display.IFrame at 0x2098a2e8f28>"
      ]
     },
     "metadata": {},
     "output_type": "display_data"
    }
   ],
   "source": [
    "%%tutor\n",
    "liste = [\"Albert\",2004,\"est né le \", \"à Lorient\" ,\"/\",3,9]\n",
    "liste[0] = \"Albertine\"\n",
    "print(liste[0], liste[3], liste[1])"
   ]
  },
  {
   "cell_type": "markdown",
   "metadata": {},
   "source": [
    "**synthèse** : Ecrire un programme qui permet d'écrire la phrase *David est né à Lorient le 3/9/2009 à Lorient*"
   ]
  },
  {
   "cell_type": "code",
   "execution_count": null,
   "metadata": {},
   "outputs": [],
   "source": [
    "# compléter  ici le code qui permet de visualiser la phrase complète: "
   ]
  },
  {
   "cell_type": "markdown",
   "metadata": {},
   "source": [
    "<u>Voici quelques instructions spécifiques aux listes :</u> <br>\n",
    "       liste.append(\"Morbihan\")  --> rajoute le mot Morbihan en **fin** de liste (append = rajouter en anglais<br>\n",
    "       liste.remove(\"Morbihan\")  --> enlève le mot Morbihan de la liste<br>\n",
    "       print(liste.index(2004)   --> donne la position de la donnée 2004 dans la liste (ici 1)<br>"
   ]
  },
  {
   "cell_type": "markdown",
   "metadata": {
    "slideshow": {
     "slide_type": "slide"
    }
   },
   "source": [
    "## SYNTHESE DU TP : 2 EXERCICES"
   ]
  },
  {
   "cell_type": "markdown",
   "metadata": {
    "slideshow": {
     "slide_type": "subslide"
    }
   },
   "source": [
    "#### Exercice  1  - Le juste prix\n",
    "* Compléter le programme ci-dessous afin de :\n",
    "    * génèrer un nombre aléatoire entre 1 et 500 ( le juste prix)\n",
    "    * demander à l'utilisateur d'entrer un nombre entre 1 et 500\n",
    "    * comparer ce prix au nombre aléatoire\n",
    "    * tant que le juste prix n'est pas trouvé \n",
    "        * indiquer (affiche) si le prix est trop élevé, trop faible \n",
    "        * demander  à l'utilisateur d'entrer un nombre entre 1 et 500\n",
    "    * fin tant que \n",
    "    * indiquer (affiche) que le juste prix est trouvé\n",
    "    * afficher le nombre d'essais"
   ]
  },
  {
   "cell_type": "code",
   "execution_count": null,
   "metadata": {
    "slideshow": {
     "slide_type": "fragment"
    }
   },
   "outputs": [],
   "source": [
    "# compléter  ici le code de l'exercice du juste prix \n",
    "# Nous allons utiliser une fonction qui permet de récupérer un nombre aléatoire. La notion de fonction sera vue dans un autre TP\n",
    "from random import randint # on importe la fonction randint (random integer)\n",
    "\n",
    "\n",
    "prix = randint(1,500) # on stocke dans une variable prix aleaotoire un nombre entier aléatoire entre 1 et 500\n",
    "print(prix)"
   ]
  },
  {
   "cell_type": "markdown",
   "metadata": {
    "slideshow": {
     "slide_type": "subslide"
    }
   },
   "source": [
    "### Exercice 2 - Département de médecine : contrôle d'une épidémie\n",
    "\n",
    "\n",
    "Afin de pouvoir mieux combattre les différentes épidémies, parfois très graves, qui se développent régulièrement dans la région, le département de médecine de l'université a lancé une grande étude. En particulier, les chercheurs s'intéressent à la vitesse de propagation d'une épidémie et donc à la vitesse à laquelle des mesures sanitaires doivent êtres mises en place.\n",
    "\n",
    "<u>Ce que doit faire votre programme :</u>\n",
    "\n",
    "Votre programme doit d'abord lire un entier, la population totale de la ville. Sachant qu'une personne était malade au jour 1 et que chaque malade contamine deux nouvelles personnes le jour suivant (et chacun des jours qui suivent), vous devez calculer à partir de quel jour toute la population de la ville sera malade.\n",
    "\n",
    "<u>Exemples</u>\n",
    "* Exemple 1\n",
    "    * entrée : 3\n",
    "    * sortie : 2\n",
    "\n",
    "* Exemple 2\n",
    "\n",
    "   * entrée :10\n",
    "   * sortie :4\n",
    "\n",
    "<u>Commentaires </u>\n",
    "\n",
    "On a 1 malade le premier jour, donc 2 nouveaux malades le second jour, soit un total de 3 malades. On a donc 6 nouveaux malades au troisième jour, soit un total de 9 malades. On a donc 18 nouveaux malades au quatrième jour, soit…\n"
   ]
  },
  {
   "cell_type": "code",
   "execution_count": null,
   "metadata": {},
   "outputs": [],
   "source": [
    "# completer  ici le code de l'exercice contrôle d'une épidémie"
   ]
  }
 ],
 "metadata": {
  "celltoolbar": "Visualize",
  "kernelspec": {
   "display_name": "Python 3",
   "language": "python",
   "name": "python3"
  },
  "language_info": {
   "codemirror_mode": {
    "name": "ipython",
    "version": 3
   },
   "file_extension": ".py",
   "mimetype": "text/x-python",
   "name": "python",
   "nbconvert_exporter": "python",
   "pygments_lexer": "ipython3",
   "version": "3.7.3"
  }
 },
 "nbformat": 4,
 "nbformat_minor": 1
}
