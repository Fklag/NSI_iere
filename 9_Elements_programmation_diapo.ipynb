{
 "cells": [
  {
   "cell_type": "markdown",
   "metadata": {
    "slideshow": {
     "slide_type": "slide"
    }
   },
   "source": [
    "## <p style=\"text-align: center;\">NSI - Éléments de programmation</p>\n",
    "## <p style=\"text-align: center;\">N-uplets et listes avancées</p>\n",
    "## <p style=\"text-align: center;\">Lycée Beaussier - F. Lagrave</p>\n",
    "\n",
    "[![Binder](https://mybinder.org/badge_logo.svg)](https://mybinder.org/v2/gh/Fklag/NSI_iere/master?filepath=9_Elements_programmation_diapo.ipynb)"
   ]
  },
  {
   "cell_type": "markdown",
   "metadata": {
    "slideshow": {
     "slide_type": "slide"
    }
   },
   "source": [
    "# Supports de cours"
   ]
  },
  {
   "cell_type": "markdown",
   "metadata": {
    "slideshow": {
     "slide_type": "fragment"
    }
   },
   "source": [
    "<div id=\"top\">\n",
    "Les séquences ne sont pas les seules données structurées disponibles dans le langage $\\texttt{Python}$.  \n",
    "Une autre structure de données courante dans les langages de programmation et disponible en $\\texttt{Python}$ est le $n-$uplet (ou $tuple$ en anglais).  \n",
    "    \n",
    "**Plan du cours**  \n",
    "    \n",
    "1.  Les $n-$uplets  \n",
    "    Construction  \n",
    "    Déconstruction  \n",
    "    \n",
    "2. Exemples d'utilisation des $n-$uplets  \n",
    "   En paramètre de fonctions  \n",
    "   En valeur de retour  \n",
    "   Listes de $n-$uplets\n",
    "3. Décomposition de problèmes\n",
    "</div>"
   ]
  },
  {
   "cell_type": "markdown",
   "metadata": {
    "slideshow": {
     "slide_type": "subslide"
    }
   },
   "source": [
    "### N-uplets  \n",
    "Un $n-$uplet est **une structure de données qui permet d'agréger des données de types différents**.  \n",
    "\n",
    "**N-uplet**  \n",
    "Pour $n$ fixé ($n \\geqslant 2$), un $n-$uplet est une donnée $(e_1, e_2, \\ldots, e_n)$ composée d'exactement $n$ éléments pouvant être chacun d'un type différent :  \n",
    "• $e_1$ de type $T_1$  \n",
    "• $e_2$ de type $T_2$  \n",
    "• $\\ldots$  \n",
    "• $e_n$ de type $T_n$ .  \n",
    "\n",
    "Le $\\texttt{type}$ d'un $n-$uplet est le produit cartésien $T_1 \\times T_2 \\times \\ldots \\times T_n$ que l'on  notera : $\\qquad \\texttt{tuple}[T_1, T_2, \\ldots, T_n ]$"
   ]
  },
  {
   "cell_type": "markdown",
   "metadata": {
    "slideshow": {
     "slide_type": "subslide"
    }
   },
   "source": [
    "### Construction des $n-$uplets  \n",
    "\n",
    "Un $n-$uplet composé des expressions $e_1$, $\\ldots$, $e_n$ se construit par :\n",
    "$$\\left(e_1, e_2, \\ldots, e_n\\right)$$\n",
    "\n",
    "Les $n-$uplets sont des expressions atomiques. Par exemple :"
   ]
  },
  {
   "cell_type": "code",
   "execution_count": 1,
   "metadata": {
    "slideshow": {
     "slide_type": "fragment"
    }
   },
   "outputs": [
    {
     "data": {
      "text/plain": [
       "((1, 'un', True),\n",
       " (1, 'deux', 3.0, 'quatre', 5),\n",
       " (0, True, 2.0, 'trois', [4, 5], (6, 7.3)))"
      ]
     },
     "execution_count": 1,
     "metadata": {},
     "output_type": "execute_result"
    }
   ],
   "source": [
    "(1,\"un\", True), (1,'deux',3.0,'quatre',5),(0,True,2.0,'trois',[4,5],(6,7.3))"
   ]
  },
  {
   "cell_type": "markdown",
   "metadata": {
    "slideshow": {
     "slide_type": "fragment"
    }
   },
   "source": [
    "**Question :** quel est le type de ces expression ?  \n",
    "• $\\texttt{tuple}[\\texttt{int},\\texttt{str},\\texttt{bool}]$  \n",
    "• $\\texttt{tuple}[\\texttt{int},\\texttt{str},\\texttt{float},\\texttt{str},\\texttt{int}]$  \n",
    "• $\\texttt{tuple}[\\texttt{int},\\texttt{bool},\\texttt{float}, \\texttt{str},\\texttt{list}[\\texttt{int}],\\texttt{tuple}[\\texttt{int},\\texttt{float}]]$  \n",
    "\n",
    "**Remarque :** Le langage $\\texttt{Python}$ ne retient que le type tuple pour les n-uplets, sans information\n",
    "supplémentaire sur le type des éléments contenus."
   ]
  },
  {
   "cell_type": "markdown",
   "metadata": {
    "slideshow": {
     "slide_type": "slide"
    }
   },
   "source": [
    "### Remarque sur les n-uplets\n",
    "\n",
    "1. Vocabulaire:  \n",
    "   - un $n-$uplet contenant $2$ éléments est  appelé **couple**   \n",
    "   - un $n-$uplet contenant $3$ éléments est  appelé **triplet**   \n",
    "   - un $n-$uplet contenant $4$ éléments est  appelé **quadruplet**   \n",
    "   - un $n-$uplet contenant $5$ éléments est  appelé **quintuplet**   \n",
    "   - un $n-$uplet contenant $6$ éléments est  appelé **$7-$uplet**   \n",
    "   - un $n-$uplet contenant $7$ éléments est  appelé **$8-$uplet**   \n",
    "   - etc.\n",
    "\n",
    "2. Typage :"
   ]
  },
  {
   "cell_type": "code",
   "execution_count": 2,
   "metadata": {
    "slideshow": {
     "slide_type": "fragment"
    }
   },
   "outputs": [
    {
     "data": {
      "text/plain": [
       "(tuple, tuple, tuple)"
      ]
     },
     "execution_count": 2,
     "metadata": {},
     "output_type": "execute_result"
    }
   ],
   "source": [
    "type((1,\"un\",True)),type((1,'deux',3.0,'quatre',5)),type((0,True,2.0,'trois',[4,5],(6,7.3)))"
   ]
  },
  {
   "cell_type": "markdown",
   "metadata": {
    "slideshow": {
     "slide_type": "fragment"
    }
   },
   "source": [
    "3. Différence avec les listes :\n",
    "   * Peut contenir des valeurs de type différent\n",
    "   * La taille est fixée"
   ]
  },
  {
   "cell_type": "markdown",
   "metadata": {
    "slideshow": {
     "slide_type": "slide"
    }
   },
   "source": [
    "### Déconstruction des $n-$uplets  \n",
    "\n",
    "La **déconstruction** d'un $n-$uplet consiste à **récupérer les différents éléments** qu'il contient en les stockant **dans des variables** dites variables **de déconstruction**.\n",
    "\n",
    "**- Instruction de déconstruction -**  \n",
    "Une instruction de déconstruction d'un $n-$uplet $t$ de type $\\texttt{tuple}[T_1, T_2, \\ldots, T_n ]$ s'écrit de la façon suivante :  \n",
    "\n",
    "$$v_1, v_2, \\ldots, v_n = t$$\n",
    "avec :  \n",
    "• $v_1$ est une variable de déconstruction de type $T_1$  \n",
    "• $v_2$ est une variable de déconstruction de type $T_2$  \n",
    "• $\\ldots$  \n",
    "• $v_n$ est une variable de déconstruction de type $T_n$"
   ]
  },
  {
   "cell_type": "markdown",
   "metadata": {
    "slideshow": {
     "slide_type": "subslide"
    }
   },
   "source": [
    "### Exemple de déconstruction  \n",
    "Supposons que l'on ait une variable $t$ instanciée :  "
   ]
  },
  {
   "cell_type": "code",
   "execution_count": 3,
   "metadata": {
    "slideshow": {
     "slide_type": "fragment"
    }
   },
   "outputs": [],
   "source": [
    "# t : tuple[int , bool , str]\n",
    "t = (1,True,'blion')"
   ]
  },
  {
   "cell_type": "markdown",
   "metadata": {
    "slideshow": {
     "slide_type": "fragment"
    }
   },
   "source": [
    "Alors l’instruction\n",
    "$\\texttt{n, b, s = t \\# deconstruction}$  \n",
    "\n",
    "permet de récupérer les valeurs contenue dans $t$ et de les affecter respectivement aux variables $n$, $b$ et $s$ :"
   ]
  },
  {
   "cell_type": "code",
   "execution_count": 4,
   "metadata": {
    "slideshow": {
     "slide_type": "fragment"
    }
   },
   "outputs": [
    {
     "data": {
      "text/plain": [
       "(1, True, 'blion')"
      ]
     },
     "execution_count": 4,
     "metadata": {},
     "output_type": "execute_result"
    }
   ],
   "source": [
    "n, b, s = t # deconstruction\n",
    "n,b,s"
   ]
  },
  {
   "cell_type": "markdown",
   "metadata": {
    "slideshow": {
     "slide_type": "subslide"
    }
   },
   "source": [
    "### Variables de déconstruction  \n",
    "• Il n’est pas obligatoire de déclarer les variables de déconstructions $\\ldots$  \n",
    "• $\\ldots$ mais on a le droit de le faire !"
   ]
  },
  {
   "cell_type": "code",
   "execution_count": 5,
   "metadata": {
    "slideshow": {
     "slide_type": "fragment"
    }
   },
   "outputs": [],
   "source": [
    "# t : tuple[int , bool , str]\n",
    "t = (1, True, 'blion')\n",
    "...\n",
    "# n : int (explication optionnelle)\n",
    "# b : bool\n",
    "# s : str\n",
    "n, b, s = t # deconstruction"
   ]
  },
  {
   "cell_type": "markdown",
   "metadata": {
    "slideshow": {
     "slide_type": "slide"
    }
   },
   "source": [
    "### Deux exemples  \n",
    "Les $n-$uplets servent à regrouper un nombre fixé d'éléments qui, une fois regroupés, forment une *entité*. On va prendre par la suite $2$ exemples :  \n",
    "*  **Points** : on veut manipuler la notion de point dans le plan. On a besoin  \n",
    "   - de l'abscisse : un nombre\n",
    "   - de l'ordonnée : un nombre\n",
    "   - → type : $\\texttt{tuple}[\\texttt{Number},\\texttt{Number}]$  \n",
    "*  **Personnes** : on veut manipuler une base de données qui regroupe les informations de plusieurs personnes.  \n",
    "   On a besoin :\n",
    "   - du prénom et nom : chaı̂nes de caractères\n",
    "   - de l'age : entier\n",
    "   - est-il/elle mariée ? : un booléen\n",
    "   - → type :$\\texttt{tuple}[\\texttt{str},\\texttt{str},\\texttt{int},\\texttt{bool}]$  \n",
    "   \n",
    "Remarque : on se donne souvent des *alias* de type pour simplifier la lecture des signatures  \n",
    "• $\\texttt{\\# type Point} = \\texttt{tuple}[\\texttt{Number},\\texttt{Number}]$  \n",
    "• $\\texttt{\\# type Personne} = \\texttt{tuple}[\\texttt{str},\\texttt{str},\\texttt{int},\\texttt{bool}]$"
   ]
  },
  {
   "cell_type": "markdown",
   "metadata": {
    "slideshow": {
     "slide_type": "subslide"
    }
   },
   "source": [
    "### Distance entre deux points  \n",
    "Un $n-$uplet, une fois construit, peut être passé en argument d'une fonction ou retourné en valeur de retour.  Considérons tout d'abord le premier cas.\n",
    "\n",
    "**Problème** Étant donné deux points dans le plan, représentés par des couples de coordonnées, caculer la distance euclidienne séparant les deux points. On suppose ici que les points sont à coordonnées entières. Donner la spécification et la définition de la fonction.\n",
    "\n",
    "1. Spécification :"
   ]
  },
  {
   "cell_type": "code",
   "execution_count": 6,
   "metadata": {
    "slideshow": {
     "slide_type": "fragment"
    }
   },
   "outputs": [],
   "source": [
    "def distance(p1, p2) :\n",
    "    \"\"\"tuple[Number, Number] * tuple[Number, Number] -> float\n",
    "    retourne la distance entre les points p1 et p2.\"\"\"\n",
    "\n",
    "def distance(p1, p2) :\n",
    "    \"\"\" Point ∗ Point − > float\n",
    "    retourne la distance entre les points p1 et p2.\"\"\""
   ]
  },
  {
   "cell_type": "markdown",
   "metadata": {
    "slideshow": {
     "slide_type": "fragment"
    }
   },
   "source": [
    "2. Algorithme : la distance entre $p_1 = (x_1,y_1)$ et $p_2 = (x_2,y_2)$ est $\\sqrt{(x_2-x_1)^2+(y_2-y_1)^2}$\n",
    "3. Implémentation :"
   ]
  },
  {
   "cell_type": "code",
   "execution_count": 7,
   "metadata": {
    "slideshow": {
     "slide_type": "fragment"
    }
   },
   "outputs": [],
   "source": [
    "import math # pour math.sqrt\n",
    "\n",
    "def distance(p1, p2) :\n",
    "    \"\"\" Point ∗ Point − > float\n",
    "    retourne la distance entre les points p1 et p2.\"\"\"\n",
    "    # x1 : Number (abscisse de P1)\n",
    "    # y1 : Number (ordonnée de P1)\n",
    "    x1, y1 = p1\n",
    "    # x2 : Number (abscisse de P2)\n",
    "    # y2 : Number (ordonnée de P2)\n",
    "    x2, y2 = p2\n",
    "    return math.sqrt((x2 - x1)**2 + (y2 - y1)**2)\n",
    "\n",
    "# Jeu de tests\n",
    "assert distance( (0, 0), (1, 1) ) == math.sqrt(2)\n",
    "assert distance( (2, 2), (2, 2) ) == 0.0"
   ]
  },
  {
   "cell_type": "markdown",
   "metadata": {
    "slideshow": {
     "slide_type": "slide"
    }
   },
   "source": [
    "### Majorité  \n",
    "**Problème** Donner la spécification et une définition de la fonction qui teste si une personne est majeure ou non."
   ]
  },
  {
   "cell_type": "code",
   "execution_count": 8,
   "metadata": {
    "slideshow": {
     "slide_type": "fragment"
    }
   },
   "outputs": [],
   "source": [
    "def est_majeure(p) :\n",
    "    \"\"\"Personne -> bool\n",
    "    renvoie True si la personne est majeure, ou False sinon.\"\"\"\n",
    "    #age : int\n",
    "    pre, nom, age, mar = p\n",
    "    return age >= 18\n",
    "\n",
    "# jeu de tests\n",
    "assert est_majeure(('Itik', 'Paul', 17, False)) == False\n",
    "assert est_majeure(('Unfor', 'Marcelle', 79, True)) == True"
   ]
  },
  {
   "cell_type": "markdown",
   "metadata": {
    "slideshow": {
     "slide_type": "fragment"
    }
   },
   "source": [
    "> Exercice : fonction qui calcule l'année de naissance d'une personne ?"
   ]
  },
  {
   "cell_type": "markdown",
   "metadata": {
    "slideshow": {
     "slide_type": "slide"
    }
   },
   "source": [
    "### $n-$uplets en valeur de retour  \n",
    "Nous avons vu deux fonctions qui prennent des $n-$uplets en paramètre. On peut bien sûr, de\n",
    "façon complémentaire, retourner des $n-$uplets en valeur de retour de fonction.\n",
    "\n",
    "**Problème - somme et moyenne -** Donner la spécification et une définition de la fonction qui étant donné une liste $L$ de nombres, retourne un couple formé de respectivement la somme et la moyenne des éléments de $L$."
   ]
  },
  {
   "cell_type": "code",
   "execution_count": 9,
   "metadata": {
    "slideshow": {
     "slide_type": "fragment"
    }
   },
   "outputs": [],
   "source": [
    "def somme_et_moyenne(L) :\n",
    "    \"\"\"list[Number] -> tuple[Number, float]\n",
    "    Hypothèse : len(L) > 0\n",
    "    retourne un couple de la somme et de la moyenne des elements de la liste L.\"\"\"\n",
    "    # s : Number\n",
    "    s = 0 # somme\n",
    "    # x : Number (element courant)\n",
    "    for x in L :\n",
    "        s = s + x\n",
    "    return (s,(s / len(L)))\n",
    "\n",
    "# Jeu de tests\n",
    "assert somme_et_moyenne([1, 2, 3, 4, 5]) == (15, 3.0)\n",
    "assert somme_et_moyenne([-1.2, 0.0, 1.2]) == (0.0, 0.0)"
   ]
  },
  {
   "cell_type": "markdown",
   "metadata": {
    "slideshow": {
     "slide_type": "fragment"
    }
   },
   "source": [
    "**- mariage d’une personne -** Donner une définition de la fonction $\\texttt{mariage}$ qui prend en paramètre une\n",
    "personne et retourne la même personne avec son statut marital validé."
   ]
  },
  {
   "cell_type": "code",
   "execution_count": 11,
   "metadata": {
    "slideshow": {
     "slide_type": "fragment"
    }
   },
   "outputs": [],
   "source": [
    "def mariage(p) :\n",
    "    \"\"\"Personne -> Personne.\n",
    "    Retourne la personne avec un statut informaticien validé.\"\"\"\n",
    "    pre, nom, age, mar = p\n",
    "    return (pre, nom, age, True)\n",
    "# Jeu de tests\n",
    "assert mariage(('Paul', 'Itik', 17, False)) == ('Paul', 'Itik', 17, True)\n",
    "assert mariage(('Marcelle', 'Unfor', 79, True)) \\\n",
    "== ('Marcelle', 'Unfor', 79, True)"
   ]
  },
  {
   "cell_type": "markdown",
   "metadata": {
    "slideshow": {
     "slide_type": "slide"
    }
   },
   "source": [
    "### Listes de $n-$uplets  \n",
    "Beaucoup de problèmes nécessitent des types complexes. Par exemple des listes de $n-$uplets : $\\texttt{list}[\\texttt{tuple}[T_1, T_2, \\ldots, T_n]]$  \n",
    "Pour rappel, sur les listes on a vu des problèmes de :  \n",
    "• **réduction** : **synthétise** l'information contenue dans la liste  \n",
    "• **transformation** : **modifie** l'information de chacun des éléments de la liste  \n",
    "• **filtrage** : renvoie une **sous-liste** de la liste de départ"
   ]
  },
  {
   "cell_type": "markdown",
   "metadata": {
    "slideshow": {
     "slide_type": "subslide"
    }
   },
   "source": [
    "### Réduction : Âge moyen  \n",
    "**Problème** Donner la spécification et une définition de la fonction qui, étant donnée une liste $L$ de personnes, retourne l'âge moyen des personnes composant cette liste.\n",
    "\n",
    "Une base de données simple peut être représentée par une liste de $n-$uplets. Par exemple, un\n",
    "groupe de personnes peut être représenté par une information de $\\texttt{type}$ $\\texttt{list}[\\texttt{Personne}]$ (ou $\\texttt{list}[\\texttt{tuple}[\\texttt{str},\\texttt{str},\\texttt{int},\\texttt{bool}]]$ si l'on explicite l'*alias* $\\texttt{Personne}$)."
   ]
  },
  {
   "cell_type": "code",
   "execution_count": 12,
   "metadata": {
    "slideshow": {
     "slide_type": "fragment"
    }
   },
   "outputs": [],
   "source": [
    "def age_moyen(L) :\n",
    "    \"\"\"list[Personne] -> float\n",
    "    Hypothèse : len(L) > 0\n",
    "    renvoie l'age moyen des personne enregistrees dans la liste L.\"\"\"\n",
    "    # age_total : int\n",
    "    age_total = 0 # age cummule\n",
    "    # pers : Personne  (ou tuple[str, str, int, bool])\n",
    "    for pers in L :\n",
    "        # age :int (age de la personne)\n",
    "        pre, nom, age, mar = pers\n",
    "        age_total = age_total + age\n",
    "    return age_total/len(L)\n",
    "\n",
    "# Jeu de tests\n",
    "# BD : list[Personne] (base de donnee)\n",
    "BD = [('Paul', 'Itik', 17, False),\n",
    "('Marcelle', 'Unfor', 79, True),\n",
    "('Gaston', 'Laveur', 38, False),\n",
    "('Henriette', 'Potteuse', 24, True),\n",
    "('Gibra', 'Ltar', 13, False),\n",
    "('Amar', 'Diaprem', 22, True)]\n",
    "assert age_moyen(BD) == (17 + 79 + 38 + 24 +13 + 22)/6\n",
    "assert age_moyen([('Un', 'Una', 1, True)]) == 1.0"
   ]
  },
  {
   "cell_type": "markdown",
   "metadata": {
    "slideshow": {
     "slide_type": "fragment"
    }
   },
   "source": [
    "> Exercice : fonction qui calcule le nombre de non marié(e)s dans la base de donnée"
   ]
  },
  {
   "cell_type": "markdown",
   "metadata": {
    "slideshow": {
     "slide_type": "slide"
    }
   },
   "source": [
    "### Itérateurs sur les listes de $n-$uplets  \n",
    "\n",
    "Il existe une variante des boucles d'itérations sur les $n-$uplets qui permet de simplifier les écritures :\n",
    "\n",
    "$\\texttt{for} \\,\\, (v_1, v_2, \\ldots, v_n) \\,\\, \\texttt{in}  \\,\\, \\texttt{<liste>} :$  \n",
    "$\\phantom{.} \\quad \\texttt{<corps>}$\n",
    "\n",
    "avec :  \n",
    "• $v_1, v_2, \\ldots, v_n$ : variables de déconstruction du $n-$uplet  \n",
    "• $\\texttt{< liste >}$ : liste de $\\texttt{type}$ $\\texttt{list}[\\texttt{tuple}[T_1, T_2, \\ldots, T_n]]$\n",
    "\n",
    "C'est un raccourci pour :   \n",
    "$\\texttt{\\#} p : \\texttt{tuple}[T_1,T_2,\\ldots,T_n]$ ( $\\texttt{element courant}$ )  \n",
    "$\\texttt{for} \\,\\, p \\,\\, \\texttt{in}  \\,\\, \\texttt{<liste>} :$  \n",
    "$\\phantom{.} \\quad v_1, v_2 , \\ldots, v_n = p$  \n",
    "$\\phantom{.} \\quad \\texttt{<corps>}$"
   ]
  },
  {
   "cell_type": "markdown",
   "metadata": {
    "slideshow": {
     "slide_type": "subslide"
    }
   },
   "source": [
    "### Réduction : Âge moyen\n",
    "On peut ré-écrire la fonction $\\texttt{age\\_moyen}$ :"
   ]
  },
  {
   "cell_type": "code",
   "execution_count": 13,
   "metadata": {
    "slideshow": {
     "slide_type": "fragment"
    }
   },
   "outputs": [],
   "source": [
    "def age_moyen(L) :\n",
    "    \"\"\"list[Personne] -> float\n",
    "    Hypothèse : len(L) > 0\n",
    "    renvoie l'age moyen des personne enregistrees dans la liste L.\"\"\"\n",
    "    # age_total : int\n",
    "    age_total = 0 # age cummule\n",
    "    # age : int (age de la personne)\n",
    "    for (pre, nom, age, mar) in L :\n",
    "        age_total = age_total + age\n",
    "    return age_total/len(L)"
   ]
  },
  {
   "cell_type": "markdown",
   "metadata": {
    "slideshow": {
     "slide_type": "slide"
    }
   },
   "source": [
    "### Transformation : Noms  \n",
    "**Problème** Donner la spécification et une définition de la fonction qui, étant donnée une liste $L$ de personnes, retourne la liste des noms de famille des personnes composant cette liste."
   ]
  },
  {
   "cell_type": "code",
   "execution_count": 14,
   "metadata": {
    "slideshow": {
     "slide_type": "subslide"
    }
   },
   "outputs": [],
   "source": [
    "def extraction_noms(L) :\n",
    "    \"\"\"list[Personne] -> list[str]\n",
    "    Retourne la liste des noms des personnes de L.\"\"\"\n",
    "    # LR : list[str]\n",
    "    LR = [] # liste resultat\n",
    "    #nom : str\n",
    "    for (pre, nom, age, mar) in L :\n",
    "        LR.append(nom)\n",
    "    return LR\n",
    "\n",
    "# Jeu de tests\n",
    "# BD : list[Personne] (base de donnee, cf. ci-dessus)\n",
    "assert extraction_noms(BD) \\\n",
    "== ['Itik', 'Unfor', 'Laveur', 'Potteuse', 'Ltar', 'Diaprem']\n",
    "assert extraction_noms([('Un', 'Una', 1, True)]) == ['Una']\n",
    "assert extraction_noms([]) == []"
   ]
  },
  {
   "cell_type": "markdown",
   "metadata": {
    "slideshow": {
     "slide_type": "slide"
    }
   },
   "source": [
    "### Filtrage : Personnes majeures  \n",
    "**Problème** Donner la spécification et une définition de la fonction qui, étant donnée une liste $L$ de personnes, retourne la liste de personnes majeures contenues dans $L$ ."
   ]
  },
  {
   "cell_type": "code",
   "execution_count": 15,
   "metadata": {
    "slideshow": {
     "slide_type": "subslide"
    }
   },
   "outputs": [],
   "source": [
    "def personnes_majeures(L) :\n",
    "    \"\"\"list[Personne] -> list[Personne]\n",
    "    retourne la liste des personnes majeures dans la base L.\"\"\"\n",
    "    # LR : list[Personne]\n",
    "    LR = [] # liste resultat\n",
    "    # p : Personne\n",
    "    for p in L :\n",
    "        if est_majeure(p) :\n",
    "            LR.append(p)\n",
    "    return LR\n",
    "\n",
    "# Jeu de tests\n",
    "# BD : list[Personne] (base de donnee, cf. ci-dessus)\n",
    "assert personnes_majeures(BD) == [('Marcelle', 'Unfor', 79, True), \\\n",
    "('Gaston', 'Laveur',38, False), \\\n",
    "('Henriette', 'Potteuse', 24, True), \\\n",
    "('Amar', 'Diaprem', 22, True)]\n",
    "assert personnes_majeures([('Un', 'Una', 1, True)]) == []\n",
    "assert personnes_majeures([]) == []"
   ]
  },
  {
   "cell_type": "markdown",
   "metadata": {
    "slideshow": {
     "slide_type": "subslide"
    }
   },
   "source": [
    "### Quelques exercices  \n",
    "* Fonction qui renvoie la liste des marié(e)s\n",
    "* Fonction qui renvoie le nom de famille des marié(e)s majeur(e)s\n",
    "* Une fonction qui calcule la moyenne d'âge des mineurs et la moyenne d'âge des majeurs\n",
    "* Une fonction qui calcule le minimum et le maximum d'une liste de nombres non vide.  \n",
    "  En déduire une fonction qui calcule l'écart maximal d'une liste de nombres non vide. "
   ]
  },
  {
   "cell_type": "markdown",
   "metadata": {
    "slideshow": {
     "slide_type": "slide"
    }
   },
   "source": [
    "### Décomposition de problème  \n",
    "La plupart des problèmes que l'on cherche à résoudre en informatique sont de nature complexe. Or, dans ce cours, on tente d'identifier problèmes et fonctions. Notre manifeste est le suivant : un problème posé = une fonction Python pour le résoudre  \n",
    "**Un problème → une fonction**\n",
    "\n",
    "Comment peut-on proposer une fonction simple pour un problème complexe ?\n",
    "\n",
    "Notre principal élément de réponse est méthodologique :\n",
    "- il faut décomposer le problème complexe en un certain nombre de sous-problèmes plus simples\n",
    "- chaque sous-problème simple peut être résolu par une fonction $\\texttt{Python}$ simple\n",
    "- la solution du problème complexe est une fonction qui enchaîne simplement les solutions aux sous-problèmes.\n",
    "\n",
    "Cette démarche se nomme la **décomposition de problèmes** et comme toute activité intellectuelle, elle fait appel à des facultés liées à notre intelligence et notamment : l'exprérience ainsi qu'une certaine dose de créativité.  \n",
    "Il n'est donc pas facile d'appliquer cette méthodologie, et la première chose à faire est simplement d'acquérir de l'expérience.\n",
    "\n",
    "• Décomposition en problèmes simples  \n",
    "• Une fonction par problème simple  "
   ]
  },
  {
   "cell_type": "markdown",
   "metadata": {
    "slideshow": {
     "slide_type": "slide"
    }
   },
   "source": [
    "## Exemple : triangle de Pascal  \n",
    "**Définiton -** Triangle de Pascal : coefficients binômiaux $\\displaystyle \\binom{n}{k}$\n",
    "\n",
    "$$1$$  \n",
    "$$1\\,1$$  \n",
    "$$1\\,2\\,1$$   \n",
    "$$1\\,3\\,3\\,1$$   \n",
    "$$1\\,4\\,6\\,4\\,1$$ \n",
    "\n",
    "**Problème** Construire les $n$ premières lignes du triangle de Pascal qui est une présentation des coefficients binomiaux sous la forme d'un triangle d'entiers naturels."
   ]
  },
  {
   "cell_type": "markdown",
   "metadata": {
    "slideshow": {
     "slide_type": "subslide"
    }
   },
   "source": [
    "### Passage d’une ligne à l’autre  \n",
    "Coefficient = somme des deux coefficients au-dessus. \n",
    "De manière générale : $\\displaystyle \\binom{n}{k} = \\binom{n-1}{k-1} + \\binom{n-1}{k}$\n",
    "\n",
    "$$1$$  \n",
    "$$1\\,1$$  \n",
    "$$1\\,2\\,1$$   \n",
    "$$1\\,3\\,3\\,1$$   \n",
    "$$1\\,4\\,6\\,4\\,1$$ \n"
   ]
  },
  {
   "cell_type": "markdown",
   "metadata": {
    "slideshow": {
     "slide_type": "subslide"
    }
   },
   "source": [
    "### Autre représentation du triangle  \n",
    "\n",
    "$1$  \n",
    "$1\\,1$  \n",
    "$1\\,2\\,1$   \n",
    "$1\\,3\\,3\\,1$   \n",
    "$1\\,4\\,6\\,4\\,1$  \n",
    "\n",
    "$\\displaystyle \\binom{n}{k} = \\binom{n-1}{k-1} + \\binom{n-1}{k}$"
   ]
  },
  {
   "cell_type": "markdown",
   "metadata": {
    "slideshow": {
     "slide_type": "subslide"
    }
   },
   "source": [
    "### Passage d'une ligne à l’autre (suite)  \n",
    "Un moyen simple de passer d'une ligne à l'autre :  \n",
    "$1\\,3\\,3\\,1$   \n",
    "$1\\,4\\,6\\,4\\,1$  \n",
    "\n",
    "\n",
    "Compléter la ligne par un $0$ :  \n",
    "$1\\,3\\,3\\,1\\,0$  \n",
    "Décaler la ligne à droite en ajoutant un $0$ :  \n",
    "$0\\,1\\,3\\,3\\,1$  \n",
    "Additionner les deux :\n",
    "$1\\,4\\,6\\,4\\,1$  "
   ]
  },
  {
   "cell_type": "markdown",
   "metadata": {
    "slideshow": {
     "slide_type": "subslide"
    }
   },
   "source": [
    "### Représentation des données  \n",
    "• une ligne : liste d'entiers  \n",
    "• triangle : liste de lignes  \n",
    "\n",
    "Type final : $\\texttt{list}[\\texttt{list}[\\texttt{int}]]$  \n",
    "\n",
    "$[[1],$  \n",
    "$[1,\\,1],$  \n",
    "$[1,\\,2,\\,1],$  \n",
    "$[1,\\,3,\\,3,\\,1],$  \n",
    "$[1,\\,4,\\,6,\\,4,\\,1],$  \n",
    "$[1,\\,5,\\,10,\\,10,\\,5,\\,1]]$"
   ]
  },
  {
   "cell_type": "markdown",
   "metadata": {
    "slideshow": {
     "slide_type": "subslide"
    }
   },
   "source": [
    "### Décomposition du problème (1)  \n",
    "Passage d'une ligne à la suivante :  \n",
    "• Ajouter un $0$ en fin (décalage à gauche)  \n",
    "• Décalage à droite  \n",
    "• Somme de deux listes  \n",
    "Construction du triangle :  \n",
    "• itérer ci-dessus  \n",
    "\n",
    "### Ajouter un $0$ en fin (décalage à gauche)"
   ]
  },
  {
   "cell_type": "code",
   "execution_count": 16,
   "metadata": {
    "slideshow": {
     "slide_type": "fragment"
    }
   },
   "outputs": [],
   "source": [
    "def decalage_gauche(L):\n",
    "    \"\"\" list[int] −> list[int]\n",
    "    retourne le decalage a gauche de la liste L en injectant un 0 a droite .\"\"\"\n",
    "    return L + [0]\n",
    "\n",
    "# Jeu de tests\n",
    "assert decalage_gauche([1, 4, 6, 4, 1]) == [1, 4, 6, 4, 1, 0]\n",
    "assert decalage_gauche([1]) == [1, 0]"
   ]
  },
  {
   "cell_type": "markdown",
   "metadata": {
    "slideshow": {
     "slide_type": "subslide"
    }
   },
   "source": [
    "### Décalage à droite (ajout d'un $0$ à gauche)"
   ]
  },
  {
   "cell_type": "code",
   "execution_count": 17,
   "metadata": {
    "slideshow": {
     "slide_type": "fragment"
    }
   },
   "outputs": [],
   "source": [
    "def decalage_droite(L):\n",
    "    \"\"\"list[int] −> list[int]\n",
    "    retourne le decalage a droite de la liste L en injectant un 0 a gauche .\"\"\"\n",
    "    return [0] + L\n",
    "\n",
    "# Jeu de tests\n",
    "assert decalage_droite([1, 4, 6, 4, 1]) == [0, 1, 4, 6, 4, 1]\n",
    "assert decalage_droite([1]) == [0, 1]"
   ]
  },
  {
   "cell_type": "markdown",
   "metadata": {
    "slideshow": {
     "slide_type": "subslide"
    }
   },
   "source": [
    "### Somme de deux listes"
   ]
  },
  {
   "cell_type": "code",
   "execution_count": 18,
   "metadata": {
    "slideshow": {
     "slide_type": "fragment"
    }
   },
   "outputs": [],
   "source": [
    "def somme_listes(L1,L2) :\n",
    "    \"\"\"list[ Number ] ∗ list[ Number ] −> list[ Number ]\n",
    "    Hypothese : les listes L1 et L2 sont de meme longueur\n",
    "    retourne la somme terme a terme des listes L1 et L2.\"\"\"\n",
    "    # LR : list[int]\n",
    "    LR = []\n",
    "    # i : int (indice courant)\n",
    "    for i in range(0, len(L1)) :\n",
    "        LR.append(L1[i] + L2[i])\n",
    "    return LR\n",
    "\n",
    "# Jeu de tests\n",
    "assert somme_listes([0, 1, 4, 6, 4, 1], [1, 4, 6, 4, 1, 0]) \\\n",
    "== [1, 5, 10, 10, 5, 1]\n",
    "assert somme_listes([], []) == []\n",
    "assert somme_listes([0, 0, 0, 0, 0], [1, 2, 3, 4, 5]) == [1, 2, 3, 4, 5]\n",
    "assert somme_listes([1, 2, 3, 4, 5], [0, 0, 0, 0, 0]) == [1, 2, 3, 4, 5]"
   ]
  },
  {
   "cell_type": "markdown",
   "metadata": {
    "slideshow": {
     "slide_type": "subslide"
    }
   },
   "source": [
    "### Ligne suivante"
   ]
  },
  {
   "cell_type": "code",
   "execution_count": 19,
   "metadata": {
    "slideshow": {
     "slide_type": "fragment"
    }
   },
   "outputs": [],
   "source": [
    "def ligne_suivante(L) :\n",
    "    \"\"\"list[int] -> list[int]\n",
    "    Hypothese : L est une ligne du triangle de Pascal.\n",
    "    retourne la ligne suivant L dans le triangle de Pascal.\"\"\"\n",
    "    # LG : list[int]\n",
    "    LG = decalage_gauche(L)\n",
    "    # LD : list[int]\n",
    "    LD = decalage_droite(L)\n",
    "    return somme_listes(LG, LD)\n",
    "\n",
    "# Jeu de tests\n",
    "assert ligne_suivante([1]) == [1, 1]\n",
    "assert ligne_suivante([1, 1]) == [1, 2, 1]\n",
    "assert ligne_suivante([1, 2, 1]) == [1, 3, 3, 1]\n",
    "assert ligne_suivante([1, 3, 3, 1]) == [1, 4, 6, 4, 1]\n",
    "assert ligne_suivante([1, 4, 6, 4, 1]) == [1, 5, 10, 10, 5, 1]"
   ]
  },
  {
   "cell_type": "markdown",
   "metadata": {
    "slideshow": {
     "slide_type": "subslide"
    }
   },
   "source": [
    "### Triangle de Pascal : définition  \n",
    "Nous n'avons plus qu'à itérer $\\texttt{ligne\\_suivante}$ pour construire les $n$ premières lignes du triangle\n",
    "de Pascal."
   ]
  },
  {
   "cell_type": "code",
   "execution_count": 20,
   "metadata": {
    "slideshow": {
     "slide_type": "fragment"
    }
   },
   "outputs": [
    {
     "data": {
      "text/plain": [
       "[[1],\n",
       " [1, 1],\n",
       " [1, 2, 1],\n",
       " [1, 3, 3, 1],\n",
       " [1, 4, 6, 4, 1],\n",
       " [1, 5, 10, 10, 5, 1],\n",
       " [1, 6, 15, 20, 15, 6, 1],\n",
       " [1, 7, 21, 35, 35, 21, 7, 1],\n",
       " [1, 8, 28, 56, 70, 56, 28, 8, 1],\n",
       " [1, 9, 36, 84, 126, 126, 84, 36, 9, 1]]"
      ]
     },
     "execution_count": 20,
     "metadata": {},
     "output_type": "execute_result"
    }
   ],
   "source": [
    "def triangle_pascal(n) :\n",
    "    \"\"\"int -> list[list[int]]\n",
    "    Hypothese : n >= 1\n",
    "    retourne les n premières lignes du triangle de Pascal.\"\"\"\n",
    "    # Ligne : list[int]\n",
    "    Ligne = [1] # la ligne courante\n",
    "    # Triangle : list[list[int]]\n",
    "    Triangle = [Ligne]\n",
    "    # k : int (ligne courante)\n",
    "    for k in range(1, n):\n",
    "        Ligne = ligne_suivante(Ligne)\n",
    "        Triangle.append(Ligne)\n",
    "    return Triangle\n",
    "\n",
    "triangle_pascal(10)"
   ]
  },
  {
   "cell_type": "markdown",
   "metadata": {
    "slideshow": {
     "slide_type": "fragment"
    }
   },
   "source": [
    "Il faudrait encore travailler un peu pour montrer la correction de notre solution, mais on peut dire que cela ressemble bien au triangle de Pascal.  "
   ]
  },
  {
   "cell_type": "markdown",
   "metadata": {
    "slideshow": {
     "slide_type": "slide"
    }
   },
   "source": [
    "## Conclusion  \n",
    "Ce qu'il faut savoir faire à l'issue de cette partie :  (retenir/utiliser)\n",
    "* Notion de $n-$uplets (*tuples*):\n",
    "* **Construction**, **Déconstruction**, **itération** avec des tuples.\n",
    "* Écrire une fonction renvoyant un $n-$uplet de valeurs.\n",
    "* **On retiendra** de cette section **la méthodologie de décomposition de problèmes**, qui a permis de définir des fonctions simples permettant de résoudre des sous-problèmes, qui une fois recomposés permettent de résoudre notre problème complexe de départ."
   ]
  }
 ],
 "metadata": {
  "celltoolbar": "Diaporama",
  "kernelspec": {
   "display_name": "Python 3",
   "language": "python",
   "name": "python3"
  },
  "language_info": {
   "codemirror_mode": {
    "name": "ipython",
    "version": 3
   },
   "file_extension": ".py",
   "mimetype": "text/x-python",
   "name": "python",
   "nbconvert_exporter": "python",
   "pygments_lexer": "ipython3",
   "version": "3.7.3"
  },
  "rise": {
   "autolaunch": true,
   "enable_chalkboard": true,
   "scroll": true
  }
 },
 "nbformat": 4,
 "nbformat_minor": 2
}
